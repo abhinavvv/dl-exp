{
 "cells": [
  {
   "cell_type": "code",
   "execution_count": 16,
   "metadata": {},
   "outputs": [],
   "source": [
    "import pandas as pd\n",
    "import tensorflow as tf\n",
    "from sklearn.model_selection import train_test_split\n",
    "from keras.preprocessing.text import Tokenizer\n",
    "from keras.preprocessing.text import text_to_word_sequence\n",
    "\n",
    "from keras.preprocessing.sequence import pad_sequences\n",
    "from tensorflow.keras.utils import to_categorical,plot_model\n",
    "from tensorflow.keras import Sequential\n",
    "from tensorflow.keras.layers import Embedding,LSTM,Dense,Conv1D,GlobalMaxPooling1D,Input,Lambda,Conv2D\n",
    "from sklearn.model_selection import train_test_split\n",
    "from collections import Counter\n",
    "import matplotlib.pyplot as plt\n",
    "from sklearn.metrics import f1_score\n",
    "from keras import backend as K\n",
    "plt.style.use('ggplot')\n",
    "%matplotlib inline\n",
    "import tensorflow_hub as hub\n"
   ]
  },
  {
   "cell_type": "code",
   "execution_count": 17,
   "metadata": {},
   "outputs": [],
   "source": [
    "# tf.compat.v1.disable_eager_execution()"
   ]
  },
  {
   "cell_type": "code",
   "execution_count": null,
   "metadata": {},
   "outputs": [],
   "source": []
  },
  {
   "cell_type": "markdown",
   "metadata": {},
   "source": [
    "### Data Prep"
   ]
  },
  {
   "cell_type": "code",
   "execution_count": 18,
   "metadata": {},
   "outputs": [],
   "source": [
    "filepath_dict = {'yelp': \"datasets/sentiment_labelled_sentences/yelp_labelled.txt\",\n",
    "                 'amazon': \"datasets/sentiment_labelled_sentences/amazon_cells_labelled.txt\",\n",
    "                 'imdb': \"datasets/sentiment_labelled_sentences/imdb_labelled.txt\"\n",
    "                 }\n",
    "df_list = []\n",
    "for source, filepath in filepath_dict.items():\n",
    "    df = pd.read_csv(filepath, names=['sentence', 'label'], sep='\\t')\n",
    "   # Add another column filled with the source name\n",
    "    df['source'] = source\n",
    "    df_list.append(df)  \n",
    "    df = pd.concat(df_list)"
   ]
  },
  {
   "cell_type": "code",
   "execution_count": 19,
   "metadata": {},
   "outputs": [
    {
     "name": "stdout",
     "output_type": "stream",
     "text": [
      "Counter({1: 428, 0: 422}) Counter({0: 78, 1: 72})\n",
      "<keras_preprocessing.text.Tokenizer object at 0x10c6eeb90>\n"
     ]
    }
   ],
   "source": [
    "df = df[df['source']== \"yelp\"]\n",
    "sentences = df['sentence'].values\n",
    "y = df['label'].values\n",
    "\n",
    "sentences_token = [text_to_word_sequence(sentence.strip().lower()) for sentence in sentences]\n",
    "sentences_len = [len(s) for s in sentences]\n",
    "maxlen = max(sentences_len)\n",
    "\n",
    "# tokenizer = Tokenizer(lower=True,num_words=10000)\n",
    "# tokenizer.fit_on_texts(sentences)\n",
    "sentences_train,sentences_test,y_train,y_test = train_test_split(\n",
    "                                                sentences, y,\n",
    "                                                test_size=0.15,\n",
    "                                                random_state=1000)\n",
    "\n",
    "print(Counter(y_train),Counter(y_test))\n",
    "tokenizer = Tokenizer(lower=True)\n",
    "#                       ,num_words=10000)\n",
    "tokenizer.fit_on_texts(sentences_train)\n",
    "\n",
    "print(tokenizer)\n",
    "X_train = tokenizer.texts_to_sequences(sentences_train)\n",
    "X_test = tokenizer.texts_to_sequences(sentences_test)\n",
    "\n",
    "# maxlen = 100\n",
    "vocab_size = len(tokenizer.word_index) + 1\n",
    "\n",
    "X_train = pad_sequences(X_train, padding='post', maxlen=maxlen)\n",
    "X_test = pad_sequences(X_test, padding='post', maxlen=maxlen)\n",
    "\n",
    "# y_train = to_categorical(num_classes=2,y=y_train)\n",
    "# y_test = to_categorical(num_classes=2,y=y_test)"
   ]
  },
  {
   "cell_type": "code",
   "execution_count": 59,
   "metadata": {},
   "outputs": [
    {
     "name": "stdout",
     "output_type": "stream",
     "text": [
      "149\n"
     ]
    },
    {
     "data": {
      "text/plain": [
       "<matplotlib.axes._subplots.AxesSubplot at 0x14eda8b10>"
      ]
     },
     "execution_count": 59,
     "metadata": {},
     "output_type": "execute_result"
    },
    {
     "data": {
      "image/png": "[encoded data removed]",
      "text/plain": [
       "<Figure size 1440x720 with 1 Axes>"
      ]
     },
     "metadata": {
      "needs_background": "light"
     },
     "output_type": "display_data"
    }
   ],
   "source": [
    "from collections import Counter\n",
    "import pandas as pd\n",
    "print(maxlen)\n",
    "pd.DataFrame(Counter(sentences_len).most_common()).plot(kind=\"bar\",x=0,y=1,figsize=(20,10),\n",
    "                                                        title=\"Frequency of reviews length\")"
   ]
  },
  {
   "cell_type": "code",
   "execution_count": null,
   "metadata": {},
   "outputs": [],
   "source": []
  },
  {
   "cell_type": "code",
   "execution_count": 21,
   "metadata": {},
   "outputs": [],
   "source": [
    "def recall_m(y_true, y_pred):\n",
    "        true_positives = K.sum(K.round(K.clip(y_true * y_pred, 0, 1)))\n",
    "        possible_positives = K.sum(K.round(K.clip(y_true, 0, 1)))\n",
    "        recall = true_positives / (possible_positives + K.epsilon())\n",
    "        return recall\n",
    "\n",
    "def precision_m(y_true, y_pred):\n",
    "        true_positives = K.sum(K.round(K.clip(y_true * y_pred, 0, 1)))\n",
    "        predicted_positives = K.sum(K.round(K.clip(y_pred, 0, 1)))\n",
    "        precision = true_positives / (predicted_positives + K.epsilon())\n",
    "        return precision\n",
    "\n",
    "def f1_m(y_true, y_pred):\n",
    "    precision = precision_m(y_true, y_pred)\n",
    "    recall = recall_m(y_true, y_pred)\n",
    "    return 2*((precision*recall)/(precision+recall+K.epsilon()))\n",
    "\n",
    "# module_url = \"https://tfhub.dev/google/elmo/3\"\n",
    "module_url = \"https://tfhub.dev/google/tf2-preview/gnews-swivel-20dim/1\"\n",
    "\n",
    "def plot_history(history):\n",
    "    acc = history.history['accuracy']\n",
    "    val_acc = history.history['val_accuracy']\n",
    "    loss = history.history['loss']\n",
    "    val_loss = history.history['val_loss']\n",
    "    x = range(1, len(acc) + 1)\n",
    "\n",
    "    plt.figure(figsize=(12, 5))\n",
    "    plt.subplot(1, 2, 1)\n",
    "    plt.plot(x, acc, 'b', label='Training acc')\n",
    "    plt.plot(x, val_acc, 'r', label='Validation acc')\n",
    "    plt.title('Training and validation accuracy')\n",
    "    plt.xlabel(\"epochs\")\n",
    "    plt.legend()\n",
    "    plt.subplot(1, 2, 2)\n",
    "    plt.plot(x, loss, 'b', label='Training loss')\n",
    "    plt.plot(x, val_loss, 'r', label='Validation loss')\n",
    "    plt.title('Training and validation loss')\n",
    "    plt.xlabel(\"epochs\")\n",
    "    plt.legend()"
   ]
  },
  {
   "cell_type": "markdown",
   "metadata": {},
   "source": [
    "### LSTM"
   ]
  },
  {
   "cell_type": "code",
   "execution_count": 23,
   "metadata": {},
   "outputs": [
    {
     "name": "stdout",
     "output_type": "stream",
     "text": [
      "INFO:tensorflow:Saver not created because there are no variables in the graph to restore\n"
     ]
    },
    {
     "name": "stderr",
     "output_type": "stream",
     "text": [
      "INFO:tensorflow:Saver not created because there are no variables in the graph to restore\n"
     ]
    }
   ],
   "source": [
    "import tensorflow_hub as hub\n",
    "\n",
    "\n",
    "tf.compat.v1.disable_eager_execution()\n",
    "elmo = hub.Module(\"https://tfhub.dev/google/elmo/3\", trainable=False)\n",
    "embeddings = elmo(sentences_train,\n",
    "    signature=\"default\",\n",
    "    as_dict=True)[\"elmo\"]"
   ]
  },
  {
   "cell_type": "code",
   "execution_count": 32,
   "metadata": {},
   "outputs": [],
   "source": [
    "def ELMoEmbedding(x):\n",
    "    return elmo(tf.squeeze(tf.cast(x, tf.string)), signature=\"default\", as_dict=True)[\"elmo\"]\n",
    "def createLSTM():\n",
    "    hub_layer = hub.KerasLayer(\"https://tfhub.dev/google/elmo/3\", output_shape=[],\n",
    "                           input_shape=[None,], dtype=tf.string)\n",
    "    model = tf.keras.Sequential()\n",
    "    model.add(Input(shape=(1,), dtype=\"string\"))\n",
    "    model.add(Lambda(ELMoEmbedding, output_shape=(1024, ),name=\"elmo_embedding_layer\"))\n",
    "#     model.add(hub_layer)\n",
    "#      embed = hub.KerasLayer(module_url)\n",
    "#     sequence_input = Input(shape=(MAX_SEQUENCE_LENGTH,), dtype='int32')\n",
    "    model.add(LSTM(192,))\n",
    "    model.add(tf.keras.layers.Dense(16, activation='relu'))\n",
    "    model.add(tf.keras.layers.Dense(1, activation='sigmoid'))\n",
    "\n",
    "    return model\n",
    "\n",
    "\n",
    "def createbLSTM():\n",
    "    model=Sequential()\n",
    "    model.add(Embedding(input_dim=vocab_size, \n",
    "                        output_dim=128, \n",
    "                        input_length=maxlen))\n",
    "    model.add(LSTM(192,))\n",
    "    model.add(Dense(100,activation='relu'))\n",
    "    model.add(Dense(1,activation='sigmoid'))\n",
    "    return model"
   ]
  },
  {
   "cell_type": "code",
   "execution_count": 34,
   "metadata": {},
   "outputs": [
    {
     "name": "stdout",
     "output_type": "stream",
     "text": [
      "Model: \"sequential_6\"\n",
      "_________________________________________________________________\n",
      "Layer (type)                 Output Shape              Param #   \n",
      "=================================================================\n",
      "embedding_4 (Embedding)      (None, 149, 128)          239872    \n",
      "_________________________________________________________________\n",
      "lstm_4 (LSTM)                (None, 192)               246528    \n",
      "_________________________________________________________________\n",
      "dense_8 (Dense)              (None, 100)               19300     \n",
      "_________________________________________________________________\n",
      "dense_9 (Dense)              (None, 1)                 101       \n",
      "=================================================================\n",
      "Total params: 505,801\n",
      "Trainable params: 505,801\n",
      "Non-trainable params: 0\n",
      "_________________________________________________________________\n",
      "Train on 850 samples, validate on 150 samples\n"
     ]
    },
    {
     "ename": "RuntimeError",
     "evalue": "Attempted to use a closed Session.",
     "output_type": "error",
     "traceback": [
      "\u001b[0;31m---------------------------------------------------------------------------\u001b[0m",
      "\u001b[0;31mRuntimeError\u001b[0m                              Traceback (most recent call last)",
      "\u001b[0;32m<ipython-input-34-9a5156a6845a>\u001b[0m in \u001b[0;36m<module>\u001b[0;34m\u001b[0m\n\u001b[1;32m      5\u001b[0m \u001b[0;31m# history = model.fit(sentences_train,y_train,batch_size=16,epochs=3,verbose=1)\u001b[0m\u001b[0;34m\u001b[0m\u001b[0;34m\u001b[0m\u001b[0;34m\u001b[0m\u001b[0m\n\u001b[1;32m      6\u001b[0m \u001b[0;31m# validation_data=(sentences_test, y_test)\u001b[0m\u001b[0;34m\u001b[0m\u001b[0;34m\u001b[0m\u001b[0;34m\u001b[0m\u001b[0m\n\u001b[0;32m----> 7\u001b[0;31m \u001b[0mhistory\u001b[0m \u001b[0;34m=\u001b[0m \u001b[0mmodel\u001b[0m\u001b[0;34m.\u001b[0m\u001b[0mfit\u001b[0m\u001b[0;34m(\u001b[0m\u001b[0mX_train\u001b[0m\u001b[0;34m,\u001b[0m\u001b[0my_train\u001b[0m\u001b[0;34m,\u001b[0m\u001b[0mbatch_size\u001b[0m\u001b[0;34m=\u001b[0m\u001b[0;36m16\u001b[0m\u001b[0;34m,\u001b[0m\u001b[0mepochs\u001b[0m\u001b[0;34m=\u001b[0m\u001b[0;36m5\u001b[0m\u001b[0;34m,\u001b[0m\u001b[0mverbose\u001b[0m\u001b[0;34m=\u001b[0m\u001b[0;36m1\u001b[0m\u001b[0;34m,\u001b[0m\u001b[0mvalidation_data\u001b[0m\u001b[0;34m=\u001b[0m\u001b[0;34m(\u001b[0m\u001b[0mX_test\u001b[0m\u001b[0;34m,\u001b[0m \u001b[0my_test\u001b[0m\u001b[0;34m)\u001b[0m\u001b[0;34m)\u001b[0m\u001b[0;34m\u001b[0m\u001b[0;34m\u001b[0m\u001b[0m\n\u001b[0m\u001b[1;32m      8\u001b[0m \u001b[0mplot_history\u001b[0m\u001b[0;34m(\u001b[0m\u001b[0mhistory\u001b[0m\u001b[0;34m)\u001b[0m\u001b[0;34m\u001b[0m\u001b[0;34m\u001b[0m\u001b[0m\n",
      "\u001b[0;32m/usr/local/lib/python3.7/site-packages/tensorflow_core/python/keras/engine/training.py\u001b[0m in \u001b[0;36mfit\u001b[0;34m(self, x, y, batch_size, epochs, verbose, callbacks, validation_split, validation_data, shuffle, class_weight, sample_weight, initial_epoch, steps_per_epoch, validation_steps, validation_freq, max_queue_size, workers, use_multiprocessing, **kwargs)\u001b[0m\n\u001b[1;32m    726\u001b[0m         \u001b[0mmax_queue_size\u001b[0m\u001b[0;34m=\u001b[0m\u001b[0mmax_queue_size\u001b[0m\u001b[0;34m,\u001b[0m\u001b[0;34m\u001b[0m\u001b[0;34m\u001b[0m\u001b[0m\n\u001b[1;32m    727\u001b[0m         \u001b[0mworkers\u001b[0m\u001b[0;34m=\u001b[0m\u001b[0mworkers\u001b[0m\u001b[0;34m,\u001b[0m\u001b[0;34m\u001b[0m\u001b[0;34m\u001b[0m\u001b[0m\n\u001b[0;32m--> 728\u001b[0;31m         use_multiprocessing=use_multiprocessing)\n\u001b[0m\u001b[1;32m    729\u001b[0m \u001b[0;34m\u001b[0m\u001b[0m\n\u001b[1;32m    730\u001b[0m   def evaluate(self,\n",
      "\u001b[0;32m/usr/local/lib/python3.7/site-packages/tensorflow_core/python/keras/engine/training_arrays.py\u001b[0m in \u001b[0;36mfit\u001b[0;34m(self, model, x, y, batch_size, epochs, verbose, callbacks, validation_split, validation_data, shuffle, class_weight, sample_weight, initial_epoch, steps_per_epoch, validation_steps, validation_freq, **kwargs)\u001b[0m\n\u001b[1;32m    672\u001b[0m         \u001b[0mvalidation_steps\u001b[0m\u001b[0;34m=\u001b[0m\u001b[0mvalidation_steps\u001b[0m\u001b[0;34m,\u001b[0m\u001b[0;34m\u001b[0m\u001b[0;34m\u001b[0m\u001b[0m\n\u001b[1;32m    673\u001b[0m         \u001b[0mvalidation_freq\u001b[0m\u001b[0;34m=\u001b[0m\u001b[0mvalidation_freq\u001b[0m\u001b[0;34m,\u001b[0m\u001b[0;34m\u001b[0m\u001b[0;34m\u001b[0m\u001b[0m\n\u001b[0;32m--> 674\u001b[0;31m         steps_name='steps_per_epoch')\n\u001b[0m\u001b[1;32m    675\u001b[0m \u001b[0;34m\u001b[0m\u001b[0m\n\u001b[1;32m    676\u001b[0m   def evaluate(self,\n",
      "\u001b[0;32m/usr/local/lib/python3.7/site-packages/tensorflow_core/python/keras/engine/training_arrays.py\u001b[0m in \u001b[0;36mmodel_iteration\u001b[0;34m(model, inputs, targets, sample_weights, batch_size, epochs, verbose, callbacks, val_inputs, val_targets, val_sample_weights, shuffle, initial_epoch, steps_per_epoch, validation_steps, validation_freq, mode, validation_in_fit, prepared_feed_values_from_dataset, steps_name, **kwargs)\u001b[0m\n\u001b[1;32m    268\u001b[0m     \u001b[0;31m# Setup work for each epoch\u001b[0m\u001b[0;34m\u001b[0m\u001b[0;34m\u001b[0m\u001b[0;34m\u001b[0m\u001b[0m\n\u001b[1;32m    269\u001b[0m     \u001b[0mepoch_logs\u001b[0m \u001b[0;34m=\u001b[0m \u001b[0;34m{\u001b[0m\u001b[0;34m}\u001b[0m\u001b[0;34m\u001b[0m\u001b[0;34m\u001b[0m\u001b[0m\n\u001b[0;32m--> 270\u001b[0;31m     \u001b[0mmodel\u001b[0m\u001b[0;34m.\u001b[0m\u001b[0mreset_metrics\u001b[0m\u001b[0;34m(\u001b[0m\u001b[0;34m)\u001b[0m\u001b[0;34m\u001b[0m\u001b[0;34m\u001b[0m\u001b[0m\n\u001b[0m\u001b[1;32m    271\u001b[0m     \u001b[0;32mif\u001b[0m \u001b[0mmode\u001b[0m \u001b[0;34m==\u001b[0m \u001b[0mModeKeys\u001b[0m\u001b[0;34m.\u001b[0m\u001b[0mTRAIN\u001b[0m\u001b[0;34m:\u001b[0m\u001b[0;34m\u001b[0m\u001b[0;34m\u001b[0m\u001b[0m\n\u001b[1;32m    272\u001b[0m       \u001b[0mcallbacks\u001b[0m\u001b[0;34m.\u001b[0m\u001b[0mon_epoch_begin\u001b[0m\u001b[0;34m(\u001b[0m\u001b[0mepoch\u001b[0m\u001b[0;34m,\u001b[0m \u001b[0mepoch_logs\u001b[0m\u001b[0;34m)\u001b[0m\u001b[0;34m\u001b[0m\u001b[0;34m\u001b[0m\u001b[0m\n",
      "\u001b[0;32m/usr/local/lib/python3.7/site-packages/tensorflow_core/python/keras/engine/training.py\u001b[0m in \u001b[0;36mreset_metrics\u001b[0;34m(self)\u001b[0m\n\u001b[1;32m    913\u001b[0m     \u001b[0mmetrics\u001b[0m \u001b[0;34m=\u001b[0m \u001b[0mself\u001b[0m\u001b[0;34m.\u001b[0m\u001b[0m_get_training_eval_metrics\u001b[0m\u001b[0;34m(\u001b[0m\u001b[0;34m)\u001b[0m\u001b[0;34m\u001b[0m\u001b[0;34m\u001b[0m\u001b[0m\n\u001b[1;32m    914\u001b[0m     \u001b[0;32mfor\u001b[0m \u001b[0mm\u001b[0m \u001b[0;32min\u001b[0m \u001b[0mmetrics\u001b[0m\u001b[0;34m:\u001b[0m\u001b[0;34m\u001b[0m\u001b[0;34m\u001b[0m\u001b[0m\n\u001b[0;32m--> 915\u001b[0;31m       \u001b[0mm\u001b[0m\u001b[0;34m.\u001b[0m\u001b[0mreset_states\u001b[0m\u001b[0;34m(\u001b[0m\u001b[0;34m)\u001b[0m\u001b[0;34m\u001b[0m\u001b[0;34m\u001b[0m\u001b[0m\n\u001b[0m\u001b[1;32m    916\u001b[0m \u001b[0;34m\u001b[0m\u001b[0m\n\u001b[1;32m    917\u001b[0m     \u001b[0;31m# Reset metrics on all the distributed (cloned) models.\u001b[0m\u001b[0;34m\u001b[0m\u001b[0;34m\u001b[0m\u001b[0;34m\u001b[0m\u001b[0m\n",
      "\u001b[0;32m/usr/local/lib/python3.7/site-packages/tensorflow_core/python/keras/metrics.py\u001b[0m in \u001b[0;36mreset_states\u001b[0;34m(self)\u001b[0m\n\u001b[1;32m    207\u001b[0m     \u001b[0mwhen\u001b[0m \u001b[0ma\u001b[0m \u001b[0mmetric\u001b[0m \u001b[0;32mis\u001b[0m \u001b[0mevaluated\u001b[0m \u001b[0mduring\u001b[0m \u001b[0mtraining\u001b[0m\u001b[0;34m.\u001b[0m\u001b[0;34m\u001b[0m\u001b[0;34m\u001b[0m\u001b[0m\n\u001b[1;32m    208\u001b[0m     \"\"\"\n\u001b[0;32m--> 209\u001b[0;31m     \u001b[0mK\u001b[0m\u001b[0;34m.\u001b[0m\u001b[0mbatch_set_value\u001b[0m\u001b[0;34m(\u001b[0m\u001b[0;34m[\u001b[0m\u001b[0;34m(\u001b[0m\u001b[0mv\u001b[0m\u001b[0;34m,\u001b[0m \u001b[0;36m0\u001b[0m\u001b[0;34m)\u001b[0m \u001b[0;32mfor\u001b[0m \u001b[0mv\u001b[0m \u001b[0;32min\u001b[0m \u001b[0mself\u001b[0m\u001b[0;34m.\u001b[0m\u001b[0mvariables\u001b[0m\u001b[0;34m]\u001b[0m\u001b[0;34m)\u001b[0m\u001b[0;34m\u001b[0m\u001b[0;34m\u001b[0m\u001b[0m\n\u001b[0m\u001b[1;32m    210\u001b[0m \u001b[0;34m\u001b[0m\u001b[0m\n\u001b[1;32m    211\u001b[0m   \u001b[0;34m@\u001b[0m\u001b[0mabc\u001b[0m\u001b[0;34m.\u001b[0m\u001b[0mabstractmethod\u001b[0m\u001b[0;34m\u001b[0m\u001b[0;34m\u001b[0m\u001b[0m\n",
      "\u001b[0;32m/usr/local/lib/python3.7/site-packages/tensorflow_core/python/keras/backend.py\u001b[0m in \u001b[0;36mbatch_set_value\u001b[0;34m(tuples)\u001b[0m\n\u001b[1;32m   3361\u001b[0m           \u001b[0massign_ops\u001b[0m\u001b[0;34m.\u001b[0m\u001b[0mappend\u001b[0m\u001b[0;34m(\u001b[0m\u001b[0massign_op\u001b[0m\u001b[0;34m)\u001b[0m\u001b[0;34m\u001b[0m\u001b[0;34m\u001b[0m\u001b[0m\n\u001b[1;32m   3362\u001b[0m           \u001b[0mfeed_dict\u001b[0m\u001b[0;34m[\u001b[0m\u001b[0massign_placeholder\u001b[0m\u001b[0;34m]\u001b[0m \u001b[0;34m=\u001b[0m \u001b[0mvalue\u001b[0m\u001b[0;34m\u001b[0m\u001b[0;34m\u001b[0m\u001b[0m\n\u001b[0;32m-> 3363\u001b[0;31m         \u001b[0mget_session\u001b[0m\u001b[0;34m(\u001b[0m\u001b[0;34m)\u001b[0m\u001b[0;34m.\u001b[0m\u001b[0mrun\u001b[0m\u001b[0;34m(\u001b[0m\u001b[0massign_ops\u001b[0m\u001b[0;34m,\u001b[0m \u001b[0mfeed_dict\u001b[0m\u001b[0;34m=\u001b[0m\u001b[0mfeed_dict\u001b[0m\u001b[0;34m)\u001b[0m\u001b[0;34m\u001b[0m\u001b[0;34m\u001b[0m\u001b[0m\n\u001b[0m\u001b[1;32m   3364\u001b[0m \u001b[0;34m\u001b[0m\u001b[0m\n\u001b[1;32m   3365\u001b[0m \u001b[0;34m\u001b[0m\u001b[0m\n",
      "\u001b[0;32m/usr/local/lib/python3.7/site-packages/tensorflow_core/python/keras/backend.py\u001b[0m in \u001b[0;36mget_session\u001b[0;34m(op_input_list)\u001b[0m\n\u001b[1;32m    489\u001b[0m   \u001b[0;32mif\u001b[0m \u001b[0;32mnot\u001b[0m \u001b[0m_MANUAL_VAR_INIT\u001b[0m\u001b[0;34m:\u001b[0m\u001b[0;34m\u001b[0m\u001b[0;34m\u001b[0m\u001b[0m\n\u001b[1;32m    490\u001b[0m     \u001b[0;32mwith\u001b[0m \u001b[0msession\u001b[0m\u001b[0;34m.\u001b[0m\u001b[0mgraph\u001b[0m\u001b[0;34m.\u001b[0m\u001b[0mas_default\u001b[0m\u001b[0;34m(\u001b[0m\u001b[0;34m)\u001b[0m\u001b[0;34m:\u001b[0m\u001b[0;34m\u001b[0m\u001b[0;34m\u001b[0m\u001b[0m\n\u001b[0;32m--> 491\u001b[0;31m       \u001b[0m_initialize_variables\u001b[0m\u001b[0;34m(\u001b[0m\u001b[0msession\u001b[0m\u001b[0;34m)\u001b[0m\u001b[0;34m\u001b[0m\u001b[0;34m\u001b[0m\u001b[0m\n\u001b[0m\u001b[1;32m    492\u001b[0m   \u001b[0;32mreturn\u001b[0m \u001b[0msession\u001b[0m\u001b[0;34m\u001b[0m\u001b[0;34m\u001b[0m\u001b[0m\n\u001b[1;32m    493\u001b[0m \u001b[0;34m\u001b[0m\u001b[0m\n",
      "\u001b[0;32m/usr/local/lib/python3.7/site-packages/tensorflow_core/python/keras/backend.py\u001b[0m in \u001b[0;36m_initialize_variables\u001b[0;34m(session)\u001b[0m\n\u001b[1;32m    906\u001b[0m     \u001b[0;31m# marked as initialized.\u001b[0m\u001b[0;34m\u001b[0m\u001b[0;34m\u001b[0m\u001b[0;34m\u001b[0m\u001b[0m\n\u001b[1;32m    907\u001b[0m     is_initialized = session.run(\n\u001b[0;32m--> 908\u001b[0;31m         [variables_module.is_variable_initialized(v) for v in candidate_vars])\n\u001b[0m\u001b[1;32m    909\u001b[0m     \u001b[0muninitialized_vars\u001b[0m \u001b[0;34m=\u001b[0m \u001b[0;34m[\u001b[0m\u001b[0;34m]\u001b[0m\u001b[0;34m\u001b[0m\u001b[0;34m\u001b[0m\u001b[0m\n\u001b[1;32m    910\u001b[0m     \u001b[0;32mfor\u001b[0m \u001b[0mflag\u001b[0m\u001b[0;34m,\u001b[0m \u001b[0mv\u001b[0m \u001b[0;32min\u001b[0m \u001b[0mzip\u001b[0m\u001b[0;34m(\u001b[0m\u001b[0mis_initialized\u001b[0m\u001b[0;34m,\u001b[0m \u001b[0mcandidate_vars\u001b[0m\u001b[0;34m)\u001b[0m\u001b[0;34m:\u001b[0m\u001b[0;34m\u001b[0m\u001b[0;34m\u001b[0m\u001b[0m\n",
      "\u001b[0;32m/usr/local/lib/python3.7/site-packages/tensorflow_core/python/client/session.py\u001b[0m in \u001b[0;36mrun\u001b[0;34m(self, fetches, feed_dict, options, run_metadata)\u001b[0m\n\u001b[1;32m    954\u001b[0m     \u001b[0;32mtry\u001b[0m\u001b[0;34m:\u001b[0m\u001b[0;34m\u001b[0m\u001b[0;34m\u001b[0m\u001b[0m\n\u001b[1;32m    955\u001b[0m       result = self._run(None, fetches, feed_dict, options_ptr,\n\u001b[0;32m--> 956\u001b[0;31m                          run_metadata_ptr)\n\u001b[0m\u001b[1;32m    957\u001b[0m       \u001b[0;32mif\u001b[0m \u001b[0mrun_metadata\u001b[0m\u001b[0;34m:\u001b[0m\u001b[0;34m\u001b[0m\u001b[0;34m\u001b[0m\u001b[0m\n\u001b[1;32m    958\u001b[0m         \u001b[0mproto_data\u001b[0m \u001b[0;34m=\u001b[0m \u001b[0mtf_session\u001b[0m\u001b[0;34m.\u001b[0m\u001b[0mTF_GetBuffer\u001b[0m\u001b[0;34m(\u001b[0m\u001b[0mrun_metadata_ptr\u001b[0m\u001b[0;34m)\u001b[0m\u001b[0;34m\u001b[0m\u001b[0;34m\u001b[0m\u001b[0m\n",
      "\u001b[0;32m/usr/local/lib/python3.7/site-packages/tensorflow_core/python/client/session.py\u001b[0m in \u001b[0;36m_run\u001b[0;34m(self, handle, fetches, feed_dict, options, run_metadata)\u001b[0m\n\u001b[1;32m   1101\u001b[0m     \u001b[0;31m# Check session.\u001b[0m\u001b[0;34m\u001b[0m\u001b[0;34m\u001b[0m\u001b[0;34m\u001b[0m\u001b[0m\n\u001b[1;32m   1102\u001b[0m     \u001b[0;32mif\u001b[0m \u001b[0mself\u001b[0m\u001b[0;34m.\u001b[0m\u001b[0m_closed\u001b[0m\u001b[0;34m:\u001b[0m\u001b[0;34m\u001b[0m\u001b[0;34m\u001b[0m\u001b[0m\n\u001b[0;32m-> 1103\u001b[0;31m       \u001b[0;32mraise\u001b[0m \u001b[0mRuntimeError\u001b[0m\u001b[0;34m(\u001b[0m\u001b[0;34m'Attempted to use a closed Session.'\u001b[0m\u001b[0;34m)\u001b[0m\u001b[0;34m\u001b[0m\u001b[0;34m\u001b[0m\u001b[0m\n\u001b[0m\u001b[1;32m   1104\u001b[0m     \u001b[0;32mif\u001b[0m \u001b[0mself\u001b[0m\u001b[0;34m.\u001b[0m\u001b[0mgraph\u001b[0m\u001b[0;34m.\u001b[0m\u001b[0mversion\u001b[0m \u001b[0;34m==\u001b[0m \u001b[0;36m0\u001b[0m\u001b[0;34m:\u001b[0m\u001b[0;34m\u001b[0m\u001b[0;34m\u001b[0m\u001b[0m\n\u001b[1;32m   1105\u001b[0m       raise RuntimeError('The Session graph is empty.  Add operations to the '\n",
      "\u001b[0;31mRuntimeError\u001b[0m: Attempted to use a closed Session."
     ]
    }
   ],
   "source": [
    "model= createbLSTM()\n",
    "model.summary()\n",
    "model.compile(loss='binary_crossentropy',optimizer='adam',metrics=['accuracy'])\n",
    "plot_model(model, to_file='sentiment_basic_embedding_lstm.png',show_shapes=True, show_layer_names=True)\n",
    "# history = model.fit(sentences_train,y_train,batch_size=16,epochs=3,verbose=1)\n",
    "# validation_data=(sentences_test, y_test)\n",
    "history = model.fit(X_train,y_train,batch_size=16,epochs=5,verbose=1,validation_data=(X_test, y_test))\n",
    "plot_history(history)"
   ]
  },
  {
   "cell_type": "code",
   "execution_count": 35,
   "metadata": {},
   "outputs": [
    {
     "name": "stdout",
     "output_type": "stream",
     "text": [
      "ERROR:tensorflow:==================================\n",
      "Object was never used (type <class 'tensorflow.python.framework.ops.Tensor'>):\n",
      "<tf.Tensor 'VarIsInitializedOp_120:0' shape=() dtype=bool>\n",
      "If you want to mark it as used call its \"mark_used()\" method.\n",
      "It was originally created here:\n",
      "  File \"/usr/local/lib/python3.7/site-packages/tensorflow_core/python/keras/backend.py\", line 3363, in batch_set_value\n",
      "    get_session().run(assign_ops, feed_dict=feed_dict)  File \"/usr/local/lib/python3.7/site-packages/tensorflow_core/python/keras/backend.py\", line 491, in get_session\n",
      "    _initialize_variables(session)  File \"/usr/local/lib/python3.7/site-packages/tensorflow_core/python/keras/backend.py\", line 908, in _initialize_variables\n",
      "    [variables_module.is_variable_initialized(v) for v in candidate_vars])  File \"/usr/local/lib/python3.7/site-packages/tensorflow_core/python/keras/backend.py\", line 908, in <listcomp>\n",
      "    [variables_module.is_variable_initialized(v) for v in candidate_vars])  File \"/usr/local/lib/python3.7/site-packages/tensorflow_core/python/util/tf_should_use.py\", line 198, in wrapped\n",
      "    return _add_should_use_warning(fn(*args, **kwargs))\n",
      "==================================\n"
     ]
    },
    {
     "name": "stderr",
     "output_type": "stream",
     "text": [
      "ERROR:tensorflow:==================================\n",
      "Object was never used (type <class 'tensorflow.python.framework.ops.Tensor'>):\n",
      "<tf.Tensor 'VarIsInitializedOp_120:0' shape=() dtype=bool>\n",
      "If you want to mark it as used call its \"mark_used()\" method.\n",
      "It was originally created here:\n",
      "  File \"/usr/local/lib/python3.7/site-packages/tensorflow_core/python/keras/backend.py\", line 3363, in batch_set_value\n",
      "    get_session().run(assign_ops, feed_dict=feed_dict)  File \"/usr/local/lib/python3.7/site-packages/tensorflow_core/python/keras/backend.py\", line 491, in get_session\n",
      "    _initialize_variables(session)  File \"/usr/local/lib/python3.7/site-packages/tensorflow_core/python/keras/backend.py\", line 908, in _initialize_variables\n",
      "    [variables_module.is_variable_initialized(v) for v in candidate_vars])  File \"/usr/local/lib/python3.7/site-packages/tensorflow_core/python/keras/backend.py\", line 908, in <listcomp>\n",
      "    [variables_module.is_variable_initialized(v) for v in candidate_vars])  File \"/usr/local/lib/python3.7/site-packages/tensorflow_core/python/util/tf_should_use.py\", line 198, in wrapped\n",
      "    return _add_should_use_warning(fn(*args, **kwargs))\n",
      "==================================\n"
     ]
    },
    {
     "name": "stdout",
     "output_type": "stream",
     "text": [
      "ERROR:tensorflow:==================================\n",
      "Object was never used (type <class 'tensorflow.python.framework.ops.Tensor'>):\n",
      "<tf.Tensor 'VarIsInitializedOp_119:0' shape=() dtype=bool>\n",
      "If you want to mark it as used call its \"mark_used()\" method.\n",
      "It was originally created here:\n",
      "  File \"/usr/local/lib/python3.7/site-packages/tensorflow_core/python/keras/backend.py\", line 3363, in batch_set_value\n",
      "    get_session().run(assign_ops, feed_dict=feed_dict)  File \"/usr/local/lib/python3.7/site-packages/tensorflow_core/python/keras/backend.py\", line 491, in get_session\n",
      "    _initialize_variables(session)  File \"/usr/local/lib/python3.7/site-packages/tensorflow_core/python/keras/backend.py\", line 908, in _initialize_variables\n",
      "    [variables_module.is_variable_initialized(v) for v in candidate_vars])  File \"/usr/local/lib/python3.7/site-packages/tensorflow_core/python/keras/backend.py\", line 908, in <listcomp>\n",
      "    [variables_module.is_variable_initialized(v) for v in candidate_vars])  File \"/usr/local/lib/python3.7/site-packages/tensorflow_core/python/util/tf_should_use.py\", line 198, in wrapped\n",
      "    return _add_should_use_warning(fn(*args, **kwargs))\n",
      "==================================\n"
     ]
    },
    {
     "name": "stderr",
     "output_type": "stream",
     "text": [
      "ERROR:tensorflow:==================================\n",
      "Object was never used (type <class 'tensorflow.python.framework.ops.Tensor'>):\n",
      "<tf.Tensor 'VarIsInitializedOp_119:0' shape=() dtype=bool>\n",
      "If you want to mark it as used call its \"mark_used()\" method.\n",
      "It was originally created here:\n",
      "  File \"/usr/local/lib/python3.7/site-packages/tensorflow_core/python/keras/backend.py\", line 3363, in batch_set_value\n",
      "    get_session().run(assign_ops, feed_dict=feed_dict)  File \"/usr/local/lib/python3.7/site-packages/tensorflow_core/python/keras/backend.py\", line 491, in get_session\n",
      "    _initialize_variables(session)  File \"/usr/local/lib/python3.7/site-packages/tensorflow_core/python/keras/backend.py\", line 908, in _initialize_variables\n",
      "    [variables_module.is_variable_initialized(v) for v in candidate_vars])  File \"/usr/local/lib/python3.7/site-packages/tensorflow_core/python/keras/backend.py\", line 908, in <listcomp>\n",
      "    [variables_module.is_variable_initialized(v) for v in candidate_vars])  File \"/usr/local/lib/python3.7/site-packages/tensorflow_core/python/util/tf_should_use.py\", line 198, in wrapped\n",
      "    return _add_should_use_warning(fn(*args, **kwargs))\n",
      "==================================\n"
     ]
    },
    {
     "name": "stdout",
     "output_type": "stream",
     "text": [
      "ERROR:tensorflow:==================================\n",
      "Object was never used (type <class 'tensorflow.python.framework.ops.Tensor'>):\n",
      "<tf.Tensor 'VarIsInitializedOp_118:0' shape=() dtype=bool>\n",
      "If you want to mark it as used call its \"mark_used()\" method.\n",
      "It was originally created here:\n",
      "  File \"/usr/local/lib/python3.7/site-packages/tensorflow_core/python/keras/backend.py\", line 3363, in batch_set_value\n",
      "    get_session().run(assign_ops, feed_dict=feed_dict)  File \"/usr/local/lib/python3.7/site-packages/tensorflow_core/python/keras/backend.py\", line 491, in get_session\n",
      "    _initialize_variables(session)  File \"/usr/local/lib/python3.7/site-packages/tensorflow_core/python/keras/backend.py\", line 908, in _initialize_variables\n",
      "    [variables_module.is_variable_initialized(v) for v in candidate_vars])  File \"/usr/local/lib/python3.7/site-packages/tensorflow_core/python/keras/backend.py\", line 908, in <listcomp>\n",
      "    [variables_module.is_variable_initialized(v) for v in candidate_vars])  File \"/usr/local/lib/python3.7/site-packages/tensorflow_core/python/util/tf_should_use.py\", line 198, in wrapped\n",
      "    return _add_should_use_warning(fn(*args, **kwargs))\n",
      "==================================\n"
     ]
    },
    {
     "name": "stderr",
     "output_type": "stream",
     "text": [
      "ERROR:tensorflow:==================================\n",
      "Object was never used (type <class 'tensorflow.python.framework.ops.Tensor'>):\n",
      "<tf.Tensor 'VarIsInitializedOp_118:0' shape=() dtype=bool>\n",
      "If you want to mark it as used call its \"mark_used()\" method.\n",
      "It was originally created here:\n",
      "  File \"/usr/local/lib/python3.7/site-packages/tensorflow_core/python/keras/backend.py\", line 3363, in batch_set_value\n",
      "    get_session().run(assign_ops, feed_dict=feed_dict)  File \"/usr/local/lib/python3.7/site-packages/tensorflow_core/python/keras/backend.py\", line 491, in get_session\n",
      "    _initialize_variables(session)  File \"/usr/local/lib/python3.7/site-packages/tensorflow_core/python/keras/backend.py\", line 908, in _initialize_variables\n",
      "    [variables_module.is_variable_initialized(v) for v in candidate_vars])  File \"/usr/local/lib/python3.7/site-packages/tensorflow_core/python/keras/backend.py\", line 908, in <listcomp>\n",
      "    [variables_module.is_variable_initialized(v) for v in candidate_vars])  File \"/usr/local/lib/python3.7/site-packages/tensorflow_core/python/util/tf_should_use.py\", line 198, in wrapped\n",
      "    return _add_should_use_warning(fn(*args, **kwargs))\n",
      "==================================\n"
     ]
    },
    {
     "name": "stdout",
     "output_type": "stream",
     "text": [
      "ERROR:tensorflow:==================================\n",
      "Object was never used (type <class 'tensorflow.python.framework.ops.Tensor'>):\n",
      "<tf.Tensor 'VarIsInitializedOp_117:0' shape=() dtype=bool>\n",
      "If you want to mark it as used call its \"mark_used()\" method.\n",
      "It was originally created here:\n",
      "  File \"/usr/local/lib/python3.7/site-packages/tensorflow_core/python/keras/backend.py\", line 3363, in batch_set_value\n",
      "    get_session().run(assign_ops, feed_dict=feed_dict)  File \"/usr/local/lib/python3.7/site-packages/tensorflow_core/python/keras/backend.py\", line 491, in get_session\n",
      "    _initialize_variables(session)  File \"/usr/local/lib/python3.7/site-packages/tensorflow_core/python/keras/backend.py\", line 908, in _initialize_variables\n",
      "    [variables_module.is_variable_initialized(v) for v in candidate_vars])  File \"/usr/local/lib/python3.7/site-packages/tensorflow_core/python/keras/backend.py\", line 908, in <listcomp>\n",
      "    [variables_module.is_variable_initialized(v) for v in candidate_vars])  File \"/usr/local/lib/python3.7/site-packages/tensorflow_core/python/util/tf_should_use.py\", line 198, in wrapped\n",
      "    return _add_should_use_warning(fn(*args, **kwargs))\n",
      "==================================\n"
     ]
    },
    {
     "name": "stderr",
     "output_type": "stream",
     "text": [
      "ERROR:tensorflow:==================================\n",
      "Object was never used (type <class 'tensorflow.python.framework.ops.Tensor'>):\n",
      "<tf.Tensor 'VarIsInitializedOp_117:0' shape=() dtype=bool>\n",
      "If you want to mark it as used call its \"mark_used()\" method.\n",
      "It was originally created here:\n",
      "  File \"/usr/local/lib/python3.7/site-packages/tensorflow_core/python/keras/backend.py\", line 3363, in batch_set_value\n",
      "    get_session().run(assign_ops, feed_dict=feed_dict)  File \"/usr/local/lib/python3.7/site-packages/tensorflow_core/python/keras/backend.py\", line 491, in get_session\n",
      "    _initialize_variables(session)  File \"/usr/local/lib/python3.7/site-packages/tensorflow_core/python/keras/backend.py\", line 908, in _initialize_variables\n",
      "    [variables_module.is_variable_initialized(v) for v in candidate_vars])  File \"/usr/local/lib/python3.7/site-packages/tensorflow_core/python/keras/backend.py\", line 908, in <listcomp>\n",
      "    [variables_module.is_variable_initialized(v) for v in candidate_vars])  File \"/usr/local/lib/python3.7/site-packages/tensorflow_core/python/util/tf_should_use.py\", line 198, in wrapped\n",
      "    return _add_should_use_warning(fn(*args, **kwargs))\n",
      "==================================\n"
     ]
    },
    {
     "name": "stdout",
     "output_type": "stream",
     "text": [
      "ERROR:tensorflow:==================================\n",
      "Object was never used (type <class 'tensorflow.python.framework.ops.Tensor'>):\n",
      "<tf.Tensor 'VarIsInitializedOp_116:0' shape=() dtype=bool>\n",
      "If you want to mark it as used call its \"mark_used()\" method.\n",
      "It was originally created here:\n",
      "  File \"/usr/local/lib/python3.7/site-packages/tensorflow_core/python/keras/backend.py\", line 3363, in batch_set_value\n",
      "    get_session().run(assign_ops, feed_dict=feed_dict)  File \"/usr/local/lib/python3.7/site-packages/tensorflow_core/python/keras/backend.py\", line 491, in get_session\n",
      "    _initialize_variables(session)  File \"/usr/local/lib/python3.7/site-packages/tensorflow_core/python/keras/backend.py\", line 908, in _initialize_variables\n",
      "    [variables_module.is_variable_initialized(v) for v in candidate_vars])  File \"/usr/local/lib/python3.7/site-packages/tensorflow_core/python/keras/backend.py\", line 908, in <listcomp>\n",
      "    [variables_module.is_variable_initialized(v) for v in candidate_vars])  File \"/usr/local/lib/python3.7/site-packages/tensorflow_core/python/util/tf_should_use.py\", line 198, in wrapped\n",
      "    return _add_should_use_warning(fn(*args, **kwargs))\n",
      "==================================\n"
     ]
    },
    {
     "name": "stderr",
     "output_type": "stream",
     "text": [
      "ERROR:tensorflow:==================================\n",
      "Object was never used (type <class 'tensorflow.python.framework.ops.Tensor'>):\n",
      "<tf.Tensor 'VarIsInitializedOp_116:0' shape=() dtype=bool>\n",
      "If you want to mark it as used call its \"mark_used()\" method.\n",
      "It was originally created here:\n",
      "  File \"/usr/local/lib/python3.7/site-packages/tensorflow_core/python/keras/backend.py\", line 3363, in batch_set_value\n",
      "    get_session().run(assign_ops, feed_dict=feed_dict)  File \"/usr/local/lib/python3.7/site-packages/tensorflow_core/python/keras/backend.py\", line 491, in get_session\n",
      "    _initialize_variables(session)  File \"/usr/local/lib/python3.7/site-packages/tensorflow_core/python/keras/backend.py\", line 908, in _initialize_variables\n",
      "    [variables_module.is_variable_initialized(v) for v in candidate_vars])  File \"/usr/local/lib/python3.7/site-packages/tensorflow_core/python/keras/backend.py\", line 908, in <listcomp>\n",
      "    [variables_module.is_variable_initialized(v) for v in candidate_vars])  File \"/usr/local/lib/python3.7/site-packages/tensorflow_core/python/util/tf_should_use.py\", line 198, in wrapped\n",
      "    return _add_should_use_warning(fn(*args, **kwargs))\n",
      "==================================\n"
     ]
    },
    {
     "name": "stdout",
     "output_type": "stream",
     "text": [
      "ERROR:tensorflow:==================================\n",
      "Object was never used (type <class 'tensorflow.python.framework.ops.Tensor'>):\n",
      "<tf.Tensor 'VarIsInitializedOp_115:0' shape=() dtype=bool>\n",
      "If you want to mark it as used call its \"mark_used()\" method.\n",
      "It was originally created here:\n",
      "  File \"/usr/local/lib/python3.7/site-packages/tensorflow_core/python/keras/backend.py\", line 3363, in batch_set_value\n",
      "    get_session().run(assign_ops, feed_dict=feed_dict)  File \"/usr/local/lib/python3.7/site-packages/tensorflow_core/python/keras/backend.py\", line 491, in get_session\n",
      "    _initialize_variables(session)  File \"/usr/local/lib/python3.7/site-packages/tensorflow_core/python/keras/backend.py\", line 908, in _initialize_variables\n",
      "    [variables_module.is_variable_initialized(v) for v in candidate_vars])  File \"/usr/local/lib/python3.7/site-packages/tensorflow_core/python/keras/backend.py\", line 908, in <listcomp>\n",
      "    [variables_module.is_variable_initialized(v) for v in candidate_vars])  File \"/usr/local/lib/python3.7/site-packages/tensorflow_core/python/util/tf_should_use.py\", line 198, in wrapped\n",
      "    return _add_should_use_warning(fn(*args, **kwargs))\n",
      "==================================\n"
     ]
    },
    {
     "name": "stderr",
     "output_type": "stream",
     "text": [
      "ERROR:tensorflow:==================================\n",
      "Object was never used (type <class 'tensorflow.python.framework.ops.Tensor'>):\n",
      "<tf.Tensor 'VarIsInitializedOp_115:0' shape=() dtype=bool>\n",
      "If you want to mark it as used call its \"mark_used()\" method.\n",
      "It was originally created here:\n",
      "  File \"/usr/local/lib/python3.7/site-packages/tensorflow_core/python/keras/backend.py\", line 3363, in batch_set_value\n",
      "    get_session().run(assign_ops, feed_dict=feed_dict)  File \"/usr/local/lib/python3.7/site-packages/tensorflow_core/python/keras/backend.py\", line 491, in get_session\n",
      "    _initialize_variables(session)  File \"/usr/local/lib/python3.7/site-packages/tensorflow_core/python/keras/backend.py\", line 908, in _initialize_variables\n",
      "    [variables_module.is_variable_initialized(v) for v in candidate_vars])  File \"/usr/local/lib/python3.7/site-packages/tensorflow_core/python/keras/backend.py\", line 908, in <listcomp>\n",
      "    [variables_module.is_variable_initialized(v) for v in candidate_vars])  File \"/usr/local/lib/python3.7/site-packages/tensorflow_core/python/util/tf_should_use.py\", line 198, in wrapped\n",
      "    return _add_should_use_warning(fn(*args, **kwargs))\n",
      "==================================\n"
     ]
    },
    {
     "name": "stdout",
     "output_type": "stream",
     "text": [
      "ERROR:tensorflow:==================================\n",
      "Object was never used (type <class 'tensorflow.python.framework.ops.Tensor'>):\n",
      "<tf.Tensor 'VarIsInitializedOp_114:0' shape=() dtype=bool>\n",
      "If you want to mark it as used call its \"mark_used()\" method.\n",
      "It was originally created here:\n",
      "  File \"/usr/local/lib/python3.7/site-packages/tensorflow_core/python/keras/backend.py\", line 3363, in batch_set_value\n",
      "    get_session().run(assign_ops, feed_dict=feed_dict)  File \"/usr/local/lib/python3.7/site-packages/tensorflow_core/python/keras/backend.py\", line 491, in get_session\n",
      "    _initialize_variables(session)  File \"/usr/local/lib/python3.7/site-packages/tensorflow_core/python/keras/backend.py\", line 908, in _initialize_variables\n",
      "    [variables_module.is_variable_initialized(v) for v in candidate_vars])  File \"/usr/local/lib/python3.7/site-packages/tensorflow_core/python/keras/backend.py\", line 908, in <listcomp>\n",
      "    [variables_module.is_variable_initialized(v) for v in candidate_vars])  File \"/usr/local/lib/python3.7/site-packages/tensorflow_core/python/util/tf_should_use.py\", line 198, in wrapped\n",
      "    return _add_should_use_warning(fn(*args, **kwargs))\n",
      "==================================\n"
     ]
    },
    {
     "name": "stderr",
     "output_type": "stream",
     "text": [
      "ERROR:tensorflow:==================================\n",
      "Object was never used (type <class 'tensorflow.python.framework.ops.Tensor'>):\n",
      "<tf.Tensor 'VarIsInitializedOp_114:0' shape=() dtype=bool>\n",
      "If you want to mark it as used call its \"mark_used()\" method.\n",
      "It was originally created here:\n",
      "  File \"/usr/local/lib/python3.7/site-packages/tensorflow_core/python/keras/backend.py\", line 3363, in batch_set_value\n",
      "    get_session().run(assign_ops, feed_dict=feed_dict)  File \"/usr/local/lib/python3.7/site-packages/tensorflow_core/python/keras/backend.py\", line 491, in get_session\n",
      "    _initialize_variables(session)  File \"/usr/local/lib/python3.7/site-packages/tensorflow_core/python/keras/backend.py\", line 908, in _initialize_variables\n",
      "    [variables_module.is_variable_initialized(v) for v in candidate_vars])  File \"/usr/local/lib/python3.7/site-packages/tensorflow_core/python/keras/backend.py\", line 908, in <listcomp>\n",
      "    [variables_module.is_variable_initialized(v) for v in candidate_vars])  File \"/usr/local/lib/python3.7/site-packages/tensorflow_core/python/util/tf_should_use.py\", line 198, in wrapped\n",
      "    return _add_should_use_warning(fn(*args, **kwargs))\n",
      "==================================\n"
     ]
    },
    {
     "name": "stdout",
     "output_type": "stream",
     "text": [
      "ERROR:tensorflow:==================================\n",
      "Object was never used (type <class 'tensorflow.python.framework.ops.Tensor'>):\n",
      "<tf.Tensor 'VarIsInitializedOp_113:0' shape=() dtype=bool>\n",
      "If you want to mark it as used call its \"mark_used()\" method.\n",
      "It was originally created here:\n",
      "  File \"/usr/local/lib/python3.7/site-packages/tensorflow_core/python/keras/backend.py\", line 3363, in batch_set_value\n",
      "    get_session().run(assign_ops, feed_dict=feed_dict)  File \"/usr/local/lib/python3.7/site-packages/tensorflow_core/python/keras/backend.py\", line 491, in get_session\n",
      "    _initialize_variables(session)  File \"/usr/local/lib/python3.7/site-packages/tensorflow_core/python/keras/backend.py\", line 908, in _initialize_variables\n",
      "    [variables_module.is_variable_initialized(v) for v in candidate_vars])  File \"/usr/local/lib/python3.7/site-packages/tensorflow_core/python/keras/backend.py\", line 908, in <listcomp>\n",
      "    [variables_module.is_variable_initialized(v) for v in candidate_vars])  File \"/usr/local/lib/python3.7/site-packages/tensorflow_core/python/util/tf_should_use.py\", line 198, in wrapped\n",
      "    return _add_should_use_warning(fn(*args, **kwargs))\n",
      "==================================\n"
     ]
    },
    {
     "name": "stderr",
     "output_type": "stream",
     "text": [
      "ERROR:tensorflow:==================================\n",
      "Object was never used (type <class 'tensorflow.python.framework.ops.Tensor'>):\n",
      "<tf.Tensor 'VarIsInitializedOp_113:0' shape=() dtype=bool>\n",
      "If you want to mark it as used call its \"mark_used()\" method.\n",
      "It was originally created here:\n",
      "  File \"/usr/local/lib/python3.7/site-packages/tensorflow_core/python/keras/backend.py\", line 3363, in batch_set_value\n",
      "    get_session().run(assign_ops, feed_dict=feed_dict)  File \"/usr/local/lib/python3.7/site-packages/tensorflow_core/python/keras/backend.py\", line 491, in get_session\n",
      "    _initialize_variables(session)  File \"/usr/local/lib/python3.7/site-packages/tensorflow_core/python/keras/backend.py\", line 908, in _initialize_variables\n",
      "    [variables_module.is_variable_initialized(v) for v in candidate_vars])  File \"/usr/local/lib/python3.7/site-packages/tensorflow_core/python/keras/backend.py\", line 908, in <listcomp>\n",
      "    [variables_module.is_variable_initialized(v) for v in candidate_vars])  File \"/usr/local/lib/python3.7/site-packages/tensorflow_core/python/util/tf_should_use.py\", line 198, in wrapped\n",
      "    return _add_should_use_warning(fn(*args, **kwargs))\n",
      "==================================\n"
     ]
    },
    {
     "name": "stdout",
     "output_type": "stream",
     "text": [
      "ERROR:tensorflow:==================================\n",
      "Object was never used (type <class 'tensorflow.python.framework.ops.Tensor'>):\n",
      "<tf.Tensor 'VarIsInitializedOp_112:0' shape=() dtype=bool>\n",
      "If you want to mark it as used call its \"mark_used()\" method.\n",
      "It was originally created here:\n",
      "  File \"/usr/local/lib/python3.7/site-packages/tensorflow_core/python/keras/backend.py\", line 3363, in batch_set_value\n",
      "    get_session().run(assign_ops, feed_dict=feed_dict)  File \"/usr/local/lib/python3.7/site-packages/tensorflow_core/python/keras/backend.py\", line 491, in get_session\n",
      "    _initialize_variables(session)  File \"/usr/local/lib/python3.7/site-packages/tensorflow_core/python/keras/backend.py\", line 908, in _initialize_variables\n",
      "    [variables_module.is_variable_initialized(v) for v in candidate_vars])  File \"/usr/local/lib/python3.7/site-packages/tensorflow_core/python/keras/backend.py\", line 908, in <listcomp>\n",
      "    [variables_module.is_variable_initialized(v) for v in candidate_vars])  File \"/usr/local/lib/python3.7/site-packages/tensorflow_core/python/util/tf_should_use.py\", line 198, in wrapped\n",
      "    return _add_should_use_warning(fn(*args, **kwargs))\n",
      "==================================\n"
     ]
    },
    {
     "name": "stderr",
     "output_type": "stream",
     "text": [
      "ERROR:tensorflow:==================================\n",
      "Object was never used (type <class 'tensorflow.python.framework.ops.Tensor'>):\n",
      "<tf.Tensor 'VarIsInitializedOp_112:0' shape=() dtype=bool>\n",
      "If you want to mark it as used call its \"mark_used()\" method.\n",
      "It was originally created here:\n",
      "  File \"/usr/local/lib/python3.7/site-packages/tensorflow_core/python/keras/backend.py\", line 3363, in batch_set_value\n",
      "    get_session().run(assign_ops, feed_dict=feed_dict)  File \"/usr/local/lib/python3.7/site-packages/tensorflow_core/python/keras/backend.py\", line 491, in get_session\n",
      "    _initialize_variables(session)  File \"/usr/local/lib/python3.7/site-packages/tensorflow_core/python/keras/backend.py\", line 908, in _initialize_variables\n",
      "    [variables_module.is_variable_initialized(v) for v in candidate_vars])  File \"/usr/local/lib/python3.7/site-packages/tensorflow_core/python/keras/backend.py\", line 908, in <listcomp>\n",
      "    [variables_module.is_variable_initialized(v) for v in candidate_vars])  File \"/usr/local/lib/python3.7/site-packages/tensorflow_core/python/util/tf_should_use.py\", line 198, in wrapped\n",
      "    return _add_should_use_warning(fn(*args, **kwargs))\n",
      "==================================\n"
     ]
    },
    {
     "name": "stdout",
     "output_type": "stream",
     "text": [
      "ERROR:tensorflow:==================================\n",
      "Object was never used (type <class 'tensorflow.python.framework.ops.Tensor'>):\n",
      "<tf.Tensor 'VarIsInitializedOp_111:0' shape=() dtype=bool>\n",
      "If you want to mark it as used call its \"mark_used()\" method.\n",
      "It was originally created here:\n",
      "  File \"/usr/local/lib/python3.7/site-packages/tensorflow_core/python/keras/backend.py\", line 3363, in batch_set_value\n",
      "    get_session().run(assign_ops, feed_dict=feed_dict)  File \"/usr/local/lib/python3.7/site-packages/tensorflow_core/python/keras/backend.py\", line 491, in get_session\n",
      "    _initialize_variables(session)  File \"/usr/local/lib/python3.7/site-packages/tensorflow_core/python/keras/backend.py\", line 908, in _initialize_variables\n",
      "    [variables_module.is_variable_initialized(v) for v in candidate_vars])  File \"/usr/local/lib/python3.7/site-packages/tensorflow_core/python/keras/backend.py\", line 908, in <listcomp>\n",
      "    [variables_module.is_variable_initialized(v) for v in candidate_vars])  File \"/usr/local/lib/python3.7/site-packages/tensorflow_core/python/util/tf_should_use.py\", line 198, in wrapped\n",
      "    return _add_should_use_warning(fn(*args, **kwargs))\n",
      "==================================\n"
     ]
    },
    {
     "name": "stderr",
     "output_type": "stream",
     "text": [
      "ERROR:tensorflow:==================================\n",
      "Object was never used (type <class 'tensorflow.python.framework.ops.Tensor'>):\n",
      "<tf.Tensor 'VarIsInitializedOp_111:0' shape=() dtype=bool>\n",
      "If you want to mark it as used call its \"mark_used()\" method.\n",
      "It was originally created here:\n",
      "  File \"/usr/local/lib/python3.7/site-packages/tensorflow_core/python/keras/backend.py\", line 3363, in batch_set_value\n",
      "    get_session().run(assign_ops, feed_dict=feed_dict)  File \"/usr/local/lib/python3.7/site-packages/tensorflow_core/python/keras/backend.py\", line 491, in get_session\n",
      "    _initialize_variables(session)  File \"/usr/local/lib/python3.7/site-packages/tensorflow_core/python/keras/backend.py\", line 908, in _initialize_variables\n",
      "    [variables_module.is_variable_initialized(v) for v in candidate_vars])  File \"/usr/local/lib/python3.7/site-packages/tensorflow_core/python/keras/backend.py\", line 908, in <listcomp>\n",
      "    [variables_module.is_variable_initialized(v) for v in candidate_vars])  File \"/usr/local/lib/python3.7/site-packages/tensorflow_core/python/util/tf_should_use.py\", line 198, in wrapped\n",
      "    return _add_should_use_warning(fn(*args, **kwargs))\n",
      "==================================\n"
     ]
    },
    {
     "name": "stdout",
     "output_type": "stream",
     "text": [
      "ERROR:tensorflow:==================================\n",
      "Object was never used (type <class 'tensorflow.python.framework.ops.Tensor'>):\n",
      "<tf.Tensor 'VarIsInitializedOp_110:0' shape=() dtype=bool>\n",
      "If you want to mark it as used call its \"mark_used()\" method.\n",
      "It was originally created here:\n",
      "  File \"/usr/local/lib/python3.7/site-packages/tensorflow_core/python/keras/backend.py\", line 3363, in batch_set_value\n",
      "    get_session().run(assign_ops, feed_dict=feed_dict)  File \"/usr/local/lib/python3.7/site-packages/tensorflow_core/python/keras/backend.py\", line 491, in get_session\n",
      "    _initialize_variables(session)  File \"/usr/local/lib/python3.7/site-packages/tensorflow_core/python/keras/backend.py\", line 908, in _initialize_variables\n",
      "    [variables_module.is_variable_initialized(v) for v in candidate_vars])  File \"/usr/local/lib/python3.7/site-packages/tensorflow_core/python/keras/backend.py\", line 908, in <listcomp>\n",
      "    [variables_module.is_variable_initialized(v) for v in candidate_vars])  File \"/usr/local/lib/python3.7/site-packages/tensorflow_core/python/util/tf_should_use.py\", line 198, in wrapped\n",
      "    return _add_should_use_warning(fn(*args, **kwargs))\n",
      "==================================\n"
     ]
    },
    {
     "name": "stderr",
     "output_type": "stream",
     "text": [
      "ERROR:tensorflow:==================================\n",
      "Object was never used (type <class 'tensorflow.python.framework.ops.Tensor'>):\n",
      "<tf.Tensor 'VarIsInitializedOp_110:0' shape=() dtype=bool>\n",
      "If you want to mark it as used call its \"mark_used()\" method.\n",
      "It was originally created here:\n",
      "  File \"/usr/local/lib/python3.7/site-packages/tensorflow_core/python/keras/backend.py\", line 3363, in batch_set_value\n",
      "    get_session().run(assign_ops, feed_dict=feed_dict)  File \"/usr/local/lib/python3.7/site-packages/tensorflow_core/python/keras/backend.py\", line 491, in get_session\n",
      "    _initialize_variables(session)  File \"/usr/local/lib/python3.7/site-packages/tensorflow_core/python/keras/backend.py\", line 908, in _initialize_variables\n",
      "    [variables_module.is_variable_initialized(v) for v in candidate_vars])  File \"/usr/local/lib/python3.7/site-packages/tensorflow_core/python/keras/backend.py\", line 908, in <listcomp>\n",
      "    [variables_module.is_variable_initialized(v) for v in candidate_vars])  File \"/usr/local/lib/python3.7/site-packages/tensorflow_core/python/util/tf_should_use.py\", line 198, in wrapped\n",
      "    return _add_should_use_warning(fn(*args, **kwargs))\n",
      "==================================\n"
     ]
    },
    {
     "name": "stdout",
     "output_type": "stream",
     "text": [
      "ERROR:tensorflow:==================================\n",
      "Object was never used (type <class 'tensorflow.python.framework.ops.Tensor'>):\n",
      "<tf.Tensor 'VarIsInitializedOp_109:0' shape=() dtype=bool>\n",
      "If you want to mark it as used call its \"mark_used()\" method.\n",
      "It was originally created here:\n",
      "  File \"/usr/local/lib/python3.7/site-packages/tensorflow_core/python/keras/backend.py\", line 3363, in batch_set_value\n",
      "    get_session().run(assign_ops, feed_dict=feed_dict)  File \"/usr/local/lib/python3.7/site-packages/tensorflow_core/python/keras/backend.py\", line 491, in get_session\n",
      "    _initialize_variables(session)  File \"/usr/local/lib/python3.7/site-packages/tensorflow_core/python/keras/backend.py\", line 908, in _initialize_variables\n",
      "    [variables_module.is_variable_initialized(v) for v in candidate_vars])  File \"/usr/local/lib/python3.7/site-packages/tensorflow_core/python/keras/backend.py\", line 908, in <listcomp>\n",
      "    [variables_module.is_variable_initialized(v) for v in candidate_vars])  File \"/usr/local/lib/python3.7/site-packages/tensorflow_core/python/util/tf_should_use.py\", line 198, in wrapped\n",
      "    return _add_should_use_warning(fn(*args, **kwargs))\n",
      "==================================\n"
     ]
    },
    {
     "name": "stderr",
     "output_type": "stream",
     "text": [
      "ERROR:tensorflow:==================================\n",
      "Object was never used (type <class 'tensorflow.python.framework.ops.Tensor'>):\n",
      "<tf.Tensor 'VarIsInitializedOp_109:0' shape=() dtype=bool>\n",
      "If you want to mark it as used call its \"mark_used()\" method.\n",
      "It was originally created here:\n",
      "  File \"/usr/local/lib/python3.7/site-packages/tensorflow_core/python/keras/backend.py\", line 3363, in batch_set_value\n",
      "    get_session().run(assign_ops, feed_dict=feed_dict)  File \"/usr/local/lib/python3.7/site-packages/tensorflow_core/python/keras/backend.py\", line 491, in get_session\n",
      "    _initialize_variables(session)  File \"/usr/local/lib/python3.7/site-packages/tensorflow_core/python/keras/backend.py\", line 908, in _initialize_variables\n",
      "    [variables_module.is_variable_initialized(v) for v in candidate_vars])  File \"/usr/local/lib/python3.7/site-packages/tensorflow_core/python/keras/backend.py\", line 908, in <listcomp>\n",
      "    [variables_module.is_variable_initialized(v) for v in candidate_vars])  File \"/usr/local/lib/python3.7/site-packages/tensorflow_core/python/util/tf_should_use.py\", line 198, in wrapped\n",
      "    return _add_should_use_warning(fn(*args, **kwargs))\n",
      "==================================\n"
     ]
    },
    {
     "name": "stdout",
     "output_type": "stream",
     "text": [
      "ERROR:tensorflow:==================================\n",
      "Object was never used (type <class 'tensorflow.python.framework.ops.Tensor'>):\n",
      "<tf.Tensor 'VarIsInitializedOp_108:0' shape=() dtype=bool>\n",
      "If you want to mark it as used call its \"mark_used()\" method.\n",
      "It was originally created here:\n",
      "  File \"/usr/local/lib/python3.7/site-packages/tensorflow_core/python/keras/backend.py\", line 3363, in batch_set_value\n",
      "    get_session().run(assign_ops, feed_dict=feed_dict)  File \"/usr/local/lib/python3.7/site-packages/tensorflow_core/python/keras/backend.py\", line 491, in get_session\n",
      "    _initialize_variables(session)  File \"/usr/local/lib/python3.7/site-packages/tensorflow_core/python/keras/backend.py\", line 908, in _initialize_variables\n",
      "    [variables_module.is_variable_initialized(v) for v in candidate_vars])  File \"/usr/local/lib/python3.7/site-packages/tensorflow_core/python/keras/backend.py\", line 908, in <listcomp>\n",
      "    [variables_module.is_variable_initialized(v) for v in candidate_vars])  File \"/usr/local/lib/python3.7/site-packages/tensorflow_core/python/util/tf_should_use.py\", line 198, in wrapped\n",
      "    return _add_should_use_warning(fn(*args, **kwargs))\n",
      "==================================\n"
     ]
    },
    {
     "name": "stderr",
     "output_type": "stream",
     "text": [
      "ERROR:tensorflow:==================================\n",
      "Object was never used (type <class 'tensorflow.python.framework.ops.Tensor'>):\n",
      "<tf.Tensor 'VarIsInitializedOp_108:0' shape=() dtype=bool>\n",
      "If you want to mark it as used call its \"mark_used()\" method.\n",
      "It was originally created here:\n",
      "  File \"/usr/local/lib/python3.7/site-packages/tensorflow_core/python/keras/backend.py\", line 3363, in batch_set_value\n",
      "    get_session().run(assign_ops, feed_dict=feed_dict)  File \"/usr/local/lib/python3.7/site-packages/tensorflow_core/python/keras/backend.py\", line 491, in get_session\n",
      "    _initialize_variables(session)  File \"/usr/local/lib/python3.7/site-packages/tensorflow_core/python/keras/backend.py\", line 908, in _initialize_variables\n",
      "    [variables_module.is_variable_initialized(v) for v in candidate_vars])  File \"/usr/local/lib/python3.7/site-packages/tensorflow_core/python/keras/backend.py\", line 908, in <listcomp>\n",
      "    [variables_module.is_variable_initialized(v) for v in candidate_vars])  File \"/usr/local/lib/python3.7/site-packages/tensorflow_core/python/util/tf_should_use.py\", line 198, in wrapped\n",
      "    return _add_should_use_warning(fn(*args, **kwargs))\n",
      "==================================\n"
     ]
    },
    {
     "name": "stdout",
     "output_type": "stream",
     "text": [
      "ERROR:tensorflow:==================================\n",
      "Object was never used (type <class 'tensorflow.python.framework.ops.Tensor'>):\n",
      "<tf.Tensor 'VarIsInitializedOp_107:0' shape=() dtype=bool>\n",
      "If you want to mark it as used call its \"mark_used()\" method.\n",
      "It was originally created here:\n",
      "  File \"/usr/local/lib/python3.7/site-packages/tensorflow_core/python/keras/backend.py\", line 3363, in batch_set_value\n",
      "    get_session().run(assign_ops, feed_dict=feed_dict)  File \"/usr/local/lib/python3.7/site-packages/tensorflow_core/python/keras/backend.py\", line 491, in get_session\n",
      "    _initialize_variables(session)  File \"/usr/local/lib/python3.7/site-packages/tensorflow_core/python/keras/backend.py\", line 908, in _initialize_variables\n",
      "    [variables_module.is_variable_initialized(v) for v in candidate_vars])  File \"/usr/local/lib/python3.7/site-packages/tensorflow_core/python/keras/backend.py\", line 908, in <listcomp>\n",
      "    [variables_module.is_variable_initialized(v) for v in candidate_vars])  File \"/usr/local/lib/python3.7/site-packages/tensorflow_core/python/util/tf_should_use.py\", line 198, in wrapped\n",
      "    return _add_should_use_warning(fn(*args, **kwargs))\n",
      "==================================\n"
     ]
    },
    {
     "name": "stderr",
     "output_type": "stream",
     "text": [
      "ERROR:tensorflow:==================================\n",
      "Object was never used (type <class 'tensorflow.python.framework.ops.Tensor'>):\n",
      "<tf.Tensor 'VarIsInitializedOp_107:0' shape=() dtype=bool>\n",
      "If you want to mark it as used call its \"mark_used()\" method.\n",
      "It was originally created here:\n",
      "  File \"/usr/local/lib/python3.7/site-packages/tensorflow_core/python/keras/backend.py\", line 3363, in batch_set_value\n",
      "    get_session().run(assign_ops, feed_dict=feed_dict)  File \"/usr/local/lib/python3.7/site-packages/tensorflow_core/python/keras/backend.py\", line 491, in get_session\n",
      "    _initialize_variables(session)  File \"/usr/local/lib/python3.7/site-packages/tensorflow_core/python/keras/backend.py\", line 908, in _initialize_variables\n",
      "    [variables_module.is_variable_initialized(v) for v in candidate_vars])  File \"/usr/local/lib/python3.7/site-packages/tensorflow_core/python/keras/backend.py\", line 908, in <listcomp>\n",
      "    [variables_module.is_variable_initialized(v) for v in candidate_vars])  File \"/usr/local/lib/python3.7/site-packages/tensorflow_core/python/util/tf_should_use.py\", line 198, in wrapped\n",
      "    return _add_should_use_warning(fn(*args, **kwargs))\n",
      "==================================\n"
     ]
    },
    {
     "name": "stdout",
     "output_type": "stream",
     "text": [
      "ERROR:tensorflow:==================================\n",
      "Object was never used (type <class 'tensorflow.python.framework.ops.Tensor'>):\n",
      "<tf.Tensor 'VarIsInitializedOp_106:0' shape=() dtype=bool>\n",
      "If you want to mark it as used call its \"mark_used()\" method.\n",
      "It was originally created here:\n",
      "  File \"/usr/local/lib/python3.7/site-packages/tensorflow_core/python/keras/backend.py\", line 3363, in batch_set_value\n",
      "    get_session().run(assign_ops, feed_dict=feed_dict)  File \"/usr/local/lib/python3.7/site-packages/tensorflow_core/python/keras/backend.py\", line 491, in get_session\n",
      "    _initialize_variables(session)  File \"/usr/local/lib/python3.7/site-packages/tensorflow_core/python/keras/backend.py\", line 908, in _initialize_variables\n",
      "    [variables_module.is_variable_initialized(v) for v in candidate_vars])  File \"/usr/local/lib/python3.7/site-packages/tensorflow_core/python/keras/backend.py\", line 908, in <listcomp>\n",
      "    [variables_module.is_variable_initialized(v) for v in candidate_vars])  File \"/usr/local/lib/python3.7/site-packages/tensorflow_core/python/util/tf_should_use.py\", line 198, in wrapped\n",
      "    return _add_should_use_warning(fn(*args, **kwargs))\n",
      "==================================\n"
     ]
    },
    {
     "name": "stderr",
     "output_type": "stream",
     "text": [
      "ERROR:tensorflow:==================================\n",
      "Object was never used (type <class 'tensorflow.python.framework.ops.Tensor'>):\n",
      "<tf.Tensor 'VarIsInitializedOp_106:0' shape=() dtype=bool>\n",
      "If you want to mark it as used call its \"mark_used()\" method.\n",
      "It was originally created here:\n",
      "  File \"/usr/local/lib/python3.7/site-packages/tensorflow_core/python/keras/backend.py\", line 3363, in batch_set_value\n",
      "    get_session().run(assign_ops, feed_dict=feed_dict)  File \"/usr/local/lib/python3.7/site-packages/tensorflow_core/python/keras/backend.py\", line 491, in get_session\n",
      "    _initialize_variables(session)  File \"/usr/local/lib/python3.7/site-packages/tensorflow_core/python/keras/backend.py\", line 908, in _initialize_variables\n",
      "    [variables_module.is_variable_initialized(v) for v in candidate_vars])  File \"/usr/local/lib/python3.7/site-packages/tensorflow_core/python/keras/backend.py\", line 908, in <listcomp>\n",
      "    [variables_module.is_variable_initialized(v) for v in candidate_vars])  File \"/usr/local/lib/python3.7/site-packages/tensorflow_core/python/util/tf_should_use.py\", line 198, in wrapped\n",
      "    return _add_should_use_warning(fn(*args, **kwargs))\n",
      "==================================\n"
     ]
    },
    {
     "name": "stdout",
     "output_type": "stream",
     "text": [
      "ERROR:tensorflow:==================================\n",
      "Object was never used (type <class 'tensorflow.python.framework.ops.Tensor'>):\n",
      "<tf.Tensor 'VarIsInitializedOp_105:0' shape=() dtype=bool>\n",
      "If you want to mark it as used call its \"mark_used()\" method.\n",
      "It was originally created here:\n",
      "  File \"/usr/local/lib/python3.7/site-packages/tensorflow_core/python/keras/backend.py\", line 3363, in batch_set_value\n",
      "    get_session().run(assign_ops, feed_dict=feed_dict)  File \"/usr/local/lib/python3.7/site-packages/tensorflow_core/python/keras/backend.py\", line 491, in get_session\n",
      "    _initialize_variables(session)  File \"/usr/local/lib/python3.7/site-packages/tensorflow_core/python/keras/backend.py\", line 908, in _initialize_variables\n",
      "    [variables_module.is_variable_initialized(v) for v in candidate_vars])  File \"/usr/local/lib/python3.7/site-packages/tensorflow_core/python/keras/backend.py\", line 908, in <listcomp>\n",
      "    [variables_module.is_variable_initialized(v) for v in candidate_vars])  File \"/usr/local/lib/python3.7/site-packages/tensorflow_core/python/util/tf_should_use.py\", line 198, in wrapped\n",
      "    return _add_should_use_warning(fn(*args, **kwargs))\n",
      "==================================\n"
     ]
    },
    {
     "name": "stderr",
     "output_type": "stream",
     "text": [
      "ERROR:tensorflow:==================================\n",
      "Object was never used (type <class 'tensorflow.python.framework.ops.Tensor'>):\n",
      "<tf.Tensor 'VarIsInitializedOp_105:0' shape=() dtype=bool>\n",
      "If you want to mark it as used call its \"mark_used()\" method.\n",
      "It was originally created here:\n",
      "  File \"/usr/local/lib/python3.7/site-packages/tensorflow_core/python/keras/backend.py\", line 3363, in batch_set_value\n",
      "    get_session().run(assign_ops, feed_dict=feed_dict)  File \"/usr/local/lib/python3.7/site-packages/tensorflow_core/python/keras/backend.py\", line 491, in get_session\n",
      "    _initialize_variables(session)  File \"/usr/local/lib/python3.7/site-packages/tensorflow_core/python/keras/backend.py\", line 908, in _initialize_variables\n",
      "    [variables_module.is_variable_initialized(v) for v in candidate_vars])  File \"/usr/local/lib/python3.7/site-packages/tensorflow_core/python/keras/backend.py\", line 908, in <listcomp>\n",
      "    [variables_module.is_variable_initialized(v) for v in candidate_vars])  File \"/usr/local/lib/python3.7/site-packages/tensorflow_core/python/util/tf_should_use.py\", line 198, in wrapped\n",
      "    return _add_should_use_warning(fn(*args, **kwargs))\n",
      "==================================\n"
     ]
    },
    {
     "name": "stdout",
     "output_type": "stream",
     "text": [
      "ERROR:tensorflow:==================================\n",
      "Object was never used (type <class 'tensorflow.python.framework.ops.Tensor'>):\n",
      "<tf.Tensor 'VarIsInitializedOp_104:0' shape=() dtype=bool>\n",
      "If you want to mark it as used call its \"mark_used()\" method.\n",
      "It was originally created here:\n",
      "  File \"/usr/local/lib/python3.7/site-packages/tensorflow_core/python/keras/backend.py\", line 3363, in batch_set_value\n",
      "    get_session().run(assign_ops, feed_dict=feed_dict)  File \"/usr/local/lib/python3.7/site-packages/tensorflow_core/python/keras/backend.py\", line 491, in get_session\n",
      "    _initialize_variables(session)  File \"/usr/local/lib/python3.7/site-packages/tensorflow_core/python/keras/backend.py\", line 908, in _initialize_variables\n",
      "    [variables_module.is_variable_initialized(v) for v in candidate_vars])  File \"/usr/local/lib/python3.7/site-packages/tensorflow_core/python/keras/backend.py\", line 908, in <listcomp>\n",
      "    [variables_module.is_variable_initialized(v) for v in candidate_vars])  File \"/usr/local/lib/python3.7/site-packages/tensorflow_core/python/util/tf_should_use.py\", line 198, in wrapped\n",
      "    return _add_should_use_warning(fn(*args, **kwargs))\n",
      "==================================\n"
     ]
    },
    {
     "name": "stderr",
     "output_type": "stream",
     "text": [
      "ERROR:tensorflow:==================================\n",
      "Object was never used (type <class 'tensorflow.python.framework.ops.Tensor'>):\n",
      "<tf.Tensor 'VarIsInitializedOp_104:0' shape=() dtype=bool>\n",
      "If you want to mark it as used call its \"mark_used()\" method.\n",
      "It was originally created here:\n",
      "  File \"/usr/local/lib/python3.7/site-packages/tensorflow_core/python/keras/backend.py\", line 3363, in batch_set_value\n",
      "    get_session().run(assign_ops, feed_dict=feed_dict)  File \"/usr/local/lib/python3.7/site-packages/tensorflow_core/python/keras/backend.py\", line 491, in get_session\n",
      "    _initialize_variables(session)  File \"/usr/local/lib/python3.7/site-packages/tensorflow_core/python/keras/backend.py\", line 908, in _initialize_variables\n",
      "    [variables_module.is_variable_initialized(v) for v in candidate_vars])  File \"/usr/local/lib/python3.7/site-packages/tensorflow_core/python/keras/backend.py\", line 908, in <listcomp>\n",
      "    [variables_module.is_variable_initialized(v) for v in candidate_vars])  File \"/usr/local/lib/python3.7/site-packages/tensorflow_core/python/util/tf_should_use.py\", line 198, in wrapped\n",
      "    return _add_should_use_warning(fn(*args, **kwargs))\n",
      "==================================\n"
     ]
    },
    {
     "name": "stdout",
     "output_type": "stream",
     "text": [
      "ERROR:tensorflow:==================================\n",
      "Object was never used (type <class 'tensorflow.python.framework.ops.Tensor'>):\n",
      "<tf.Tensor 'VarIsInitializedOp_103:0' shape=() dtype=bool>\n",
      "If you want to mark it as used call its \"mark_used()\" method.\n",
      "It was originally created here:\n",
      "  File \"/usr/local/lib/python3.7/site-packages/tensorflow_core/python/keras/backend.py\", line 3363, in batch_set_value\n",
      "    get_session().run(assign_ops, feed_dict=feed_dict)  File \"/usr/local/lib/python3.7/site-packages/tensorflow_core/python/keras/backend.py\", line 491, in get_session\n",
      "    _initialize_variables(session)  File \"/usr/local/lib/python3.7/site-packages/tensorflow_core/python/keras/backend.py\", line 908, in _initialize_variables\n",
      "    [variables_module.is_variable_initialized(v) for v in candidate_vars])  File \"/usr/local/lib/python3.7/site-packages/tensorflow_core/python/keras/backend.py\", line 908, in <listcomp>\n",
      "    [variables_module.is_variable_initialized(v) for v in candidate_vars])  File \"/usr/local/lib/python3.7/site-packages/tensorflow_core/python/util/tf_should_use.py\", line 198, in wrapped\n",
      "    return _add_should_use_warning(fn(*args, **kwargs))\n",
      "==================================\n"
     ]
    },
    {
     "name": "stderr",
     "output_type": "stream",
     "text": [
      "ERROR:tensorflow:==================================\n",
      "Object was never used (type <class 'tensorflow.python.framework.ops.Tensor'>):\n",
      "<tf.Tensor 'VarIsInitializedOp_103:0' shape=() dtype=bool>\n",
      "If you want to mark it as used call its \"mark_used()\" method.\n",
      "It was originally created here:\n",
      "  File \"/usr/local/lib/python3.7/site-packages/tensorflow_core/python/keras/backend.py\", line 3363, in batch_set_value\n",
      "    get_session().run(assign_ops, feed_dict=feed_dict)  File \"/usr/local/lib/python3.7/site-packages/tensorflow_core/python/keras/backend.py\", line 491, in get_session\n",
      "    _initialize_variables(session)  File \"/usr/local/lib/python3.7/site-packages/tensorflow_core/python/keras/backend.py\", line 908, in _initialize_variables\n",
      "    [variables_module.is_variable_initialized(v) for v in candidate_vars])  File \"/usr/local/lib/python3.7/site-packages/tensorflow_core/python/keras/backend.py\", line 908, in <listcomp>\n",
      "    [variables_module.is_variable_initialized(v) for v in candidate_vars])  File \"/usr/local/lib/python3.7/site-packages/tensorflow_core/python/util/tf_should_use.py\", line 198, in wrapped\n",
      "    return _add_should_use_warning(fn(*args, **kwargs))\n",
      "==================================\n"
     ]
    },
    {
     "name": "stdout",
     "output_type": "stream",
     "text": [
      "ERROR:tensorflow:==================================\n",
      "Object was never used (type <class 'tensorflow.python.framework.ops.Tensor'>):\n",
      "<tf.Tensor 'VarIsInitializedOp_102:0' shape=() dtype=bool>\n",
      "If you want to mark it as used call its \"mark_used()\" method.\n",
      "It was originally created here:\n",
      "  File \"/usr/local/lib/python3.7/site-packages/tensorflow_core/python/keras/backend.py\", line 3363, in batch_set_value\n",
      "    get_session().run(assign_ops, feed_dict=feed_dict)  File \"/usr/local/lib/python3.7/site-packages/tensorflow_core/python/keras/backend.py\", line 491, in get_session\n",
      "    _initialize_variables(session)  File \"/usr/local/lib/python3.7/site-packages/tensorflow_core/python/keras/backend.py\", line 908, in _initialize_variables\n",
      "    [variables_module.is_variable_initialized(v) for v in candidate_vars])  File \"/usr/local/lib/python3.7/site-packages/tensorflow_core/python/keras/backend.py\", line 908, in <listcomp>\n",
      "    [variables_module.is_variable_initialized(v) for v in candidate_vars])  File \"/usr/local/lib/python3.7/site-packages/tensorflow_core/python/util/tf_should_use.py\", line 198, in wrapped\n",
      "    return _add_should_use_warning(fn(*args, **kwargs))\n",
      "==================================\n"
     ]
    },
    {
     "name": "stderr",
     "output_type": "stream",
     "text": [
      "ERROR:tensorflow:==================================\n",
      "Object was never used (type <class 'tensorflow.python.framework.ops.Tensor'>):\n",
      "<tf.Tensor 'VarIsInitializedOp_102:0' shape=() dtype=bool>\n",
      "If you want to mark it as used call its \"mark_used()\" method.\n",
      "It was originally created here:\n",
      "  File \"/usr/local/lib/python3.7/site-packages/tensorflow_core/python/keras/backend.py\", line 3363, in batch_set_value\n",
      "    get_session().run(assign_ops, feed_dict=feed_dict)  File \"/usr/local/lib/python3.7/site-packages/tensorflow_core/python/keras/backend.py\", line 491, in get_session\n",
      "    _initialize_variables(session)  File \"/usr/local/lib/python3.7/site-packages/tensorflow_core/python/keras/backend.py\", line 908, in _initialize_variables\n",
      "    [variables_module.is_variable_initialized(v) for v in candidate_vars])  File \"/usr/local/lib/python3.7/site-packages/tensorflow_core/python/keras/backend.py\", line 908, in <listcomp>\n",
      "    [variables_module.is_variable_initialized(v) for v in candidate_vars])  File \"/usr/local/lib/python3.7/site-packages/tensorflow_core/python/util/tf_should_use.py\", line 198, in wrapped\n",
      "    return _add_should_use_warning(fn(*args, **kwargs))\n",
      "==================================\n"
     ]
    },
    {
     "name": "stdout",
     "output_type": "stream",
     "text": [
      "ERROR:tensorflow:==================================\n",
      "Object was never used (type <class 'tensorflow.python.framework.ops.Tensor'>):\n",
      "<tf.Tensor 'VarIsInitializedOp_101:0' shape=() dtype=bool>\n",
      "If you want to mark it as used call its \"mark_used()\" method.\n",
      "It was originally created here:\n",
      "  File \"/usr/local/lib/python3.7/site-packages/tensorflow_core/python/keras/backend.py\", line 3363, in batch_set_value\n",
      "    get_session().run(assign_ops, feed_dict=feed_dict)  File \"/usr/local/lib/python3.7/site-packages/tensorflow_core/python/keras/backend.py\", line 491, in get_session\n",
      "    _initialize_variables(session)  File \"/usr/local/lib/python3.7/site-packages/tensorflow_core/python/keras/backend.py\", line 908, in _initialize_variables\n",
      "    [variables_module.is_variable_initialized(v) for v in candidate_vars])  File \"/usr/local/lib/python3.7/site-packages/tensorflow_core/python/keras/backend.py\", line 908, in <listcomp>\n",
      "    [variables_module.is_variable_initialized(v) for v in candidate_vars])  File \"/usr/local/lib/python3.7/site-packages/tensorflow_core/python/util/tf_should_use.py\", line 198, in wrapped\n",
      "    return _add_should_use_warning(fn(*args, **kwargs))\n",
      "==================================\n"
     ]
    },
    {
     "name": "stderr",
     "output_type": "stream",
     "text": [
      "ERROR:tensorflow:==================================\n",
      "Object was never used (type <class 'tensorflow.python.framework.ops.Tensor'>):\n",
      "<tf.Tensor 'VarIsInitializedOp_101:0' shape=() dtype=bool>\n",
      "If you want to mark it as used call its \"mark_used()\" method.\n",
      "It was originally created here:\n",
      "  File \"/usr/local/lib/python3.7/site-packages/tensorflow_core/python/keras/backend.py\", line 3363, in batch_set_value\n",
      "    get_session().run(assign_ops, feed_dict=feed_dict)  File \"/usr/local/lib/python3.7/site-packages/tensorflow_core/python/keras/backend.py\", line 491, in get_session\n",
      "    _initialize_variables(session)  File \"/usr/local/lib/python3.7/site-packages/tensorflow_core/python/keras/backend.py\", line 908, in _initialize_variables\n",
      "    [variables_module.is_variable_initialized(v) for v in candidate_vars])  File \"/usr/local/lib/python3.7/site-packages/tensorflow_core/python/keras/backend.py\", line 908, in <listcomp>\n",
      "    [variables_module.is_variable_initialized(v) for v in candidate_vars])  File \"/usr/local/lib/python3.7/site-packages/tensorflow_core/python/util/tf_should_use.py\", line 198, in wrapped\n",
      "    return _add_should_use_warning(fn(*args, **kwargs))\n",
      "==================================\n"
     ]
    },
    {
     "name": "stdout",
     "output_type": "stream",
     "text": [
      "ERROR:tensorflow:==================================\n",
      "Object was never used (type <class 'tensorflow.python.framework.ops.Tensor'>):\n",
      "<tf.Tensor 'VarIsInitializedOp_100:0' shape=() dtype=bool>\n",
      "If you want to mark it as used call its \"mark_used()\" method.\n",
      "It was originally created here:\n",
      "  File \"/usr/local/lib/python3.7/site-packages/tensorflow_core/python/keras/backend.py\", line 3363, in batch_set_value\n",
      "    get_session().run(assign_ops, feed_dict=feed_dict)  File \"/usr/local/lib/python3.7/site-packages/tensorflow_core/python/keras/backend.py\", line 491, in get_session\n",
      "    _initialize_variables(session)  File \"/usr/local/lib/python3.7/site-packages/tensorflow_core/python/keras/backend.py\", line 908, in _initialize_variables\n",
      "    [variables_module.is_variable_initialized(v) for v in candidate_vars])  File \"/usr/local/lib/python3.7/site-packages/tensorflow_core/python/keras/backend.py\", line 908, in <listcomp>\n",
      "    [variables_module.is_variable_initialized(v) for v in candidate_vars])  File \"/usr/local/lib/python3.7/site-packages/tensorflow_core/python/util/tf_should_use.py\", line 198, in wrapped\n",
      "    return _add_should_use_warning(fn(*args, **kwargs))\n",
      "==================================\n"
     ]
    },
    {
     "name": "stderr",
     "output_type": "stream",
     "text": [
      "ERROR:tensorflow:==================================\n",
      "Object was never used (type <class 'tensorflow.python.framework.ops.Tensor'>):\n",
      "<tf.Tensor 'VarIsInitializedOp_100:0' shape=() dtype=bool>\n",
      "If you want to mark it as used call its \"mark_used()\" method.\n",
      "It was originally created here:\n",
      "  File \"/usr/local/lib/python3.7/site-packages/tensorflow_core/python/keras/backend.py\", line 3363, in batch_set_value\n",
      "    get_session().run(assign_ops, feed_dict=feed_dict)  File \"/usr/local/lib/python3.7/site-packages/tensorflow_core/python/keras/backend.py\", line 491, in get_session\n",
      "    _initialize_variables(session)  File \"/usr/local/lib/python3.7/site-packages/tensorflow_core/python/keras/backend.py\", line 908, in _initialize_variables\n",
      "    [variables_module.is_variable_initialized(v) for v in candidate_vars])  File \"/usr/local/lib/python3.7/site-packages/tensorflow_core/python/keras/backend.py\", line 908, in <listcomp>\n",
      "    [variables_module.is_variable_initialized(v) for v in candidate_vars])  File \"/usr/local/lib/python3.7/site-packages/tensorflow_core/python/util/tf_should_use.py\", line 198, in wrapped\n",
      "    return _add_should_use_warning(fn(*args, **kwargs))\n",
      "==================================\n"
     ]
    },
    {
     "name": "stdout",
     "output_type": "stream",
     "text": [
      "ERROR:tensorflow:==================================\n",
      "Object was never used (type <class 'tensorflow.python.framework.ops.Tensor'>):\n",
      "<tf.Tensor 'VarIsInitializedOp_99:0' shape=() dtype=bool>\n",
      "If you want to mark it as used call its \"mark_used()\" method.\n",
      "It was originally created here:\n",
      "  File \"/usr/local/lib/python3.7/site-packages/tensorflow_core/python/keras/backend.py\", line 3363, in batch_set_value\n",
      "    get_session().run(assign_ops, feed_dict=feed_dict)  File \"/usr/local/lib/python3.7/site-packages/tensorflow_core/python/keras/backend.py\", line 491, in get_session\n",
      "    _initialize_variables(session)  File \"/usr/local/lib/python3.7/site-packages/tensorflow_core/python/keras/backend.py\", line 908, in _initialize_variables\n",
      "    [variables_module.is_variable_initialized(v) for v in candidate_vars])  File \"/usr/local/lib/python3.7/site-packages/tensorflow_core/python/keras/backend.py\", line 908, in <listcomp>\n",
      "    [variables_module.is_variable_initialized(v) for v in candidate_vars])  File \"/usr/local/lib/python3.7/site-packages/tensorflow_core/python/util/tf_should_use.py\", line 198, in wrapped\n",
      "    return _add_should_use_warning(fn(*args, **kwargs))\n",
      "==================================\n"
     ]
    },
    {
     "name": "stderr",
     "output_type": "stream",
     "text": [
      "ERROR:tensorflow:==================================\n",
      "Object was never used (type <class 'tensorflow.python.framework.ops.Tensor'>):\n",
      "<tf.Tensor 'VarIsInitializedOp_99:0' shape=() dtype=bool>\n",
      "If you want to mark it as used call its \"mark_used()\" method.\n",
      "It was originally created here:\n",
      "  File \"/usr/local/lib/python3.7/site-packages/tensorflow_core/python/keras/backend.py\", line 3363, in batch_set_value\n",
      "    get_session().run(assign_ops, feed_dict=feed_dict)  File \"/usr/local/lib/python3.7/site-packages/tensorflow_core/python/keras/backend.py\", line 491, in get_session\n",
      "    _initialize_variables(session)  File \"/usr/local/lib/python3.7/site-packages/tensorflow_core/python/keras/backend.py\", line 908, in _initialize_variables\n",
      "    [variables_module.is_variable_initialized(v) for v in candidate_vars])  File \"/usr/local/lib/python3.7/site-packages/tensorflow_core/python/keras/backend.py\", line 908, in <listcomp>\n",
      "    [variables_module.is_variable_initialized(v) for v in candidate_vars])  File \"/usr/local/lib/python3.7/site-packages/tensorflow_core/python/util/tf_should_use.py\", line 198, in wrapped\n",
      "    return _add_should_use_warning(fn(*args, **kwargs))\n",
      "==================================\n"
     ]
    },
    {
     "name": "stdout",
     "output_type": "stream",
     "text": [
      "ERROR:tensorflow:==================================\n",
      "Object was never used (type <class 'tensorflow.python.framework.ops.Tensor'>):\n",
      "<tf.Tensor 'VarIsInitializedOp_98:0' shape=() dtype=bool>\n",
      "If you want to mark it as used call its \"mark_used()\" method.\n",
      "It was originally created here:\n",
      "  File \"/usr/local/lib/python3.7/site-packages/tensorflow_core/python/keras/backend.py\", line 3363, in batch_set_value\n",
      "    get_session().run(assign_ops, feed_dict=feed_dict)  File \"/usr/local/lib/python3.7/site-packages/tensorflow_core/python/keras/backend.py\", line 491, in get_session\n",
      "    _initialize_variables(session)  File \"/usr/local/lib/python3.7/site-packages/tensorflow_core/python/keras/backend.py\", line 908, in _initialize_variables\n",
      "    [variables_module.is_variable_initialized(v) for v in candidate_vars])  File \"/usr/local/lib/python3.7/site-packages/tensorflow_core/python/keras/backend.py\", line 908, in <listcomp>\n",
      "    [variables_module.is_variable_initialized(v) for v in candidate_vars])  File \"/usr/local/lib/python3.7/site-packages/tensorflow_core/python/util/tf_should_use.py\", line 198, in wrapped\n",
      "    return _add_should_use_warning(fn(*args, **kwargs))\n",
      "==================================\n"
     ]
    },
    {
     "name": "stderr",
     "output_type": "stream",
     "text": [
      "ERROR:tensorflow:==================================\n",
      "Object was never used (type <class 'tensorflow.python.framework.ops.Tensor'>):\n",
      "<tf.Tensor 'VarIsInitializedOp_98:0' shape=() dtype=bool>\n",
      "If you want to mark it as used call its \"mark_used()\" method.\n",
      "It was originally created here:\n",
      "  File \"/usr/local/lib/python3.7/site-packages/tensorflow_core/python/keras/backend.py\", line 3363, in batch_set_value\n",
      "    get_session().run(assign_ops, feed_dict=feed_dict)  File \"/usr/local/lib/python3.7/site-packages/tensorflow_core/python/keras/backend.py\", line 491, in get_session\n",
      "    _initialize_variables(session)  File \"/usr/local/lib/python3.7/site-packages/tensorflow_core/python/keras/backend.py\", line 908, in _initialize_variables\n",
      "    [variables_module.is_variable_initialized(v) for v in candidate_vars])  File \"/usr/local/lib/python3.7/site-packages/tensorflow_core/python/keras/backend.py\", line 908, in <listcomp>\n",
      "    [variables_module.is_variable_initialized(v) for v in candidate_vars])  File \"/usr/local/lib/python3.7/site-packages/tensorflow_core/python/util/tf_should_use.py\", line 198, in wrapped\n",
      "    return _add_should_use_warning(fn(*args, **kwargs))\n",
      "==================================\n"
     ]
    },
    {
     "name": "stdout",
     "output_type": "stream",
     "text": [
      "ERROR:tensorflow:==================================\n",
      "Object was never used (type <class 'tensorflow.python.framework.ops.Tensor'>):\n",
      "<tf.Tensor 'VarIsInitializedOp_97:0' shape=() dtype=bool>\n",
      "If you want to mark it as used call its \"mark_used()\" method.\n",
      "It was originally created here:\n",
      "  File \"/usr/local/lib/python3.7/site-packages/tensorflow_core/python/keras/backend.py\", line 3363, in batch_set_value\n",
      "    get_session().run(assign_ops, feed_dict=feed_dict)  File \"/usr/local/lib/python3.7/site-packages/tensorflow_core/python/keras/backend.py\", line 491, in get_session\n",
      "    _initialize_variables(session)  File \"/usr/local/lib/python3.7/site-packages/tensorflow_core/python/keras/backend.py\", line 908, in _initialize_variables\n",
      "    [variables_module.is_variable_initialized(v) for v in candidate_vars])  File \"/usr/local/lib/python3.7/site-packages/tensorflow_core/python/keras/backend.py\", line 908, in <listcomp>\n",
      "    [variables_module.is_variable_initialized(v) for v in candidate_vars])  File \"/usr/local/lib/python3.7/site-packages/tensorflow_core/python/util/tf_should_use.py\", line 198, in wrapped\n",
      "    return _add_should_use_warning(fn(*args, **kwargs))\n",
      "==================================\n"
     ]
    },
    {
     "name": "stderr",
     "output_type": "stream",
     "text": [
      "ERROR:tensorflow:==================================\n",
      "Object was never used (type <class 'tensorflow.python.framework.ops.Tensor'>):\n",
      "<tf.Tensor 'VarIsInitializedOp_97:0' shape=() dtype=bool>\n",
      "If you want to mark it as used call its \"mark_used()\" method.\n",
      "It was originally created here:\n",
      "  File \"/usr/local/lib/python3.7/site-packages/tensorflow_core/python/keras/backend.py\", line 3363, in batch_set_value\n",
      "    get_session().run(assign_ops, feed_dict=feed_dict)  File \"/usr/local/lib/python3.7/site-packages/tensorflow_core/python/keras/backend.py\", line 491, in get_session\n",
      "    _initialize_variables(session)  File \"/usr/local/lib/python3.7/site-packages/tensorflow_core/python/keras/backend.py\", line 908, in _initialize_variables\n",
      "    [variables_module.is_variable_initialized(v) for v in candidate_vars])  File \"/usr/local/lib/python3.7/site-packages/tensorflow_core/python/keras/backend.py\", line 908, in <listcomp>\n",
      "    [variables_module.is_variable_initialized(v) for v in candidate_vars])  File \"/usr/local/lib/python3.7/site-packages/tensorflow_core/python/util/tf_should_use.py\", line 198, in wrapped\n",
      "    return _add_should_use_warning(fn(*args, **kwargs))\n",
      "==================================\n"
     ]
    },
    {
     "name": "stdout",
     "output_type": "stream",
     "text": [
      "ERROR:tensorflow:==================================\n",
      "Object was never used (type <class 'tensorflow.python.framework.ops.Tensor'>):\n",
      "<tf.Tensor 'VarIsInitializedOp_96:0' shape=() dtype=bool>\n",
      "If you want to mark it as used call its \"mark_used()\" method.\n",
      "It was originally created here:\n",
      "  File \"/usr/local/lib/python3.7/site-packages/tensorflow_core/python/keras/backend.py\", line 3363, in batch_set_value\n",
      "    get_session().run(assign_ops, feed_dict=feed_dict)  File \"/usr/local/lib/python3.7/site-packages/tensorflow_core/python/keras/backend.py\", line 491, in get_session\n",
      "    _initialize_variables(session)  File \"/usr/local/lib/python3.7/site-packages/tensorflow_core/python/keras/backend.py\", line 908, in _initialize_variables\n",
      "    [variables_module.is_variable_initialized(v) for v in candidate_vars])  File \"/usr/local/lib/python3.7/site-packages/tensorflow_core/python/keras/backend.py\", line 908, in <listcomp>\n",
      "    [variables_module.is_variable_initialized(v) for v in candidate_vars])  File \"/usr/local/lib/python3.7/site-packages/tensorflow_core/python/util/tf_should_use.py\", line 198, in wrapped\n",
      "    return _add_should_use_warning(fn(*args, **kwargs))\n",
      "==================================\n"
     ]
    },
    {
     "name": "stderr",
     "output_type": "stream",
     "text": [
      "ERROR:tensorflow:==================================\n",
      "Object was never used (type <class 'tensorflow.python.framework.ops.Tensor'>):\n",
      "<tf.Tensor 'VarIsInitializedOp_96:0' shape=() dtype=bool>\n",
      "If you want to mark it as used call its \"mark_used()\" method.\n",
      "It was originally created here:\n",
      "  File \"/usr/local/lib/python3.7/site-packages/tensorflow_core/python/keras/backend.py\", line 3363, in batch_set_value\n",
      "    get_session().run(assign_ops, feed_dict=feed_dict)  File \"/usr/local/lib/python3.7/site-packages/tensorflow_core/python/keras/backend.py\", line 491, in get_session\n",
      "    _initialize_variables(session)  File \"/usr/local/lib/python3.7/site-packages/tensorflow_core/python/keras/backend.py\", line 908, in _initialize_variables\n",
      "    [variables_module.is_variable_initialized(v) for v in candidate_vars])  File \"/usr/local/lib/python3.7/site-packages/tensorflow_core/python/keras/backend.py\", line 908, in <listcomp>\n",
      "    [variables_module.is_variable_initialized(v) for v in candidate_vars])  File \"/usr/local/lib/python3.7/site-packages/tensorflow_core/python/util/tf_should_use.py\", line 198, in wrapped\n",
      "    return _add_should_use_warning(fn(*args, **kwargs))\n",
      "==================================\n"
     ]
    },
    {
     "name": "stdout",
     "output_type": "stream",
     "text": [
      "ERROR:tensorflow:==================================\n",
      "Object was never used (type <class 'tensorflow.python.framework.ops.Tensor'>):\n",
      "<tf.Tensor 'VarIsInitializedOp_95:0' shape=() dtype=bool>\n",
      "If you want to mark it as used call its \"mark_used()\" method.\n",
      "It was originally created here:\n",
      "  File \"/usr/local/lib/python3.7/site-packages/tensorflow_core/python/keras/backend.py\", line 3363, in batch_set_value\n",
      "    get_session().run(assign_ops, feed_dict=feed_dict)  File \"/usr/local/lib/python3.7/site-packages/tensorflow_core/python/keras/backend.py\", line 491, in get_session\n",
      "    _initialize_variables(session)  File \"/usr/local/lib/python3.7/site-packages/tensorflow_core/python/keras/backend.py\", line 908, in _initialize_variables\n",
      "    [variables_module.is_variable_initialized(v) for v in candidate_vars])  File \"/usr/local/lib/python3.7/site-packages/tensorflow_core/python/keras/backend.py\", line 908, in <listcomp>\n",
      "    [variables_module.is_variable_initialized(v) for v in candidate_vars])  File \"/usr/local/lib/python3.7/site-packages/tensorflow_core/python/util/tf_should_use.py\", line 198, in wrapped\n",
      "    return _add_should_use_warning(fn(*args, **kwargs))\n",
      "==================================\n"
     ]
    },
    {
     "name": "stderr",
     "output_type": "stream",
     "text": [
      "ERROR:tensorflow:==================================\n",
      "Object was never used (type <class 'tensorflow.python.framework.ops.Tensor'>):\n",
      "<tf.Tensor 'VarIsInitializedOp_95:0' shape=() dtype=bool>\n",
      "If you want to mark it as used call its \"mark_used()\" method.\n",
      "It was originally created here:\n",
      "  File \"/usr/local/lib/python3.7/site-packages/tensorflow_core/python/keras/backend.py\", line 3363, in batch_set_value\n",
      "    get_session().run(assign_ops, feed_dict=feed_dict)  File \"/usr/local/lib/python3.7/site-packages/tensorflow_core/python/keras/backend.py\", line 491, in get_session\n",
      "    _initialize_variables(session)  File \"/usr/local/lib/python3.7/site-packages/tensorflow_core/python/keras/backend.py\", line 908, in _initialize_variables\n",
      "    [variables_module.is_variable_initialized(v) for v in candidate_vars])  File \"/usr/local/lib/python3.7/site-packages/tensorflow_core/python/keras/backend.py\", line 908, in <listcomp>\n",
      "    [variables_module.is_variable_initialized(v) for v in candidate_vars])  File \"/usr/local/lib/python3.7/site-packages/tensorflow_core/python/util/tf_should_use.py\", line 198, in wrapped\n",
      "    return _add_should_use_warning(fn(*args, **kwargs))\n",
      "==================================\n"
     ]
    },
    {
     "name": "stdout",
     "output_type": "stream",
     "text": [
      "ERROR:tensorflow:==================================\n",
      "Object was never used (type <class 'tensorflow.python.framework.ops.Tensor'>):\n",
      "<tf.Tensor 'VarIsInitializedOp_94:0' shape=() dtype=bool>\n",
      "If you want to mark it as used call its \"mark_used()\" method.\n",
      "It was originally created here:\n",
      "  File \"/usr/local/lib/python3.7/site-packages/tensorflow_core/python/keras/backend.py\", line 3363, in batch_set_value\n",
      "    get_session().run(assign_ops, feed_dict=feed_dict)  File \"/usr/local/lib/python3.7/site-packages/tensorflow_core/python/keras/backend.py\", line 491, in get_session\n",
      "    _initialize_variables(session)  File \"/usr/local/lib/python3.7/site-packages/tensorflow_core/python/keras/backend.py\", line 908, in _initialize_variables\n",
      "    [variables_module.is_variable_initialized(v) for v in candidate_vars])  File \"/usr/local/lib/python3.7/site-packages/tensorflow_core/python/keras/backend.py\", line 908, in <listcomp>\n",
      "    [variables_module.is_variable_initialized(v) for v in candidate_vars])  File \"/usr/local/lib/python3.7/site-packages/tensorflow_core/python/util/tf_should_use.py\", line 198, in wrapped\n",
      "    return _add_should_use_warning(fn(*args, **kwargs))\n",
      "==================================\n"
     ]
    },
    {
     "name": "stderr",
     "output_type": "stream",
     "text": [
      "ERROR:tensorflow:==================================\n",
      "Object was never used (type <class 'tensorflow.python.framework.ops.Tensor'>):\n",
      "<tf.Tensor 'VarIsInitializedOp_94:0' shape=() dtype=bool>\n",
      "If you want to mark it as used call its \"mark_used()\" method.\n",
      "It was originally created here:\n",
      "  File \"/usr/local/lib/python3.7/site-packages/tensorflow_core/python/keras/backend.py\", line 3363, in batch_set_value\n",
      "    get_session().run(assign_ops, feed_dict=feed_dict)  File \"/usr/local/lib/python3.7/site-packages/tensorflow_core/python/keras/backend.py\", line 491, in get_session\n",
      "    _initialize_variables(session)  File \"/usr/local/lib/python3.7/site-packages/tensorflow_core/python/keras/backend.py\", line 908, in _initialize_variables\n",
      "    [variables_module.is_variable_initialized(v) for v in candidate_vars])  File \"/usr/local/lib/python3.7/site-packages/tensorflow_core/python/keras/backend.py\", line 908, in <listcomp>\n",
      "    [variables_module.is_variable_initialized(v) for v in candidate_vars])  File \"/usr/local/lib/python3.7/site-packages/tensorflow_core/python/util/tf_should_use.py\", line 198, in wrapped\n",
      "    return _add_should_use_warning(fn(*args, **kwargs))\n",
      "==================================\n"
     ]
    },
    {
     "name": "stdout",
     "output_type": "stream",
     "text": [
      "ERROR:tensorflow:==================================\n",
      "Object was never used (type <class 'tensorflow.python.framework.ops.Tensor'>):\n",
      "<tf.Tensor 'VarIsInitializedOp_93:0' shape=() dtype=bool>\n",
      "If you want to mark it as used call its \"mark_used()\" method.\n",
      "It was originally created here:\n",
      "  File \"/usr/local/lib/python3.7/site-packages/tensorflow_core/python/keras/backend.py\", line 3363, in batch_set_value\n",
      "    get_session().run(assign_ops, feed_dict=feed_dict)  File \"/usr/local/lib/python3.7/site-packages/tensorflow_core/python/keras/backend.py\", line 491, in get_session\n",
      "    _initialize_variables(session)  File \"/usr/local/lib/python3.7/site-packages/tensorflow_core/python/keras/backend.py\", line 908, in _initialize_variables\n",
      "    [variables_module.is_variable_initialized(v) for v in candidate_vars])  File \"/usr/local/lib/python3.7/site-packages/tensorflow_core/python/keras/backend.py\", line 908, in <listcomp>\n",
      "    [variables_module.is_variable_initialized(v) for v in candidate_vars])  File \"/usr/local/lib/python3.7/site-packages/tensorflow_core/python/util/tf_should_use.py\", line 198, in wrapped\n",
      "    return _add_should_use_warning(fn(*args, **kwargs))\n",
      "==================================\n"
     ]
    },
    {
     "name": "stderr",
     "output_type": "stream",
     "text": [
      "ERROR:tensorflow:==================================\n",
      "Object was never used (type <class 'tensorflow.python.framework.ops.Tensor'>):\n",
      "<tf.Tensor 'VarIsInitializedOp_93:0' shape=() dtype=bool>\n",
      "If you want to mark it as used call its \"mark_used()\" method.\n",
      "It was originally created here:\n",
      "  File \"/usr/local/lib/python3.7/site-packages/tensorflow_core/python/keras/backend.py\", line 3363, in batch_set_value\n",
      "    get_session().run(assign_ops, feed_dict=feed_dict)  File \"/usr/local/lib/python3.7/site-packages/tensorflow_core/python/keras/backend.py\", line 491, in get_session\n",
      "    _initialize_variables(session)  File \"/usr/local/lib/python3.7/site-packages/tensorflow_core/python/keras/backend.py\", line 908, in _initialize_variables\n",
      "    [variables_module.is_variable_initialized(v) for v in candidate_vars])  File \"/usr/local/lib/python3.7/site-packages/tensorflow_core/python/keras/backend.py\", line 908, in <listcomp>\n",
      "    [variables_module.is_variable_initialized(v) for v in candidate_vars])  File \"/usr/local/lib/python3.7/site-packages/tensorflow_core/python/util/tf_should_use.py\", line 198, in wrapped\n",
      "    return _add_should_use_warning(fn(*args, **kwargs))\n",
      "==================================\n"
     ]
    },
    {
     "name": "stdout",
     "output_type": "stream",
     "text": [
      "ERROR:tensorflow:==================================\n",
      "Object was never used (type <class 'tensorflow.python.framework.ops.Tensor'>):\n",
      "<tf.Tensor 'VarIsInitializedOp_92:0' shape=() dtype=bool>\n",
      "If you want to mark it as used call its \"mark_used()\" method.\n",
      "It was originally created here:\n",
      "  File \"/usr/local/lib/python3.7/site-packages/tensorflow_core/python/keras/backend.py\", line 3363, in batch_set_value\n",
      "    get_session().run(assign_ops, feed_dict=feed_dict)  File \"/usr/local/lib/python3.7/site-packages/tensorflow_core/python/keras/backend.py\", line 491, in get_session\n",
      "    _initialize_variables(session)  File \"/usr/local/lib/python3.7/site-packages/tensorflow_core/python/keras/backend.py\", line 908, in _initialize_variables\n",
      "    [variables_module.is_variable_initialized(v) for v in candidate_vars])  File \"/usr/local/lib/python3.7/site-packages/tensorflow_core/python/keras/backend.py\", line 908, in <listcomp>\n",
      "    [variables_module.is_variable_initialized(v) for v in candidate_vars])  File \"/usr/local/lib/python3.7/site-packages/tensorflow_core/python/util/tf_should_use.py\", line 198, in wrapped\n",
      "    return _add_should_use_warning(fn(*args, **kwargs))\n",
      "==================================\n"
     ]
    },
    {
     "name": "stderr",
     "output_type": "stream",
     "text": [
      "ERROR:tensorflow:==================================\n",
      "Object was never used (type <class 'tensorflow.python.framework.ops.Tensor'>):\n",
      "<tf.Tensor 'VarIsInitializedOp_92:0' shape=() dtype=bool>\n",
      "If you want to mark it as used call its \"mark_used()\" method.\n",
      "It was originally created here:\n",
      "  File \"/usr/local/lib/python3.7/site-packages/tensorflow_core/python/keras/backend.py\", line 3363, in batch_set_value\n",
      "    get_session().run(assign_ops, feed_dict=feed_dict)  File \"/usr/local/lib/python3.7/site-packages/tensorflow_core/python/keras/backend.py\", line 491, in get_session\n",
      "    _initialize_variables(session)  File \"/usr/local/lib/python3.7/site-packages/tensorflow_core/python/keras/backend.py\", line 908, in _initialize_variables\n",
      "    [variables_module.is_variable_initialized(v) for v in candidate_vars])  File \"/usr/local/lib/python3.7/site-packages/tensorflow_core/python/keras/backend.py\", line 908, in <listcomp>\n",
      "    [variables_module.is_variable_initialized(v) for v in candidate_vars])  File \"/usr/local/lib/python3.7/site-packages/tensorflow_core/python/util/tf_should_use.py\", line 198, in wrapped\n",
      "    return _add_should_use_warning(fn(*args, **kwargs))\n",
      "==================================\n"
     ]
    },
    {
     "name": "stdout",
     "output_type": "stream",
     "text": [
      "ERROR:tensorflow:==================================\n",
      "Object was never used (type <class 'tensorflow.python.framework.ops.Tensor'>):\n",
      "<tf.Tensor 'VarIsInitializedOp_91:0' shape=() dtype=bool>\n",
      "If you want to mark it as used call its \"mark_used()\" method.\n",
      "It was originally created here:\n",
      "  File \"/usr/local/lib/python3.7/site-packages/tensorflow_core/python/keras/backend.py\", line 3363, in batch_set_value\n",
      "    get_session().run(assign_ops, feed_dict=feed_dict)  File \"/usr/local/lib/python3.7/site-packages/tensorflow_core/python/keras/backend.py\", line 491, in get_session\n",
      "    _initialize_variables(session)  File \"/usr/local/lib/python3.7/site-packages/tensorflow_core/python/keras/backend.py\", line 908, in _initialize_variables\n",
      "    [variables_module.is_variable_initialized(v) for v in candidate_vars])  File \"/usr/local/lib/python3.7/site-packages/tensorflow_core/python/keras/backend.py\", line 908, in <listcomp>\n",
      "    [variables_module.is_variable_initialized(v) for v in candidate_vars])  File \"/usr/local/lib/python3.7/site-packages/tensorflow_core/python/util/tf_should_use.py\", line 198, in wrapped\n",
      "    return _add_should_use_warning(fn(*args, **kwargs))\n",
      "==================================\n"
     ]
    },
    {
     "name": "stderr",
     "output_type": "stream",
     "text": [
      "ERROR:tensorflow:==================================\n",
      "Object was never used (type <class 'tensorflow.python.framework.ops.Tensor'>):\n",
      "<tf.Tensor 'VarIsInitializedOp_91:0' shape=() dtype=bool>\n",
      "If you want to mark it as used call its \"mark_used()\" method.\n",
      "It was originally created here:\n",
      "  File \"/usr/local/lib/python3.7/site-packages/tensorflow_core/python/keras/backend.py\", line 3363, in batch_set_value\n",
      "    get_session().run(assign_ops, feed_dict=feed_dict)  File \"/usr/local/lib/python3.7/site-packages/tensorflow_core/python/keras/backend.py\", line 491, in get_session\n",
      "    _initialize_variables(session)  File \"/usr/local/lib/python3.7/site-packages/tensorflow_core/python/keras/backend.py\", line 908, in _initialize_variables\n",
      "    [variables_module.is_variable_initialized(v) for v in candidate_vars])  File \"/usr/local/lib/python3.7/site-packages/tensorflow_core/python/keras/backend.py\", line 908, in <listcomp>\n",
      "    [variables_module.is_variable_initialized(v) for v in candidate_vars])  File \"/usr/local/lib/python3.7/site-packages/tensorflow_core/python/util/tf_should_use.py\", line 198, in wrapped\n",
      "    return _add_should_use_warning(fn(*args, **kwargs))\n",
      "==================================\n"
     ]
    },
    {
     "name": "stdout",
     "output_type": "stream",
     "text": [
      "ERROR:tensorflow:==================================\n",
      "Object was never used (type <class 'tensorflow.python.framework.ops.Tensor'>):\n",
      "<tf.Tensor 'VarIsInitializedOp_90:0' shape=() dtype=bool>\n",
      "If you want to mark it as used call its \"mark_used()\" method.\n",
      "It was originally created here:\n",
      "  File \"/usr/local/lib/python3.7/site-packages/tensorflow_core/python/keras/backend.py\", line 3363, in batch_set_value\n",
      "    get_session().run(assign_ops, feed_dict=feed_dict)  File \"/usr/local/lib/python3.7/site-packages/tensorflow_core/python/keras/backend.py\", line 491, in get_session\n",
      "    _initialize_variables(session)  File \"/usr/local/lib/python3.7/site-packages/tensorflow_core/python/keras/backend.py\", line 908, in _initialize_variables\n",
      "    [variables_module.is_variable_initialized(v) for v in candidate_vars])  File \"/usr/local/lib/python3.7/site-packages/tensorflow_core/python/keras/backend.py\", line 908, in <listcomp>\n",
      "    [variables_module.is_variable_initialized(v) for v in candidate_vars])  File \"/usr/local/lib/python3.7/site-packages/tensorflow_core/python/util/tf_should_use.py\", line 198, in wrapped\n",
      "    return _add_should_use_warning(fn(*args, **kwargs))\n",
      "==================================\n"
     ]
    },
    {
     "name": "stderr",
     "output_type": "stream",
     "text": [
      "ERROR:tensorflow:==================================\n",
      "Object was never used (type <class 'tensorflow.python.framework.ops.Tensor'>):\n",
      "<tf.Tensor 'VarIsInitializedOp_90:0' shape=() dtype=bool>\n",
      "If you want to mark it as used call its \"mark_used()\" method.\n",
      "It was originally created here:\n",
      "  File \"/usr/local/lib/python3.7/site-packages/tensorflow_core/python/keras/backend.py\", line 3363, in batch_set_value\n",
      "    get_session().run(assign_ops, feed_dict=feed_dict)  File \"/usr/local/lib/python3.7/site-packages/tensorflow_core/python/keras/backend.py\", line 491, in get_session\n",
      "    _initialize_variables(session)  File \"/usr/local/lib/python3.7/site-packages/tensorflow_core/python/keras/backend.py\", line 908, in _initialize_variables\n",
      "    [variables_module.is_variable_initialized(v) for v in candidate_vars])  File \"/usr/local/lib/python3.7/site-packages/tensorflow_core/python/keras/backend.py\", line 908, in <listcomp>\n",
      "    [variables_module.is_variable_initialized(v) for v in candidate_vars])  File \"/usr/local/lib/python3.7/site-packages/tensorflow_core/python/util/tf_should_use.py\", line 198, in wrapped\n",
      "    return _add_should_use_warning(fn(*args, **kwargs))\n",
      "==================================\n"
     ]
    },
    {
     "name": "stdout",
     "output_type": "stream",
     "text": [
      "ERROR:tensorflow:==================================\n",
      "Object was never used (type <class 'tensorflow.python.framework.ops.Tensor'>):\n",
      "<tf.Tensor 'VarIsInitializedOp_89:0' shape=() dtype=bool>\n",
      "If you want to mark it as used call its \"mark_used()\" method.\n",
      "It was originally created here:\n",
      "  File \"/usr/local/lib/python3.7/site-packages/tensorflow_core/python/keras/backend.py\", line 3363, in batch_set_value\n",
      "    get_session().run(assign_ops, feed_dict=feed_dict)  File \"/usr/local/lib/python3.7/site-packages/tensorflow_core/python/keras/backend.py\", line 491, in get_session\n",
      "    _initialize_variables(session)  File \"/usr/local/lib/python3.7/site-packages/tensorflow_core/python/keras/backend.py\", line 908, in _initialize_variables\n",
      "    [variables_module.is_variable_initialized(v) for v in candidate_vars])  File \"/usr/local/lib/python3.7/site-packages/tensorflow_core/python/keras/backend.py\", line 908, in <listcomp>\n",
      "    [variables_module.is_variable_initialized(v) for v in candidate_vars])  File \"/usr/local/lib/python3.7/site-packages/tensorflow_core/python/util/tf_should_use.py\", line 198, in wrapped\n",
      "    return _add_should_use_warning(fn(*args, **kwargs))\n",
      "==================================\n"
     ]
    },
    {
     "name": "stderr",
     "output_type": "stream",
     "text": [
      "ERROR:tensorflow:==================================\n",
      "Object was never used (type <class 'tensorflow.python.framework.ops.Tensor'>):\n",
      "<tf.Tensor 'VarIsInitializedOp_89:0' shape=() dtype=bool>\n",
      "If you want to mark it as used call its \"mark_used()\" method.\n",
      "It was originally created here:\n",
      "  File \"/usr/local/lib/python3.7/site-packages/tensorflow_core/python/keras/backend.py\", line 3363, in batch_set_value\n",
      "    get_session().run(assign_ops, feed_dict=feed_dict)  File \"/usr/local/lib/python3.7/site-packages/tensorflow_core/python/keras/backend.py\", line 491, in get_session\n",
      "    _initialize_variables(session)  File \"/usr/local/lib/python3.7/site-packages/tensorflow_core/python/keras/backend.py\", line 908, in _initialize_variables\n",
      "    [variables_module.is_variable_initialized(v) for v in candidate_vars])  File \"/usr/local/lib/python3.7/site-packages/tensorflow_core/python/keras/backend.py\", line 908, in <listcomp>\n",
      "    [variables_module.is_variable_initialized(v) for v in candidate_vars])  File \"/usr/local/lib/python3.7/site-packages/tensorflow_core/python/util/tf_should_use.py\", line 198, in wrapped\n",
      "    return _add_should_use_warning(fn(*args, **kwargs))\n",
      "==================================\n"
     ]
    },
    {
     "name": "stdout",
     "output_type": "stream",
     "text": [
      "ERROR:tensorflow:==================================\n",
      "Object was never used (type <class 'tensorflow.python.framework.ops.Tensor'>):\n",
      "<tf.Tensor 'VarIsInitializedOp_88:0' shape=() dtype=bool>\n",
      "If you want to mark it as used call its \"mark_used()\" method.\n",
      "It was originally created here:\n",
      "  File \"/usr/local/lib/python3.7/site-packages/tensorflow_core/python/keras/backend.py\", line 3363, in batch_set_value\n",
      "    get_session().run(assign_ops, feed_dict=feed_dict)  File \"/usr/local/lib/python3.7/site-packages/tensorflow_core/python/keras/backend.py\", line 491, in get_session\n",
      "    _initialize_variables(session)  File \"/usr/local/lib/python3.7/site-packages/tensorflow_core/python/keras/backend.py\", line 908, in _initialize_variables\n",
      "    [variables_module.is_variable_initialized(v) for v in candidate_vars])  File \"/usr/local/lib/python3.7/site-packages/tensorflow_core/python/keras/backend.py\", line 908, in <listcomp>\n",
      "    [variables_module.is_variable_initialized(v) for v in candidate_vars])  File \"/usr/local/lib/python3.7/site-packages/tensorflow_core/python/util/tf_should_use.py\", line 198, in wrapped\n",
      "    return _add_should_use_warning(fn(*args, **kwargs))\n",
      "==================================\n"
     ]
    },
    {
     "name": "stderr",
     "output_type": "stream",
     "text": [
      "ERROR:tensorflow:==================================\n",
      "Object was never used (type <class 'tensorflow.python.framework.ops.Tensor'>):\n",
      "<tf.Tensor 'VarIsInitializedOp_88:0' shape=() dtype=bool>\n",
      "If you want to mark it as used call its \"mark_used()\" method.\n",
      "It was originally created here:\n",
      "  File \"/usr/local/lib/python3.7/site-packages/tensorflow_core/python/keras/backend.py\", line 3363, in batch_set_value\n",
      "    get_session().run(assign_ops, feed_dict=feed_dict)  File \"/usr/local/lib/python3.7/site-packages/tensorflow_core/python/keras/backend.py\", line 491, in get_session\n",
      "    _initialize_variables(session)  File \"/usr/local/lib/python3.7/site-packages/tensorflow_core/python/keras/backend.py\", line 908, in _initialize_variables\n",
      "    [variables_module.is_variable_initialized(v) for v in candidate_vars])  File \"/usr/local/lib/python3.7/site-packages/tensorflow_core/python/keras/backend.py\", line 908, in <listcomp>\n",
      "    [variables_module.is_variable_initialized(v) for v in candidate_vars])  File \"/usr/local/lib/python3.7/site-packages/tensorflow_core/python/util/tf_should_use.py\", line 198, in wrapped\n",
      "    return _add_should_use_warning(fn(*args, **kwargs))\n",
      "==================================\n"
     ]
    },
    {
     "name": "stdout",
     "output_type": "stream",
     "text": [
      "ERROR:tensorflow:==================================\n",
      "Object was never used (type <class 'tensorflow.python.framework.ops.Tensor'>):\n",
      "<tf.Tensor 'VarIsInitializedOp_87:0' shape=() dtype=bool>\n",
      "If you want to mark it as used call its \"mark_used()\" method.\n",
      "It was originally created here:\n",
      "  File \"/usr/local/lib/python3.7/site-packages/tensorflow_core/python/keras/backend.py\", line 3363, in batch_set_value\n",
      "    get_session().run(assign_ops, feed_dict=feed_dict)  File \"/usr/local/lib/python3.7/site-packages/tensorflow_core/python/keras/backend.py\", line 491, in get_session\n",
      "    _initialize_variables(session)  File \"/usr/local/lib/python3.7/site-packages/tensorflow_core/python/keras/backend.py\", line 908, in _initialize_variables\n",
      "    [variables_module.is_variable_initialized(v) for v in candidate_vars])  File \"/usr/local/lib/python3.7/site-packages/tensorflow_core/python/keras/backend.py\", line 908, in <listcomp>\n",
      "    [variables_module.is_variable_initialized(v) for v in candidate_vars])  File \"/usr/local/lib/python3.7/site-packages/tensorflow_core/python/util/tf_should_use.py\", line 198, in wrapped\n",
      "    return _add_should_use_warning(fn(*args, **kwargs))\n",
      "==================================\n"
     ]
    },
    {
     "name": "stderr",
     "output_type": "stream",
     "text": [
      "ERROR:tensorflow:==================================\n",
      "Object was never used (type <class 'tensorflow.python.framework.ops.Tensor'>):\n",
      "<tf.Tensor 'VarIsInitializedOp_87:0' shape=() dtype=bool>\n",
      "If you want to mark it as used call its \"mark_used()\" method.\n",
      "It was originally created here:\n",
      "  File \"/usr/local/lib/python3.7/site-packages/tensorflow_core/python/keras/backend.py\", line 3363, in batch_set_value\n",
      "    get_session().run(assign_ops, feed_dict=feed_dict)  File \"/usr/local/lib/python3.7/site-packages/tensorflow_core/python/keras/backend.py\", line 491, in get_session\n",
      "    _initialize_variables(session)  File \"/usr/local/lib/python3.7/site-packages/tensorflow_core/python/keras/backend.py\", line 908, in _initialize_variables\n",
      "    [variables_module.is_variable_initialized(v) for v in candidate_vars])  File \"/usr/local/lib/python3.7/site-packages/tensorflow_core/python/keras/backend.py\", line 908, in <listcomp>\n",
      "    [variables_module.is_variable_initialized(v) for v in candidate_vars])  File \"/usr/local/lib/python3.7/site-packages/tensorflow_core/python/util/tf_should_use.py\", line 198, in wrapped\n",
      "    return _add_should_use_warning(fn(*args, **kwargs))\n",
      "==================================\n"
     ]
    },
    {
     "name": "stdout",
     "output_type": "stream",
     "text": [
      "ERROR:tensorflow:==================================\n",
      "Object was never used (type <class 'tensorflow.python.framework.ops.Tensor'>):\n",
      "<tf.Tensor 'VarIsInitializedOp_86:0' shape=() dtype=bool>\n",
      "If you want to mark it as used call its \"mark_used()\" method.\n",
      "It was originally created here:\n",
      "  File \"/usr/local/lib/python3.7/site-packages/tensorflow_core/python/keras/backend.py\", line 3363, in batch_set_value\n",
      "    get_session().run(assign_ops, feed_dict=feed_dict)  File \"/usr/local/lib/python3.7/site-packages/tensorflow_core/python/keras/backend.py\", line 491, in get_session\n",
      "    _initialize_variables(session)  File \"/usr/local/lib/python3.7/site-packages/tensorflow_core/python/keras/backend.py\", line 908, in _initialize_variables\n",
      "    [variables_module.is_variable_initialized(v) for v in candidate_vars])  File \"/usr/local/lib/python3.7/site-packages/tensorflow_core/python/keras/backend.py\", line 908, in <listcomp>\n",
      "    [variables_module.is_variable_initialized(v) for v in candidate_vars])  File \"/usr/local/lib/python3.7/site-packages/tensorflow_core/python/util/tf_should_use.py\", line 198, in wrapped\n",
      "    return _add_should_use_warning(fn(*args, **kwargs))\n",
      "==================================\n"
     ]
    },
    {
     "name": "stderr",
     "output_type": "stream",
     "text": [
      "ERROR:tensorflow:==================================\n",
      "Object was never used (type <class 'tensorflow.python.framework.ops.Tensor'>):\n",
      "<tf.Tensor 'VarIsInitializedOp_86:0' shape=() dtype=bool>\n",
      "If you want to mark it as used call its \"mark_used()\" method.\n",
      "It was originally created here:\n",
      "  File \"/usr/local/lib/python3.7/site-packages/tensorflow_core/python/keras/backend.py\", line 3363, in batch_set_value\n",
      "    get_session().run(assign_ops, feed_dict=feed_dict)  File \"/usr/local/lib/python3.7/site-packages/tensorflow_core/python/keras/backend.py\", line 491, in get_session\n",
      "    _initialize_variables(session)  File \"/usr/local/lib/python3.7/site-packages/tensorflow_core/python/keras/backend.py\", line 908, in _initialize_variables\n",
      "    [variables_module.is_variable_initialized(v) for v in candidate_vars])  File \"/usr/local/lib/python3.7/site-packages/tensorflow_core/python/keras/backend.py\", line 908, in <listcomp>\n",
      "    [variables_module.is_variable_initialized(v) for v in candidate_vars])  File \"/usr/local/lib/python3.7/site-packages/tensorflow_core/python/util/tf_should_use.py\", line 198, in wrapped\n",
      "    return _add_should_use_warning(fn(*args, **kwargs))\n",
      "==================================\n"
     ]
    },
    {
     "name": "stdout",
     "output_type": "stream",
     "text": [
      "ERROR:tensorflow:==================================\n",
      "Object was never used (type <class 'tensorflow.python.framework.ops.Tensor'>):\n",
      "<tf.Tensor 'VarIsInitializedOp_85:0' shape=() dtype=bool>\n",
      "If you want to mark it as used call its \"mark_used()\" method.\n",
      "It was originally created here:\n",
      "  File \"/usr/local/lib/python3.7/site-packages/tensorflow_core/python/keras/backend.py\", line 3363, in batch_set_value\n",
      "    get_session().run(assign_ops, feed_dict=feed_dict)  File \"/usr/local/lib/python3.7/site-packages/tensorflow_core/python/keras/backend.py\", line 491, in get_session\n",
      "    _initialize_variables(session)  File \"/usr/local/lib/python3.7/site-packages/tensorflow_core/python/keras/backend.py\", line 908, in _initialize_variables\n",
      "    [variables_module.is_variable_initialized(v) for v in candidate_vars])  File \"/usr/local/lib/python3.7/site-packages/tensorflow_core/python/keras/backend.py\", line 908, in <listcomp>\n",
      "    [variables_module.is_variable_initialized(v) for v in candidate_vars])  File \"/usr/local/lib/python3.7/site-packages/tensorflow_core/python/util/tf_should_use.py\", line 198, in wrapped\n",
      "    return _add_should_use_warning(fn(*args, **kwargs))\n",
      "==================================\n"
     ]
    },
    {
     "name": "stderr",
     "output_type": "stream",
     "text": [
      "ERROR:tensorflow:==================================\n",
      "Object was never used (type <class 'tensorflow.python.framework.ops.Tensor'>):\n",
      "<tf.Tensor 'VarIsInitializedOp_85:0' shape=() dtype=bool>\n",
      "If you want to mark it as used call its \"mark_used()\" method.\n",
      "It was originally created here:\n",
      "  File \"/usr/local/lib/python3.7/site-packages/tensorflow_core/python/keras/backend.py\", line 3363, in batch_set_value\n",
      "    get_session().run(assign_ops, feed_dict=feed_dict)  File \"/usr/local/lib/python3.7/site-packages/tensorflow_core/python/keras/backend.py\", line 491, in get_session\n",
      "    _initialize_variables(session)  File \"/usr/local/lib/python3.7/site-packages/tensorflow_core/python/keras/backend.py\", line 908, in _initialize_variables\n",
      "    [variables_module.is_variable_initialized(v) for v in candidate_vars])  File \"/usr/local/lib/python3.7/site-packages/tensorflow_core/python/keras/backend.py\", line 908, in <listcomp>\n",
      "    [variables_module.is_variable_initialized(v) for v in candidate_vars])  File \"/usr/local/lib/python3.7/site-packages/tensorflow_core/python/util/tf_should_use.py\", line 198, in wrapped\n",
      "    return _add_should_use_warning(fn(*args, **kwargs))\n",
      "==================================\n"
     ]
    },
    {
     "name": "stdout",
     "output_type": "stream",
     "text": [
      "ERROR:tensorflow:==================================\n",
      "Object was never used (type <class 'tensorflow.python.framework.ops.Tensor'>):\n",
      "<tf.Tensor 'VarIsInitializedOp_84:0' shape=() dtype=bool>\n",
      "If you want to mark it as used call its \"mark_used()\" method.\n",
      "It was originally created here:\n",
      "  File \"/usr/local/lib/python3.7/site-packages/tensorflow_core/python/keras/backend.py\", line 3363, in batch_set_value\n",
      "    get_session().run(assign_ops, feed_dict=feed_dict)  File \"/usr/local/lib/python3.7/site-packages/tensorflow_core/python/keras/backend.py\", line 491, in get_session\n",
      "    _initialize_variables(session)  File \"/usr/local/lib/python3.7/site-packages/tensorflow_core/python/keras/backend.py\", line 908, in _initialize_variables\n",
      "    [variables_module.is_variable_initialized(v) for v in candidate_vars])  File \"/usr/local/lib/python3.7/site-packages/tensorflow_core/python/keras/backend.py\", line 908, in <listcomp>\n",
      "    [variables_module.is_variable_initialized(v) for v in candidate_vars])  File \"/usr/local/lib/python3.7/site-packages/tensorflow_core/python/util/tf_should_use.py\", line 198, in wrapped\n",
      "    return _add_should_use_warning(fn(*args, **kwargs))\n",
      "==================================\n"
     ]
    },
    {
     "name": "stderr",
     "output_type": "stream",
     "text": [
      "ERROR:tensorflow:==================================\n",
      "Object was never used (type <class 'tensorflow.python.framework.ops.Tensor'>):\n",
      "<tf.Tensor 'VarIsInitializedOp_84:0' shape=() dtype=bool>\n",
      "If you want to mark it as used call its \"mark_used()\" method.\n",
      "It was originally created here:\n",
      "  File \"/usr/local/lib/python3.7/site-packages/tensorflow_core/python/keras/backend.py\", line 3363, in batch_set_value\n",
      "    get_session().run(assign_ops, feed_dict=feed_dict)  File \"/usr/local/lib/python3.7/site-packages/tensorflow_core/python/keras/backend.py\", line 491, in get_session\n",
      "    _initialize_variables(session)  File \"/usr/local/lib/python3.7/site-packages/tensorflow_core/python/keras/backend.py\", line 908, in _initialize_variables\n",
      "    [variables_module.is_variable_initialized(v) for v in candidate_vars])  File \"/usr/local/lib/python3.7/site-packages/tensorflow_core/python/keras/backend.py\", line 908, in <listcomp>\n",
      "    [variables_module.is_variable_initialized(v) for v in candidate_vars])  File \"/usr/local/lib/python3.7/site-packages/tensorflow_core/python/util/tf_should_use.py\", line 198, in wrapped\n",
      "    return _add_should_use_warning(fn(*args, **kwargs))\n",
      "==================================\n"
     ]
    },
    {
     "name": "stdout",
     "output_type": "stream",
     "text": [
      "ERROR:tensorflow:==================================\n",
      "Object was never used (type <class 'tensorflow.python.framework.ops.Tensor'>):\n",
      "<tf.Tensor 'VarIsInitializedOp_83:0' shape=() dtype=bool>\n",
      "If you want to mark it as used call its \"mark_used()\" method.\n",
      "It was originally created here:\n",
      "  File \"/usr/local/lib/python3.7/site-packages/tensorflow_core/python/keras/backend.py\", line 3363, in batch_set_value\n",
      "    get_session().run(assign_ops, feed_dict=feed_dict)  File \"/usr/local/lib/python3.7/site-packages/tensorflow_core/python/keras/backend.py\", line 491, in get_session\n",
      "    _initialize_variables(session)  File \"/usr/local/lib/python3.7/site-packages/tensorflow_core/python/keras/backend.py\", line 908, in _initialize_variables\n",
      "    [variables_module.is_variable_initialized(v) for v in candidate_vars])  File \"/usr/local/lib/python3.7/site-packages/tensorflow_core/python/keras/backend.py\", line 908, in <listcomp>\n",
      "    [variables_module.is_variable_initialized(v) for v in candidate_vars])  File \"/usr/local/lib/python3.7/site-packages/tensorflow_core/python/util/tf_should_use.py\", line 198, in wrapped\n",
      "    return _add_should_use_warning(fn(*args, **kwargs))\n",
      "==================================\n"
     ]
    },
    {
     "name": "stderr",
     "output_type": "stream",
     "text": [
      "ERROR:tensorflow:==================================\n",
      "Object was never used (type <class 'tensorflow.python.framework.ops.Tensor'>):\n",
      "<tf.Tensor 'VarIsInitializedOp_83:0' shape=() dtype=bool>\n",
      "If you want to mark it as used call its \"mark_used()\" method.\n",
      "It was originally created here:\n",
      "  File \"/usr/local/lib/python3.7/site-packages/tensorflow_core/python/keras/backend.py\", line 3363, in batch_set_value\n",
      "    get_session().run(assign_ops, feed_dict=feed_dict)  File \"/usr/local/lib/python3.7/site-packages/tensorflow_core/python/keras/backend.py\", line 491, in get_session\n",
      "    _initialize_variables(session)  File \"/usr/local/lib/python3.7/site-packages/tensorflow_core/python/keras/backend.py\", line 908, in _initialize_variables\n",
      "    [variables_module.is_variable_initialized(v) for v in candidate_vars])  File \"/usr/local/lib/python3.7/site-packages/tensorflow_core/python/keras/backend.py\", line 908, in <listcomp>\n",
      "    [variables_module.is_variable_initialized(v) for v in candidate_vars])  File \"/usr/local/lib/python3.7/site-packages/tensorflow_core/python/util/tf_should_use.py\", line 198, in wrapped\n",
      "    return _add_should_use_warning(fn(*args, **kwargs))\n",
      "==================================\n"
     ]
    },
    {
     "name": "stdout",
     "output_type": "stream",
     "text": [
      "ERROR:tensorflow:==================================\n",
      "Object was never used (type <class 'tensorflow.python.framework.ops.Tensor'>):\n",
      "<tf.Tensor 'VarIsInitializedOp_82:0' shape=() dtype=bool>\n",
      "If you want to mark it as used call its \"mark_used()\" method.\n",
      "It was originally created here:\n",
      "  File \"/usr/local/lib/python3.7/site-packages/tensorflow_core/python/keras/backend.py\", line 3363, in batch_set_value\n",
      "    get_session().run(assign_ops, feed_dict=feed_dict)  File \"/usr/local/lib/python3.7/site-packages/tensorflow_core/python/keras/backend.py\", line 491, in get_session\n",
      "    _initialize_variables(session)  File \"/usr/local/lib/python3.7/site-packages/tensorflow_core/python/keras/backend.py\", line 908, in _initialize_variables\n",
      "    [variables_module.is_variable_initialized(v) for v in candidate_vars])  File \"/usr/local/lib/python3.7/site-packages/tensorflow_core/python/keras/backend.py\", line 908, in <listcomp>\n",
      "    [variables_module.is_variable_initialized(v) for v in candidate_vars])  File \"/usr/local/lib/python3.7/site-packages/tensorflow_core/python/util/tf_should_use.py\", line 198, in wrapped\n",
      "    return _add_should_use_warning(fn(*args, **kwargs))\n",
      "==================================\n"
     ]
    },
    {
     "name": "stderr",
     "output_type": "stream",
     "text": [
      "ERROR:tensorflow:==================================\n",
      "Object was never used (type <class 'tensorflow.python.framework.ops.Tensor'>):\n",
      "<tf.Tensor 'VarIsInitializedOp_82:0' shape=() dtype=bool>\n",
      "If you want to mark it as used call its \"mark_used()\" method.\n",
      "It was originally created here:\n",
      "  File \"/usr/local/lib/python3.7/site-packages/tensorflow_core/python/keras/backend.py\", line 3363, in batch_set_value\n",
      "    get_session().run(assign_ops, feed_dict=feed_dict)  File \"/usr/local/lib/python3.7/site-packages/tensorflow_core/python/keras/backend.py\", line 491, in get_session\n",
      "    _initialize_variables(session)  File \"/usr/local/lib/python3.7/site-packages/tensorflow_core/python/keras/backend.py\", line 908, in _initialize_variables\n",
      "    [variables_module.is_variable_initialized(v) for v in candidate_vars])  File \"/usr/local/lib/python3.7/site-packages/tensorflow_core/python/keras/backend.py\", line 908, in <listcomp>\n",
      "    [variables_module.is_variable_initialized(v) for v in candidate_vars])  File \"/usr/local/lib/python3.7/site-packages/tensorflow_core/python/util/tf_should_use.py\", line 198, in wrapped\n",
      "    return _add_should_use_warning(fn(*args, **kwargs))\n",
      "==================================\n"
     ]
    },
    {
     "name": "stdout",
     "output_type": "stream",
     "text": [
      "ERROR:tensorflow:==================================\n",
      "Object was never used (type <class 'tensorflow.python.framework.ops.Tensor'>):\n",
      "<tf.Tensor 'VarIsInitializedOp_81:0' shape=() dtype=bool>\n",
      "If you want to mark it as used call its \"mark_used()\" method.\n",
      "It was originally created here:\n",
      "  File \"/usr/local/lib/python3.7/site-packages/tensorflow_core/python/keras/backend.py\", line 3363, in batch_set_value\n",
      "    get_session().run(assign_ops, feed_dict=feed_dict)  File \"/usr/local/lib/python3.7/site-packages/tensorflow_core/python/keras/backend.py\", line 491, in get_session\n",
      "    _initialize_variables(session)  File \"/usr/local/lib/python3.7/site-packages/tensorflow_core/python/keras/backend.py\", line 908, in _initialize_variables\n",
      "    [variables_module.is_variable_initialized(v) for v in candidate_vars])  File \"/usr/local/lib/python3.7/site-packages/tensorflow_core/python/keras/backend.py\", line 908, in <listcomp>\n",
      "    [variables_module.is_variable_initialized(v) for v in candidate_vars])  File \"/usr/local/lib/python3.7/site-packages/tensorflow_core/python/util/tf_should_use.py\", line 198, in wrapped\n",
      "    return _add_should_use_warning(fn(*args, **kwargs))\n",
      "==================================\n"
     ]
    },
    {
     "name": "stderr",
     "output_type": "stream",
     "text": [
      "ERROR:tensorflow:==================================\n",
      "Object was never used (type <class 'tensorflow.python.framework.ops.Tensor'>):\n",
      "<tf.Tensor 'VarIsInitializedOp_81:0' shape=() dtype=bool>\n",
      "If you want to mark it as used call its \"mark_used()\" method.\n",
      "It was originally created here:\n",
      "  File \"/usr/local/lib/python3.7/site-packages/tensorflow_core/python/keras/backend.py\", line 3363, in batch_set_value\n",
      "    get_session().run(assign_ops, feed_dict=feed_dict)  File \"/usr/local/lib/python3.7/site-packages/tensorflow_core/python/keras/backend.py\", line 491, in get_session\n",
      "    _initialize_variables(session)  File \"/usr/local/lib/python3.7/site-packages/tensorflow_core/python/keras/backend.py\", line 908, in _initialize_variables\n",
      "    [variables_module.is_variable_initialized(v) for v in candidate_vars])  File \"/usr/local/lib/python3.7/site-packages/tensorflow_core/python/keras/backend.py\", line 908, in <listcomp>\n",
      "    [variables_module.is_variable_initialized(v) for v in candidate_vars])  File \"/usr/local/lib/python3.7/site-packages/tensorflow_core/python/util/tf_should_use.py\", line 198, in wrapped\n",
      "    return _add_should_use_warning(fn(*args, **kwargs))\n",
      "==================================\n"
     ]
    },
    {
     "name": "stdout",
     "output_type": "stream",
     "text": [
      "ERROR:tensorflow:==================================\n",
      "Object was never used (type <class 'tensorflow.python.framework.ops.Tensor'>):\n",
      "<tf.Tensor 'VarIsInitializedOp_80:0' shape=() dtype=bool>\n",
      "If you want to mark it as used call its \"mark_used()\" method.\n",
      "It was originally created here:\n",
      "  File \"/usr/local/lib/python3.7/site-packages/tensorflow_core/python/keras/backend.py\", line 3363, in batch_set_value\n",
      "    get_session().run(assign_ops, feed_dict=feed_dict)  File \"/usr/local/lib/python3.7/site-packages/tensorflow_core/python/keras/backend.py\", line 491, in get_session\n",
      "    _initialize_variables(session)  File \"/usr/local/lib/python3.7/site-packages/tensorflow_core/python/keras/backend.py\", line 908, in _initialize_variables\n",
      "    [variables_module.is_variable_initialized(v) for v in candidate_vars])  File \"/usr/local/lib/python3.7/site-packages/tensorflow_core/python/keras/backend.py\", line 908, in <listcomp>\n",
      "    [variables_module.is_variable_initialized(v) for v in candidate_vars])  File \"/usr/local/lib/python3.7/site-packages/tensorflow_core/python/util/tf_should_use.py\", line 198, in wrapped\n",
      "    return _add_should_use_warning(fn(*args, **kwargs))\n",
      "==================================\n"
     ]
    },
    {
     "name": "stderr",
     "output_type": "stream",
     "text": [
      "ERROR:tensorflow:==================================\n",
      "Object was never used (type <class 'tensorflow.python.framework.ops.Tensor'>):\n",
      "<tf.Tensor 'VarIsInitializedOp_80:0' shape=() dtype=bool>\n",
      "If you want to mark it as used call its \"mark_used()\" method.\n",
      "It was originally created here:\n",
      "  File \"/usr/local/lib/python3.7/site-packages/tensorflow_core/python/keras/backend.py\", line 3363, in batch_set_value\n",
      "    get_session().run(assign_ops, feed_dict=feed_dict)  File \"/usr/local/lib/python3.7/site-packages/tensorflow_core/python/keras/backend.py\", line 491, in get_session\n",
      "    _initialize_variables(session)  File \"/usr/local/lib/python3.7/site-packages/tensorflow_core/python/keras/backend.py\", line 908, in _initialize_variables\n",
      "    [variables_module.is_variable_initialized(v) for v in candidate_vars])  File \"/usr/local/lib/python3.7/site-packages/tensorflow_core/python/keras/backend.py\", line 908, in <listcomp>\n",
      "    [variables_module.is_variable_initialized(v) for v in candidate_vars])  File \"/usr/local/lib/python3.7/site-packages/tensorflow_core/python/util/tf_should_use.py\", line 198, in wrapped\n",
      "    return _add_should_use_warning(fn(*args, **kwargs))\n",
      "==================================\n"
     ]
    },
    {
     "name": "stdout",
     "output_type": "stream",
     "text": [
      "ERROR:tensorflow:==================================\n",
      "Object was never used (type <class 'tensorflow.python.framework.ops.Tensor'>):\n",
      "<tf.Tensor 'VarIsInitializedOp_79:0' shape=() dtype=bool>\n",
      "If you want to mark it as used call its \"mark_used()\" method.\n",
      "It was originally created here:\n",
      "  File \"/usr/local/lib/python3.7/site-packages/tensorflow_core/python/keras/backend.py\", line 3363, in batch_set_value\n",
      "    get_session().run(assign_ops, feed_dict=feed_dict)  File \"/usr/local/lib/python3.7/site-packages/tensorflow_core/python/keras/backend.py\", line 491, in get_session\n",
      "    _initialize_variables(session)  File \"/usr/local/lib/python3.7/site-packages/tensorflow_core/python/keras/backend.py\", line 908, in _initialize_variables\n",
      "    [variables_module.is_variable_initialized(v) for v in candidate_vars])  File \"/usr/local/lib/python3.7/site-packages/tensorflow_core/python/keras/backend.py\", line 908, in <listcomp>\n",
      "    [variables_module.is_variable_initialized(v) for v in candidate_vars])  File \"/usr/local/lib/python3.7/site-packages/tensorflow_core/python/util/tf_should_use.py\", line 198, in wrapped\n",
      "    return _add_should_use_warning(fn(*args, **kwargs))\n",
      "==================================\n"
     ]
    },
    {
     "name": "stderr",
     "output_type": "stream",
     "text": [
      "ERROR:tensorflow:==================================\n",
      "Object was never used (type <class 'tensorflow.python.framework.ops.Tensor'>):\n",
      "<tf.Tensor 'VarIsInitializedOp_79:0' shape=() dtype=bool>\n",
      "If you want to mark it as used call its \"mark_used()\" method.\n",
      "It was originally created here:\n",
      "  File \"/usr/local/lib/python3.7/site-packages/tensorflow_core/python/keras/backend.py\", line 3363, in batch_set_value\n",
      "    get_session().run(assign_ops, feed_dict=feed_dict)  File \"/usr/local/lib/python3.7/site-packages/tensorflow_core/python/keras/backend.py\", line 491, in get_session\n",
      "    _initialize_variables(session)  File \"/usr/local/lib/python3.7/site-packages/tensorflow_core/python/keras/backend.py\", line 908, in _initialize_variables\n",
      "    [variables_module.is_variable_initialized(v) for v in candidate_vars])  File \"/usr/local/lib/python3.7/site-packages/tensorflow_core/python/keras/backend.py\", line 908, in <listcomp>\n",
      "    [variables_module.is_variable_initialized(v) for v in candidate_vars])  File \"/usr/local/lib/python3.7/site-packages/tensorflow_core/python/util/tf_should_use.py\", line 198, in wrapped\n",
      "    return _add_should_use_warning(fn(*args, **kwargs))\n",
      "==================================\n"
     ]
    },
    {
     "name": "stdout",
     "output_type": "stream",
     "text": [
      "ERROR:tensorflow:==================================\n",
      "Object was never used (type <class 'tensorflow.python.framework.ops.Tensor'>):\n",
      "<tf.Tensor 'VarIsInitializedOp_78:0' shape=() dtype=bool>\n",
      "If you want to mark it as used call its \"mark_used()\" method.\n",
      "It was originally created here:\n",
      "  File \"/usr/local/lib/python3.7/site-packages/tensorflow_core/python/keras/backend.py\", line 3363, in batch_set_value\n",
      "    get_session().run(assign_ops, feed_dict=feed_dict)  File \"/usr/local/lib/python3.7/site-packages/tensorflow_core/python/keras/backend.py\", line 491, in get_session\n",
      "    _initialize_variables(session)  File \"/usr/local/lib/python3.7/site-packages/tensorflow_core/python/keras/backend.py\", line 908, in _initialize_variables\n",
      "    [variables_module.is_variable_initialized(v) for v in candidate_vars])  File \"/usr/local/lib/python3.7/site-packages/tensorflow_core/python/keras/backend.py\", line 908, in <listcomp>\n",
      "    [variables_module.is_variable_initialized(v) for v in candidate_vars])  File \"/usr/local/lib/python3.7/site-packages/tensorflow_core/python/util/tf_should_use.py\", line 198, in wrapped\n",
      "    return _add_should_use_warning(fn(*args, **kwargs))\n",
      "==================================\n"
     ]
    },
    {
     "name": "stderr",
     "output_type": "stream",
     "text": [
      "ERROR:tensorflow:==================================\n",
      "Object was never used (type <class 'tensorflow.python.framework.ops.Tensor'>):\n",
      "<tf.Tensor 'VarIsInitializedOp_78:0' shape=() dtype=bool>\n",
      "If you want to mark it as used call its \"mark_used()\" method.\n",
      "It was originally created here:\n",
      "  File \"/usr/local/lib/python3.7/site-packages/tensorflow_core/python/keras/backend.py\", line 3363, in batch_set_value\n",
      "    get_session().run(assign_ops, feed_dict=feed_dict)  File \"/usr/local/lib/python3.7/site-packages/tensorflow_core/python/keras/backend.py\", line 491, in get_session\n",
      "    _initialize_variables(session)  File \"/usr/local/lib/python3.7/site-packages/tensorflow_core/python/keras/backend.py\", line 908, in _initialize_variables\n",
      "    [variables_module.is_variable_initialized(v) for v in candidate_vars])  File \"/usr/local/lib/python3.7/site-packages/tensorflow_core/python/keras/backend.py\", line 908, in <listcomp>\n",
      "    [variables_module.is_variable_initialized(v) for v in candidate_vars])  File \"/usr/local/lib/python3.7/site-packages/tensorflow_core/python/util/tf_should_use.py\", line 198, in wrapped\n",
      "    return _add_should_use_warning(fn(*args, **kwargs))\n",
      "==================================\n"
     ]
    },
    {
     "name": "stdout",
     "output_type": "stream",
     "text": [
      "ERROR:tensorflow:==================================\n",
      "Object was never used (type <class 'tensorflow.python.framework.ops.Tensor'>):\n",
      "<tf.Tensor 'VarIsInitializedOp_77:0' shape=() dtype=bool>\n",
      "If you want to mark it as used call its \"mark_used()\" method.\n",
      "It was originally created here:\n",
      "  File \"/usr/local/lib/python3.7/site-packages/tensorflow_core/python/keras/backend.py\", line 3363, in batch_set_value\n",
      "    get_session().run(assign_ops, feed_dict=feed_dict)  File \"/usr/local/lib/python3.7/site-packages/tensorflow_core/python/keras/backend.py\", line 491, in get_session\n",
      "    _initialize_variables(session)  File \"/usr/local/lib/python3.7/site-packages/tensorflow_core/python/keras/backend.py\", line 908, in _initialize_variables\n",
      "    [variables_module.is_variable_initialized(v) for v in candidate_vars])  File \"/usr/local/lib/python3.7/site-packages/tensorflow_core/python/keras/backend.py\", line 908, in <listcomp>\n",
      "    [variables_module.is_variable_initialized(v) for v in candidate_vars])  File \"/usr/local/lib/python3.7/site-packages/tensorflow_core/python/util/tf_should_use.py\", line 198, in wrapped\n",
      "    return _add_should_use_warning(fn(*args, **kwargs))\n",
      "==================================\n"
     ]
    },
    {
     "name": "stderr",
     "output_type": "stream",
     "text": [
      "ERROR:tensorflow:==================================\n",
      "Object was never used (type <class 'tensorflow.python.framework.ops.Tensor'>):\n",
      "<tf.Tensor 'VarIsInitializedOp_77:0' shape=() dtype=bool>\n",
      "If you want to mark it as used call its \"mark_used()\" method.\n",
      "It was originally created here:\n",
      "  File \"/usr/local/lib/python3.7/site-packages/tensorflow_core/python/keras/backend.py\", line 3363, in batch_set_value\n",
      "    get_session().run(assign_ops, feed_dict=feed_dict)  File \"/usr/local/lib/python3.7/site-packages/tensorflow_core/python/keras/backend.py\", line 491, in get_session\n",
      "    _initialize_variables(session)  File \"/usr/local/lib/python3.7/site-packages/tensorflow_core/python/keras/backend.py\", line 908, in _initialize_variables\n",
      "    [variables_module.is_variable_initialized(v) for v in candidate_vars])  File \"/usr/local/lib/python3.7/site-packages/tensorflow_core/python/keras/backend.py\", line 908, in <listcomp>\n",
      "    [variables_module.is_variable_initialized(v) for v in candidate_vars])  File \"/usr/local/lib/python3.7/site-packages/tensorflow_core/python/util/tf_should_use.py\", line 198, in wrapped\n",
      "    return _add_should_use_warning(fn(*args, **kwargs))\n",
      "==================================\n"
     ]
    },
    {
     "name": "stdout",
     "output_type": "stream",
     "text": [
      "ERROR:tensorflow:==================================\n",
      "Object was never used (type <class 'tensorflow.python.framework.ops.Tensor'>):\n",
      "<tf.Tensor 'VarIsInitializedOp_76:0' shape=() dtype=bool>\n",
      "If you want to mark it as used call its \"mark_used()\" method.\n",
      "It was originally created here:\n",
      "  File \"/usr/local/lib/python3.7/site-packages/tensorflow_core/python/keras/backend.py\", line 3363, in batch_set_value\n",
      "    get_session().run(assign_ops, feed_dict=feed_dict)  File \"/usr/local/lib/python3.7/site-packages/tensorflow_core/python/keras/backend.py\", line 491, in get_session\n",
      "    _initialize_variables(session)  File \"/usr/local/lib/python3.7/site-packages/tensorflow_core/python/keras/backend.py\", line 908, in _initialize_variables\n",
      "    [variables_module.is_variable_initialized(v) for v in candidate_vars])  File \"/usr/local/lib/python3.7/site-packages/tensorflow_core/python/keras/backend.py\", line 908, in <listcomp>\n",
      "    [variables_module.is_variable_initialized(v) for v in candidate_vars])  File \"/usr/local/lib/python3.7/site-packages/tensorflow_core/python/util/tf_should_use.py\", line 198, in wrapped\n",
      "    return _add_should_use_warning(fn(*args, **kwargs))\n",
      "==================================\n"
     ]
    },
    {
     "name": "stderr",
     "output_type": "stream",
     "text": [
      "ERROR:tensorflow:==================================\n",
      "Object was never used (type <class 'tensorflow.python.framework.ops.Tensor'>):\n",
      "<tf.Tensor 'VarIsInitializedOp_76:0' shape=() dtype=bool>\n",
      "If you want to mark it as used call its \"mark_used()\" method.\n",
      "It was originally created here:\n",
      "  File \"/usr/local/lib/python3.7/site-packages/tensorflow_core/python/keras/backend.py\", line 3363, in batch_set_value\n",
      "    get_session().run(assign_ops, feed_dict=feed_dict)  File \"/usr/local/lib/python3.7/site-packages/tensorflow_core/python/keras/backend.py\", line 491, in get_session\n",
      "    _initialize_variables(session)  File \"/usr/local/lib/python3.7/site-packages/tensorflow_core/python/keras/backend.py\", line 908, in _initialize_variables\n",
      "    [variables_module.is_variable_initialized(v) for v in candidate_vars])  File \"/usr/local/lib/python3.7/site-packages/tensorflow_core/python/keras/backend.py\", line 908, in <listcomp>\n",
      "    [variables_module.is_variable_initialized(v) for v in candidate_vars])  File \"/usr/local/lib/python3.7/site-packages/tensorflow_core/python/util/tf_should_use.py\", line 198, in wrapped\n",
      "    return _add_should_use_warning(fn(*args, **kwargs))\n",
      "==================================\n"
     ]
    },
    {
     "name": "stdout",
     "output_type": "stream",
     "text": [
      "ERROR:tensorflow:==================================\n",
      "Object was never used (type <class 'tensorflow.python.framework.ops.Tensor'>):\n",
      "<tf.Tensor 'VarIsInitializedOp_75:0' shape=() dtype=bool>\n",
      "If you want to mark it as used call its \"mark_used()\" method.\n",
      "It was originally created here:\n",
      "  File \"/usr/local/lib/python3.7/site-packages/tensorflow_core/python/keras/backend.py\", line 3363, in batch_set_value\n",
      "    get_session().run(assign_ops, feed_dict=feed_dict)  File \"/usr/local/lib/python3.7/site-packages/tensorflow_core/python/keras/backend.py\", line 491, in get_session\n",
      "    _initialize_variables(session)  File \"/usr/local/lib/python3.7/site-packages/tensorflow_core/python/keras/backend.py\", line 908, in _initialize_variables\n",
      "    [variables_module.is_variable_initialized(v) for v in candidate_vars])  File \"/usr/local/lib/python3.7/site-packages/tensorflow_core/python/keras/backend.py\", line 908, in <listcomp>\n",
      "    [variables_module.is_variable_initialized(v) for v in candidate_vars])  File \"/usr/local/lib/python3.7/site-packages/tensorflow_core/python/util/tf_should_use.py\", line 198, in wrapped\n",
      "    return _add_should_use_warning(fn(*args, **kwargs))\n",
      "==================================\n"
     ]
    },
    {
     "name": "stderr",
     "output_type": "stream",
     "text": [
      "ERROR:tensorflow:==================================\n",
      "Object was never used (type <class 'tensorflow.python.framework.ops.Tensor'>):\n",
      "<tf.Tensor 'VarIsInitializedOp_75:0' shape=() dtype=bool>\n",
      "If you want to mark it as used call its \"mark_used()\" method.\n",
      "It was originally created here:\n",
      "  File \"/usr/local/lib/python3.7/site-packages/tensorflow_core/python/keras/backend.py\", line 3363, in batch_set_value\n",
      "    get_session().run(assign_ops, feed_dict=feed_dict)  File \"/usr/local/lib/python3.7/site-packages/tensorflow_core/python/keras/backend.py\", line 491, in get_session\n",
      "    _initialize_variables(session)  File \"/usr/local/lib/python3.7/site-packages/tensorflow_core/python/keras/backend.py\", line 908, in _initialize_variables\n",
      "    [variables_module.is_variable_initialized(v) for v in candidate_vars])  File \"/usr/local/lib/python3.7/site-packages/tensorflow_core/python/keras/backend.py\", line 908, in <listcomp>\n",
      "    [variables_module.is_variable_initialized(v) for v in candidate_vars])  File \"/usr/local/lib/python3.7/site-packages/tensorflow_core/python/util/tf_should_use.py\", line 198, in wrapped\n",
      "    return _add_should_use_warning(fn(*args, **kwargs))\n",
      "==================================\n"
     ]
    },
    {
     "name": "stdout",
     "output_type": "stream",
     "text": [
      "ERROR:tensorflow:==================================\n",
      "Object was never used (type <class 'tensorflow.python.framework.ops.Tensor'>):\n",
      "<tf.Tensor 'VarIsInitializedOp_74:0' shape=() dtype=bool>\n",
      "If you want to mark it as used call its \"mark_used()\" method.\n",
      "It was originally created here:\n",
      "  File \"/usr/local/lib/python3.7/site-packages/tensorflow_core/python/keras/backend.py\", line 3363, in batch_set_value\n",
      "    get_session().run(assign_ops, feed_dict=feed_dict)  File \"/usr/local/lib/python3.7/site-packages/tensorflow_core/python/keras/backend.py\", line 491, in get_session\n",
      "    _initialize_variables(session)  File \"/usr/local/lib/python3.7/site-packages/tensorflow_core/python/keras/backend.py\", line 908, in _initialize_variables\n",
      "    [variables_module.is_variable_initialized(v) for v in candidate_vars])  File \"/usr/local/lib/python3.7/site-packages/tensorflow_core/python/keras/backend.py\", line 908, in <listcomp>\n",
      "    [variables_module.is_variable_initialized(v) for v in candidate_vars])  File \"/usr/local/lib/python3.7/site-packages/tensorflow_core/python/util/tf_should_use.py\", line 198, in wrapped\n",
      "    return _add_should_use_warning(fn(*args, **kwargs))\n",
      "==================================\n"
     ]
    },
    {
     "name": "stderr",
     "output_type": "stream",
     "text": [
      "ERROR:tensorflow:==================================\n",
      "Object was never used (type <class 'tensorflow.python.framework.ops.Tensor'>):\n",
      "<tf.Tensor 'VarIsInitializedOp_74:0' shape=() dtype=bool>\n",
      "If you want to mark it as used call its \"mark_used()\" method.\n",
      "It was originally created here:\n",
      "  File \"/usr/local/lib/python3.7/site-packages/tensorflow_core/python/keras/backend.py\", line 3363, in batch_set_value\n",
      "    get_session().run(assign_ops, feed_dict=feed_dict)  File \"/usr/local/lib/python3.7/site-packages/tensorflow_core/python/keras/backend.py\", line 491, in get_session\n",
      "    _initialize_variables(session)  File \"/usr/local/lib/python3.7/site-packages/tensorflow_core/python/keras/backend.py\", line 908, in _initialize_variables\n",
      "    [variables_module.is_variable_initialized(v) for v in candidate_vars])  File \"/usr/local/lib/python3.7/site-packages/tensorflow_core/python/keras/backend.py\", line 908, in <listcomp>\n",
      "    [variables_module.is_variable_initialized(v) for v in candidate_vars])  File \"/usr/local/lib/python3.7/site-packages/tensorflow_core/python/util/tf_should_use.py\", line 198, in wrapped\n",
      "    return _add_should_use_warning(fn(*args, **kwargs))\n",
      "==================================\n"
     ]
    },
    {
     "name": "stdout",
     "output_type": "stream",
     "text": [
      "ERROR:tensorflow:==================================\n",
      "Object was never used (type <class 'tensorflow.python.framework.ops.Tensor'>):\n",
      "<tf.Tensor 'VarIsInitializedOp_73:0' shape=() dtype=bool>\n",
      "If you want to mark it as used call its \"mark_used()\" method.\n",
      "It was originally created here:\n",
      "  File \"/usr/local/lib/python3.7/site-packages/tensorflow_core/python/keras/backend.py\", line 3363, in batch_set_value\n",
      "    get_session().run(assign_ops, feed_dict=feed_dict)  File \"/usr/local/lib/python3.7/site-packages/tensorflow_core/python/keras/backend.py\", line 491, in get_session\n",
      "    _initialize_variables(session)  File \"/usr/local/lib/python3.7/site-packages/tensorflow_core/python/keras/backend.py\", line 908, in _initialize_variables\n",
      "    [variables_module.is_variable_initialized(v) for v in candidate_vars])  File \"/usr/local/lib/python3.7/site-packages/tensorflow_core/python/keras/backend.py\", line 908, in <listcomp>\n",
      "    [variables_module.is_variable_initialized(v) for v in candidate_vars])  File \"/usr/local/lib/python3.7/site-packages/tensorflow_core/python/util/tf_should_use.py\", line 198, in wrapped\n",
      "    return _add_should_use_warning(fn(*args, **kwargs))\n",
      "==================================\n"
     ]
    },
    {
     "name": "stderr",
     "output_type": "stream",
     "text": [
      "ERROR:tensorflow:==================================\n",
      "Object was never used (type <class 'tensorflow.python.framework.ops.Tensor'>):\n",
      "<tf.Tensor 'VarIsInitializedOp_73:0' shape=() dtype=bool>\n",
      "If you want to mark it as used call its \"mark_used()\" method.\n",
      "It was originally created here:\n",
      "  File \"/usr/local/lib/python3.7/site-packages/tensorflow_core/python/keras/backend.py\", line 3363, in batch_set_value\n",
      "    get_session().run(assign_ops, feed_dict=feed_dict)  File \"/usr/local/lib/python3.7/site-packages/tensorflow_core/python/keras/backend.py\", line 491, in get_session\n",
      "    _initialize_variables(session)  File \"/usr/local/lib/python3.7/site-packages/tensorflow_core/python/keras/backend.py\", line 908, in _initialize_variables\n",
      "    [variables_module.is_variable_initialized(v) for v in candidate_vars])  File \"/usr/local/lib/python3.7/site-packages/tensorflow_core/python/keras/backend.py\", line 908, in <listcomp>\n",
      "    [variables_module.is_variable_initialized(v) for v in candidate_vars])  File \"/usr/local/lib/python3.7/site-packages/tensorflow_core/python/util/tf_should_use.py\", line 198, in wrapped\n",
      "    return _add_should_use_warning(fn(*args, **kwargs))\n",
      "==================================\n"
     ]
    },
    {
     "name": "stdout",
     "output_type": "stream",
     "text": [
      "ERROR:tensorflow:==================================\n",
      "Object was never used (type <class 'tensorflow.python.framework.ops.Tensor'>):\n",
      "<tf.Tensor 'VarIsInitializedOp_72:0' shape=() dtype=bool>\n",
      "If you want to mark it as used call its \"mark_used()\" method.\n",
      "It was originally created here:\n",
      "  File \"/usr/local/lib/python3.7/site-packages/tensorflow_core/python/keras/backend.py\", line 3363, in batch_set_value\n",
      "    get_session().run(assign_ops, feed_dict=feed_dict)  File \"/usr/local/lib/python3.7/site-packages/tensorflow_core/python/keras/backend.py\", line 491, in get_session\n",
      "    _initialize_variables(session)  File \"/usr/local/lib/python3.7/site-packages/tensorflow_core/python/keras/backend.py\", line 908, in _initialize_variables\n",
      "    [variables_module.is_variable_initialized(v) for v in candidate_vars])  File \"/usr/local/lib/python3.7/site-packages/tensorflow_core/python/keras/backend.py\", line 908, in <listcomp>\n",
      "    [variables_module.is_variable_initialized(v) for v in candidate_vars])  File \"/usr/local/lib/python3.7/site-packages/tensorflow_core/python/util/tf_should_use.py\", line 198, in wrapped\n",
      "    return _add_should_use_warning(fn(*args, **kwargs))\n",
      "==================================\n"
     ]
    },
    {
     "name": "stderr",
     "output_type": "stream",
     "text": [
      "ERROR:tensorflow:==================================\n",
      "Object was never used (type <class 'tensorflow.python.framework.ops.Tensor'>):\n",
      "<tf.Tensor 'VarIsInitializedOp_72:0' shape=() dtype=bool>\n",
      "If you want to mark it as used call its \"mark_used()\" method.\n",
      "It was originally created here:\n",
      "  File \"/usr/local/lib/python3.7/site-packages/tensorflow_core/python/keras/backend.py\", line 3363, in batch_set_value\n",
      "    get_session().run(assign_ops, feed_dict=feed_dict)  File \"/usr/local/lib/python3.7/site-packages/tensorflow_core/python/keras/backend.py\", line 491, in get_session\n",
      "    _initialize_variables(session)  File \"/usr/local/lib/python3.7/site-packages/tensorflow_core/python/keras/backend.py\", line 908, in _initialize_variables\n",
      "    [variables_module.is_variable_initialized(v) for v in candidate_vars])  File \"/usr/local/lib/python3.7/site-packages/tensorflow_core/python/keras/backend.py\", line 908, in <listcomp>\n",
      "    [variables_module.is_variable_initialized(v) for v in candidate_vars])  File \"/usr/local/lib/python3.7/site-packages/tensorflow_core/python/util/tf_should_use.py\", line 198, in wrapped\n",
      "    return _add_should_use_warning(fn(*args, **kwargs))\n",
      "==================================\n"
     ]
    },
    {
     "name": "stdout",
     "output_type": "stream",
     "text": [
      "ERROR:tensorflow:==================================\n",
      "Object was never used (type <class 'tensorflow.python.framework.ops.Tensor'>):\n",
      "<tf.Tensor 'VarIsInitializedOp_71:0' shape=() dtype=bool>\n",
      "If you want to mark it as used call its \"mark_used()\" method.\n",
      "It was originally created here:\n",
      "  File \"/usr/local/lib/python3.7/site-packages/tensorflow_core/python/keras/backend.py\", line 3363, in batch_set_value\n",
      "    get_session().run(assign_ops, feed_dict=feed_dict)  File \"/usr/local/lib/python3.7/site-packages/tensorflow_core/python/keras/backend.py\", line 491, in get_session\n",
      "    _initialize_variables(session)  File \"/usr/local/lib/python3.7/site-packages/tensorflow_core/python/keras/backend.py\", line 908, in _initialize_variables\n",
      "    [variables_module.is_variable_initialized(v) for v in candidate_vars])  File \"/usr/local/lib/python3.7/site-packages/tensorflow_core/python/keras/backend.py\", line 908, in <listcomp>\n",
      "    [variables_module.is_variable_initialized(v) for v in candidate_vars])  File \"/usr/local/lib/python3.7/site-packages/tensorflow_core/python/util/tf_should_use.py\", line 198, in wrapped\n",
      "    return _add_should_use_warning(fn(*args, **kwargs))\n",
      "==================================\n"
     ]
    },
    {
     "name": "stderr",
     "output_type": "stream",
     "text": [
      "ERROR:tensorflow:==================================\n",
      "Object was never used (type <class 'tensorflow.python.framework.ops.Tensor'>):\n",
      "<tf.Tensor 'VarIsInitializedOp_71:0' shape=() dtype=bool>\n",
      "If you want to mark it as used call its \"mark_used()\" method.\n",
      "It was originally created here:\n",
      "  File \"/usr/local/lib/python3.7/site-packages/tensorflow_core/python/keras/backend.py\", line 3363, in batch_set_value\n",
      "    get_session().run(assign_ops, feed_dict=feed_dict)  File \"/usr/local/lib/python3.7/site-packages/tensorflow_core/python/keras/backend.py\", line 491, in get_session\n",
      "    _initialize_variables(session)  File \"/usr/local/lib/python3.7/site-packages/tensorflow_core/python/keras/backend.py\", line 908, in _initialize_variables\n",
      "    [variables_module.is_variable_initialized(v) for v in candidate_vars])  File \"/usr/local/lib/python3.7/site-packages/tensorflow_core/python/keras/backend.py\", line 908, in <listcomp>\n",
      "    [variables_module.is_variable_initialized(v) for v in candidate_vars])  File \"/usr/local/lib/python3.7/site-packages/tensorflow_core/python/util/tf_should_use.py\", line 198, in wrapped\n",
      "    return _add_should_use_warning(fn(*args, **kwargs))\n",
      "==================================\n"
     ]
    },
    {
     "name": "stdout",
     "output_type": "stream",
     "text": [
      "ERROR:tensorflow:==================================\n",
      "Object was never used (type <class 'tensorflow.python.framework.ops.Tensor'>):\n",
      "<tf.Tensor 'VarIsInitializedOp_70:0' shape=() dtype=bool>\n",
      "If you want to mark it as used call its \"mark_used()\" method.\n",
      "It was originally created here:\n",
      "  File \"/usr/local/lib/python3.7/site-packages/tensorflow_core/python/keras/backend.py\", line 3363, in batch_set_value\n",
      "    get_session().run(assign_ops, feed_dict=feed_dict)  File \"/usr/local/lib/python3.7/site-packages/tensorflow_core/python/keras/backend.py\", line 491, in get_session\n",
      "    _initialize_variables(session)  File \"/usr/local/lib/python3.7/site-packages/tensorflow_core/python/keras/backend.py\", line 908, in _initialize_variables\n",
      "    [variables_module.is_variable_initialized(v) for v in candidate_vars])  File \"/usr/local/lib/python3.7/site-packages/tensorflow_core/python/keras/backend.py\", line 908, in <listcomp>\n",
      "    [variables_module.is_variable_initialized(v) for v in candidate_vars])  File \"/usr/local/lib/python3.7/site-packages/tensorflow_core/python/util/tf_should_use.py\", line 198, in wrapped\n",
      "    return _add_should_use_warning(fn(*args, **kwargs))\n",
      "==================================\n"
     ]
    },
    {
     "name": "stderr",
     "output_type": "stream",
     "text": [
      "ERROR:tensorflow:==================================\n",
      "Object was never used (type <class 'tensorflow.python.framework.ops.Tensor'>):\n",
      "<tf.Tensor 'VarIsInitializedOp_70:0' shape=() dtype=bool>\n",
      "If you want to mark it as used call its \"mark_used()\" method.\n",
      "It was originally created here:\n",
      "  File \"/usr/local/lib/python3.7/site-packages/tensorflow_core/python/keras/backend.py\", line 3363, in batch_set_value\n",
      "    get_session().run(assign_ops, feed_dict=feed_dict)  File \"/usr/local/lib/python3.7/site-packages/tensorflow_core/python/keras/backend.py\", line 491, in get_session\n",
      "    _initialize_variables(session)  File \"/usr/local/lib/python3.7/site-packages/tensorflow_core/python/keras/backend.py\", line 908, in _initialize_variables\n",
      "    [variables_module.is_variable_initialized(v) for v in candidate_vars])  File \"/usr/local/lib/python3.7/site-packages/tensorflow_core/python/keras/backend.py\", line 908, in <listcomp>\n",
      "    [variables_module.is_variable_initialized(v) for v in candidate_vars])  File \"/usr/local/lib/python3.7/site-packages/tensorflow_core/python/util/tf_should_use.py\", line 198, in wrapped\n",
      "    return _add_should_use_warning(fn(*args, **kwargs))\n",
      "==================================\n"
     ]
    },
    {
     "name": "stdout",
     "output_type": "stream",
     "text": [
      "ERROR:tensorflow:==================================\n",
      "Object was never used (type <class 'tensorflow.python.framework.ops.Tensor'>):\n",
      "<tf.Tensor 'VarIsInitializedOp_69:0' shape=() dtype=bool>\n",
      "If you want to mark it as used call its \"mark_used()\" method.\n",
      "It was originally created here:\n",
      "  File \"/usr/local/lib/python3.7/site-packages/tensorflow_core/python/keras/backend.py\", line 3363, in batch_set_value\n",
      "    get_session().run(assign_ops, feed_dict=feed_dict)  File \"/usr/local/lib/python3.7/site-packages/tensorflow_core/python/keras/backend.py\", line 491, in get_session\n",
      "    _initialize_variables(session)  File \"/usr/local/lib/python3.7/site-packages/tensorflow_core/python/keras/backend.py\", line 908, in _initialize_variables\n",
      "    [variables_module.is_variable_initialized(v) for v in candidate_vars])  File \"/usr/local/lib/python3.7/site-packages/tensorflow_core/python/keras/backend.py\", line 908, in <listcomp>\n",
      "    [variables_module.is_variable_initialized(v) for v in candidate_vars])  File \"/usr/local/lib/python3.7/site-packages/tensorflow_core/python/util/tf_should_use.py\", line 198, in wrapped\n",
      "    return _add_should_use_warning(fn(*args, **kwargs))\n",
      "==================================\n"
     ]
    },
    {
     "name": "stderr",
     "output_type": "stream",
     "text": [
      "ERROR:tensorflow:==================================\n",
      "Object was never used (type <class 'tensorflow.python.framework.ops.Tensor'>):\n",
      "<tf.Tensor 'VarIsInitializedOp_69:0' shape=() dtype=bool>\n",
      "If you want to mark it as used call its \"mark_used()\" method.\n",
      "It was originally created here:\n",
      "  File \"/usr/local/lib/python3.7/site-packages/tensorflow_core/python/keras/backend.py\", line 3363, in batch_set_value\n",
      "    get_session().run(assign_ops, feed_dict=feed_dict)  File \"/usr/local/lib/python3.7/site-packages/tensorflow_core/python/keras/backend.py\", line 491, in get_session\n",
      "    _initialize_variables(session)  File \"/usr/local/lib/python3.7/site-packages/tensorflow_core/python/keras/backend.py\", line 908, in _initialize_variables\n",
      "    [variables_module.is_variable_initialized(v) for v in candidate_vars])  File \"/usr/local/lib/python3.7/site-packages/tensorflow_core/python/keras/backend.py\", line 908, in <listcomp>\n",
      "    [variables_module.is_variable_initialized(v) for v in candidate_vars])  File \"/usr/local/lib/python3.7/site-packages/tensorflow_core/python/util/tf_should_use.py\", line 198, in wrapped\n",
      "    return _add_should_use_warning(fn(*args, **kwargs))\n",
      "==================================\n"
     ]
    },
    {
     "name": "stdout",
     "output_type": "stream",
     "text": [
      "ERROR:tensorflow:==================================\n",
      "Object was never used (type <class 'tensorflow.python.framework.ops.Tensor'>):\n",
      "<tf.Tensor 'VarIsInitializedOp_68:0' shape=() dtype=bool>\n",
      "If you want to mark it as used call its \"mark_used()\" method.\n",
      "It was originally created here:\n",
      "  File \"/usr/local/lib/python3.7/site-packages/tensorflow_core/python/keras/backend.py\", line 3363, in batch_set_value\n",
      "    get_session().run(assign_ops, feed_dict=feed_dict)  File \"/usr/local/lib/python3.7/site-packages/tensorflow_core/python/keras/backend.py\", line 491, in get_session\n",
      "    _initialize_variables(session)  File \"/usr/local/lib/python3.7/site-packages/tensorflow_core/python/keras/backend.py\", line 908, in _initialize_variables\n",
      "    [variables_module.is_variable_initialized(v) for v in candidate_vars])  File \"/usr/local/lib/python3.7/site-packages/tensorflow_core/python/keras/backend.py\", line 908, in <listcomp>\n",
      "    [variables_module.is_variable_initialized(v) for v in candidate_vars])  File \"/usr/local/lib/python3.7/site-packages/tensorflow_core/python/util/tf_should_use.py\", line 198, in wrapped\n",
      "    return _add_should_use_warning(fn(*args, **kwargs))\n",
      "==================================\n"
     ]
    },
    {
     "name": "stderr",
     "output_type": "stream",
     "text": [
      "ERROR:tensorflow:==================================\n",
      "Object was never used (type <class 'tensorflow.python.framework.ops.Tensor'>):\n",
      "<tf.Tensor 'VarIsInitializedOp_68:0' shape=() dtype=bool>\n",
      "If you want to mark it as used call its \"mark_used()\" method.\n",
      "It was originally created here:\n",
      "  File \"/usr/local/lib/python3.7/site-packages/tensorflow_core/python/keras/backend.py\", line 3363, in batch_set_value\n",
      "    get_session().run(assign_ops, feed_dict=feed_dict)  File \"/usr/local/lib/python3.7/site-packages/tensorflow_core/python/keras/backend.py\", line 491, in get_session\n",
      "    _initialize_variables(session)  File \"/usr/local/lib/python3.7/site-packages/tensorflow_core/python/keras/backend.py\", line 908, in _initialize_variables\n",
      "    [variables_module.is_variable_initialized(v) for v in candidate_vars])  File \"/usr/local/lib/python3.7/site-packages/tensorflow_core/python/keras/backend.py\", line 908, in <listcomp>\n",
      "    [variables_module.is_variable_initialized(v) for v in candidate_vars])  File \"/usr/local/lib/python3.7/site-packages/tensorflow_core/python/util/tf_should_use.py\", line 198, in wrapped\n",
      "    return _add_should_use_warning(fn(*args, **kwargs))\n",
      "==================================\n"
     ]
    },
    {
     "name": "stdout",
     "output_type": "stream",
     "text": [
      "ERROR:tensorflow:==================================\n",
      "Object was never used (type <class 'tensorflow.python.framework.ops.Tensor'>):\n",
      "<tf.Tensor 'VarIsInitializedOp_67:0' shape=() dtype=bool>\n",
      "If you want to mark it as used call its \"mark_used()\" method.\n",
      "It was originally created here:\n",
      "  File \"/usr/local/lib/python3.7/site-packages/tensorflow_core/python/keras/backend.py\", line 3363, in batch_set_value\n",
      "    get_session().run(assign_ops, feed_dict=feed_dict)  File \"/usr/local/lib/python3.7/site-packages/tensorflow_core/python/keras/backend.py\", line 491, in get_session\n",
      "    _initialize_variables(session)  File \"/usr/local/lib/python3.7/site-packages/tensorflow_core/python/keras/backend.py\", line 908, in _initialize_variables\n",
      "    [variables_module.is_variable_initialized(v) for v in candidate_vars])  File \"/usr/local/lib/python3.7/site-packages/tensorflow_core/python/keras/backend.py\", line 908, in <listcomp>\n",
      "    [variables_module.is_variable_initialized(v) for v in candidate_vars])  File \"/usr/local/lib/python3.7/site-packages/tensorflow_core/python/util/tf_should_use.py\", line 198, in wrapped\n",
      "    return _add_should_use_warning(fn(*args, **kwargs))\n",
      "==================================\n"
     ]
    },
    {
     "name": "stderr",
     "output_type": "stream",
     "text": [
      "ERROR:tensorflow:==================================\n",
      "Object was never used (type <class 'tensorflow.python.framework.ops.Tensor'>):\n",
      "<tf.Tensor 'VarIsInitializedOp_67:0' shape=() dtype=bool>\n",
      "If you want to mark it as used call its \"mark_used()\" method.\n",
      "It was originally created here:\n",
      "  File \"/usr/local/lib/python3.7/site-packages/tensorflow_core/python/keras/backend.py\", line 3363, in batch_set_value\n",
      "    get_session().run(assign_ops, feed_dict=feed_dict)  File \"/usr/local/lib/python3.7/site-packages/tensorflow_core/python/keras/backend.py\", line 491, in get_session\n",
      "    _initialize_variables(session)  File \"/usr/local/lib/python3.7/site-packages/tensorflow_core/python/keras/backend.py\", line 908, in _initialize_variables\n",
      "    [variables_module.is_variable_initialized(v) for v in candidate_vars])  File \"/usr/local/lib/python3.7/site-packages/tensorflow_core/python/keras/backend.py\", line 908, in <listcomp>\n",
      "    [variables_module.is_variable_initialized(v) for v in candidate_vars])  File \"/usr/local/lib/python3.7/site-packages/tensorflow_core/python/util/tf_should_use.py\", line 198, in wrapped\n",
      "    return _add_should_use_warning(fn(*args, **kwargs))\n",
      "==================================\n"
     ]
    },
    {
     "name": "stdout",
     "output_type": "stream",
     "text": [
      "ERROR:tensorflow:==================================\n",
      "Object was never used (type <class 'tensorflow.python.framework.ops.Tensor'>):\n",
      "<tf.Tensor 'VarIsInitializedOp_66:0' shape=() dtype=bool>\n",
      "If you want to mark it as used call its \"mark_used()\" method.\n",
      "It was originally created here:\n",
      "  File \"/usr/local/lib/python3.7/site-packages/tensorflow_core/python/keras/backend.py\", line 3363, in batch_set_value\n",
      "    get_session().run(assign_ops, feed_dict=feed_dict)  File \"/usr/local/lib/python3.7/site-packages/tensorflow_core/python/keras/backend.py\", line 491, in get_session\n",
      "    _initialize_variables(session)  File \"/usr/local/lib/python3.7/site-packages/tensorflow_core/python/keras/backend.py\", line 908, in _initialize_variables\n",
      "    [variables_module.is_variable_initialized(v) for v in candidate_vars])  File \"/usr/local/lib/python3.7/site-packages/tensorflow_core/python/keras/backend.py\", line 908, in <listcomp>\n",
      "    [variables_module.is_variable_initialized(v) for v in candidate_vars])  File \"/usr/local/lib/python3.7/site-packages/tensorflow_core/python/util/tf_should_use.py\", line 198, in wrapped\n",
      "    return _add_should_use_warning(fn(*args, **kwargs))\n",
      "==================================\n"
     ]
    },
    {
     "name": "stderr",
     "output_type": "stream",
     "text": [
      "ERROR:tensorflow:==================================\n",
      "Object was never used (type <class 'tensorflow.python.framework.ops.Tensor'>):\n",
      "<tf.Tensor 'VarIsInitializedOp_66:0' shape=() dtype=bool>\n",
      "If you want to mark it as used call its \"mark_used()\" method.\n",
      "It was originally created here:\n",
      "  File \"/usr/local/lib/python3.7/site-packages/tensorflow_core/python/keras/backend.py\", line 3363, in batch_set_value\n",
      "    get_session().run(assign_ops, feed_dict=feed_dict)  File \"/usr/local/lib/python3.7/site-packages/tensorflow_core/python/keras/backend.py\", line 491, in get_session\n",
      "    _initialize_variables(session)  File \"/usr/local/lib/python3.7/site-packages/tensorflow_core/python/keras/backend.py\", line 908, in _initialize_variables\n",
      "    [variables_module.is_variable_initialized(v) for v in candidate_vars])  File \"/usr/local/lib/python3.7/site-packages/tensorflow_core/python/keras/backend.py\", line 908, in <listcomp>\n",
      "    [variables_module.is_variable_initialized(v) for v in candidate_vars])  File \"/usr/local/lib/python3.7/site-packages/tensorflow_core/python/util/tf_should_use.py\", line 198, in wrapped\n",
      "    return _add_should_use_warning(fn(*args, **kwargs))\n",
      "==================================\n"
     ]
    },
    {
     "name": "stdout",
     "output_type": "stream",
     "text": [
      "ERROR:tensorflow:==================================\n",
      "Object was never used (type <class 'tensorflow.python.framework.ops.Tensor'>):\n",
      "<tf.Tensor 'VarIsInitializedOp_65:0' shape=() dtype=bool>\n",
      "If you want to mark it as used call its \"mark_used()\" method.\n",
      "It was originally created here:\n",
      "  File \"/usr/local/lib/python3.7/site-packages/tensorflow_core/python/keras/backend.py\", line 3363, in batch_set_value\n",
      "    get_session().run(assign_ops, feed_dict=feed_dict)  File \"/usr/local/lib/python3.7/site-packages/tensorflow_core/python/keras/backend.py\", line 491, in get_session\n",
      "    _initialize_variables(session)  File \"/usr/local/lib/python3.7/site-packages/tensorflow_core/python/keras/backend.py\", line 908, in _initialize_variables\n",
      "    [variables_module.is_variable_initialized(v) for v in candidate_vars])  File \"/usr/local/lib/python3.7/site-packages/tensorflow_core/python/keras/backend.py\", line 908, in <listcomp>\n",
      "    [variables_module.is_variable_initialized(v) for v in candidate_vars])  File \"/usr/local/lib/python3.7/site-packages/tensorflow_core/python/util/tf_should_use.py\", line 198, in wrapped\n",
      "    return _add_should_use_warning(fn(*args, **kwargs))\n",
      "==================================\n"
     ]
    },
    {
     "name": "stderr",
     "output_type": "stream",
     "text": [
      "ERROR:tensorflow:==================================\n",
      "Object was never used (type <class 'tensorflow.python.framework.ops.Tensor'>):\n",
      "<tf.Tensor 'VarIsInitializedOp_65:0' shape=() dtype=bool>\n",
      "If you want to mark it as used call its \"mark_used()\" method.\n",
      "It was originally created here:\n",
      "  File \"/usr/local/lib/python3.7/site-packages/tensorflow_core/python/keras/backend.py\", line 3363, in batch_set_value\n",
      "    get_session().run(assign_ops, feed_dict=feed_dict)  File \"/usr/local/lib/python3.7/site-packages/tensorflow_core/python/keras/backend.py\", line 491, in get_session\n",
      "    _initialize_variables(session)  File \"/usr/local/lib/python3.7/site-packages/tensorflow_core/python/keras/backend.py\", line 908, in _initialize_variables\n",
      "    [variables_module.is_variable_initialized(v) for v in candidate_vars])  File \"/usr/local/lib/python3.7/site-packages/tensorflow_core/python/keras/backend.py\", line 908, in <listcomp>\n",
      "    [variables_module.is_variable_initialized(v) for v in candidate_vars])  File \"/usr/local/lib/python3.7/site-packages/tensorflow_core/python/util/tf_should_use.py\", line 198, in wrapped\n",
      "    return _add_should_use_warning(fn(*args, **kwargs))\n",
      "==================================\n"
     ]
    },
    {
     "name": "stdout",
     "output_type": "stream",
     "text": [
      "ERROR:tensorflow:==================================\n",
      "Object was never used (type <class 'tensorflow.python.framework.ops.Tensor'>):\n",
      "<tf.Tensor 'VarIsInitializedOp_64:0' shape=() dtype=bool>\n",
      "If you want to mark it as used call its \"mark_used()\" method.\n",
      "It was originally created here:\n",
      "  File \"/usr/local/lib/python3.7/site-packages/tensorflow_core/python/keras/backend.py\", line 3363, in batch_set_value\n",
      "    get_session().run(assign_ops, feed_dict=feed_dict)  File \"/usr/local/lib/python3.7/site-packages/tensorflow_core/python/keras/backend.py\", line 491, in get_session\n",
      "    _initialize_variables(session)  File \"/usr/local/lib/python3.7/site-packages/tensorflow_core/python/keras/backend.py\", line 908, in _initialize_variables\n",
      "    [variables_module.is_variable_initialized(v) for v in candidate_vars])  File \"/usr/local/lib/python3.7/site-packages/tensorflow_core/python/keras/backend.py\", line 908, in <listcomp>\n",
      "    [variables_module.is_variable_initialized(v) for v in candidate_vars])  File \"/usr/local/lib/python3.7/site-packages/tensorflow_core/python/util/tf_should_use.py\", line 198, in wrapped\n",
      "    return _add_should_use_warning(fn(*args, **kwargs))\n",
      "==================================\n"
     ]
    },
    {
     "name": "stderr",
     "output_type": "stream",
     "text": [
      "ERROR:tensorflow:==================================\n",
      "Object was never used (type <class 'tensorflow.python.framework.ops.Tensor'>):\n",
      "<tf.Tensor 'VarIsInitializedOp_64:0' shape=() dtype=bool>\n",
      "If you want to mark it as used call its \"mark_used()\" method.\n",
      "It was originally created here:\n",
      "  File \"/usr/local/lib/python3.7/site-packages/tensorflow_core/python/keras/backend.py\", line 3363, in batch_set_value\n",
      "    get_session().run(assign_ops, feed_dict=feed_dict)  File \"/usr/local/lib/python3.7/site-packages/tensorflow_core/python/keras/backend.py\", line 491, in get_session\n",
      "    _initialize_variables(session)  File \"/usr/local/lib/python3.7/site-packages/tensorflow_core/python/keras/backend.py\", line 908, in _initialize_variables\n",
      "    [variables_module.is_variable_initialized(v) for v in candidate_vars])  File \"/usr/local/lib/python3.7/site-packages/tensorflow_core/python/keras/backend.py\", line 908, in <listcomp>\n",
      "    [variables_module.is_variable_initialized(v) for v in candidate_vars])  File \"/usr/local/lib/python3.7/site-packages/tensorflow_core/python/util/tf_should_use.py\", line 198, in wrapped\n",
      "    return _add_should_use_warning(fn(*args, **kwargs))\n",
      "==================================\n"
     ]
    },
    {
     "name": "stdout",
     "output_type": "stream",
     "text": [
      "ERROR:tensorflow:==================================\n",
      "Object was never used (type <class 'tensorflow.python.framework.ops.Tensor'>):\n",
      "<tf.Tensor 'VarIsInitializedOp_63:0' shape=() dtype=bool>\n",
      "If you want to mark it as used call its \"mark_used()\" method.\n",
      "It was originally created here:\n",
      "  File \"/usr/local/lib/python3.7/site-packages/tensorflow_core/python/keras/backend.py\", line 3363, in batch_set_value\n",
      "    get_session().run(assign_ops, feed_dict=feed_dict)  File \"/usr/local/lib/python3.7/site-packages/tensorflow_core/python/keras/backend.py\", line 491, in get_session\n",
      "    _initialize_variables(session)  File \"/usr/local/lib/python3.7/site-packages/tensorflow_core/python/keras/backend.py\", line 908, in _initialize_variables\n",
      "    [variables_module.is_variable_initialized(v) for v in candidate_vars])  File \"/usr/local/lib/python3.7/site-packages/tensorflow_core/python/keras/backend.py\", line 908, in <listcomp>\n",
      "    [variables_module.is_variable_initialized(v) for v in candidate_vars])  File \"/usr/local/lib/python3.7/site-packages/tensorflow_core/python/util/tf_should_use.py\", line 198, in wrapped\n",
      "    return _add_should_use_warning(fn(*args, **kwargs))\n",
      "==================================\n"
     ]
    },
    {
     "name": "stderr",
     "output_type": "stream",
     "text": [
      "ERROR:tensorflow:==================================\n",
      "Object was never used (type <class 'tensorflow.python.framework.ops.Tensor'>):\n",
      "<tf.Tensor 'VarIsInitializedOp_63:0' shape=() dtype=bool>\n",
      "If you want to mark it as used call its \"mark_used()\" method.\n",
      "It was originally created here:\n",
      "  File \"/usr/local/lib/python3.7/site-packages/tensorflow_core/python/keras/backend.py\", line 3363, in batch_set_value\n",
      "    get_session().run(assign_ops, feed_dict=feed_dict)  File \"/usr/local/lib/python3.7/site-packages/tensorflow_core/python/keras/backend.py\", line 491, in get_session\n",
      "    _initialize_variables(session)  File \"/usr/local/lib/python3.7/site-packages/tensorflow_core/python/keras/backend.py\", line 908, in _initialize_variables\n",
      "    [variables_module.is_variable_initialized(v) for v in candidate_vars])  File \"/usr/local/lib/python3.7/site-packages/tensorflow_core/python/keras/backend.py\", line 908, in <listcomp>\n",
      "    [variables_module.is_variable_initialized(v) for v in candidate_vars])  File \"/usr/local/lib/python3.7/site-packages/tensorflow_core/python/util/tf_should_use.py\", line 198, in wrapped\n",
      "    return _add_should_use_warning(fn(*args, **kwargs))\n",
      "==================================\n"
     ]
    },
    {
     "name": "stdout",
     "output_type": "stream",
     "text": [
      "ERROR:tensorflow:==================================\n",
      "Object was never used (type <class 'tensorflow.python.framework.ops.Tensor'>):\n",
      "<tf.Tensor 'VarIsInitializedOp_62:0' shape=() dtype=bool>\n",
      "If you want to mark it as used call its \"mark_used()\" method.\n",
      "It was originally created here:\n",
      "  File \"/usr/local/lib/python3.7/site-packages/tensorflow_core/python/keras/backend.py\", line 3363, in batch_set_value\n",
      "    get_session().run(assign_ops, feed_dict=feed_dict)  File \"/usr/local/lib/python3.7/site-packages/tensorflow_core/python/keras/backend.py\", line 491, in get_session\n",
      "    _initialize_variables(session)  File \"/usr/local/lib/python3.7/site-packages/tensorflow_core/python/keras/backend.py\", line 908, in _initialize_variables\n",
      "    [variables_module.is_variable_initialized(v) for v in candidate_vars])  File \"/usr/local/lib/python3.7/site-packages/tensorflow_core/python/keras/backend.py\", line 908, in <listcomp>\n",
      "    [variables_module.is_variable_initialized(v) for v in candidate_vars])  File \"/usr/local/lib/python3.7/site-packages/tensorflow_core/python/util/tf_should_use.py\", line 198, in wrapped\n",
      "    return _add_should_use_warning(fn(*args, **kwargs))\n",
      "==================================\n"
     ]
    },
    {
     "name": "stderr",
     "output_type": "stream",
     "text": [
      "ERROR:tensorflow:==================================\n",
      "Object was never used (type <class 'tensorflow.python.framework.ops.Tensor'>):\n",
      "<tf.Tensor 'VarIsInitializedOp_62:0' shape=() dtype=bool>\n",
      "If you want to mark it as used call its \"mark_used()\" method.\n",
      "It was originally created here:\n",
      "  File \"/usr/local/lib/python3.7/site-packages/tensorflow_core/python/keras/backend.py\", line 3363, in batch_set_value\n",
      "    get_session().run(assign_ops, feed_dict=feed_dict)  File \"/usr/local/lib/python3.7/site-packages/tensorflow_core/python/keras/backend.py\", line 491, in get_session\n",
      "    _initialize_variables(session)  File \"/usr/local/lib/python3.7/site-packages/tensorflow_core/python/keras/backend.py\", line 908, in _initialize_variables\n",
      "    [variables_module.is_variable_initialized(v) for v in candidate_vars])  File \"/usr/local/lib/python3.7/site-packages/tensorflow_core/python/keras/backend.py\", line 908, in <listcomp>\n",
      "    [variables_module.is_variable_initialized(v) for v in candidate_vars])  File \"/usr/local/lib/python3.7/site-packages/tensorflow_core/python/util/tf_should_use.py\", line 198, in wrapped\n",
      "    return _add_should_use_warning(fn(*args, **kwargs))\n",
      "==================================\n"
     ]
    },
    {
     "name": "stdout",
     "output_type": "stream",
     "text": [
      "ERROR:tensorflow:==================================\n",
      "Object was never used (type <class 'tensorflow.python.framework.ops.Tensor'>):\n",
      "<tf.Tensor 'VarIsInitializedOp_61:0' shape=() dtype=bool>\n",
      "If you want to mark it as used call its \"mark_used()\" method.\n",
      "It was originally created here:\n",
      "  File \"/usr/local/lib/python3.7/site-packages/tensorflow_core/python/keras/backend.py\", line 3363, in batch_set_value\n",
      "    get_session().run(assign_ops, feed_dict=feed_dict)  File \"/usr/local/lib/python3.7/site-packages/tensorflow_core/python/keras/backend.py\", line 491, in get_session\n",
      "    _initialize_variables(session)  File \"/usr/local/lib/python3.7/site-packages/tensorflow_core/python/keras/backend.py\", line 908, in _initialize_variables\n",
      "    [variables_module.is_variable_initialized(v) for v in candidate_vars])  File \"/usr/local/lib/python3.7/site-packages/tensorflow_core/python/keras/backend.py\", line 908, in <listcomp>\n",
      "    [variables_module.is_variable_initialized(v) for v in candidate_vars])  File \"/usr/local/lib/python3.7/site-packages/tensorflow_core/python/util/tf_should_use.py\", line 198, in wrapped\n",
      "    return _add_should_use_warning(fn(*args, **kwargs))\n",
      "==================================\n"
     ]
    },
    {
     "name": "stderr",
     "output_type": "stream",
     "text": [
      "ERROR:tensorflow:==================================\n",
      "Object was never used (type <class 'tensorflow.python.framework.ops.Tensor'>):\n",
      "<tf.Tensor 'VarIsInitializedOp_61:0' shape=() dtype=bool>\n",
      "If you want to mark it as used call its \"mark_used()\" method.\n",
      "It was originally created here:\n",
      "  File \"/usr/local/lib/python3.7/site-packages/tensorflow_core/python/keras/backend.py\", line 3363, in batch_set_value\n",
      "    get_session().run(assign_ops, feed_dict=feed_dict)  File \"/usr/local/lib/python3.7/site-packages/tensorflow_core/python/keras/backend.py\", line 491, in get_session\n",
      "    _initialize_variables(session)  File \"/usr/local/lib/python3.7/site-packages/tensorflow_core/python/keras/backend.py\", line 908, in _initialize_variables\n",
      "    [variables_module.is_variable_initialized(v) for v in candidate_vars])  File \"/usr/local/lib/python3.7/site-packages/tensorflow_core/python/keras/backend.py\", line 908, in <listcomp>\n",
      "    [variables_module.is_variable_initialized(v) for v in candidate_vars])  File \"/usr/local/lib/python3.7/site-packages/tensorflow_core/python/util/tf_should_use.py\", line 198, in wrapped\n",
      "    return _add_should_use_warning(fn(*args, **kwargs))\n",
      "==================================\n"
     ]
    },
    {
     "name": "stdout",
     "output_type": "stream",
     "text": [
      "ERROR:tensorflow:==================================\n",
      "Object was never used (type <class 'tensorflow.python.framework.ops.Tensor'>):\n",
      "<tf.Tensor 'VarIsInitializedOp_60:0' shape=() dtype=bool>\n",
      "If you want to mark it as used call its \"mark_used()\" method.\n",
      "It was originally created here:\n",
      "  File \"/usr/local/lib/python3.7/site-packages/tensorflow_core/python/keras/backend.py\", line 3363, in batch_set_value\n",
      "    get_session().run(assign_ops, feed_dict=feed_dict)  File \"/usr/local/lib/python3.7/site-packages/tensorflow_core/python/keras/backend.py\", line 491, in get_session\n",
      "    _initialize_variables(session)  File \"/usr/local/lib/python3.7/site-packages/tensorflow_core/python/keras/backend.py\", line 908, in _initialize_variables\n",
      "    [variables_module.is_variable_initialized(v) for v in candidate_vars])  File \"/usr/local/lib/python3.7/site-packages/tensorflow_core/python/keras/backend.py\", line 908, in <listcomp>\n",
      "    [variables_module.is_variable_initialized(v) for v in candidate_vars])  File \"/usr/local/lib/python3.7/site-packages/tensorflow_core/python/util/tf_should_use.py\", line 198, in wrapped\n",
      "    return _add_should_use_warning(fn(*args, **kwargs))\n",
      "==================================\n"
     ]
    },
    {
     "name": "stderr",
     "output_type": "stream",
     "text": [
      "ERROR:tensorflow:==================================\n",
      "Object was never used (type <class 'tensorflow.python.framework.ops.Tensor'>):\n",
      "<tf.Tensor 'VarIsInitializedOp_60:0' shape=() dtype=bool>\n",
      "If you want to mark it as used call its \"mark_used()\" method.\n",
      "It was originally created here:\n",
      "  File \"/usr/local/lib/python3.7/site-packages/tensorflow_core/python/keras/backend.py\", line 3363, in batch_set_value\n",
      "    get_session().run(assign_ops, feed_dict=feed_dict)  File \"/usr/local/lib/python3.7/site-packages/tensorflow_core/python/keras/backend.py\", line 491, in get_session\n",
      "    _initialize_variables(session)  File \"/usr/local/lib/python3.7/site-packages/tensorflow_core/python/keras/backend.py\", line 908, in _initialize_variables\n",
      "    [variables_module.is_variable_initialized(v) for v in candidate_vars])  File \"/usr/local/lib/python3.7/site-packages/tensorflow_core/python/keras/backend.py\", line 908, in <listcomp>\n",
      "    [variables_module.is_variable_initialized(v) for v in candidate_vars])  File \"/usr/local/lib/python3.7/site-packages/tensorflow_core/python/util/tf_should_use.py\", line 198, in wrapped\n",
      "    return _add_should_use_warning(fn(*args, **kwargs))\n",
      "==================================\n"
     ]
    },
    {
     "name": "stdout",
     "output_type": "stream",
     "text": [
      "ERROR:tensorflow:==================================\n",
      "Object was never used (type <class 'tensorflow.python.framework.ops.Tensor'>):\n",
      "<tf.Tensor 'VarIsInitializedOp_59:0' shape=() dtype=bool>\n",
      "If you want to mark it as used call its \"mark_used()\" method.\n",
      "It was originally created here:\n",
      "  File \"/usr/local/lib/python3.7/site-packages/tensorflow_core/python/keras/backend.py\", line 3363, in batch_set_value\n",
      "    get_session().run(assign_ops, feed_dict=feed_dict)  File \"/usr/local/lib/python3.7/site-packages/tensorflow_core/python/keras/backend.py\", line 491, in get_session\n",
      "    _initialize_variables(session)  File \"/usr/local/lib/python3.7/site-packages/tensorflow_core/python/keras/backend.py\", line 908, in _initialize_variables\n",
      "    [variables_module.is_variable_initialized(v) for v in candidate_vars])  File \"/usr/local/lib/python3.7/site-packages/tensorflow_core/python/keras/backend.py\", line 908, in <listcomp>\n",
      "    [variables_module.is_variable_initialized(v) for v in candidate_vars])  File \"/usr/local/lib/python3.7/site-packages/tensorflow_core/python/util/tf_should_use.py\", line 198, in wrapped\n",
      "    return _add_should_use_warning(fn(*args, **kwargs))\n",
      "==================================\n"
     ]
    },
    {
     "name": "stderr",
     "output_type": "stream",
     "text": [
      "ERROR:tensorflow:==================================\n",
      "Object was never used (type <class 'tensorflow.python.framework.ops.Tensor'>):\n",
      "<tf.Tensor 'VarIsInitializedOp_59:0' shape=() dtype=bool>\n",
      "If you want to mark it as used call its \"mark_used()\" method.\n",
      "It was originally created here:\n",
      "  File \"/usr/local/lib/python3.7/site-packages/tensorflow_core/python/keras/backend.py\", line 3363, in batch_set_value\n",
      "    get_session().run(assign_ops, feed_dict=feed_dict)  File \"/usr/local/lib/python3.7/site-packages/tensorflow_core/python/keras/backend.py\", line 491, in get_session\n",
      "    _initialize_variables(session)  File \"/usr/local/lib/python3.7/site-packages/tensorflow_core/python/keras/backend.py\", line 908, in _initialize_variables\n",
      "    [variables_module.is_variable_initialized(v) for v in candidate_vars])  File \"/usr/local/lib/python3.7/site-packages/tensorflow_core/python/keras/backend.py\", line 908, in <listcomp>\n",
      "    [variables_module.is_variable_initialized(v) for v in candidate_vars])  File \"/usr/local/lib/python3.7/site-packages/tensorflow_core/python/util/tf_should_use.py\", line 198, in wrapped\n",
      "    return _add_should_use_warning(fn(*args, **kwargs))\n",
      "==================================\n"
     ]
    },
    {
     "name": "stdout",
     "output_type": "stream",
     "text": [
      "ERROR:tensorflow:==================================\n",
      "Object was never used (type <class 'tensorflow.python.framework.ops.Tensor'>):\n",
      "<tf.Tensor 'VarIsInitializedOp_58:0' shape=() dtype=bool>\n",
      "If you want to mark it as used call its \"mark_used()\" method.\n",
      "It was originally created here:\n",
      "  File \"/usr/local/lib/python3.7/site-packages/tensorflow_core/python/keras/backend.py\", line 3363, in batch_set_value\n",
      "    get_session().run(assign_ops, feed_dict=feed_dict)  File \"/usr/local/lib/python3.7/site-packages/tensorflow_core/python/keras/backend.py\", line 491, in get_session\n",
      "    _initialize_variables(session)  File \"/usr/local/lib/python3.7/site-packages/tensorflow_core/python/keras/backend.py\", line 908, in _initialize_variables\n",
      "    [variables_module.is_variable_initialized(v) for v in candidate_vars])  File \"/usr/local/lib/python3.7/site-packages/tensorflow_core/python/keras/backend.py\", line 908, in <listcomp>\n",
      "    [variables_module.is_variable_initialized(v) for v in candidate_vars])  File \"/usr/local/lib/python3.7/site-packages/tensorflow_core/python/util/tf_should_use.py\", line 198, in wrapped\n",
      "    return _add_should_use_warning(fn(*args, **kwargs))\n",
      "==================================\n"
     ]
    },
    {
     "name": "stderr",
     "output_type": "stream",
     "text": [
      "ERROR:tensorflow:==================================\n",
      "Object was never used (type <class 'tensorflow.python.framework.ops.Tensor'>):\n",
      "<tf.Tensor 'VarIsInitializedOp_58:0' shape=() dtype=bool>\n",
      "If you want to mark it as used call its \"mark_used()\" method.\n",
      "It was originally created here:\n",
      "  File \"/usr/local/lib/python3.7/site-packages/tensorflow_core/python/keras/backend.py\", line 3363, in batch_set_value\n",
      "    get_session().run(assign_ops, feed_dict=feed_dict)  File \"/usr/local/lib/python3.7/site-packages/tensorflow_core/python/keras/backend.py\", line 491, in get_session\n",
      "    _initialize_variables(session)  File \"/usr/local/lib/python3.7/site-packages/tensorflow_core/python/keras/backend.py\", line 908, in _initialize_variables\n",
      "    [variables_module.is_variable_initialized(v) for v in candidate_vars])  File \"/usr/local/lib/python3.7/site-packages/tensorflow_core/python/keras/backend.py\", line 908, in <listcomp>\n",
      "    [variables_module.is_variable_initialized(v) for v in candidate_vars])  File \"/usr/local/lib/python3.7/site-packages/tensorflow_core/python/util/tf_should_use.py\", line 198, in wrapped\n",
      "    return _add_should_use_warning(fn(*args, **kwargs))\n",
      "==================================\n"
     ]
    },
    {
     "name": "stdout",
     "output_type": "stream",
     "text": [
      "ERROR:tensorflow:==================================\n",
      "Object was never used (type <class 'tensorflow.python.framework.ops.Tensor'>):\n",
      "<tf.Tensor 'VarIsInitializedOp_57:0' shape=() dtype=bool>\n",
      "If you want to mark it as used call its \"mark_used()\" method.\n",
      "It was originally created here:\n",
      "  File \"/usr/local/lib/python3.7/site-packages/tensorflow_core/python/keras/backend.py\", line 3363, in batch_set_value\n",
      "    get_session().run(assign_ops, feed_dict=feed_dict)  File \"/usr/local/lib/python3.7/site-packages/tensorflow_core/python/keras/backend.py\", line 491, in get_session\n",
      "    _initialize_variables(session)  File \"/usr/local/lib/python3.7/site-packages/tensorflow_core/python/keras/backend.py\", line 908, in _initialize_variables\n",
      "    [variables_module.is_variable_initialized(v) for v in candidate_vars])  File \"/usr/local/lib/python3.7/site-packages/tensorflow_core/python/keras/backend.py\", line 908, in <listcomp>\n",
      "    [variables_module.is_variable_initialized(v) for v in candidate_vars])  File \"/usr/local/lib/python3.7/site-packages/tensorflow_core/python/util/tf_should_use.py\", line 198, in wrapped\n",
      "    return _add_should_use_warning(fn(*args, **kwargs))\n",
      "==================================\n"
     ]
    },
    {
     "name": "stderr",
     "output_type": "stream",
     "text": [
      "ERROR:tensorflow:==================================\n",
      "Object was never used (type <class 'tensorflow.python.framework.ops.Tensor'>):\n",
      "<tf.Tensor 'VarIsInitializedOp_57:0' shape=() dtype=bool>\n",
      "If you want to mark it as used call its \"mark_used()\" method.\n",
      "It was originally created here:\n",
      "  File \"/usr/local/lib/python3.7/site-packages/tensorflow_core/python/keras/backend.py\", line 3363, in batch_set_value\n",
      "    get_session().run(assign_ops, feed_dict=feed_dict)  File \"/usr/local/lib/python3.7/site-packages/tensorflow_core/python/keras/backend.py\", line 491, in get_session\n",
      "    _initialize_variables(session)  File \"/usr/local/lib/python3.7/site-packages/tensorflow_core/python/keras/backend.py\", line 908, in _initialize_variables\n",
      "    [variables_module.is_variable_initialized(v) for v in candidate_vars])  File \"/usr/local/lib/python3.7/site-packages/tensorflow_core/python/keras/backend.py\", line 908, in <listcomp>\n",
      "    [variables_module.is_variable_initialized(v) for v in candidate_vars])  File \"/usr/local/lib/python3.7/site-packages/tensorflow_core/python/util/tf_should_use.py\", line 198, in wrapped\n",
      "    return _add_should_use_warning(fn(*args, **kwargs))\n",
      "==================================\n"
     ]
    },
    {
     "name": "stdout",
     "output_type": "stream",
     "text": [
      "ERROR:tensorflow:==================================\n",
      "Object was never used (type <class 'tensorflow.python.framework.ops.Tensor'>):\n",
      "<tf.Tensor 'VarIsInitializedOp_56:0' shape=() dtype=bool>\n",
      "If you want to mark it as used call its \"mark_used()\" method.\n",
      "It was originally created here:\n",
      "  File \"/usr/local/lib/python3.7/site-packages/tensorflow_core/python/keras/backend.py\", line 3363, in batch_set_value\n",
      "    get_session().run(assign_ops, feed_dict=feed_dict)  File \"/usr/local/lib/python3.7/site-packages/tensorflow_core/python/keras/backend.py\", line 491, in get_session\n",
      "    _initialize_variables(session)  File \"/usr/local/lib/python3.7/site-packages/tensorflow_core/python/keras/backend.py\", line 908, in _initialize_variables\n",
      "    [variables_module.is_variable_initialized(v) for v in candidate_vars])  File \"/usr/local/lib/python3.7/site-packages/tensorflow_core/python/keras/backend.py\", line 908, in <listcomp>\n",
      "    [variables_module.is_variable_initialized(v) for v in candidate_vars])  File \"/usr/local/lib/python3.7/site-packages/tensorflow_core/python/util/tf_should_use.py\", line 198, in wrapped\n",
      "    return _add_should_use_warning(fn(*args, **kwargs))\n",
      "==================================\n"
     ]
    },
    {
     "name": "stderr",
     "output_type": "stream",
     "text": [
      "ERROR:tensorflow:==================================\n",
      "Object was never used (type <class 'tensorflow.python.framework.ops.Tensor'>):\n",
      "<tf.Tensor 'VarIsInitializedOp_56:0' shape=() dtype=bool>\n",
      "If you want to mark it as used call its \"mark_used()\" method.\n",
      "It was originally created here:\n",
      "  File \"/usr/local/lib/python3.7/site-packages/tensorflow_core/python/keras/backend.py\", line 3363, in batch_set_value\n",
      "    get_session().run(assign_ops, feed_dict=feed_dict)  File \"/usr/local/lib/python3.7/site-packages/tensorflow_core/python/keras/backend.py\", line 491, in get_session\n",
      "    _initialize_variables(session)  File \"/usr/local/lib/python3.7/site-packages/tensorflow_core/python/keras/backend.py\", line 908, in _initialize_variables\n",
      "    [variables_module.is_variable_initialized(v) for v in candidate_vars])  File \"/usr/local/lib/python3.7/site-packages/tensorflow_core/python/keras/backend.py\", line 908, in <listcomp>\n",
      "    [variables_module.is_variable_initialized(v) for v in candidate_vars])  File \"/usr/local/lib/python3.7/site-packages/tensorflow_core/python/util/tf_should_use.py\", line 198, in wrapped\n",
      "    return _add_should_use_warning(fn(*args, **kwargs))\n",
      "==================================\n"
     ]
    },
    {
     "name": "stdout",
     "output_type": "stream",
     "text": [
      "ERROR:tensorflow:==================================\n",
      "Object was never used (type <class 'tensorflow.python.framework.ops.Tensor'>):\n",
      "<tf.Tensor 'VarIsInitializedOp_55:0' shape=() dtype=bool>\n",
      "If you want to mark it as used call its \"mark_used()\" method.\n",
      "It was originally created here:\n",
      "  File \"/usr/local/lib/python3.7/site-packages/tensorflow_core/python/keras/backend.py\", line 3363, in batch_set_value\n",
      "    get_session().run(assign_ops, feed_dict=feed_dict)  File \"/usr/local/lib/python3.7/site-packages/tensorflow_core/python/keras/backend.py\", line 491, in get_session\n",
      "    _initialize_variables(session)  File \"/usr/local/lib/python3.7/site-packages/tensorflow_core/python/keras/backend.py\", line 908, in _initialize_variables\n",
      "    [variables_module.is_variable_initialized(v) for v in candidate_vars])  File \"/usr/local/lib/python3.7/site-packages/tensorflow_core/python/keras/backend.py\", line 908, in <listcomp>\n",
      "    [variables_module.is_variable_initialized(v) for v in candidate_vars])  File \"/usr/local/lib/python3.7/site-packages/tensorflow_core/python/util/tf_should_use.py\", line 198, in wrapped\n",
      "    return _add_should_use_warning(fn(*args, **kwargs))\n",
      "==================================\n"
     ]
    },
    {
     "name": "stderr",
     "output_type": "stream",
     "text": [
      "ERROR:tensorflow:==================================\n",
      "Object was never used (type <class 'tensorflow.python.framework.ops.Tensor'>):\n",
      "<tf.Tensor 'VarIsInitializedOp_55:0' shape=() dtype=bool>\n",
      "If you want to mark it as used call its \"mark_used()\" method.\n",
      "It was originally created here:\n",
      "  File \"/usr/local/lib/python3.7/site-packages/tensorflow_core/python/keras/backend.py\", line 3363, in batch_set_value\n",
      "    get_session().run(assign_ops, feed_dict=feed_dict)  File \"/usr/local/lib/python3.7/site-packages/tensorflow_core/python/keras/backend.py\", line 491, in get_session\n",
      "    _initialize_variables(session)  File \"/usr/local/lib/python3.7/site-packages/tensorflow_core/python/keras/backend.py\", line 908, in _initialize_variables\n",
      "    [variables_module.is_variable_initialized(v) for v in candidate_vars])  File \"/usr/local/lib/python3.7/site-packages/tensorflow_core/python/keras/backend.py\", line 908, in <listcomp>\n",
      "    [variables_module.is_variable_initialized(v) for v in candidate_vars])  File \"/usr/local/lib/python3.7/site-packages/tensorflow_core/python/util/tf_should_use.py\", line 198, in wrapped\n",
      "    return _add_should_use_warning(fn(*args, **kwargs))\n",
      "==================================\n"
     ]
    },
    {
     "name": "stdout",
     "output_type": "stream",
     "text": [
      "ERROR:tensorflow:==================================\n",
      "Object was never used (type <class 'tensorflow.python.framework.ops.Tensor'>):\n",
      "<tf.Tensor 'VarIsInitializedOp_54:0' shape=() dtype=bool>\n",
      "If you want to mark it as used call its \"mark_used()\" method.\n",
      "It was originally created here:\n",
      "  File \"/usr/local/lib/python3.7/site-packages/tensorflow_core/python/keras/backend.py\", line 3363, in batch_set_value\n",
      "    get_session().run(assign_ops, feed_dict=feed_dict)  File \"/usr/local/lib/python3.7/site-packages/tensorflow_core/python/keras/backend.py\", line 491, in get_session\n",
      "    _initialize_variables(session)  File \"/usr/local/lib/python3.7/site-packages/tensorflow_core/python/keras/backend.py\", line 908, in _initialize_variables\n",
      "    [variables_module.is_variable_initialized(v) for v in candidate_vars])  File \"/usr/local/lib/python3.7/site-packages/tensorflow_core/python/keras/backend.py\", line 908, in <listcomp>\n",
      "    [variables_module.is_variable_initialized(v) for v in candidate_vars])  File \"/usr/local/lib/python3.7/site-packages/tensorflow_core/python/util/tf_should_use.py\", line 198, in wrapped\n",
      "    return _add_should_use_warning(fn(*args, **kwargs))\n",
      "==================================\n"
     ]
    },
    {
     "name": "stderr",
     "output_type": "stream",
     "text": [
      "ERROR:tensorflow:==================================\n",
      "Object was never used (type <class 'tensorflow.python.framework.ops.Tensor'>):\n",
      "<tf.Tensor 'VarIsInitializedOp_54:0' shape=() dtype=bool>\n",
      "If you want to mark it as used call its \"mark_used()\" method.\n",
      "It was originally created here:\n",
      "  File \"/usr/local/lib/python3.7/site-packages/tensorflow_core/python/keras/backend.py\", line 3363, in batch_set_value\n",
      "    get_session().run(assign_ops, feed_dict=feed_dict)  File \"/usr/local/lib/python3.7/site-packages/tensorflow_core/python/keras/backend.py\", line 491, in get_session\n",
      "    _initialize_variables(session)  File \"/usr/local/lib/python3.7/site-packages/tensorflow_core/python/keras/backend.py\", line 908, in _initialize_variables\n",
      "    [variables_module.is_variable_initialized(v) for v in candidate_vars])  File \"/usr/local/lib/python3.7/site-packages/tensorflow_core/python/keras/backend.py\", line 908, in <listcomp>\n",
      "    [variables_module.is_variable_initialized(v) for v in candidate_vars])  File \"/usr/local/lib/python3.7/site-packages/tensorflow_core/python/util/tf_should_use.py\", line 198, in wrapped\n",
      "    return _add_should_use_warning(fn(*args, **kwargs))\n",
      "==================================\n"
     ]
    },
    {
     "name": "stdout",
     "output_type": "stream",
     "text": [
      "ERROR:tensorflow:==================================\n",
      "Object was never used (type <class 'tensorflow.python.framework.ops.Tensor'>):\n",
      "<tf.Tensor 'VarIsInitializedOp_53:0' shape=() dtype=bool>\n",
      "If you want to mark it as used call its \"mark_used()\" method.\n",
      "It was originally created here:\n",
      "  File \"/usr/local/lib/python3.7/site-packages/tensorflow_core/python/keras/backend.py\", line 3363, in batch_set_value\n",
      "    get_session().run(assign_ops, feed_dict=feed_dict)  File \"/usr/local/lib/python3.7/site-packages/tensorflow_core/python/keras/backend.py\", line 491, in get_session\n",
      "    _initialize_variables(session)  File \"/usr/local/lib/python3.7/site-packages/tensorflow_core/python/keras/backend.py\", line 908, in _initialize_variables\n",
      "    [variables_module.is_variable_initialized(v) for v in candidate_vars])  File \"/usr/local/lib/python3.7/site-packages/tensorflow_core/python/keras/backend.py\", line 908, in <listcomp>\n",
      "    [variables_module.is_variable_initialized(v) for v in candidate_vars])  File \"/usr/local/lib/python3.7/site-packages/tensorflow_core/python/util/tf_should_use.py\", line 198, in wrapped\n",
      "    return _add_should_use_warning(fn(*args, **kwargs))\n",
      "==================================\n"
     ]
    },
    {
     "name": "stderr",
     "output_type": "stream",
     "text": [
      "ERROR:tensorflow:==================================\n",
      "Object was never used (type <class 'tensorflow.python.framework.ops.Tensor'>):\n",
      "<tf.Tensor 'VarIsInitializedOp_53:0' shape=() dtype=bool>\n",
      "If you want to mark it as used call its \"mark_used()\" method.\n",
      "It was originally created here:\n",
      "  File \"/usr/local/lib/python3.7/site-packages/tensorflow_core/python/keras/backend.py\", line 3363, in batch_set_value\n",
      "    get_session().run(assign_ops, feed_dict=feed_dict)  File \"/usr/local/lib/python3.7/site-packages/tensorflow_core/python/keras/backend.py\", line 491, in get_session\n",
      "    _initialize_variables(session)  File \"/usr/local/lib/python3.7/site-packages/tensorflow_core/python/keras/backend.py\", line 908, in _initialize_variables\n",
      "    [variables_module.is_variable_initialized(v) for v in candidate_vars])  File \"/usr/local/lib/python3.7/site-packages/tensorflow_core/python/keras/backend.py\", line 908, in <listcomp>\n",
      "    [variables_module.is_variable_initialized(v) for v in candidate_vars])  File \"/usr/local/lib/python3.7/site-packages/tensorflow_core/python/util/tf_should_use.py\", line 198, in wrapped\n",
      "    return _add_should_use_warning(fn(*args, **kwargs))\n",
      "==================================\n"
     ]
    },
    {
     "name": "stdout",
     "output_type": "stream",
     "text": [
      "ERROR:tensorflow:==================================\n",
      "Object was never used (type <class 'tensorflow.python.framework.ops.Tensor'>):\n",
      "<tf.Tensor 'VarIsInitializedOp_52:0' shape=() dtype=bool>\n",
      "If you want to mark it as used call its \"mark_used()\" method.\n",
      "It was originally created here:\n",
      "  File \"/usr/local/lib/python3.7/site-packages/tensorflow_core/python/keras/backend.py\", line 3363, in batch_set_value\n",
      "    get_session().run(assign_ops, feed_dict=feed_dict)  File \"/usr/local/lib/python3.7/site-packages/tensorflow_core/python/keras/backend.py\", line 491, in get_session\n",
      "    _initialize_variables(session)  File \"/usr/local/lib/python3.7/site-packages/tensorflow_core/python/keras/backend.py\", line 908, in _initialize_variables\n",
      "    [variables_module.is_variable_initialized(v) for v in candidate_vars])  File \"/usr/local/lib/python3.7/site-packages/tensorflow_core/python/keras/backend.py\", line 908, in <listcomp>\n",
      "    [variables_module.is_variable_initialized(v) for v in candidate_vars])  File \"/usr/local/lib/python3.7/site-packages/tensorflow_core/python/util/tf_should_use.py\", line 198, in wrapped\n",
      "    return _add_should_use_warning(fn(*args, **kwargs))\n",
      "==================================\n"
     ]
    },
    {
     "name": "stderr",
     "output_type": "stream",
     "text": [
      "ERROR:tensorflow:==================================\n",
      "Object was never used (type <class 'tensorflow.python.framework.ops.Tensor'>):\n",
      "<tf.Tensor 'VarIsInitializedOp_52:0' shape=() dtype=bool>\n",
      "If you want to mark it as used call its \"mark_used()\" method.\n",
      "It was originally created here:\n",
      "  File \"/usr/local/lib/python3.7/site-packages/tensorflow_core/python/keras/backend.py\", line 3363, in batch_set_value\n",
      "    get_session().run(assign_ops, feed_dict=feed_dict)  File \"/usr/local/lib/python3.7/site-packages/tensorflow_core/python/keras/backend.py\", line 491, in get_session\n",
      "    _initialize_variables(session)  File \"/usr/local/lib/python3.7/site-packages/tensorflow_core/python/keras/backend.py\", line 908, in _initialize_variables\n",
      "    [variables_module.is_variable_initialized(v) for v in candidate_vars])  File \"/usr/local/lib/python3.7/site-packages/tensorflow_core/python/keras/backend.py\", line 908, in <listcomp>\n",
      "    [variables_module.is_variable_initialized(v) for v in candidate_vars])  File \"/usr/local/lib/python3.7/site-packages/tensorflow_core/python/util/tf_should_use.py\", line 198, in wrapped\n",
      "    return _add_should_use_warning(fn(*args, **kwargs))\n",
      "==================================\n"
     ]
    },
    {
     "name": "stdout",
     "output_type": "stream",
     "text": [
      "ERROR:tensorflow:==================================\n",
      "Object was never used (type <class 'tensorflow.python.framework.ops.Tensor'>):\n",
      "<tf.Tensor 'VarIsInitializedOp_51:0' shape=() dtype=bool>\n",
      "If you want to mark it as used call its \"mark_used()\" method.\n",
      "It was originally created here:\n",
      "  File \"/usr/local/lib/python3.7/site-packages/tensorflow_core/python/keras/backend.py\", line 3363, in batch_set_value\n",
      "    get_session().run(assign_ops, feed_dict=feed_dict)  File \"/usr/local/lib/python3.7/site-packages/tensorflow_core/python/keras/backend.py\", line 491, in get_session\n",
      "    _initialize_variables(session)  File \"/usr/local/lib/python3.7/site-packages/tensorflow_core/python/keras/backend.py\", line 908, in _initialize_variables\n",
      "    [variables_module.is_variable_initialized(v) for v in candidate_vars])  File \"/usr/local/lib/python3.7/site-packages/tensorflow_core/python/keras/backend.py\", line 908, in <listcomp>\n",
      "    [variables_module.is_variable_initialized(v) for v in candidate_vars])  File \"/usr/local/lib/python3.7/site-packages/tensorflow_core/python/util/tf_should_use.py\", line 198, in wrapped\n",
      "    return _add_should_use_warning(fn(*args, **kwargs))\n",
      "==================================\n"
     ]
    },
    {
     "name": "stderr",
     "output_type": "stream",
     "text": [
      "ERROR:tensorflow:==================================\n",
      "Object was never used (type <class 'tensorflow.python.framework.ops.Tensor'>):\n",
      "<tf.Tensor 'VarIsInitializedOp_51:0' shape=() dtype=bool>\n",
      "If you want to mark it as used call its \"mark_used()\" method.\n",
      "It was originally created here:\n",
      "  File \"/usr/local/lib/python3.7/site-packages/tensorflow_core/python/keras/backend.py\", line 3363, in batch_set_value\n",
      "    get_session().run(assign_ops, feed_dict=feed_dict)  File \"/usr/local/lib/python3.7/site-packages/tensorflow_core/python/keras/backend.py\", line 491, in get_session\n",
      "    _initialize_variables(session)  File \"/usr/local/lib/python3.7/site-packages/tensorflow_core/python/keras/backend.py\", line 908, in _initialize_variables\n",
      "    [variables_module.is_variable_initialized(v) for v in candidate_vars])  File \"/usr/local/lib/python3.7/site-packages/tensorflow_core/python/keras/backend.py\", line 908, in <listcomp>\n",
      "    [variables_module.is_variable_initialized(v) for v in candidate_vars])  File \"/usr/local/lib/python3.7/site-packages/tensorflow_core/python/util/tf_should_use.py\", line 198, in wrapped\n",
      "    return _add_should_use_warning(fn(*args, **kwargs))\n",
      "==================================\n"
     ]
    },
    {
     "name": "stdout",
     "output_type": "stream",
     "text": [
      "INFO:tensorflow:Saver not created because there are no variables in the graph to restore\n"
     ]
    },
    {
     "name": "stderr",
     "output_type": "stream",
     "text": [
      "INFO:tensorflow:Saver not created because there are no variables in the graph to restore\n"
     ]
    },
    {
     "name": "stdout",
     "output_type": "stream",
     "text": [
      "Model: \"sequential_7\"\n",
      "_________________________________________________________________\n",
      "Layer (type)                 Output Shape              Param #   \n",
      "=================================================================\n",
      "elmo_embedding_layer (Lambda (None, None, 1024)        0         \n",
      "_________________________________________________________________\n",
      "lstm_5 (LSTM)                (None, 192)               934656    \n",
      "_________________________________________________________________\n",
      "dense_10 (Dense)             (None, 16)                3088      \n",
      "_________________________________________________________________\n",
      "dense_11 (Dense)             (None, 1)                 17        \n",
      "=================================================================\n",
      "Total params: 937,761\n",
      "Trainable params: 937,761\n",
      "Non-trainable params: 0\n",
      "_________________________________________________________________\n",
      "Train on 850 samples, validate on 150 samples\n",
      "Epoch 1/5\n",
      "850/850 [==============================] - 55s 64ms/sample - loss: 0.5934 - accuracy: 0.6941 - val_loss: 0.5771 - val_accuracy: 0.7067\n",
      "Epoch 2/5\n",
      "850/850 [==============================] - 58s 68ms/sample - loss: 0.4903 - accuracy: 0.7812 - val_loss: 0.5606 - val_accuracy: 0.6933\n",
      "Epoch 3/5\n",
      "850/850 [==============================] - 57s 67ms/sample - loss: 0.3222 - accuracy: 0.8624 - val_loss: 0.7555 - val_accuracy: 0.7333\n",
      "Epoch 4/5\n",
      "850/850 [==============================] - 55s 65ms/sample - loss: 0.3067 - accuracy: 0.8847 - val_loss: 0.8331 - val_accuracy: 0.7467\n",
      "Epoch 5/5\n",
      "850/850 [==============================] - 51s 60ms/sample - loss: 0.3165 - accuracy: 0.8953 - val_loss: 0.5526 - val_accuracy: 0.7400\n",
      "150/150 [==============================] - 8s 51ms/sample - loss: 0.5745 - accuracy: 0.7533\n"
     ]
    },
    {
     "data": {
      "image/png": "[encoded data removed]",
      "text/plain": [
       "<Figure size 864x360 with 2 Axes>"
      ]
     },
     "metadata": {
      "needs_background": "light"
     },
     "output_type": "display_data"
    }
   ],
   "source": [
    "with tf.compat.v1.Session() as session:\n",
    "    tf.compat.v1.keras.backend.set_session(session)\n",
    "    session.run(tf.compat.v1.global_variables_initializer())  \n",
    "    session.run(tf.compat.v1.tables_initializer())\n",
    "    model= createLSTM()\n",
    "    model.summary()\n",
    "    model.compile(loss='binary_crossentropy',optimizer='adam',metrics=['accuracy'])\n",
    "    plot_model(model, to_file='sentiment_elmo_embedding_lstm.png',show_shapes=True, show_layer_names=True)\n",
    "    history = model.fit(sentences_train,y_train,batch_size=16,epochs=5,verbose=1,validation_data=(sentences_test, y_test))\n",
    "    # validation_data=(sentences_test, y_test)\n",
    "    # history = model.fit(embeddings_train,y_train,batch_size=16,epochs=10,verbose=1)\n",
    "    plot_history(history)\n",
    "    model.evaluate(sentences_test,y_test)\n",
    "\n",
    "\n"
   ]
  },
  {
   "cell_type": "markdown",
   "metadata": {},
   "source": [
    "# CNN"
   ]
  },
  {
   "cell_type": "code",
   "execution_count": 44,
   "metadata": {},
   "outputs": [],
   "source": [
    "\n",
    "\n",
    "\n",
    "def createCNN(vocab_size,embedding_dim,maxlen):\n",
    "    model = Sequential()\n",
    "    model.add(Input(shape=(1,), dtype=\"string\"))\n",
    "    model.add(Lambda(ELMoEmbedding, output_shape=(1024, ),name=\"elmo_embedding_layer\"))\n",
    "    \n",
    "#     model.add(Embedding(vocab_size, embedding_dim, input_length=maxlen))\n",
    "#     model.add(Conv1D(64, 5, activation='relu'))\n",
    "#     model.add(Reshape((3, 4), input_shape=(12,)))\n",
    "    model.add(Conv1D(32, 3, activation='relu')) #padding= \"Same\"\n",
    "#     model.add(MaxPooling2D(pool_size=(2,2)))\n",
    "    model.add(GlobalMaxPooling1D())\n",
    "    model.add(Dense(10, activation='relu'))\n",
    "    model.add(Dense(1, activation='sigmoid'))\n",
    "    return model"
   ]
  },
  {
   "cell_type": "code",
   "execution_count": 45,
   "metadata": {},
   "outputs": [
    {
     "name": "stdout",
     "output_type": "stream",
     "text": [
      "ERROR:tensorflow:==================================\n",
      "Object was never used (type <class 'tensorflow.python.framework.ops.Tensor'>):\n",
      "<tf.Tensor 'VarIsInitializedOp_260:0' shape=() dtype=bool>\n",
      "If you want to mark it as used call its \"mark_used()\" method.\n",
      "It was originally created here:\n",
      "  File \"/usr/local/lib/python3.7/site-packages/tensorflow_core/python/keras/backend.py\", line 3363, in batch_set_value\n",
      "    get_session().run(assign_ops, feed_dict=feed_dict)  File \"/usr/local/lib/python3.7/site-packages/tensorflow_core/python/keras/backend.py\", line 491, in get_session\n",
      "    _initialize_variables(session)  File \"/usr/local/lib/python3.7/site-packages/tensorflow_core/python/keras/backend.py\", line 908, in _initialize_variables\n",
      "    [variables_module.is_variable_initialized(v) for v in candidate_vars])  File \"/usr/local/lib/python3.7/site-packages/tensorflow_core/python/keras/backend.py\", line 908, in <listcomp>\n",
      "    [variables_module.is_variable_initialized(v) for v in candidate_vars])  File \"/usr/local/lib/python3.7/site-packages/tensorflow_core/python/util/tf_should_use.py\", line 198, in wrapped\n",
      "    return _add_should_use_warning(fn(*args, **kwargs))\n",
      "==================================\n"
     ]
    },
    {
     "name": "stderr",
     "output_type": "stream",
     "text": [
      "ERROR:tensorflow:==================================\n",
      "Object was never used (type <class 'tensorflow.python.framework.ops.Tensor'>):\n",
      "<tf.Tensor 'VarIsInitializedOp_260:0' shape=() dtype=bool>\n",
      "If you want to mark it as used call its \"mark_used()\" method.\n",
      "It was originally created here:\n",
      "  File \"/usr/local/lib/python3.7/site-packages/tensorflow_core/python/keras/backend.py\", line 3363, in batch_set_value\n",
      "    get_session().run(assign_ops, feed_dict=feed_dict)  File \"/usr/local/lib/python3.7/site-packages/tensorflow_core/python/keras/backend.py\", line 491, in get_session\n",
      "    _initialize_variables(session)  File \"/usr/local/lib/python3.7/site-packages/tensorflow_core/python/keras/backend.py\", line 908, in _initialize_variables\n",
      "    [variables_module.is_variable_initialized(v) for v in candidate_vars])  File \"/usr/local/lib/python3.7/site-packages/tensorflow_core/python/keras/backend.py\", line 908, in <listcomp>\n",
      "    [variables_module.is_variable_initialized(v) for v in candidate_vars])  File \"/usr/local/lib/python3.7/site-packages/tensorflow_core/python/util/tf_should_use.py\", line 198, in wrapped\n",
      "    return _add_should_use_warning(fn(*args, **kwargs))\n",
      "==================================\n"
     ]
    },
    {
     "name": "stdout",
     "output_type": "stream",
     "text": [
      "ERROR:tensorflow:==================================\n",
      "Object was never used (type <class 'tensorflow.python.framework.ops.Tensor'>):\n",
      "<tf.Tensor 'VarIsInitializedOp_259:0' shape=() dtype=bool>\n",
      "If you want to mark it as used call its \"mark_used()\" method.\n",
      "It was originally created here:\n",
      "  File \"/usr/local/lib/python3.7/site-packages/tensorflow_core/python/keras/backend.py\", line 3363, in batch_set_value\n",
      "    get_session().run(assign_ops, feed_dict=feed_dict)  File \"/usr/local/lib/python3.7/site-packages/tensorflow_core/python/keras/backend.py\", line 491, in get_session\n",
      "    _initialize_variables(session)  File \"/usr/local/lib/python3.7/site-packages/tensorflow_core/python/keras/backend.py\", line 908, in _initialize_variables\n",
      "    [variables_module.is_variable_initialized(v) for v in candidate_vars])  File \"/usr/local/lib/python3.7/site-packages/tensorflow_core/python/keras/backend.py\", line 908, in <listcomp>\n",
      "    [variables_module.is_variable_initialized(v) for v in candidate_vars])  File \"/usr/local/lib/python3.7/site-packages/tensorflow_core/python/util/tf_should_use.py\", line 198, in wrapped\n",
      "    return _add_should_use_warning(fn(*args, **kwargs))\n",
      "==================================\n"
     ]
    },
    {
     "name": "stderr",
     "output_type": "stream",
     "text": [
      "ERROR:tensorflow:==================================\n",
      "Object was never used (type <class 'tensorflow.python.framework.ops.Tensor'>):\n",
      "<tf.Tensor 'VarIsInitializedOp_259:0' shape=() dtype=bool>\n",
      "If you want to mark it as used call its \"mark_used()\" method.\n",
      "It was originally created here:\n",
      "  File \"/usr/local/lib/python3.7/site-packages/tensorflow_core/python/keras/backend.py\", line 3363, in batch_set_value\n",
      "    get_session().run(assign_ops, feed_dict=feed_dict)  File \"/usr/local/lib/python3.7/site-packages/tensorflow_core/python/keras/backend.py\", line 491, in get_session\n",
      "    _initialize_variables(session)  File \"/usr/local/lib/python3.7/site-packages/tensorflow_core/python/keras/backend.py\", line 908, in _initialize_variables\n",
      "    [variables_module.is_variable_initialized(v) for v in candidate_vars])  File \"/usr/local/lib/python3.7/site-packages/tensorflow_core/python/keras/backend.py\", line 908, in <listcomp>\n",
      "    [variables_module.is_variable_initialized(v) for v in candidate_vars])  File \"/usr/local/lib/python3.7/site-packages/tensorflow_core/python/util/tf_should_use.py\", line 198, in wrapped\n",
      "    return _add_should_use_warning(fn(*args, **kwargs))\n",
      "==================================\n"
     ]
    },
    {
     "name": "stdout",
     "output_type": "stream",
     "text": [
      "ERROR:tensorflow:==================================\n",
      "Object was never used (type <class 'tensorflow.python.framework.ops.Tensor'>):\n",
      "<tf.Tensor 'VarIsInitializedOp_258:0' shape=() dtype=bool>\n",
      "If you want to mark it as used call its \"mark_used()\" method.\n",
      "It was originally created here:\n",
      "  File \"/usr/local/lib/python3.7/site-packages/tensorflow_core/python/keras/backend.py\", line 3363, in batch_set_value\n",
      "    get_session().run(assign_ops, feed_dict=feed_dict)  File \"/usr/local/lib/python3.7/site-packages/tensorflow_core/python/keras/backend.py\", line 491, in get_session\n",
      "    _initialize_variables(session)  File \"/usr/local/lib/python3.7/site-packages/tensorflow_core/python/keras/backend.py\", line 908, in _initialize_variables\n",
      "    [variables_module.is_variable_initialized(v) for v in candidate_vars])  File \"/usr/local/lib/python3.7/site-packages/tensorflow_core/python/keras/backend.py\", line 908, in <listcomp>\n",
      "    [variables_module.is_variable_initialized(v) for v in candidate_vars])  File \"/usr/local/lib/python3.7/site-packages/tensorflow_core/python/util/tf_should_use.py\", line 198, in wrapped\n",
      "    return _add_should_use_warning(fn(*args, **kwargs))\n",
      "==================================\n"
     ]
    },
    {
     "name": "stderr",
     "output_type": "stream",
     "text": [
      "ERROR:tensorflow:==================================\n",
      "Object was never used (type <class 'tensorflow.python.framework.ops.Tensor'>):\n",
      "<tf.Tensor 'VarIsInitializedOp_258:0' shape=() dtype=bool>\n",
      "If you want to mark it as used call its \"mark_used()\" method.\n",
      "It was originally created here:\n",
      "  File \"/usr/local/lib/python3.7/site-packages/tensorflow_core/python/keras/backend.py\", line 3363, in batch_set_value\n",
      "    get_session().run(assign_ops, feed_dict=feed_dict)  File \"/usr/local/lib/python3.7/site-packages/tensorflow_core/python/keras/backend.py\", line 491, in get_session\n",
      "    _initialize_variables(session)  File \"/usr/local/lib/python3.7/site-packages/tensorflow_core/python/keras/backend.py\", line 908, in _initialize_variables\n",
      "    [variables_module.is_variable_initialized(v) for v in candidate_vars])  File \"/usr/local/lib/python3.7/site-packages/tensorflow_core/python/keras/backend.py\", line 908, in <listcomp>\n",
      "    [variables_module.is_variable_initialized(v) for v in candidate_vars])  File \"/usr/local/lib/python3.7/site-packages/tensorflow_core/python/util/tf_should_use.py\", line 198, in wrapped\n",
      "    return _add_should_use_warning(fn(*args, **kwargs))\n",
      "==================================\n"
     ]
    },
    {
     "name": "stdout",
     "output_type": "stream",
     "text": [
      "ERROR:tensorflow:==================================\n",
      "Object was never used (type <class 'tensorflow.python.framework.ops.Tensor'>):\n",
      "<tf.Tensor 'VarIsInitializedOp_257:0' shape=() dtype=bool>\n",
      "If you want to mark it as used call its \"mark_used()\" method.\n",
      "It was originally created here:\n",
      "  File \"/usr/local/lib/python3.7/site-packages/tensorflow_core/python/keras/backend.py\", line 3363, in batch_set_value\n",
      "    get_session().run(assign_ops, feed_dict=feed_dict)  File \"/usr/local/lib/python3.7/site-packages/tensorflow_core/python/keras/backend.py\", line 491, in get_session\n",
      "    _initialize_variables(session)  File \"/usr/local/lib/python3.7/site-packages/tensorflow_core/python/keras/backend.py\", line 908, in _initialize_variables\n",
      "    [variables_module.is_variable_initialized(v) for v in candidate_vars])  File \"/usr/local/lib/python3.7/site-packages/tensorflow_core/python/keras/backend.py\", line 908, in <listcomp>\n",
      "    [variables_module.is_variable_initialized(v) for v in candidate_vars])  File \"/usr/local/lib/python3.7/site-packages/tensorflow_core/python/util/tf_should_use.py\", line 198, in wrapped\n",
      "    return _add_should_use_warning(fn(*args, **kwargs))\n",
      "==================================\n"
     ]
    },
    {
     "name": "stderr",
     "output_type": "stream",
     "text": [
      "ERROR:tensorflow:==================================\n",
      "Object was never used (type <class 'tensorflow.python.framework.ops.Tensor'>):\n",
      "<tf.Tensor 'VarIsInitializedOp_257:0' shape=() dtype=bool>\n",
      "If you want to mark it as used call its \"mark_used()\" method.\n",
      "It was originally created here:\n",
      "  File \"/usr/local/lib/python3.7/site-packages/tensorflow_core/python/keras/backend.py\", line 3363, in batch_set_value\n",
      "    get_session().run(assign_ops, feed_dict=feed_dict)  File \"/usr/local/lib/python3.7/site-packages/tensorflow_core/python/keras/backend.py\", line 491, in get_session\n",
      "    _initialize_variables(session)  File \"/usr/local/lib/python3.7/site-packages/tensorflow_core/python/keras/backend.py\", line 908, in _initialize_variables\n",
      "    [variables_module.is_variable_initialized(v) for v in candidate_vars])  File \"/usr/local/lib/python3.7/site-packages/tensorflow_core/python/keras/backend.py\", line 908, in <listcomp>\n",
      "    [variables_module.is_variable_initialized(v) for v in candidate_vars])  File \"/usr/local/lib/python3.7/site-packages/tensorflow_core/python/util/tf_should_use.py\", line 198, in wrapped\n",
      "    return _add_should_use_warning(fn(*args, **kwargs))\n",
      "==================================\n"
     ]
    },
    {
     "name": "stdout",
     "output_type": "stream",
     "text": [
      "ERROR:tensorflow:==================================\n",
      "Object was never used (type <class 'tensorflow.python.framework.ops.Tensor'>):\n",
      "<tf.Tensor 'VarIsInitializedOp_256:0' shape=() dtype=bool>\n",
      "If you want to mark it as used call its \"mark_used()\" method.\n",
      "It was originally created here:\n",
      "  File \"/usr/local/lib/python3.7/site-packages/tensorflow_core/python/keras/backend.py\", line 3363, in batch_set_value\n",
      "    get_session().run(assign_ops, feed_dict=feed_dict)  File \"/usr/local/lib/python3.7/site-packages/tensorflow_core/python/keras/backend.py\", line 491, in get_session\n",
      "    _initialize_variables(session)  File \"/usr/local/lib/python3.7/site-packages/tensorflow_core/python/keras/backend.py\", line 908, in _initialize_variables\n",
      "    [variables_module.is_variable_initialized(v) for v in candidate_vars])  File \"/usr/local/lib/python3.7/site-packages/tensorflow_core/python/keras/backend.py\", line 908, in <listcomp>\n",
      "    [variables_module.is_variable_initialized(v) for v in candidate_vars])  File \"/usr/local/lib/python3.7/site-packages/tensorflow_core/python/util/tf_should_use.py\", line 198, in wrapped\n",
      "    return _add_should_use_warning(fn(*args, **kwargs))\n",
      "==================================\n"
     ]
    },
    {
     "name": "stderr",
     "output_type": "stream",
     "text": [
      "ERROR:tensorflow:==================================\n",
      "Object was never used (type <class 'tensorflow.python.framework.ops.Tensor'>):\n",
      "<tf.Tensor 'VarIsInitializedOp_256:0' shape=() dtype=bool>\n",
      "If you want to mark it as used call its \"mark_used()\" method.\n",
      "It was originally created here:\n",
      "  File \"/usr/local/lib/python3.7/site-packages/tensorflow_core/python/keras/backend.py\", line 3363, in batch_set_value\n",
      "    get_session().run(assign_ops, feed_dict=feed_dict)  File \"/usr/local/lib/python3.7/site-packages/tensorflow_core/python/keras/backend.py\", line 491, in get_session\n",
      "    _initialize_variables(session)  File \"/usr/local/lib/python3.7/site-packages/tensorflow_core/python/keras/backend.py\", line 908, in _initialize_variables\n",
      "    [variables_module.is_variable_initialized(v) for v in candidate_vars])  File \"/usr/local/lib/python3.7/site-packages/tensorflow_core/python/keras/backend.py\", line 908, in <listcomp>\n",
      "    [variables_module.is_variable_initialized(v) for v in candidate_vars])  File \"/usr/local/lib/python3.7/site-packages/tensorflow_core/python/util/tf_should_use.py\", line 198, in wrapped\n",
      "    return _add_should_use_warning(fn(*args, **kwargs))\n",
      "==================================\n"
     ]
    },
    {
     "name": "stdout",
     "output_type": "stream",
     "text": [
      "ERROR:tensorflow:==================================\n",
      "Object was never used (type <class 'tensorflow.python.framework.ops.Tensor'>):\n",
      "<tf.Tensor 'VarIsInitializedOp_255:0' shape=() dtype=bool>\n",
      "If you want to mark it as used call its \"mark_used()\" method.\n",
      "It was originally created here:\n",
      "  File \"/usr/local/lib/python3.7/site-packages/tensorflow_core/python/keras/backend.py\", line 3363, in batch_set_value\n",
      "    get_session().run(assign_ops, feed_dict=feed_dict)  File \"/usr/local/lib/python3.7/site-packages/tensorflow_core/python/keras/backend.py\", line 491, in get_session\n",
      "    _initialize_variables(session)  File \"/usr/local/lib/python3.7/site-packages/tensorflow_core/python/keras/backend.py\", line 908, in _initialize_variables\n",
      "    [variables_module.is_variable_initialized(v) for v in candidate_vars])  File \"/usr/local/lib/python3.7/site-packages/tensorflow_core/python/keras/backend.py\", line 908, in <listcomp>\n",
      "    [variables_module.is_variable_initialized(v) for v in candidate_vars])  File \"/usr/local/lib/python3.7/site-packages/tensorflow_core/python/util/tf_should_use.py\", line 198, in wrapped\n",
      "    return _add_should_use_warning(fn(*args, **kwargs))\n",
      "==================================\n"
     ]
    },
    {
     "name": "stderr",
     "output_type": "stream",
     "text": [
      "ERROR:tensorflow:==================================\n",
      "Object was never used (type <class 'tensorflow.python.framework.ops.Tensor'>):\n",
      "<tf.Tensor 'VarIsInitializedOp_255:0' shape=() dtype=bool>\n",
      "If you want to mark it as used call its \"mark_used()\" method.\n",
      "It was originally created here:\n",
      "  File \"/usr/local/lib/python3.7/site-packages/tensorflow_core/python/keras/backend.py\", line 3363, in batch_set_value\n",
      "    get_session().run(assign_ops, feed_dict=feed_dict)  File \"/usr/local/lib/python3.7/site-packages/tensorflow_core/python/keras/backend.py\", line 491, in get_session\n",
      "    _initialize_variables(session)  File \"/usr/local/lib/python3.7/site-packages/tensorflow_core/python/keras/backend.py\", line 908, in _initialize_variables\n",
      "    [variables_module.is_variable_initialized(v) for v in candidate_vars])  File \"/usr/local/lib/python3.7/site-packages/tensorflow_core/python/keras/backend.py\", line 908, in <listcomp>\n",
      "    [variables_module.is_variable_initialized(v) for v in candidate_vars])  File \"/usr/local/lib/python3.7/site-packages/tensorflow_core/python/util/tf_should_use.py\", line 198, in wrapped\n",
      "    return _add_should_use_warning(fn(*args, **kwargs))\n",
      "==================================\n"
     ]
    },
    {
     "name": "stdout",
     "output_type": "stream",
     "text": [
      "ERROR:tensorflow:==================================\n",
      "Object was never used (type <class 'tensorflow.python.framework.ops.Tensor'>):\n",
      "<tf.Tensor 'VarIsInitializedOp_254:0' shape=() dtype=bool>\n",
      "If you want to mark it as used call its \"mark_used()\" method.\n",
      "It was originally created here:\n",
      "  File \"/usr/local/lib/python3.7/site-packages/tensorflow_core/python/keras/backend.py\", line 3363, in batch_set_value\n",
      "    get_session().run(assign_ops, feed_dict=feed_dict)  File \"/usr/local/lib/python3.7/site-packages/tensorflow_core/python/keras/backend.py\", line 491, in get_session\n",
      "    _initialize_variables(session)  File \"/usr/local/lib/python3.7/site-packages/tensorflow_core/python/keras/backend.py\", line 908, in _initialize_variables\n",
      "    [variables_module.is_variable_initialized(v) for v in candidate_vars])  File \"/usr/local/lib/python3.7/site-packages/tensorflow_core/python/keras/backend.py\", line 908, in <listcomp>\n",
      "    [variables_module.is_variable_initialized(v) for v in candidate_vars])  File \"/usr/local/lib/python3.7/site-packages/tensorflow_core/python/util/tf_should_use.py\", line 198, in wrapped\n",
      "    return _add_should_use_warning(fn(*args, **kwargs))\n",
      "==================================\n"
     ]
    },
    {
     "name": "stderr",
     "output_type": "stream",
     "text": [
      "ERROR:tensorflow:==================================\n",
      "Object was never used (type <class 'tensorflow.python.framework.ops.Tensor'>):\n",
      "<tf.Tensor 'VarIsInitializedOp_254:0' shape=() dtype=bool>\n",
      "If you want to mark it as used call its \"mark_used()\" method.\n",
      "It was originally created here:\n",
      "  File \"/usr/local/lib/python3.7/site-packages/tensorflow_core/python/keras/backend.py\", line 3363, in batch_set_value\n",
      "    get_session().run(assign_ops, feed_dict=feed_dict)  File \"/usr/local/lib/python3.7/site-packages/tensorflow_core/python/keras/backend.py\", line 491, in get_session\n",
      "    _initialize_variables(session)  File \"/usr/local/lib/python3.7/site-packages/tensorflow_core/python/keras/backend.py\", line 908, in _initialize_variables\n",
      "    [variables_module.is_variable_initialized(v) for v in candidate_vars])  File \"/usr/local/lib/python3.7/site-packages/tensorflow_core/python/keras/backend.py\", line 908, in <listcomp>\n",
      "    [variables_module.is_variable_initialized(v) for v in candidate_vars])  File \"/usr/local/lib/python3.7/site-packages/tensorflow_core/python/util/tf_should_use.py\", line 198, in wrapped\n",
      "    return _add_should_use_warning(fn(*args, **kwargs))\n",
      "==================================\n"
     ]
    },
    {
     "name": "stdout",
     "output_type": "stream",
     "text": [
      "ERROR:tensorflow:==================================\n",
      "Object was never used (type <class 'tensorflow.python.framework.ops.Tensor'>):\n",
      "<tf.Tensor 'VarIsInitializedOp_253:0' shape=() dtype=bool>\n",
      "If you want to mark it as used call its \"mark_used()\" method.\n",
      "It was originally created here:\n",
      "  File \"/usr/local/lib/python3.7/site-packages/tensorflow_core/python/keras/backend.py\", line 3363, in batch_set_value\n",
      "    get_session().run(assign_ops, feed_dict=feed_dict)  File \"/usr/local/lib/python3.7/site-packages/tensorflow_core/python/keras/backend.py\", line 491, in get_session\n",
      "    _initialize_variables(session)  File \"/usr/local/lib/python3.7/site-packages/tensorflow_core/python/keras/backend.py\", line 908, in _initialize_variables\n",
      "    [variables_module.is_variable_initialized(v) for v in candidate_vars])  File \"/usr/local/lib/python3.7/site-packages/tensorflow_core/python/keras/backend.py\", line 908, in <listcomp>\n",
      "    [variables_module.is_variable_initialized(v) for v in candidate_vars])  File \"/usr/local/lib/python3.7/site-packages/tensorflow_core/python/util/tf_should_use.py\", line 198, in wrapped\n",
      "    return _add_should_use_warning(fn(*args, **kwargs))\n",
      "==================================\n"
     ]
    },
    {
     "name": "stderr",
     "output_type": "stream",
     "text": [
      "ERROR:tensorflow:==================================\n",
      "Object was never used (type <class 'tensorflow.python.framework.ops.Tensor'>):\n",
      "<tf.Tensor 'VarIsInitializedOp_253:0' shape=() dtype=bool>\n",
      "If you want to mark it as used call its \"mark_used()\" method.\n",
      "It was originally created here:\n",
      "  File \"/usr/local/lib/python3.7/site-packages/tensorflow_core/python/keras/backend.py\", line 3363, in batch_set_value\n",
      "    get_session().run(assign_ops, feed_dict=feed_dict)  File \"/usr/local/lib/python3.7/site-packages/tensorflow_core/python/keras/backend.py\", line 491, in get_session\n",
      "    _initialize_variables(session)  File \"/usr/local/lib/python3.7/site-packages/tensorflow_core/python/keras/backend.py\", line 908, in _initialize_variables\n",
      "    [variables_module.is_variable_initialized(v) for v in candidate_vars])  File \"/usr/local/lib/python3.7/site-packages/tensorflow_core/python/keras/backend.py\", line 908, in <listcomp>\n",
      "    [variables_module.is_variable_initialized(v) for v in candidate_vars])  File \"/usr/local/lib/python3.7/site-packages/tensorflow_core/python/util/tf_should_use.py\", line 198, in wrapped\n",
      "    return _add_should_use_warning(fn(*args, **kwargs))\n",
      "==================================\n"
     ]
    },
    {
     "name": "stdout",
     "output_type": "stream",
     "text": [
      "ERROR:tensorflow:==================================\n",
      "Object was never used (type <class 'tensorflow.python.framework.ops.Tensor'>):\n",
      "<tf.Tensor 'VarIsInitializedOp_252:0' shape=() dtype=bool>\n",
      "If you want to mark it as used call its \"mark_used()\" method.\n",
      "It was originally created here:\n",
      "  File \"/usr/local/lib/python3.7/site-packages/tensorflow_core/python/keras/backend.py\", line 3363, in batch_set_value\n",
      "    get_session().run(assign_ops, feed_dict=feed_dict)  File \"/usr/local/lib/python3.7/site-packages/tensorflow_core/python/keras/backend.py\", line 491, in get_session\n",
      "    _initialize_variables(session)  File \"/usr/local/lib/python3.7/site-packages/tensorflow_core/python/keras/backend.py\", line 908, in _initialize_variables\n",
      "    [variables_module.is_variable_initialized(v) for v in candidate_vars])  File \"/usr/local/lib/python3.7/site-packages/tensorflow_core/python/keras/backend.py\", line 908, in <listcomp>\n",
      "    [variables_module.is_variable_initialized(v) for v in candidate_vars])  File \"/usr/local/lib/python3.7/site-packages/tensorflow_core/python/util/tf_should_use.py\", line 198, in wrapped\n",
      "    return _add_should_use_warning(fn(*args, **kwargs))\n",
      "==================================\n"
     ]
    },
    {
     "name": "stderr",
     "output_type": "stream",
     "text": [
      "ERROR:tensorflow:==================================\n",
      "Object was never used (type <class 'tensorflow.python.framework.ops.Tensor'>):\n",
      "<tf.Tensor 'VarIsInitializedOp_252:0' shape=() dtype=bool>\n",
      "If you want to mark it as used call its \"mark_used()\" method.\n",
      "It was originally created here:\n",
      "  File \"/usr/local/lib/python3.7/site-packages/tensorflow_core/python/keras/backend.py\", line 3363, in batch_set_value\n",
      "    get_session().run(assign_ops, feed_dict=feed_dict)  File \"/usr/local/lib/python3.7/site-packages/tensorflow_core/python/keras/backend.py\", line 491, in get_session\n",
      "    _initialize_variables(session)  File \"/usr/local/lib/python3.7/site-packages/tensorflow_core/python/keras/backend.py\", line 908, in _initialize_variables\n",
      "    [variables_module.is_variable_initialized(v) for v in candidate_vars])  File \"/usr/local/lib/python3.7/site-packages/tensorflow_core/python/keras/backend.py\", line 908, in <listcomp>\n",
      "    [variables_module.is_variable_initialized(v) for v in candidate_vars])  File \"/usr/local/lib/python3.7/site-packages/tensorflow_core/python/util/tf_should_use.py\", line 198, in wrapped\n",
      "    return _add_should_use_warning(fn(*args, **kwargs))\n",
      "==================================\n"
     ]
    },
    {
     "name": "stdout",
     "output_type": "stream",
     "text": [
      "ERROR:tensorflow:==================================\n",
      "Object was never used (type <class 'tensorflow.python.framework.ops.Tensor'>):\n",
      "<tf.Tensor 'VarIsInitializedOp_251:0' shape=() dtype=bool>\n",
      "If you want to mark it as used call its \"mark_used()\" method.\n",
      "It was originally created here:\n",
      "  File \"/usr/local/lib/python3.7/site-packages/tensorflow_core/python/keras/backend.py\", line 3363, in batch_set_value\n",
      "    get_session().run(assign_ops, feed_dict=feed_dict)  File \"/usr/local/lib/python3.7/site-packages/tensorflow_core/python/keras/backend.py\", line 491, in get_session\n",
      "    _initialize_variables(session)  File \"/usr/local/lib/python3.7/site-packages/tensorflow_core/python/keras/backend.py\", line 908, in _initialize_variables\n",
      "    [variables_module.is_variable_initialized(v) for v in candidate_vars])  File \"/usr/local/lib/python3.7/site-packages/tensorflow_core/python/keras/backend.py\", line 908, in <listcomp>\n",
      "    [variables_module.is_variable_initialized(v) for v in candidate_vars])  File \"/usr/local/lib/python3.7/site-packages/tensorflow_core/python/util/tf_should_use.py\", line 198, in wrapped\n",
      "    return _add_should_use_warning(fn(*args, **kwargs))\n",
      "==================================\n"
     ]
    },
    {
     "name": "stderr",
     "output_type": "stream",
     "text": [
      "ERROR:tensorflow:==================================\n",
      "Object was never used (type <class 'tensorflow.python.framework.ops.Tensor'>):\n",
      "<tf.Tensor 'VarIsInitializedOp_251:0' shape=() dtype=bool>\n",
      "If you want to mark it as used call its \"mark_used()\" method.\n",
      "It was originally created here:\n",
      "  File \"/usr/local/lib/python3.7/site-packages/tensorflow_core/python/keras/backend.py\", line 3363, in batch_set_value\n",
      "    get_session().run(assign_ops, feed_dict=feed_dict)  File \"/usr/local/lib/python3.7/site-packages/tensorflow_core/python/keras/backend.py\", line 491, in get_session\n",
      "    _initialize_variables(session)  File \"/usr/local/lib/python3.7/site-packages/tensorflow_core/python/keras/backend.py\", line 908, in _initialize_variables\n",
      "    [variables_module.is_variable_initialized(v) for v in candidate_vars])  File \"/usr/local/lib/python3.7/site-packages/tensorflow_core/python/keras/backend.py\", line 908, in <listcomp>\n",
      "    [variables_module.is_variable_initialized(v) for v in candidate_vars])  File \"/usr/local/lib/python3.7/site-packages/tensorflow_core/python/util/tf_should_use.py\", line 198, in wrapped\n",
      "    return _add_should_use_warning(fn(*args, **kwargs))\n",
      "==================================\n"
     ]
    },
    {
     "name": "stdout",
     "output_type": "stream",
     "text": [
      "ERROR:tensorflow:==================================\n",
      "Object was never used (type <class 'tensorflow.python.framework.ops.Tensor'>):\n",
      "<tf.Tensor 'VarIsInitializedOp_250:0' shape=() dtype=bool>\n",
      "If you want to mark it as used call its \"mark_used()\" method.\n",
      "It was originally created here:\n",
      "  File \"/usr/local/lib/python3.7/site-packages/tensorflow_core/python/keras/backend.py\", line 3363, in batch_set_value\n",
      "    get_session().run(assign_ops, feed_dict=feed_dict)  File \"/usr/local/lib/python3.7/site-packages/tensorflow_core/python/keras/backend.py\", line 491, in get_session\n",
      "    _initialize_variables(session)  File \"/usr/local/lib/python3.7/site-packages/tensorflow_core/python/keras/backend.py\", line 908, in _initialize_variables\n",
      "    [variables_module.is_variable_initialized(v) for v in candidate_vars])  File \"/usr/local/lib/python3.7/site-packages/tensorflow_core/python/keras/backend.py\", line 908, in <listcomp>\n",
      "    [variables_module.is_variable_initialized(v) for v in candidate_vars])  File \"/usr/local/lib/python3.7/site-packages/tensorflow_core/python/util/tf_should_use.py\", line 198, in wrapped\n",
      "    return _add_should_use_warning(fn(*args, **kwargs))\n",
      "==================================\n"
     ]
    },
    {
     "name": "stderr",
     "output_type": "stream",
     "text": [
      "ERROR:tensorflow:==================================\n",
      "Object was never used (type <class 'tensorflow.python.framework.ops.Tensor'>):\n",
      "<tf.Tensor 'VarIsInitializedOp_250:0' shape=() dtype=bool>\n",
      "If you want to mark it as used call its \"mark_used()\" method.\n",
      "It was originally created here:\n",
      "  File \"/usr/local/lib/python3.7/site-packages/tensorflow_core/python/keras/backend.py\", line 3363, in batch_set_value\n",
      "    get_session().run(assign_ops, feed_dict=feed_dict)  File \"/usr/local/lib/python3.7/site-packages/tensorflow_core/python/keras/backend.py\", line 491, in get_session\n",
      "    _initialize_variables(session)  File \"/usr/local/lib/python3.7/site-packages/tensorflow_core/python/keras/backend.py\", line 908, in _initialize_variables\n",
      "    [variables_module.is_variable_initialized(v) for v in candidate_vars])  File \"/usr/local/lib/python3.7/site-packages/tensorflow_core/python/keras/backend.py\", line 908, in <listcomp>\n",
      "    [variables_module.is_variable_initialized(v) for v in candidate_vars])  File \"/usr/local/lib/python3.7/site-packages/tensorflow_core/python/util/tf_should_use.py\", line 198, in wrapped\n",
      "    return _add_should_use_warning(fn(*args, **kwargs))\n",
      "==================================\n"
     ]
    },
    {
     "name": "stdout",
     "output_type": "stream",
     "text": [
      "ERROR:tensorflow:==================================\n",
      "Object was never used (type <class 'tensorflow.python.framework.ops.Tensor'>):\n",
      "<tf.Tensor 'VarIsInitializedOp_249:0' shape=() dtype=bool>\n",
      "If you want to mark it as used call its \"mark_used()\" method.\n",
      "It was originally created here:\n",
      "  File \"/usr/local/lib/python3.7/site-packages/tensorflow_core/python/keras/backend.py\", line 3363, in batch_set_value\n",
      "    get_session().run(assign_ops, feed_dict=feed_dict)  File \"/usr/local/lib/python3.7/site-packages/tensorflow_core/python/keras/backend.py\", line 491, in get_session\n",
      "    _initialize_variables(session)  File \"/usr/local/lib/python3.7/site-packages/tensorflow_core/python/keras/backend.py\", line 908, in _initialize_variables\n",
      "    [variables_module.is_variable_initialized(v) for v in candidate_vars])  File \"/usr/local/lib/python3.7/site-packages/tensorflow_core/python/keras/backend.py\", line 908, in <listcomp>\n",
      "    [variables_module.is_variable_initialized(v) for v in candidate_vars])  File \"/usr/local/lib/python3.7/site-packages/tensorflow_core/python/util/tf_should_use.py\", line 198, in wrapped\n",
      "    return _add_should_use_warning(fn(*args, **kwargs))\n",
      "==================================\n"
     ]
    },
    {
     "name": "stderr",
     "output_type": "stream",
     "text": [
      "ERROR:tensorflow:==================================\n",
      "Object was never used (type <class 'tensorflow.python.framework.ops.Tensor'>):\n",
      "<tf.Tensor 'VarIsInitializedOp_249:0' shape=() dtype=bool>\n",
      "If you want to mark it as used call its \"mark_used()\" method.\n",
      "It was originally created here:\n",
      "  File \"/usr/local/lib/python3.7/site-packages/tensorflow_core/python/keras/backend.py\", line 3363, in batch_set_value\n",
      "    get_session().run(assign_ops, feed_dict=feed_dict)  File \"/usr/local/lib/python3.7/site-packages/tensorflow_core/python/keras/backend.py\", line 491, in get_session\n",
      "    _initialize_variables(session)  File \"/usr/local/lib/python3.7/site-packages/tensorflow_core/python/keras/backend.py\", line 908, in _initialize_variables\n",
      "    [variables_module.is_variable_initialized(v) for v in candidate_vars])  File \"/usr/local/lib/python3.7/site-packages/tensorflow_core/python/keras/backend.py\", line 908, in <listcomp>\n",
      "    [variables_module.is_variable_initialized(v) for v in candidate_vars])  File \"/usr/local/lib/python3.7/site-packages/tensorflow_core/python/util/tf_should_use.py\", line 198, in wrapped\n",
      "    return _add_should_use_warning(fn(*args, **kwargs))\n",
      "==================================\n"
     ]
    },
    {
     "name": "stdout",
     "output_type": "stream",
     "text": [
      "ERROR:tensorflow:==================================\n",
      "Object was never used (type <class 'tensorflow.python.framework.ops.Tensor'>):\n",
      "<tf.Tensor 'VarIsInitializedOp_248:0' shape=() dtype=bool>\n",
      "If you want to mark it as used call its \"mark_used()\" method.\n",
      "It was originally created here:\n",
      "  File \"/usr/local/lib/python3.7/site-packages/tensorflow_core/python/keras/backend.py\", line 3363, in batch_set_value\n",
      "    get_session().run(assign_ops, feed_dict=feed_dict)  File \"/usr/local/lib/python3.7/site-packages/tensorflow_core/python/keras/backend.py\", line 491, in get_session\n",
      "    _initialize_variables(session)  File \"/usr/local/lib/python3.7/site-packages/tensorflow_core/python/keras/backend.py\", line 908, in _initialize_variables\n",
      "    [variables_module.is_variable_initialized(v) for v in candidate_vars])  File \"/usr/local/lib/python3.7/site-packages/tensorflow_core/python/keras/backend.py\", line 908, in <listcomp>\n",
      "    [variables_module.is_variable_initialized(v) for v in candidate_vars])  File \"/usr/local/lib/python3.7/site-packages/tensorflow_core/python/util/tf_should_use.py\", line 198, in wrapped\n",
      "    return _add_should_use_warning(fn(*args, **kwargs))\n",
      "==================================\n"
     ]
    },
    {
     "name": "stderr",
     "output_type": "stream",
     "text": [
      "ERROR:tensorflow:==================================\n",
      "Object was never used (type <class 'tensorflow.python.framework.ops.Tensor'>):\n",
      "<tf.Tensor 'VarIsInitializedOp_248:0' shape=() dtype=bool>\n",
      "If you want to mark it as used call its \"mark_used()\" method.\n",
      "It was originally created here:\n",
      "  File \"/usr/local/lib/python3.7/site-packages/tensorflow_core/python/keras/backend.py\", line 3363, in batch_set_value\n",
      "    get_session().run(assign_ops, feed_dict=feed_dict)  File \"/usr/local/lib/python3.7/site-packages/tensorflow_core/python/keras/backend.py\", line 491, in get_session\n",
      "    _initialize_variables(session)  File \"/usr/local/lib/python3.7/site-packages/tensorflow_core/python/keras/backend.py\", line 908, in _initialize_variables\n",
      "    [variables_module.is_variable_initialized(v) for v in candidate_vars])  File \"/usr/local/lib/python3.7/site-packages/tensorflow_core/python/keras/backend.py\", line 908, in <listcomp>\n",
      "    [variables_module.is_variable_initialized(v) for v in candidate_vars])  File \"/usr/local/lib/python3.7/site-packages/tensorflow_core/python/util/tf_should_use.py\", line 198, in wrapped\n",
      "    return _add_should_use_warning(fn(*args, **kwargs))\n",
      "==================================\n"
     ]
    },
    {
     "name": "stdout",
     "output_type": "stream",
     "text": [
      "ERROR:tensorflow:==================================\n",
      "Object was never used (type <class 'tensorflow.python.framework.ops.Tensor'>):\n",
      "<tf.Tensor 'VarIsInitializedOp_247:0' shape=() dtype=bool>\n",
      "If you want to mark it as used call its \"mark_used()\" method.\n",
      "It was originally created here:\n",
      "  File \"/usr/local/lib/python3.7/site-packages/tensorflow_core/python/keras/backend.py\", line 3363, in batch_set_value\n",
      "    get_session().run(assign_ops, feed_dict=feed_dict)  File \"/usr/local/lib/python3.7/site-packages/tensorflow_core/python/keras/backend.py\", line 491, in get_session\n",
      "    _initialize_variables(session)  File \"/usr/local/lib/python3.7/site-packages/tensorflow_core/python/keras/backend.py\", line 908, in _initialize_variables\n",
      "    [variables_module.is_variable_initialized(v) for v in candidate_vars])  File \"/usr/local/lib/python3.7/site-packages/tensorflow_core/python/keras/backend.py\", line 908, in <listcomp>\n",
      "    [variables_module.is_variable_initialized(v) for v in candidate_vars])  File \"/usr/local/lib/python3.7/site-packages/tensorflow_core/python/util/tf_should_use.py\", line 198, in wrapped\n",
      "    return _add_should_use_warning(fn(*args, **kwargs))\n",
      "==================================\n"
     ]
    },
    {
     "name": "stderr",
     "output_type": "stream",
     "text": [
      "ERROR:tensorflow:==================================\n",
      "Object was never used (type <class 'tensorflow.python.framework.ops.Tensor'>):\n",
      "<tf.Tensor 'VarIsInitializedOp_247:0' shape=() dtype=bool>\n",
      "If you want to mark it as used call its \"mark_used()\" method.\n",
      "It was originally created here:\n",
      "  File \"/usr/local/lib/python3.7/site-packages/tensorflow_core/python/keras/backend.py\", line 3363, in batch_set_value\n",
      "    get_session().run(assign_ops, feed_dict=feed_dict)  File \"/usr/local/lib/python3.7/site-packages/tensorflow_core/python/keras/backend.py\", line 491, in get_session\n",
      "    _initialize_variables(session)  File \"/usr/local/lib/python3.7/site-packages/tensorflow_core/python/keras/backend.py\", line 908, in _initialize_variables\n",
      "    [variables_module.is_variable_initialized(v) for v in candidate_vars])  File \"/usr/local/lib/python3.7/site-packages/tensorflow_core/python/keras/backend.py\", line 908, in <listcomp>\n",
      "    [variables_module.is_variable_initialized(v) for v in candidate_vars])  File \"/usr/local/lib/python3.7/site-packages/tensorflow_core/python/util/tf_should_use.py\", line 198, in wrapped\n",
      "    return _add_should_use_warning(fn(*args, **kwargs))\n",
      "==================================\n"
     ]
    },
    {
     "name": "stdout",
     "output_type": "stream",
     "text": [
      "ERROR:tensorflow:==================================\n",
      "Object was never used (type <class 'tensorflow.python.framework.ops.Tensor'>):\n",
      "<tf.Tensor 'VarIsInitializedOp_246:0' shape=() dtype=bool>\n",
      "If you want to mark it as used call its \"mark_used()\" method.\n",
      "It was originally created here:\n",
      "  File \"/usr/local/lib/python3.7/site-packages/tensorflow_core/python/keras/backend.py\", line 3363, in batch_set_value\n",
      "    get_session().run(assign_ops, feed_dict=feed_dict)  File \"/usr/local/lib/python3.7/site-packages/tensorflow_core/python/keras/backend.py\", line 491, in get_session\n",
      "    _initialize_variables(session)  File \"/usr/local/lib/python3.7/site-packages/tensorflow_core/python/keras/backend.py\", line 908, in _initialize_variables\n",
      "    [variables_module.is_variable_initialized(v) for v in candidate_vars])  File \"/usr/local/lib/python3.7/site-packages/tensorflow_core/python/keras/backend.py\", line 908, in <listcomp>\n",
      "    [variables_module.is_variable_initialized(v) for v in candidate_vars])  File \"/usr/local/lib/python3.7/site-packages/tensorflow_core/python/util/tf_should_use.py\", line 198, in wrapped\n",
      "    return _add_should_use_warning(fn(*args, **kwargs))\n",
      "==================================\n"
     ]
    },
    {
     "name": "stderr",
     "output_type": "stream",
     "text": [
      "ERROR:tensorflow:==================================\n",
      "Object was never used (type <class 'tensorflow.python.framework.ops.Tensor'>):\n",
      "<tf.Tensor 'VarIsInitializedOp_246:0' shape=() dtype=bool>\n",
      "If you want to mark it as used call its \"mark_used()\" method.\n",
      "It was originally created here:\n",
      "  File \"/usr/local/lib/python3.7/site-packages/tensorflow_core/python/keras/backend.py\", line 3363, in batch_set_value\n",
      "    get_session().run(assign_ops, feed_dict=feed_dict)  File \"/usr/local/lib/python3.7/site-packages/tensorflow_core/python/keras/backend.py\", line 491, in get_session\n",
      "    _initialize_variables(session)  File \"/usr/local/lib/python3.7/site-packages/tensorflow_core/python/keras/backend.py\", line 908, in _initialize_variables\n",
      "    [variables_module.is_variable_initialized(v) for v in candidate_vars])  File \"/usr/local/lib/python3.7/site-packages/tensorflow_core/python/keras/backend.py\", line 908, in <listcomp>\n",
      "    [variables_module.is_variable_initialized(v) for v in candidate_vars])  File \"/usr/local/lib/python3.7/site-packages/tensorflow_core/python/util/tf_should_use.py\", line 198, in wrapped\n",
      "    return _add_should_use_warning(fn(*args, **kwargs))\n",
      "==================================\n"
     ]
    },
    {
     "name": "stdout",
     "output_type": "stream",
     "text": [
      "ERROR:tensorflow:==================================\n",
      "Object was never used (type <class 'tensorflow.python.framework.ops.Tensor'>):\n",
      "<tf.Tensor 'VarIsInitializedOp_245:0' shape=() dtype=bool>\n",
      "If you want to mark it as used call its \"mark_used()\" method.\n",
      "It was originally created here:\n",
      "  File \"/usr/local/lib/python3.7/site-packages/tensorflow_core/python/keras/backend.py\", line 3363, in batch_set_value\n",
      "    get_session().run(assign_ops, feed_dict=feed_dict)  File \"/usr/local/lib/python3.7/site-packages/tensorflow_core/python/keras/backend.py\", line 491, in get_session\n",
      "    _initialize_variables(session)  File \"/usr/local/lib/python3.7/site-packages/tensorflow_core/python/keras/backend.py\", line 908, in _initialize_variables\n",
      "    [variables_module.is_variable_initialized(v) for v in candidate_vars])  File \"/usr/local/lib/python3.7/site-packages/tensorflow_core/python/keras/backend.py\", line 908, in <listcomp>\n",
      "    [variables_module.is_variable_initialized(v) for v in candidate_vars])  File \"/usr/local/lib/python3.7/site-packages/tensorflow_core/python/util/tf_should_use.py\", line 198, in wrapped\n",
      "    return _add_should_use_warning(fn(*args, **kwargs))\n",
      "==================================\n"
     ]
    },
    {
     "name": "stderr",
     "output_type": "stream",
     "text": [
      "ERROR:tensorflow:==================================\n",
      "Object was never used (type <class 'tensorflow.python.framework.ops.Tensor'>):\n",
      "<tf.Tensor 'VarIsInitializedOp_245:0' shape=() dtype=bool>\n",
      "If you want to mark it as used call its \"mark_used()\" method.\n",
      "It was originally created here:\n",
      "  File \"/usr/local/lib/python3.7/site-packages/tensorflow_core/python/keras/backend.py\", line 3363, in batch_set_value\n",
      "    get_session().run(assign_ops, feed_dict=feed_dict)  File \"/usr/local/lib/python3.7/site-packages/tensorflow_core/python/keras/backend.py\", line 491, in get_session\n",
      "    _initialize_variables(session)  File \"/usr/local/lib/python3.7/site-packages/tensorflow_core/python/keras/backend.py\", line 908, in _initialize_variables\n",
      "    [variables_module.is_variable_initialized(v) for v in candidate_vars])  File \"/usr/local/lib/python3.7/site-packages/tensorflow_core/python/keras/backend.py\", line 908, in <listcomp>\n",
      "    [variables_module.is_variable_initialized(v) for v in candidate_vars])  File \"/usr/local/lib/python3.7/site-packages/tensorflow_core/python/util/tf_should_use.py\", line 198, in wrapped\n",
      "    return _add_should_use_warning(fn(*args, **kwargs))\n",
      "==================================\n"
     ]
    },
    {
     "name": "stdout",
     "output_type": "stream",
     "text": [
      "ERROR:tensorflow:==================================\n",
      "Object was never used (type <class 'tensorflow.python.framework.ops.Tensor'>):\n",
      "<tf.Tensor 'VarIsInitializedOp_244:0' shape=() dtype=bool>\n",
      "If you want to mark it as used call its \"mark_used()\" method.\n",
      "It was originally created here:\n",
      "  File \"/usr/local/lib/python3.7/site-packages/tensorflow_core/python/keras/backend.py\", line 3363, in batch_set_value\n",
      "    get_session().run(assign_ops, feed_dict=feed_dict)  File \"/usr/local/lib/python3.7/site-packages/tensorflow_core/python/keras/backend.py\", line 491, in get_session\n",
      "    _initialize_variables(session)  File \"/usr/local/lib/python3.7/site-packages/tensorflow_core/python/keras/backend.py\", line 908, in _initialize_variables\n",
      "    [variables_module.is_variable_initialized(v) for v in candidate_vars])  File \"/usr/local/lib/python3.7/site-packages/tensorflow_core/python/keras/backend.py\", line 908, in <listcomp>\n",
      "    [variables_module.is_variable_initialized(v) for v in candidate_vars])  File \"/usr/local/lib/python3.7/site-packages/tensorflow_core/python/util/tf_should_use.py\", line 198, in wrapped\n",
      "    return _add_should_use_warning(fn(*args, **kwargs))\n",
      "==================================\n"
     ]
    },
    {
     "name": "stderr",
     "output_type": "stream",
     "text": [
      "ERROR:tensorflow:==================================\n",
      "Object was never used (type <class 'tensorflow.python.framework.ops.Tensor'>):\n",
      "<tf.Tensor 'VarIsInitializedOp_244:0' shape=() dtype=bool>\n",
      "If you want to mark it as used call its \"mark_used()\" method.\n",
      "It was originally created here:\n",
      "  File \"/usr/local/lib/python3.7/site-packages/tensorflow_core/python/keras/backend.py\", line 3363, in batch_set_value\n",
      "    get_session().run(assign_ops, feed_dict=feed_dict)  File \"/usr/local/lib/python3.7/site-packages/tensorflow_core/python/keras/backend.py\", line 491, in get_session\n",
      "    _initialize_variables(session)  File \"/usr/local/lib/python3.7/site-packages/tensorflow_core/python/keras/backend.py\", line 908, in _initialize_variables\n",
      "    [variables_module.is_variable_initialized(v) for v in candidate_vars])  File \"/usr/local/lib/python3.7/site-packages/tensorflow_core/python/keras/backend.py\", line 908, in <listcomp>\n",
      "    [variables_module.is_variable_initialized(v) for v in candidate_vars])  File \"/usr/local/lib/python3.7/site-packages/tensorflow_core/python/util/tf_should_use.py\", line 198, in wrapped\n",
      "    return _add_should_use_warning(fn(*args, **kwargs))\n",
      "==================================\n"
     ]
    },
    {
     "name": "stdout",
     "output_type": "stream",
     "text": [
      "ERROR:tensorflow:==================================\n",
      "Object was never used (type <class 'tensorflow.python.framework.ops.Tensor'>):\n",
      "<tf.Tensor 'VarIsInitializedOp_243:0' shape=() dtype=bool>\n",
      "If you want to mark it as used call its \"mark_used()\" method.\n",
      "It was originally created here:\n",
      "  File \"/usr/local/lib/python3.7/site-packages/tensorflow_core/python/keras/backend.py\", line 3363, in batch_set_value\n",
      "    get_session().run(assign_ops, feed_dict=feed_dict)  File \"/usr/local/lib/python3.7/site-packages/tensorflow_core/python/keras/backend.py\", line 491, in get_session\n",
      "    _initialize_variables(session)  File \"/usr/local/lib/python3.7/site-packages/tensorflow_core/python/keras/backend.py\", line 908, in _initialize_variables\n",
      "    [variables_module.is_variable_initialized(v) for v in candidate_vars])  File \"/usr/local/lib/python3.7/site-packages/tensorflow_core/python/keras/backend.py\", line 908, in <listcomp>\n",
      "    [variables_module.is_variable_initialized(v) for v in candidate_vars])  File \"/usr/local/lib/python3.7/site-packages/tensorflow_core/python/util/tf_should_use.py\", line 198, in wrapped\n",
      "    return _add_should_use_warning(fn(*args, **kwargs))\n",
      "==================================\n"
     ]
    },
    {
     "name": "stderr",
     "output_type": "stream",
     "text": [
      "ERROR:tensorflow:==================================\n",
      "Object was never used (type <class 'tensorflow.python.framework.ops.Tensor'>):\n",
      "<tf.Tensor 'VarIsInitializedOp_243:0' shape=() dtype=bool>\n",
      "If you want to mark it as used call its \"mark_used()\" method.\n",
      "It was originally created here:\n",
      "  File \"/usr/local/lib/python3.7/site-packages/tensorflow_core/python/keras/backend.py\", line 3363, in batch_set_value\n",
      "    get_session().run(assign_ops, feed_dict=feed_dict)  File \"/usr/local/lib/python3.7/site-packages/tensorflow_core/python/keras/backend.py\", line 491, in get_session\n",
      "    _initialize_variables(session)  File \"/usr/local/lib/python3.7/site-packages/tensorflow_core/python/keras/backend.py\", line 908, in _initialize_variables\n",
      "    [variables_module.is_variable_initialized(v) for v in candidate_vars])  File \"/usr/local/lib/python3.7/site-packages/tensorflow_core/python/keras/backend.py\", line 908, in <listcomp>\n",
      "    [variables_module.is_variable_initialized(v) for v in candidate_vars])  File \"/usr/local/lib/python3.7/site-packages/tensorflow_core/python/util/tf_should_use.py\", line 198, in wrapped\n",
      "    return _add_should_use_warning(fn(*args, **kwargs))\n",
      "==================================\n"
     ]
    },
    {
     "name": "stdout",
     "output_type": "stream",
     "text": [
      "ERROR:tensorflow:==================================\n",
      "Object was never used (type <class 'tensorflow.python.framework.ops.Tensor'>):\n",
      "<tf.Tensor 'VarIsInitializedOp_242:0' shape=() dtype=bool>\n",
      "If you want to mark it as used call its \"mark_used()\" method.\n",
      "It was originally created here:\n",
      "  File \"/usr/local/lib/python3.7/site-packages/tensorflow_core/python/keras/backend.py\", line 3363, in batch_set_value\n",
      "    get_session().run(assign_ops, feed_dict=feed_dict)  File \"/usr/local/lib/python3.7/site-packages/tensorflow_core/python/keras/backend.py\", line 491, in get_session\n",
      "    _initialize_variables(session)  File \"/usr/local/lib/python3.7/site-packages/tensorflow_core/python/keras/backend.py\", line 908, in _initialize_variables\n",
      "    [variables_module.is_variable_initialized(v) for v in candidate_vars])  File \"/usr/local/lib/python3.7/site-packages/tensorflow_core/python/keras/backend.py\", line 908, in <listcomp>\n",
      "    [variables_module.is_variable_initialized(v) for v in candidate_vars])  File \"/usr/local/lib/python3.7/site-packages/tensorflow_core/python/util/tf_should_use.py\", line 198, in wrapped\n",
      "    return _add_should_use_warning(fn(*args, **kwargs))\n",
      "==================================\n"
     ]
    },
    {
     "name": "stderr",
     "output_type": "stream",
     "text": [
      "ERROR:tensorflow:==================================\n",
      "Object was never used (type <class 'tensorflow.python.framework.ops.Tensor'>):\n",
      "<tf.Tensor 'VarIsInitializedOp_242:0' shape=() dtype=bool>\n",
      "If you want to mark it as used call its \"mark_used()\" method.\n",
      "It was originally created here:\n",
      "  File \"/usr/local/lib/python3.7/site-packages/tensorflow_core/python/keras/backend.py\", line 3363, in batch_set_value\n",
      "    get_session().run(assign_ops, feed_dict=feed_dict)  File \"/usr/local/lib/python3.7/site-packages/tensorflow_core/python/keras/backend.py\", line 491, in get_session\n",
      "    _initialize_variables(session)  File \"/usr/local/lib/python3.7/site-packages/tensorflow_core/python/keras/backend.py\", line 908, in _initialize_variables\n",
      "    [variables_module.is_variable_initialized(v) for v in candidate_vars])  File \"/usr/local/lib/python3.7/site-packages/tensorflow_core/python/keras/backend.py\", line 908, in <listcomp>\n",
      "    [variables_module.is_variable_initialized(v) for v in candidate_vars])  File \"/usr/local/lib/python3.7/site-packages/tensorflow_core/python/util/tf_should_use.py\", line 198, in wrapped\n",
      "    return _add_should_use_warning(fn(*args, **kwargs))\n",
      "==================================\n"
     ]
    },
    {
     "name": "stdout",
     "output_type": "stream",
     "text": [
      "ERROR:tensorflow:==================================\n",
      "Object was never used (type <class 'tensorflow.python.framework.ops.Tensor'>):\n",
      "<tf.Tensor 'VarIsInitializedOp_241:0' shape=() dtype=bool>\n",
      "If you want to mark it as used call its \"mark_used()\" method.\n",
      "It was originally created here:\n",
      "  File \"/usr/local/lib/python3.7/site-packages/tensorflow_core/python/keras/backend.py\", line 3363, in batch_set_value\n",
      "    get_session().run(assign_ops, feed_dict=feed_dict)  File \"/usr/local/lib/python3.7/site-packages/tensorflow_core/python/keras/backend.py\", line 491, in get_session\n",
      "    _initialize_variables(session)  File \"/usr/local/lib/python3.7/site-packages/tensorflow_core/python/keras/backend.py\", line 908, in _initialize_variables\n",
      "    [variables_module.is_variable_initialized(v) for v in candidate_vars])  File \"/usr/local/lib/python3.7/site-packages/tensorflow_core/python/keras/backend.py\", line 908, in <listcomp>\n",
      "    [variables_module.is_variable_initialized(v) for v in candidate_vars])  File \"/usr/local/lib/python3.7/site-packages/tensorflow_core/python/util/tf_should_use.py\", line 198, in wrapped\n",
      "    return _add_should_use_warning(fn(*args, **kwargs))\n",
      "==================================\n"
     ]
    },
    {
     "name": "stderr",
     "output_type": "stream",
     "text": [
      "ERROR:tensorflow:==================================\n",
      "Object was never used (type <class 'tensorflow.python.framework.ops.Tensor'>):\n",
      "<tf.Tensor 'VarIsInitializedOp_241:0' shape=() dtype=bool>\n",
      "If you want to mark it as used call its \"mark_used()\" method.\n",
      "It was originally created here:\n",
      "  File \"/usr/local/lib/python3.7/site-packages/tensorflow_core/python/keras/backend.py\", line 3363, in batch_set_value\n",
      "    get_session().run(assign_ops, feed_dict=feed_dict)  File \"/usr/local/lib/python3.7/site-packages/tensorflow_core/python/keras/backend.py\", line 491, in get_session\n",
      "    _initialize_variables(session)  File \"/usr/local/lib/python3.7/site-packages/tensorflow_core/python/keras/backend.py\", line 908, in _initialize_variables\n",
      "    [variables_module.is_variable_initialized(v) for v in candidate_vars])  File \"/usr/local/lib/python3.7/site-packages/tensorflow_core/python/keras/backend.py\", line 908, in <listcomp>\n",
      "    [variables_module.is_variable_initialized(v) for v in candidate_vars])  File \"/usr/local/lib/python3.7/site-packages/tensorflow_core/python/util/tf_should_use.py\", line 198, in wrapped\n",
      "    return _add_should_use_warning(fn(*args, **kwargs))\n",
      "==================================\n"
     ]
    },
    {
     "name": "stdout",
     "output_type": "stream",
     "text": [
      "ERROR:tensorflow:==================================\n",
      "Object was never used (type <class 'tensorflow.python.framework.ops.Tensor'>):\n",
      "<tf.Tensor 'VarIsInitializedOp_240:0' shape=() dtype=bool>\n",
      "If you want to mark it as used call its \"mark_used()\" method.\n",
      "It was originally created here:\n",
      "  File \"/usr/local/lib/python3.7/site-packages/tensorflow_core/python/keras/backend.py\", line 3363, in batch_set_value\n",
      "    get_session().run(assign_ops, feed_dict=feed_dict)  File \"/usr/local/lib/python3.7/site-packages/tensorflow_core/python/keras/backend.py\", line 491, in get_session\n",
      "    _initialize_variables(session)  File \"/usr/local/lib/python3.7/site-packages/tensorflow_core/python/keras/backend.py\", line 908, in _initialize_variables\n",
      "    [variables_module.is_variable_initialized(v) for v in candidate_vars])  File \"/usr/local/lib/python3.7/site-packages/tensorflow_core/python/keras/backend.py\", line 908, in <listcomp>\n",
      "    [variables_module.is_variable_initialized(v) for v in candidate_vars])  File \"/usr/local/lib/python3.7/site-packages/tensorflow_core/python/util/tf_should_use.py\", line 198, in wrapped\n",
      "    return _add_should_use_warning(fn(*args, **kwargs))\n",
      "==================================\n"
     ]
    },
    {
     "name": "stderr",
     "output_type": "stream",
     "text": [
      "ERROR:tensorflow:==================================\n",
      "Object was never used (type <class 'tensorflow.python.framework.ops.Tensor'>):\n",
      "<tf.Tensor 'VarIsInitializedOp_240:0' shape=() dtype=bool>\n",
      "If you want to mark it as used call its \"mark_used()\" method.\n",
      "It was originally created here:\n",
      "  File \"/usr/local/lib/python3.7/site-packages/tensorflow_core/python/keras/backend.py\", line 3363, in batch_set_value\n",
      "    get_session().run(assign_ops, feed_dict=feed_dict)  File \"/usr/local/lib/python3.7/site-packages/tensorflow_core/python/keras/backend.py\", line 491, in get_session\n",
      "    _initialize_variables(session)  File \"/usr/local/lib/python3.7/site-packages/tensorflow_core/python/keras/backend.py\", line 908, in _initialize_variables\n",
      "    [variables_module.is_variable_initialized(v) for v in candidate_vars])  File \"/usr/local/lib/python3.7/site-packages/tensorflow_core/python/keras/backend.py\", line 908, in <listcomp>\n",
      "    [variables_module.is_variable_initialized(v) for v in candidate_vars])  File \"/usr/local/lib/python3.7/site-packages/tensorflow_core/python/util/tf_should_use.py\", line 198, in wrapped\n",
      "    return _add_should_use_warning(fn(*args, **kwargs))\n",
      "==================================\n"
     ]
    },
    {
     "name": "stdout",
     "output_type": "stream",
     "text": [
      "ERROR:tensorflow:==================================\n",
      "Object was never used (type <class 'tensorflow.python.framework.ops.Tensor'>):\n",
      "<tf.Tensor 'VarIsInitializedOp_239:0' shape=() dtype=bool>\n",
      "If you want to mark it as used call its \"mark_used()\" method.\n",
      "It was originally created here:\n",
      "  File \"/usr/local/lib/python3.7/site-packages/tensorflow_core/python/keras/backend.py\", line 3363, in batch_set_value\n",
      "    get_session().run(assign_ops, feed_dict=feed_dict)  File \"/usr/local/lib/python3.7/site-packages/tensorflow_core/python/keras/backend.py\", line 491, in get_session\n",
      "    _initialize_variables(session)  File \"/usr/local/lib/python3.7/site-packages/tensorflow_core/python/keras/backend.py\", line 908, in _initialize_variables\n",
      "    [variables_module.is_variable_initialized(v) for v in candidate_vars])  File \"/usr/local/lib/python3.7/site-packages/tensorflow_core/python/keras/backend.py\", line 908, in <listcomp>\n",
      "    [variables_module.is_variable_initialized(v) for v in candidate_vars])  File \"/usr/local/lib/python3.7/site-packages/tensorflow_core/python/util/tf_should_use.py\", line 198, in wrapped\n",
      "    return _add_should_use_warning(fn(*args, **kwargs))\n",
      "==================================\n"
     ]
    },
    {
     "name": "stderr",
     "output_type": "stream",
     "text": [
      "ERROR:tensorflow:==================================\n",
      "Object was never used (type <class 'tensorflow.python.framework.ops.Tensor'>):\n",
      "<tf.Tensor 'VarIsInitializedOp_239:0' shape=() dtype=bool>\n",
      "If you want to mark it as used call its \"mark_used()\" method.\n",
      "It was originally created here:\n",
      "  File \"/usr/local/lib/python3.7/site-packages/tensorflow_core/python/keras/backend.py\", line 3363, in batch_set_value\n",
      "    get_session().run(assign_ops, feed_dict=feed_dict)  File \"/usr/local/lib/python3.7/site-packages/tensorflow_core/python/keras/backend.py\", line 491, in get_session\n",
      "    _initialize_variables(session)  File \"/usr/local/lib/python3.7/site-packages/tensorflow_core/python/keras/backend.py\", line 908, in _initialize_variables\n",
      "    [variables_module.is_variable_initialized(v) for v in candidate_vars])  File \"/usr/local/lib/python3.7/site-packages/tensorflow_core/python/keras/backend.py\", line 908, in <listcomp>\n",
      "    [variables_module.is_variable_initialized(v) for v in candidate_vars])  File \"/usr/local/lib/python3.7/site-packages/tensorflow_core/python/util/tf_should_use.py\", line 198, in wrapped\n",
      "    return _add_should_use_warning(fn(*args, **kwargs))\n",
      "==================================\n"
     ]
    },
    {
     "name": "stdout",
     "output_type": "stream",
     "text": [
      "ERROR:tensorflow:==================================\n",
      "Object was never used (type <class 'tensorflow.python.framework.ops.Tensor'>):\n",
      "<tf.Tensor 'VarIsInitializedOp_238:0' shape=() dtype=bool>\n",
      "If you want to mark it as used call its \"mark_used()\" method.\n",
      "It was originally created here:\n",
      "  File \"/usr/local/lib/python3.7/site-packages/tensorflow_core/python/keras/backend.py\", line 3363, in batch_set_value\n",
      "    get_session().run(assign_ops, feed_dict=feed_dict)  File \"/usr/local/lib/python3.7/site-packages/tensorflow_core/python/keras/backend.py\", line 491, in get_session\n",
      "    _initialize_variables(session)  File \"/usr/local/lib/python3.7/site-packages/tensorflow_core/python/keras/backend.py\", line 908, in _initialize_variables\n",
      "    [variables_module.is_variable_initialized(v) for v in candidate_vars])  File \"/usr/local/lib/python3.7/site-packages/tensorflow_core/python/keras/backend.py\", line 908, in <listcomp>\n",
      "    [variables_module.is_variable_initialized(v) for v in candidate_vars])  File \"/usr/local/lib/python3.7/site-packages/tensorflow_core/python/util/tf_should_use.py\", line 198, in wrapped\n",
      "    return _add_should_use_warning(fn(*args, **kwargs))\n",
      "==================================\n"
     ]
    },
    {
     "name": "stderr",
     "output_type": "stream",
     "text": [
      "ERROR:tensorflow:==================================\n",
      "Object was never used (type <class 'tensorflow.python.framework.ops.Tensor'>):\n",
      "<tf.Tensor 'VarIsInitializedOp_238:0' shape=() dtype=bool>\n",
      "If you want to mark it as used call its \"mark_used()\" method.\n",
      "It was originally created here:\n",
      "  File \"/usr/local/lib/python3.7/site-packages/tensorflow_core/python/keras/backend.py\", line 3363, in batch_set_value\n",
      "    get_session().run(assign_ops, feed_dict=feed_dict)  File \"/usr/local/lib/python3.7/site-packages/tensorflow_core/python/keras/backend.py\", line 491, in get_session\n",
      "    _initialize_variables(session)  File \"/usr/local/lib/python3.7/site-packages/tensorflow_core/python/keras/backend.py\", line 908, in _initialize_variables\n",
      "    [variables_module.is_variable_initialized(v) for v in candidate_vars])  File \"/usr/local/lib/python3.7/site-packages/tensorflow_core/python/keras/backend.py\", line 908, in <listcomp>\n",
      "    [variables_module.is_variable_initialized(v) for v in candidate_vars])  File \"/usr/local/lib/python3.7/site-packages/tensorflow_core/python/util/tf_should_use.py\", line 198, in wrapped\n",
      "    return _add_should_use_warning(fn(*args, **kwargs))\n",
      "==================================\n"
     ]
    },
    {
     "name": "stdout",
     "output_type": "stream",
     "text": [
      "ERROR:tensorflow:==================================\n",
      "Object was never used (type <class 'tensorflow.python.framework.ops.Tensor'>):\n",
      "<tf.Tensor 'VarIsInitializedOp_237:0' shape=() dtype=bool>\n",
      "If you want to mark it as used call its \"mark_used()\" method.\n",
      "It was originally created here:\n",
      "  File \"/usr/local/lib/python3.7/site-packages/tensorflow_core/python/keras/backend.py\", line 3363, in batch_set_value\n",
      "    get_session().run(assign_ops, feed_dict=feed_dict)  File \"/usr/local/lib/python3.7/site-packages/tensorflow_core/python/keras/backend.py\", line 491, in get_session\n",
      "    _initialize_variables(session)  File \"/usr/local/lib/python3.7/site-packages/tensorflow_core/python/keras/backend.py\", line 908, in _initialize_variables\n",
      "    [variables_module.is_variable_initialized(v) for v in candidate_vars])  File \"/usr/local/lib/python3.7/site-packages/tensorflow_core/python/keras/backend.py\", line 908, in <listcomp>\n",
      "    [variables_module.is_variable_initialized(v) for v in candidate_vars])  File \"/usr/local/lib/python3.7/site-packages/tensorflow_core/python/util/tf_should_use.py\", line 198, in wrapped\n",
      "    return _add_should_use_warning(fn(*args, **kwargs))\n",
      "==================================\n"
     ]
    },
    {
     "name": "stderr",
     "output_type": "stream",
     "text": [
      "ERROR:tensorflow:==================================\n",
      "Object was never used (type <class 'tensorflow.python.framework.ops.Tensor'>):\n",
      "<tf.Tensor 'VarIsInitializedOp_237:0' shape=() dtype=bool>\n",
      "If you want to mark it as used call its \"mark_used()\" method.\n",
      "It was originally created here:\n",
      "  File \"/usr/local/lib/python3.7/site-packages/tensorflow_core/python/keras/backend.py\", line 3363, in batch_set_value\n",
      "    get_session().run(assign_ops, feed_dict=feed_dict)  File \"/usr/local/lib/python3.7/site-packages/tensorflow_core/python/keras/backend.py\", line 491, in get_session\n",
      "    _initialize_variables(session)  File \"/usr/local/lib/python3.7/site-packages/tensorflow_core/python/keras/backend.py\", line 908, in _initialize_variables\n",
      "    [variables_module.is_variable_initialized(v) for v in candidate_vars])  File \"/usr/local/lib/python3.7/site-packages/tensorflow_core/python/keras/backend.py\", line 908, in <listcomp>\n",
      "    [variables_module.is_variable_initialized(v) for v in candidate_vars])  File \"/usr/local/lib/python3.7/site-packages/tensorflow_core/python/util/tf_should_use.py\", line 198, in wrapped\n",
      "    return _add_should_use_warning(fn(*args, **kwargs))\n",
      "==================================\n"
     ]
    },
    {
     "name": "stdout",
     "output_type": "stream",
     "text": [
      "ERROR:tensorflow:==================================\n",
      "Object was never used (type <class 'tensorflow.python.framework.ops.Tensor'>):\n",
      "<tf.Tensor 'VarIsInitializedOp_236:0' shape=() dtype=bool>\n",
      "If you want to mark it as used call its \"mark_used()\" method.\n",
      "It was originally created here:\n",
      "  File \"/usr/local/lib/python3.7/site-packages/tensorflow_core/python/keras/backend.py\", line 3363, in batch_set_value\n",
      "    get_session().run(assign_ops, feed_dict=feed_dict)  File \"/usr/local/lib/python3.7/site-packages/tensorflow_core/python/keras/backend.py\", line 491, in get_session\n",
      "    _initialize_variables(session)  File \"/usr/local/lib/python3.7/site-packages/tensorflow_core/python/keras/backend.py\", line 908, in _initialize_variables\n",
      "    [variables_module.is_variable_initialized(v) for v in candidate_vars])  File \"/usr/local/lib/python3.7/site-packages/tensorflow_core/python/keras/backend.py\", line 908, in <listcomp>\n",
      "    [variables_module.is_variable_initialized(v) for v in candidate_vars])  File \"/usr/local/lib/python3.7/site-packages/tensorflow_core/python/util/tf_should_use.py\", line 198, in wrapped\n",
      "    return _add_should_use_warning(fn(*args, **kwargs))\n",
      "==================================\n"
     ]
    },
    {
     "name": "stderr",
     "output_type": "stream",
     "text": [
      "ERROR:tensorflow:==================================\n",
      "Object was never used (type <class 'tensorflow.python.framework.ops.Tensor'>):\n",
      "<tf.Tensor 'VarIsInitializedOp_236:0' shape=() dtype=bool>\n",
      "If you want to mark it as used call its \"mark_used()\" method.\n",
      "It was originally created here:\n",
      "  File \"/usr/local/lib/python3.7/site-packages/tensorflow_core/python/keras/backend.py\", line 3363, in batch_set_value\n",
      "    get_session().run(assign_ops, feed_dict=feed_dict)  File \"/usr/local/lib/python3.7/site-packages/tensorflow_core/python/keras/backend.py\", line 491, in get_session\n",
      "    _initialize_variables(session)  File \"/usr/local/lib/python3.7/site-packages/tensorflow_core/python/keras/backend.py\", line 908, in _initialize_variables\n",
      "    [variables_module.is_variable_initialized(v) for v in candidate_vars])  File \"/usr/local/lib/python3.7/site-packages/tensorflow_core/python/keras/backend.py\", line 908, in <listcomp>\n",
      "    [variables_module.is_variable_initialized(v) for v in candidate_vars])  File \"/usr/local/lib/python3.7/site-packages/tensorflow_core/python/util/tf_should_use.py\", line 198, in wrapped\n",
      "    return _add_should_use_warning(fn(*args, **kwargs))\n",
      "==================================\n"
     ]
    },
    {
     "name": "stdout",
     "output_type": "stream",
     "text": [
      "ERROR:tensorflow:==================================\n",
      "Object was never used (type <class 'tensorflow.python.framework.ops.Tensor'>):\n",
      "<tf.Tensor 'VarIsInitializedOp_235:0' shape=() dtype=bool>\n",
      "If you want to mark it as used call its \"mark_used()\" method.\n",
      "It was originally created here:\n",
      "  File \"/usr/local/lib/python3.7/site-packages/tensorflow_core/python/keras/backend.py\", line 3363, in batch_set_value\n",
      "    get_session().run(assign_ops, feed_dict=feed_dict)  File \"/usr/local/lib/python3.7/site-packages/tensorflow_core/python/keras/backend.py\", line 491, in get_session\n",
      "    _initialize_variables(session)  File \"/usr/local/lib/python3.7/site-packages/tensorflow_core/python/keras/backend.py\", line 908, in _initialize_variables\n",
      "    [variables_module.is_variable_initialized(v) for v in candidate_vars])  File \"/usr/local/lib/python3.7/site-packages/tensorflow_core/python/keras/backend.py\", line 908, in <listcomp>\n",
      "    [variables_module.is_variable_initialized(v) for v in candidate_vars])  File \"/usr/local/lib/python3.7/site-packages/tensorflow_core/python/util/tf_should_use.py\", line 198, in wrapped\n",
      "    return _add_should_use_warning(fn(*args, **kwargs))\n",
      "==================================\n"
     ]
    },
    {
     "name": "stderr",
     "output_type": "stream",
     "text": [
      "ERROR:tensorflow:==================================\n",
      "Object was never used (type <class 'tensorflow.python.framework.ops.Tensor'>):\n",
      "<tf.Tensor 'VarIsInitializedOp_235:0' shape=() dtype=bool>\n",
      "If you want to mark it as used call its \"mark_used()\" method.\n",
      "It was originally created here:\n",
      "  File \"/usr/local/lib/python3.7/site-packages/tensorflow_core/python/keras/backend.py\", line 3363, in batch_set_value\n",
      "    get_session().run(assign_ops, feed_dict=feed_dict)  File \"/usr/local/lib/python3.7/site-packages/tensorflow_core/python/keras/backend.py\", line 491, in get_session\n",
      "    _initialize_variables(session)  File \"/usr/local/lib/python3.7/site-packages/tensorflow_core/python/keras/backend.py\", line 908, in _initialize_variables\n",
      "    [variables_module.is_variable_initialized(v) for v in candidate_vars])  File \"/usr/local/lib/python3.7/site-packages/tensorflow_core/python/keras/backend.py\", line 908, in <listcomp>\n",
      "    [variables_module.is_variable_initialized(v) for v in candidate_vars])  File \"/usr/local/lib/python3.7/site-packages/tensorflow_core/python/util/tf_should_use.py\", line 198, in wrapped\n",
      "    return _add_should_use_warning(fn(*args, **kwargs))\n",
      "==================================\n"
     ]
    },
    {
     "name": "stdout",
     "output_type": "stream",
     "text": [
      "ERROR:tensorflow:==================================\n",
      "Object was never used (type <class 'tensorflow.python.framework.ops.Tensor'>):\n",
      "<tf.Tensor 'VarIsInitializedOp_234:0' shape=() dtype=bool>\n",
      "If you want to mark it as used call its \"mark_used()\" method.\n",
      "It was originally created here:\n",
      "  File \"/usr/local/lib/python3.7/site-packages/tensorflow_core/python/keras/backend.py\", line 3363, in batch_set_value\n",
      "    get_session().run(assign_ops, feed_dict=feed_dict)  File \"/usr/local/lib/python3.7/site-packages/tensorflow_core/python/keras/backend.py\", line 491, in get_session\n",
      "    _initialize_variables(session)  File \"/usr/local/lib/python3.7/site-packages/tensorflow_core/python/keras/backend.py\", line 908, in _initialize_variables\n",
      "    [variables_module.is_variable_initialized(v) for v in candidate_vars])  File \"/usr/local/lib/python3.7/site-packages/tensorflow_core/python/keras/backend.py\", line 908, in <listcomp>\n",
      "    [variables_module.is_variable_initialized(v) for v in candidate_vars])  File \"/usr/local/lib/python3.7/site-packages/tensorflow_core/python/util/tf_should_use.py\", line 198, in wrapped\n",
      "    return _add_should_use_warning(fn(*args, **kwargs))\n",
      "==================================\n"
     ]
    },
    {
     "name": "stderr",
     "output_type": "stream",
     "text": [
      "ERROR:tensorflow:==================================\n",
      "Object was never used (type <class 'tensorflow.python.framework.ops.Tensor'>):\n",
      "<tf.Tensor 'VarIsInitializedOp_234:0' shape=() dtype=bool>\n",
      "If you want to mark it as used call its \"mark_used()\" method.\n",
      "It was originally created here:\n",
      "  File \"/usr/local/lib/python3.7/site-packages/tensorflow_core/python/keras/backend.py\", line 3363, in batch_set_value\n",
      "    get_session().run(assign_ops, feed_dict=feed_dict)  File \"/usr/local/lib/python3.7/site-packages/tensorflow_core/python/keras/backend.py\", line 491, in get_session\n",
      "    _initialize_variables(session)  File \"/usr/local/lib/python3.7/site-packages/tensorflow_core/python/keras/backend.py\", line 908, in _initialize_variables\n",
      "    [variables_module.is_variable_initialized(v) for v in candidate_vars])  File \"/usr/local/lib/python3.7/site-packages/tensorflow_core/python/keras/backend.py\", line 908, in <listcomp>\n",
      "    [variables_module.is_variable_initialized(v) for v in candidate_vars])  File \"/usr/local/lib/python3.7/site-packages/tensorflow_core/python/util/tf_should_use.py\", line 198, in wrapped\n",
      "    return _add_should_use_warning(fn(*args, **kwargs))\n",
      "==================================\n"
     ]
    },
    {
     "name": "stdout",
     "output_type": "stream",
     "text": [
      "ERROR:tensorflow:==================================\n",
      "Object was never used (type <class 'tensorflow.python.framework.ops.Tensor'>):\n",
      "<tf.Tensor 'VarIsInitializedOp_233:0' shape=() dtype=bool>\n",
      "If you want to mark it as used call its \"mark_used()\" method.\n",
      "It was originally created here:\n",
      "  File \"/usr/local/lib/python3.7/site-packages/tensorflow_core/python/keras/backend.py\", line 3363, in batch_set_value\n",
      "    get_session().run(assign_ops, feed_dict=feed_dict)  File \"/usr/local/lib/python3.7/site-packages/tensorflow_core/python/keras/backend.py\", line 491, in get_session\n",
      "    _initialize_variables(session)  File \"/usr/local/lib/python3.7/site-packages/tensorflow_core/python/keras/backend.py\", line 908, in _initialize_variables\n",
      "    [variables_module.is_variable_initialized(v) for v in candidate_vars])  File \"/usr/local/lib/python3.7/site-packages/tensorflow_core/python/keras/backend.py\", line 908, in <listcomp>\n",
      "    [variables_module.is_variable_initialized(v) for v in candidate_vars])  File \"/usr/local/lib/python3.7/site-packages/tensorflow_core/python/util/tf_should_use.py\", line 198, in wrapped\n",
      "    return _add_should_use_warning(fn(*args, **kwargs))\n",
      "==================================\n"
     ]
    },
    {
     "name": "stderr",
     "output_type": "stream",
     "text": [
      "ERROR:tensorflow:==================================\n",
      "Object was never used (type <class 'tensorflow.python.framework.ops.Tensor'>):\n",
      "<tf.Tensor 'VarIsInitializedOp_233:0' shape=() dtype=bool>\n",
      "If you want to mark it as used call its \"mark_used()\" method.\n",
      "It was originally created here:\n",
      "  File \"/usr/local/lib/python3.7/site-packages/tensorflow_core/python/keras/backend.py\", line 3363, in batch_set_value\n",
      "    get_session().run(assign_ops, feed_dict=feed_dict)  File \"/usr/local/lib/python3.7/site-packages/tensorflow_core/python/keras/backend.py\", line 491, in get_session\n",
      "    _initialize_variables(session)  File \"/usr/local/lib/python3.7/site-packages/tensorflow_core/python/keras/backend.py\", line 908, in _initialize_variables\n",
      "    [variables_module.is_variable_initialized(v) for v in candidate_vars])  File \"/usr/local/lib/python3.7/site-packages/tensorflow_core/python/keras/backend.py\", line 908, in <listcomp>\n",
      "    [variables_module.is_variable_initialized(v) for v in candidate_vars])  File \"/usr/local/lib/python3.7/site-packages/tensorflow_core/python/util/tf_should_use.py\", line 198, in wrapped\n",
      "    return _add_should_use_warning(fn(*args, **kwargs))\n",
      "==================================\n"
     ]
    },
    {
     "name": "stdout",
     "output_type": "stream",
     "text": [
      "ERROR:tensorflow:==================================\n",
      "Object was never used (type <class 'tensorflow.python.framework.ops.Tensor'>):\n",
      "<tf.Tensor 'VarIsInitializedOp_232:0' shape=() dtype=bool>\n",
      "If you want to mark it as used call its \"mark_used()\" method.\n",
      "It was originally created here:\n",
      "  File \"/usr/local/lib/python3.7/site-packages/tensorflow_core/python/keras/backend.py\", line 3363, in batch_set_value\n",
      "    get_session().run(assign_ops, feed_dict=feed_dict)  File \"/usr/local/lib/python3.7/site-packages/tensorflow_core/python/keras/backend.py\", line 491, in get_session\n",
      "    _initialize_variables(session)  File \"/usr/local/lib/python3.7/site-packages/tensorflow_core/python/keras/backend.py\", line 908, in _initialize_variables\n",
      "    [variables_module.is_variable_initialized(v) for v in candidate_vars])  File \"/usr/local/lib/python3.7/site-packages/tensorflow_core/python/keras/backend.py\", line 908, in <listcomp>\n",
      "    [variables_module.is_variable_initialized(v) for v in candidate_vars])  File \"/usr/local/lib/python3.7/site-packages/tensorflow_core/python/util/tf_should_use.py\", line 198, in wrapped\n",
      "    return _add_should_use_warning(fn(*args, **kwargs))\n",
      "==================================\n"
     ]
    },
    {
     "name": "stderr",
     "output_type": "stream",
     "text": [
      "ERROR:tensorflow:==================================\n",
      "Object was never used (type <class 'tensorflow.python.framework.ops.Tensor'>):\n",
      "<tf.Tensor 'VarIsInitializedOp_232:0' shape=() dtype=bool>\n",
      "If you want to mark it as used call its \"mark_used()\" method.\n",
      "It was originally created here:\n",
      "  File \"/usr/local/lib/python3.7/site-packages/tensorflow_core/python/keras/backend.py\", line 3363, in batch_set_value\n",
      "    get_session().run(assign_ops, feed_dict=feed_dict)  File \"/usr/local/lib/python3.7/site-packages/tensorflow_core/python/keras/backend.py\", line 491, in get_session\n",
      "    _initialize_variables(session)  File \"/usr/local/lib/python3.7/site-packages/tensorflow_core/python/keras/backend.py\", line 908, in _initialize_variables\n",
      "    [variables_module.is_variable_initialized(v) for v in candidate_vars])  File \"/usr/local/lib/python3.7/site-packages/tensorflow_core/python/keras/backend.py\", line 908, in <listcomp>\n",
      "    [variables_module.is_variable_initialized(v) for v in candidate_vars])  File \"/usr/local/lib/python3.7/site-packages/tensorflow_core/python/util/tf_should_use.py\", line 198, in wrapped\n",
      "    return _add_should_use_warning(fn(*args, **kwargs))\n",
      "==================================\n"
     ]
    },
    {
     "name": "stdout",
     "output_type": "stream",
     "text": [
      "ERROR:tensorflow:==================================\n",
      "Object was never used (type <class 'tensorflow.python.framework.ops.Tensor'>):\n",
      "<tf.Tensor 'VarIsInitializedOp_231:0' shape=() dtype=bool>\n",
      "If you want to mark it as used call its \"mark_used()\" method.\n",
      "It was originally created here:\n",
      "  File \"/usr/local/lib/python3.7/site-packages/tensorflow_core/python/keras/backend.py\", line 3363, in batch_set_value\n",
      "    get_session().run(assign_ops, feed_dict=feed_dict)  File \"/usr/local/lib/python3.7/site-packages/tensorflow_core/python/keras/backend.py\", line 491, in get_session\n",
      "    _initialize_variables(session)  File \"/usr/local/lib/python3.7/site-packages/tensorflow_core/python/keras/backend.py\", line 908, in _initialize_variables\n",
      "    [variables_module.is_variable_initialized(v) for v in candidate_vars])  File \"/usr/local/lib/python3.7/site-packages/tensorflow_core/python/keras/backend.py\", line 908, in <listcomp>\n",
      "    [variables_module.is_variable_initialized(v) for v in candidate_vars])  File \"/usr/local/lib/python3.7/site-packages/tensorflow_core/python/util/tf_should_use.py\", line 198, in wrapped\n",
      "    return _add_should_use_warning(fn(*args, **kwargs))\n",
      "==================================\n"
     ]
    },
    {
     "name": "stderr",
     "output_type": "stream",
     "text": [
      "ERROR:tensorflow:==================================\n",
      "Object was never used (type <class 'tensorflow.python.framework.ops.Tensor'>):\n",
      "<tf.Tensor 'VarIsInitializedOp_231:0' shape=() dtype=bool>\n",
      "If you want to mark it as used call its \"mark_used()\" method.\n",
      "It was originally created here:\n",
      "  File \"/usr/local/lib/python3.7/site-packages/tensorflow_core/python/keras/backend.py\", line 3363, in batch_set_value\n",
      "    get_session().run(assign_ops, feed_dict=feed_dict)  File \"/usr/local/lib/python3.7/site-packages/tensorflow_core/python/keras/backend.py\", line 491, in get_session\n",
      "    _initialize_variables(session)  File \"/usr/local/lib/python3.7/site-packages/tensorflow_core/python/keras/backend.py\", line 908, in _initialize_variables\n",
      "    [variables_module.is_variable_initialized(v) for v in candidate_vars])  File \"/usr/local/lib/python3.7/site-packages/tensorflow_core/python/keras/backend.py\", line 908, in <listcomp>\n",
      "    [variables_module.is_variable_initialized(v) for v in candidate_vars])  File \"/usr/local/lib/python3.7/site-packages/tensorflow_core/python/util/tf_should_use.py\", line 198, in wrapped\n",
      "    return _add_should_use_warning(fn(*args, **kwargs))\n",
      "==================================\n"
     ]
    },
    {
     "name": "stdout",
     "output_type": "stream",
     "text": [
      "ERROR:tensorflow:==================================\n",
      "Object was never used (type <class 'tensorflow.python.framework.ops.Tensor'>):\n",
      "<tf.Tensor 'VarIsInitializedOp_230:0' shape=() dtype=bool>\n",
      "If you want to mark it as used call its \"mark_used()\" method.\n",
      "It was originally created here:\n",
      "  File \"/usr/local/lib/python3.7/site-packages/tensorflow_core/python/keras/backend.py\", line 3363, in batch_set_value\n",
      "    get_session().run(assign_ops, feed_dict=feed_dict)  File \"/usr/local/lib/python3.7/site-packages/tensorflow_core/python/keras/backend.py\", line 491, in get_session\n",
      "    _initialize_variables(session)  File \"/usr/local/lib/python3.7/site-packages/tensorflow_core/python/keras/backend.py\", line 908, in _initialize_variables\n",
      "    [variables_module.is_variable_initialized(v) for v in candidate_vars])  File \"/usr/local/lib/python3.7/site-packages/tensorflow_core/python/keras/backend.py\", line 908, in <listcomp>\n",
      "    [variables_module.is_variable_initialized(v) for v in candidate_vars])  File \"/usr/local/lib/python3.7/site-packages/tensorflow_core/python/util/tf_should_use.py\", line 198, in wrapped\n",
      "    return _add_should_use_warning(fn(*args, **kwargs))\n",
      "==================================\n"
     ]
    },
    {
     "name": "stderr",
     "output_type": "stream",
     "text": [
      "ERROR:tensorflow:==================================\n",
      "Object was never used (type <class 'tensorflow.python.framework.ops.Tensor'>):\n",
      "<tf.Tensor 'VarIsInitializedOp_230:0' shape=() dtype=bool>\n",
      "If you want to mark it as used call its \"mark_used()\" method.\n",
      "It was originally created here:\n",
      "  File \"/usr/local/lib/python3.7/site-packages/tensorflow_core/python/keras/backend.py\", line 3363, in batch_set_value\n",
      "    get_session().run(assign_ops, feed_dict=feed_dict)  File \"/usr/local/lib/python3.7/site-packages/tensorflow_core/python/keras/backend.py\", line 491, in get_session\n",
      "    _initialize_variables(session)  File \"/usr/local/lib/python3.7/site-packages/tensorflow_core/python/keras/backend.py\", line 908, in _initialize_variables\n",
      "    [variables_module.is_variable_initialized(v) for v in candidate_vars])  File \"/usr/local/lib/python3.7/site-packages/tensorflow_core/python/keras/backend.py\", line 908, in <listcomp>\n",
      "    [variables_module.is_variable_initialized(v) for v in candidate_vars])  File \"/usr/local/lib/python3.7/site-packages/tensorflow_core/python/util/tf_should_use.py\", line 198, in wrapped\n",
      "    return _add_should_use_warning(fn(*args, **kwargs))\n",
      "==================================\n"
     ]
    },
    {
     "name": "stdout",
     "output_type": "stream",
     "text": [
      "ERROR:tensorflow:==================================\n",
      "Object was never used (type <class 'tensorflow.python.framework.ops.Tensor'>):\n",
      "<tf.Tensor 'VarIsInitializedOp_229:0' shape=() dtype=bool>\n",
      "If you want to mark it as used call its \"mark_used()\" method.\n",
      "It was originally created here:\n",
      "  File \"/usr/local/lib/python3.7/site-packages/tensorflow_core/python/keras/backend.py\", line 3363, in batch_set_value\n",
      "    get_session().run(assign_ops, feed_dict=feed_dict)  File \"/usr/local/lib/python3.7/site-packages/tensorflow_core/python/keras/backend.py\", line 491, in get_session\n",
      "    _initialize_variables(session)  File \"/usr/local/lib/python3.7/site-packages/tensorflow_core/python/keras/backend.py\", line 908, in _initialize_variables\n",
      "    [variables_module.is_variable_initialized(v) for v in candidate_vars])  File \"/usr/local/lib/python3.7/site-packages/tensorflow_core/python/keras/backend.py\", line 908, in <listcomp>\n",
      "    [variables_module.is_variable_initialized(v) for v in candidate_vars])  File \"/usr/local/lib/python3.7/site-packages/tensorflow_core/python/util/tf_should_use.py\", line 198, in wrapped\n",
      "    return _add_should_use_warning(fn(*args, **kwargs))\n",
      "==================================\n"
     ]
    },
    {
     "name": "stderr",
     "output_type": "stream",
     "text": [
      "ERROR:tensorflow:==================================\n",
      "Object was never used (type <class 'tensorflow.python.framework.ops.Tensor'>):\n",
      "<tf.Tensor 'VarIsInitializedOp_229:0' shape=() dtype=bool>\n",
      "If you want to mark it as used call its \"mark_used()\" method.\n",
      "It was originally created here:\n",
      "  File \"/usr/local/lib/python3.7/site-packages/tensorflow_core/python/keras/backend.py\", line 3363, in batch_set_value\n",
      "    get_session().run(assign_ops, feed_dict=feed_dict)  File \"/usr/local/lib/python3.7/site-packages/tensorflow_core/python/keras/backend.py\", line 491, in get_session\n",
      "    _initialize_variables(session)  File \"/usr/local/lib/python3.7/site-packages/tensorflow_core/python/keras/backend.py\", line 908, in _initialize_variables\n",
      "    [variables_module.is_variable_initialized(v) for v in candidate_vars])  File \"/usr/local/lib/python3.7/site-packages/tensorflow_core/python/keras/backend.py\", line 908, in <listcomp>\n",
      "    [variables_module.is_variable_initialized(v) for v in candidate_vars])  File \"/usr/local/lib/python3.7/site-packages/tensorflow_core/python/util/tf_should_use.py\", line 198, in wrapped\n",
      "    return _add_should_use_warning(fn(*args, **kwargs))\n",
      "==================================\n"
     ]
    },
    {
     "name": "stdout",
     "output_type": "stream",
     "text": [
      "ERROR:tensorflow:==================================\n",
      "Object was never used (type <class 'tensorflow.python.framework.ops.Tensor'>):\n",
      "<tf.Tensor 'VarIsInitializedOp_228:0' shape=() dtype=bool>\n",
      "If you want to mark it as used call its \"mark_used()\" method.\n",
      "It was originally created here:\n",
      "  File \"/usr/local/lib/python3.7/site-packages/tensorflow_core/python/keras/backend.py\", line 3363, in batch_set_value\n",
      "    get_session().run(assign_ops, feed_dict=feed_dict)  File \"/usr/local/lib/python3.7/site-packages/tensorflow_core/python/keras/backend.py\", line 491, in get_session\n",
      "    _initialize_variables(session)  File \"/usr/local/lib/python3.7/site-packages/tensorflow_core/python/keras/backend.py\", line 908, in _initialize_variables\n",
      "    [variables_module.is_variable_initialized(v) for v in candidate_vars])  File \"/usr/local/lib/python3.7/site-packages/tensorflow_core/python/keras/backend.py\", line 908, in <listcomp>\n",
      "    [variables_module.is_variable_initialized(v) for v in candidate_vars])  File \"/usr/local/lib/python3.7/site-packages/tensorflow_core/python/util/tf_should_use.py\", line 198, in wrapped\n",
      "    return _add_should_use_warning(fn(*args, **kwargs))\n",
      "==================================\n"
     ]
    },
    {
     "name": "stderr",
     "output_type": "stream",
     "text": [
      "ERROR:tensorflow:==================================\n",
      "Object was never used (type <class 'tensorflow.python.framework.ops.Tensor'>):\n",
      "<tf.Tensor 'VarIsInitializedOp_228:0' shape=() dtype=bool>\n",
      "If you want to mark it as used call its \"mark_used()\" method.\n",
      "It was originally created here:\n",
      "  File \"/usr/local/lib/python3.7/site-packages/tensorflow_core/python/keras/backend.py\", line 3363, in batch_set_value\n",
      "    get_session().run(assign_ops, feed_dict=feed_dict)  File \"/usr/local/lib/python3.7/site-packages/tensorflow_core/python/keras/backend.py\", line 491, in get_session\n",
      "    _initialize_variables(session)  File \"/usr/local/lib/python3.7/site-packages/tensorflow_core/python/keras/backend.py\", line 908, in _initialize_variables\n",
      "    [variables_module.is_variable_initialized(v) for v in candidate_vars])  File \"/usr/local/lib/python3.7/site-packages/tensorflow_core/python/keras/backend.py\", line 908, in <listcomp>\n",
      "    [variables_module.is_variable_initialized(v) for v in candidate_vars])  File \"/usr/local/lib/python3.7/site-packages/tensorflow_core/python/util/tf_should_use.py\", line 198, in wrapped\n",
      "    return _add_should_use_warning(fn(*args, **kwargs))\n",
      "==================================\n"
     ]
    },
    {
     "name": "stdout",
     "output_type": "stream",
     "text": [
      "ERROR:tensorflow:==================================\n",
      "Object was never used (type <class 'tensorflow.python.framework.ops.Tensor'>):\n",
      "<tf.Tensor 'VarIsInitializedOp_227:0' shape=() dtype=bool>\n",
      "If you want to mark it as used call its \"mark_used()\" method.\n",
      "It was originally created here:\n",
      "  File \"/usr/local/lib/python3.7/site-packages/tensorflow_core/python/keras/backend.py\", line 3363, in batch_set_value\n",
      "    get_session().run(assign_ops, feed_dict=feed_dict)  File \"/usr/local/lib/python3.7/site-packages/tensorflow_core/python/keras/backend.py\", line 491, in get_session\n",
      "    _initialize_variables(session)  File \"/usr/local/lib/python3.7/site-packages/tensorflow_core/python/keras/backend.py\", line 908, in _initialize_variables\n",
      "    [variables_module.is_variable_initialized(v) for v in candidate_vars])  File \"/usr/local/lib/python3.7/site-packages/tensorflow_core/python/keras/backend.py\", line 908, in <listcomp>\n",
      "    [variables_module.is_variable_initialized(v) for v in candidate_vars])  File \"/usr/local/lib/python3.7/site-packages/tensorflow_core/python/util/tf_should_use.py\", line 198, in wrapped\n",
      "    return _add_should_use_warning(fn(*args, **kwargs))\n",
      "==================================\n"
     ]
    },
    {
     "name": "stderr",
     "output_type": "stream",
     "text": [
      "ERROR:tensorflow:==================================\n",
      "Object was never used (type <class 'tensorflow.python.framework.ops.Tensor'>):\n",
      "<tf.Tensor 'VarIsInitializedOp_227:0' shape=() dtype=bool>\n",
      "If you want to mark it as used call its \"mark_used()\" method.\n",
      "It was originally created here:\n",
      "  File \"/usr/local/lib/python3.7/site-packages/tensorflow_core/python/keras/backend.py\", line 3363, in batch_set_value\n",
      "    get_session().run(assign_ops, feed_dict=feed_dict)  File \"/usr/local/lib/python3.7/site-packages/tensorflow_core/python/keras/backend.py\", line 491, in get_session\n",
      "    _initialize_variables(session)  File \"/usr/local/lib/python3.7/site-packages/tensorflow_core/python/keras/backend.py\", line 908, in _initialize_variables\n",
      "    [variables_module.is_variable_initialized(v) for v in candidate_vars])  File \"/usr/local/lib/python3.7/site-packages/tensorflow_core/python/keras/backend.py\", line 908, in <listcomp>\n",
      "    [variables_module.is_variable_initialized(v) for v in candidate_vars])  File \"/usr/local/lib/python3.7/site-packages/tensorflow_core/python/util/tf_should_use.py\", line 198, in wrapped\n",
      "    return _add_should_use_warning(fn(*args, **kwargs))\n",
      "==================================\n"
     ]
    },
    {
     "name": "stdout",
     "output_type": "stream",
     "text": [
      "ERROR:tensorflow:==================================\n",
      "Object was never used (type <class 'tensorflow.python.framework.ops.Tensor'>):\n",
      "<tf.Tensor 'VarIsInitializedOp_226:0' shape=() dtype=bool>\n",
      "If you want to mark it as used call its \"mark_used()\" method.\n",
      "It was originally created here:\n",
      "  File \"/usr/local/lib/python3.7/site-packages/tensorflow_core/python/keras/backend.py\", line 3363, in batch_set_value\n",
      "    get_session().run(assign_ops, feed_dict=feed_dict)  File \"/usr/local/lib/python3.7/site-packages/tensorflow_core/python/keras/backend.py\", line 491, in get_session\n",
      "    _initialize_variables(session)  File \"/usr/local/lib/python3.7/site-packages/tensorflow_core/python/keras/backend.py\", line 908, in _initialize_variables\n",
      "    [variables_module.is_variable_initialized(v) for v in candidate_vars])  File \"/usr/local/lib/python3.7/site-packages/tensorflow_core/python/keras/backend.py\", line 908, in <listcomp>\n",
      "    [variables_module.is_variable_initialized(v) for v in candidate_vars])  File \"/usr/local/lib/python3.7/site-packages/tensorflow_core/python/util/tf_should_use.py\", line 198, in wrapped\n",
      "    return _add_should_use_warning(fn(*args, **kwargs))\n",
      "==================================\n"
     ]
    },
    {
     "name": "stderr",
     "output_type": "stream",
     "text": [
      "ERROR:tensorflow:==================================\n",
      "Object was never used (type <class 'tensorflow.python.framework.ops.Tensor'>):\n",
      "<tf.Tensor 'VarIsInitializedOp_226:0' shape=() dtype=bool>\n",
      "If you want to mark it as used call its \"mark_used()\" method.\n",
      "It was originally created here:\n",
      "  File \"/usr/local/lib/python3.7/site-packages/tensorflow_core/python/keras/backend.py\", line 3363, in batch_set_value\n",
      "    get_session().run(assign_ops, feed_dict=feed_dict)  File \"/usr/local/lib/python3.7/site-packages/tensorflow_core/python/keras/backend.py\", line 491, in get_session\n",
      "    _initialize_variables(session)  File \"/usr/local/lib/python3.7/site-packages/tensorflow_core/python/keras/backend.py\", line 908, in _initialize_variables\n",
      "    [variables_module.is_variable_initialized(v) for v in candidate_vars])  File \"/usr/local/lib/python3.7/site-packages/tensorflow_core/python/keras/backend.py\", line 908, in <listcomp>\n",
      "    [variables_module.is_variable_initialized(v) for v in candidate_vars])  File \"/usr/local/lib/python3.7/site-packages/tensorflow_core/python/util/tf_should_use.py\", line 198, in wrapped\n",
      "    return _add_should_use_warning(fn(*args, **kwargs))\n",
      "==================================\n"
     ]
    },
    {
     "name": "stdout",
     "output_type": "stream",
     "text": [
      "ERROR:tensorflow:==================================\n",
      "Object was never used (type <class 'tensorflow.python.framework.ops.Tensor'>):\n",
      "<tf.Tensor 'VarIsInitializedOp_225:0' shape=() dtype=bool>\n",
      "If you want to mark it as used call its \"mark_used()\" method.\n",
      "It was originally created here:\n",
      "  File \"/usr/local/lib/python3.7/site-packages/tensorflow_core/python/keras/backend.py\", line 3363, in batch_set_value\n",
      "    get_session().run(assign_ops, feed_dict=feed_dict)  File \"/usr/local/lib/python3.7/site-packages/tensorflow_core/python/keras/backend.py\", line 491, in get_session\n",
      "    _initialize_variables(session)  File \"/usr/local/lib/python3.7/site-packages/tensorflow_core/python/keras/backend.py\", line 908, in _initialize_variables\n",
      "    [variables_module.is_variable_initialized(v) for v in candidate_vars])  File \"/usr/local/lib/python3.7/site-packages/tensorflow_core/python/keras/backend.py\", line 908, in <listcomp>\n",
      "    [variables_module.is_variable_initialized(v) for v in candidate_vars])  File \"/usr/local/lib/python3.7/site-packages/tensorflow_core/python/util/tf_should_use.py\", line 198, in wrapped\n",
      "    return _add_should_use_warning(fn(*args, **kwargs))\n",
      "==================================\n"
     ]
    },
    {
     "name": "stderr",
     "output_type": "stream",
     "text": [
      "ERROR:tensorflow:==================================\n",
      "Object was never used (type <class 'tensorflow.python.framework.ops.Tensor'>):\n",
      "<tf.Tensor 'VarIsInitializedOp_225:0' shape=() dtype=bool>\n",
      "If you want to mark it as used call its \"mark_used()\" method.\n",
      "It was originally created here:\n",
      "  File \"/usr/local/lib/python3.7/site-packages/tensorflow_core/python/keras/backend.py\", line 3363, in batch_set_value\n",
      "    get_session().run(assign_ops, feed_dict=feed_dict)  File \"/usr/local/lib/python3.7/site-packages/tensorflow_core/python/keras/backend.py\", line 491, in get_session\n",
      "    _initialize_variables(session)  File \"/usr/local/lib/python3.7/site-packages/tensorflow_core/python/keras/backend.py\", line 908, in _initialize_variables\n",
      "    [variables_module.is_variable_initialized(v) for v in candidate_vars])  File \"/usr/local/lib/python3.7/site-packages/tensorflow_core/python/keras/backend.py\", line 908, in <listcomp>\n",
      "    [variables_module.is_variable_initialized(v) for v in candidate_vars])  File \"/usr/local/lib/python3.7/site-packages/tensorflow_core/python/util/tf_should_use.py\", line 198, in wrapped\n",
      "    return _add_should_use_warning(fn(*args, **kwargs))\n",
      "==================================\n"
     ]
    },
    {
     "name": "stdout",
     "output_type": "stream",
     "text": [
      "ERROR:tensorflow:==================================\n",
      "Object was never used (type <class 'tensorflow.python.framework.ops.Tensor'>):\n",
      "<tf.Tensor 'VarIsInitializedOp_224:0' shape=() dtype=bool>\n",
      "If you want to mark it as used call its \"mark_used()\" method.\n",
      "It was originally created here:\n",
      "  File \"/usr/local/lib/python3.7/site-packages/tensorflow_core/python/keras/backend.py\", line 3363, in batch_set_value\n",
      "    get_session().run(assign_ops, feed_dict=feed_dict)  File \"/usr/local/lib/python3.7/site-packages/tensorflow_core/python/keras/backend.py\", line 491, in get_session\n",
      "    _initialize_variables(session)  File \"/usr/local/lib/python3.7/site-packages/tensorflow_core/python/keras/backend.py\", line 908, in _initialize_variables\n",
      "    [variables_module.is_variable_initialized(v) for v in candidate_vars])  File \"/usr/local/lib/python3.7/site-packages/tensorflow_core/python/keras/backend.py\", line 908, in <listcomp>\n",
      "    [variables_module.is_variable_initialized(v) for v in candidate_vars])  File \"/usr/local/lib/python3.7/site-packages/tensorflow_core/python/util/tf_should_use.py\", line 198, in wrapped\n",
      "    return _add_should_use_warning(fn(*args, **kwargs))\n",
      "==================================\n"
     ]
    },
    {
     "name": "stderr",
     "output_type": "stream",
     "text": [
      "ERROR:tensorflow:==================================\n",
      "Object was never used (type <class 'tensorflow.python.framework.ops.Tensor'>):\n",
      "<tf.Tensor 'VarIsInitializedOp_224:0' shape=() dtype=bool>\n",
      "If you want to mark it as used call its \"mark_used()\" method.\n",
      "It was originally created here:\n",
      "  File \"/usr/local/lib/python3.7/site-packages/tensorflow_core/python/keras/backend.py\", line 3363, in batch_set_value\n",
      "    get_session().run(assign_ops, feed_dict=feed_dict)  File \"/usr/local/lib/python3.7/site-packages/tensorflow_core/python/keras/backend.py\", line 491, in get_session\n",
      "    _initialize_variables(session)  File \"/usr/local/lib/python3.7/site-packages/tensorflow_core/python/keras/backend.py\", line 908, in _initialize_variables\n",
      "    [variables_module.is_variable_initialized(v) for v in candidate_vars])  File \"/usr/local/lib/python3.7/site-packages/tensorflow_core/python/keras/backend.py\", line 908, in <listcomp>\n",
      "    [variables_module.is_variable_initialized(v) for v in candidate_vars])  File \"/usr/local/lib/python3.7/site-packages/tensorflow_core/python/util/tf_should_use.py\", line 198, in wrapped\n",
      "    return _add_should_use_warning(fn(*args, **kwargs))\n",
      "==================================\n"
     ]
    },
    {
     "name": "stdout",
     "output_type": "stream",
     "text": [
      "ERROR:tensorflow:==================================\n",
      "Object was never used (type <class 'tensorflow.python.framework.ops.Tensor'>):\n",
      "<tf.Tensor 'VarIsInitializedOp_223:0' shape=() dtype=bool>\n",
      "If you want to mark it as used call its \"mark_used()\" method.\n",
      "It was originally created here:\n",
      "  File \"/usr/local/lib/python3.7/site-packages/tensorflow_core/python/keras/backend.py\", line 3363, in batch_set_value\n",
      "    get_session().run(assign_ops, feed_dict=feed_dict)  File \"/usr/local/lib/python3.7/site-packages/tensorflow_core/python/keras/backend.py\", line 491, in get_session\n",
      "    _initialize_variables(session)  File \"/usr/local/lib/python3.7/site-packages/tensorflow_core/python/keras/backend.py\", line 908, in _initialize_variables\n",
      "    [variables_module.is_variable_initialized(v) for v in candidate_vars])  File \"/usr/local/lib/python3.7/site-packages/tensorflow_core/python/keras/backend.py\", line 908, in <listcomp>\n",
      "    [variables_module.is_variable_initialized(v) for v in candidate_vars])  File \"/usr/local/lib/python3.7/site-packages/tensorflow_core/python/util/tf_should_use.py\", line 198, in wrapped\n",
      "    return _add_should_use_warning(fn(*args, **kwargs))\n",
      "==================================\n"
     ]
    },
    {
     "name": "stderr",
     "output_type": "stream",
     "text": [
      "ERROR:tensorflow:==================================\n",
      "Object was never used (type <class 'tensorflow.python.framework.ops.Tensor'>):\n",
      "<tf.Tensor 'VarIsInitializedOp_223:0' shape=() dtype=bool>\n",
      "If you want to mark it as used call its \"mark_used()\" method.\n",
      "It was originally created here:\n",
      "  File \"/usr/local/lib/python3.7/site-packages/tensorflow_core/python/keras/backend.py\", line 3363, in batch_set_value\n",
      "    get_session().run(assign_ops, feed_dict=feed_dict)  File \"/usr/local/lib/python3.7/site-packages/tensorflow_core/python/keras/backend.py\", line 491, in get_session\n",
      "    _initialize_variables(session)  File \"/usr/local/lib/python3.7/site-packages/tensorflow_core/python/keras/backend.py\", line 908, in _initialize_variables\n",
      "    [variables_module.is_variable_initialized(v) for v in candidate_vars])  File \"/usr/local/lib/python3.7/site-packages/tensorflow_core/python/keras/backend.py\", line 908, in <listcomp>\n",
      "    [variables_module.is_variable_initialized(v) for v in candidate_vars])  File \"/usr/local/lib/python3.7/site-packages/tensorflow_core/python/util/tf_should_use.py\", line 198, in wrapped\n",
      "    return _add_should_use_warning(fn(*args, **kwargs))\n",
      "==================================\n"
     ]
    },
    {
     "name": "stdout",
     "output_type": "stream",
     "text": [
      "ERROR:tensorflow:==================================\n",
      "Object was never used (type <class 'tensorflow.python.framework.ops.Tensor'>):\n",
      "<tf.Tensor 'VarIsInitializedOp_222:0' shape=() dtype=bool>\n",
      "If you want to mark it as used call its \"mark_used()\" method.\n",
      "It was originally created here:\n",
      "  File \"/usr/local/lib/python3.7/site-packages/tensorflow_core/python/keras/backend.py\", line 3363, in batch_set_value\n",
      "    get_session().run(assign_ops, feed_dict=feed_dict)  File \"/usr/local/lib/python3.7/site-packages/tensorflow_core/python/keras/backend.py\", line 491, in get_session\n",
      "    _initialize_variables(session)  File \"/usr/local/lib/python3.7/site-packages/tensorflow_core/python/keras/backend.py\", line 908, in _initialize_variables\n",
      "    [variables_module.is_variable_initialized(v) for v in candidate_vars])  File \"/usr/local/lib/python3.7/site-packages/tensorflow_core/python/keras/backend.py\", line 908, in <listcomp>\n",
      "    [variables_module.is_variable_initialized(v) for v in candidate_vars])  File \"/usr/local/lib/python3.7/site-packages/tensorflow_core/python/util/tf_should_use.py\", line 198, in wrapped\n",
      "    return _add_should_use_warning(fn(*args, **kwargs))\n",
      "==================================\n"
     ]
    },
    {
     "name": "stderr",
     "output_type": "stream",
     "text": [
      "ERROR:tensorflow:==================================\n",
      "Object was never used (type <class 'tensorflow.python.framework.ops.Tensor'>):\n",
      "<tf.Tensor 'VarIsInitializedOp_222:0' shape=() dtype=bool>\n",
      "If you want to mark it as used call its \"mark_used()\" method.\n",
      "It was originally created here:\n",
      "  File \"/usr/local/lib/python3.7/site-packages/tensorflow_core/python/keras/backend.py\", line 3363, in batch_set_value\n",
      "    get_session().run(assign_ops, feed_dict=feed_dict)  File \"/usr/local/lib/python3.7/site-packages/tensorflow_core/python/keras/backend.py\", line 491, in get_session\n",
      "    _initialize_variables(session)  File \"/usr/local/lib/python3.7/site-packages/tensorflow_core/python/keras/backend.py\", line 908, in _initialize_variables\n",
      "    [variables_module.is_variable_initialized(v) for v in candidate_vars])  File \"/usr/local/lib/python3.7/site-packages/tensorflow_core/python/keras/backend.py\", line 908, in <listcomp>\n",
      "    [variables_module.is_variable_initialized(v) for v in candidate_vars])  File \"/usr/local/lib/python3.7/site-packages/tensorflow_core/python/util/tf_should_use.py\", line 198, in wrapped\n",
      "    return _add_should_use_warning(fn(*args, **kwargs))\n",
      "==================================\n"
     ]
    },
    {
     "name": "stdout",
     "output_type": "stream",
     "text": [
      "ERROR:tensorflow:==================================\n",
      "Object was never used (type <class 'tensorflow.python.framework.ops.Tensor'>):\n",
      "<tf.Tensor 'VarIsInitializedOp_221:0' shape=() dtype=bool>\n",
      "If you want to mark it as used call its \"mark_used()\" method.\n",
      "It was originally created here:\n",
      "  File \"/usr/local/lib/python3.7/site-packages/tensorflow_core/python/keras/backend.py\", line 3363, in batch_set_value\n",
      "    get_session().run(assign_ops, feed_dict=feed_dict)  File \"/usr/local/lib/python3.7/site-packages/tensorflow_core/python/keras/backend.py\", line 491, in get_session\n",
      "    _initialize_variables(session)  File \"/usr/local/lib/python3.7/site-packages/tensorflow_core/python/keras/backend.py\", line 908, in _initialize_variables\n",
      "    [variables_module.is_variable_initialized(v) for v in candidate_vars])  File \"/usr/local/lib/python3.7/site-packages/tensorflow_core/python/keras/backend.py\", line 908, in <listcomp>\n",
      "    [variables_module.is_variable_initialized(v) for v in candidate_vars])  File \"/usr/local/lib/python3.7/site-packages/tensorflow_core/python/util/tf_should_use.py\", line 198, in wrapped\n",
      "    return _add_should_use_warning(fn(*args, **kwargs))\n",
      "==================================\n"
     ]
    },
    {
     "name": "stderr",
     "output_type": "stream",
     "text": [
      "ERROR:tensorflow:==================================\n",
      "Object was never used (type <class 'tensorflow.python.framework.ops.Tensor'>):\n",
      "<tf.Tensor 'VarIsInitializedOp_221:0' shape=() dtype=bool>\n",
      "If you want to mark it as used call its \"mark_used()\" method.\n",
      "It was originally created here:\n",
      "  File \"/usr/local/lib/python3.7/site-packages/tensorflow_core/python/keras/backend.py\", line 3363, in batch_set_value\n",
      "    get_session().run(assign_ops, feed_dict=feed_dict)  File \"/usr/local/lib/python3.7/site-packages/tensorflow_core/python/keras/backend.py\", line 491, in get_session\n",
      "    _initialize_variables(session)  File \"/usr/local/lib/python3.7/site-packages/tensorflow_core/python/keras/backend.py\", line 908, in _initialize_variables\n",
      "    [variables_module.is_variable_initialized(v) for v in candidate_vars])  File \"/usr/local/lib/python3.7/site-packages/tensorflow_core/python/keras/backend.py\", line 908, in <listcomp>\n",
      "    [variables_module.is_variable_initialized(v) for v in candidate_vars])  File \"/usr/local/lib/python3.7/site-packages/tensorflow_core/python/util/tf_should_use.py\", line 198, in wrapped\n",
      "    return _add_should_use_warning(fn(*args, **kwargs))\n",
      "==================================\n"
     ]
    },
    {
     "name": "stdout",
     "output_type": "stream",
     "text": [
      "ERROR:tensorflow:==================================\n",
      "Object was never used (type <class 'tensorflow.python.framework.ops.Tensor'>):\n",
      "<tf.Tensor 'VarIsInitializedOp_220:0' shape=() dtype=bool>\n",
      "If you want to mark it as used call its \"mark_used()\" method.\n",
      "It was originally created here:\n",
      "  File \"/usr/local/lib/python3.7/site-packages/tensorflow_core/python/keras/backend.py\", line 3363, in batch_set_value\n",
      "    get_session().run(assign_ops, feed_dict=feed_dict)  File \"/usr/local/lib/python3.7/site-packages/tensorflow_core/python/keras/backend.py\", line 491, in get_session\n",
      "    _initialize_variables(session)  File \"/usr/local/lib/python3.7/site-packages/tensorflow_core/python/keras/backend.py\", line 908, in _initialize_variables\n",
      "    [variables_module.is_variable_initialized(v) for v in candidate_vars])  File \"/usr/local/lib/python3.7/site-packages/tensorflow_core/python/keras/backend.py\", line 908, in <listcomp>\n",
      "    [variables_module.is_variable_initialized(v) for v in candidate_vars])  File \"/usr/local/lib/python3.7/site-packages/tensorflow_core/python/util/tf_should_use.py\", line 198, in wrapped\n",
      "    return _add_should_use_warning(fn(*args, **kwargs))\n",
      "==================================\n"
     ]
    },
    {
     "name": "stderr",
     "output_type": "stream",
     "text": [
      "ERROR:tensorflow:==================================\n",
      "Object was never used (type <class 'tensorflow.python.framework.ops.Tensor'>):\n",
      "<tf.Tensor 'VarIsInitializedOp_220:0' shape=() dtype=bool>\n",
      "If you want to mark it as used call its \"mark_used()\" method.\n",
      "It was originally created here:\n",
      "  File \"/usr/local/lib/python3.7/site-packages/tensorflow_core/python/keras/backend.py\", line 3363, in batch_set_value\n",
      "    get_session().run(assign_ops, feed_dict=feed_dict)  File \"/usr/local/lib/python3.7/site-packages/tensorflow_core/python/keras/backend.py\", line 491, in get_session\n",
      "    _initialize_variables(session)  File \"/usr/local/lib/python3.7/site-packages/tensorflow_core/python/keras/backend.py\", line 908, in _initialize_variables\n",
      "    [variables_module.is_variable_initialized(v) for v in candidate_vars])  File \"/usr/local/lib/python3.7/site-packages/tensorflow_core/python/keras/backend.py\", line 908, in <listcomp>\n",
      "    [variables_module.is_variable_initialized(v) for v in candidate_vars])  File \"/usr/local/lib/python3.7/site-packages/tensorflow_core/python/util/tf_should_use.py\", line 198, in wrapped\n",
      "    return _add_should_use_warning(fn(*args, **kwargs))\n",
      "==================================\n"
     ]
    },
    {
     "name": "stdout",
     "output_type": "stream",
     "text": [
      "ERROR:tensorflow:==================================\n",
      "Object was never used (type <class 'tensorflow.python.framework.ops.Tensor'>):\n",
      "<tf.Tensor 'VarIsInitializedOp_219:0' shape=() dtype=bool>\n",
      "If you want to mark it as used call its \"mark_used()\" method.\n",
      "It was originally created here:\n",
      "  File \"/usr/local/lib/python3.7/site-packages/tensorflow_core/python/keras/backend.py\", line 3363, in batch_set_value\n",
      "    get_session().run(assign_ops, feed_dict=feed_dict)  File \"/usr/local/lib/python3.7/site-packages/tensorflow_core/python/keras/backend.py\", line 491, in get_session\n",
      "    _initialize_variables(session)  File \"/usr/local/lib/python3.7/site-packages/tensorflow_core/python/keras/backend.py\", line 908, in _initialize_variables\n",
      "    [variables_module.is_variable_initialized(v) for v in candidate_vars])  File \"/usr/local/lib/python3.7/site-packages/tensorflow_core/python/keras/backend.py\", line 908, in <listcomp>\n",
      "    [variables_module.is_variable_initialized(v) for v in candidate_vars])  File \"/usr/local/lib/python3.7/site-packages/tensorflow_core/python/util/tf_should_use.py\", line 198, in wrapped\n",
      "    return _add_should_use_warning(fn(*args, **kwargs))\n",
      "==================================\n"
     ]
    },
    {
     "name": "stderr",
     "output_type": "stream",
     "text": [
      "ERROR:tensorflow:==================================\n",
      "Object was never used (type <class 'tensorflow.python.framework.ops.Tensor'>):\n",
      "<tf.Tensor 'VarIsInitializedOp_219:0' shape=() dtype=bool>\n",
      "If you want to mark it as used call its \"mark_used()\" method.\n",
      "It was originally created here:\n",
      "  File \"/usr/local/lib/python3.7/site-packages/tensorflow_core/python/keras/backend.py\", line 3363, in batch_set_value\n",
      "    get_session().run(assign_ops, feed_dict=feed_dict)  File \"/usr/local/lib/python3.7/site-packages/tensorflow_core/python/keras/backend.py\", line 491, in get_session\n",
      "    _initialize_variables(session)  File \"/usr/local/lib/python3.7/site-packages/tensorflow_core/python/keras/backend.py\", line 908, in _initialize_variables\n",
      "    [variables_module.is_variable_initialized(v) for v in candidate_vars])  File \"/usr/local/lib/python3.7/site-packages/tensorflow_core/python/keras/backend.py\", line 908, in <listcomp>\n",
      "    [variables_module.is_variable_initialized(v) for v in candidate_vars])  File \"/usr/local/lib/python3.7/site-packages/tensorflow_core/python/util/tf_should_use.py\", line 198, in wrapped\n",
      "    return _add_should_use_warning(fn(*args, **kwargs))\n",
      "==================================\n"
     ]
    },
    {
     "name": "stdout",
     "output_type": "stream",
     "text": [
      "ERROR:tensorflow:==================================\n",
      "Object was never used (type <class 'tensorflow.python.framework.ops.Tensor'>):\n",
      "<tf.Tensor 'VarIsInitializedOp_218:0' shape=() dtype=bool>\n",
      "If you want to mark it as used call its \"mark_used()\" method.\n",
      "It was originally created here:\n",
      "  File \"/usr/local/lib/python3.7/site-packages/tensorflow_core/python/keras/backend.py\", line 3363, in batch_set_value\n",
      "    get_session().run(assign_ops, feed_dict=feed_dict)  File \"/usr/local/lib/python3.7/site-packages/tensorflow_core/python/keras/backend.py\", line 491, in get_session\n",
      "    _initialize_variables(session)  File \"/usr/local/lib/python3.7/site-packages/tensorflow_core/python/keras/backend.py\", line 908, in _initialize_variables\n",
      "    [variables_module.is_variable_initialized(v) for v in candidate_vars])  File \"/usr/local/lib/python3.7/site-packages/tensorflow_core/python/keras/backend.py\", line 908, in <listcomp>\n",
      "    [variables_module.is_variable_initialized(v) for v in candidate_vars])  File \"/usr/local/lib/python3.7/site-packages/tensorflow_core/python/util/tf_should_use.py\", line 198, in wrapped\n",
      "    return _add_should_use_warning(fn(*args, **kwargs))\n",
      "==================================\n"
     ]
    },
    {
     "name": "stderr",
     "output_type": "stream",
     "text": [
      "ERROR:tensorflow:==================================\n",
      "Object was never used (type <class 'tensorflow.python.framework.ops.Tensor'>):\n",
      "<tf.Tensor 'VarIsInitializedOp_218:0' shape=() dtype=bool>\n",
      "If you want to mark it as used call its \"mark_used()\" method.\n",
      "It was originally created here:\n",
      "  File \"/usr/local/lib/python3.7/site-packages/tensorflow_core/python/keras/backend.py\", line 3363, in batch_set_value\n",
      "    get_session().run(assign_ops, feed_dict=feed_dict)  File \"/usr/local/lib/python3.7/site-packages/tensorflow_core/python/keras/backend.py\", line 491, in get_session\n",
      "    _initialize_variables(session)  File \"/usr/local/lib/python3.7/site-packages/tensorflow_core/python/keras/backend.py\", line 908, in _initialize_variables\n",
      "    [variables_module.is_variable_initialized(v) for v in candidate_vars])  File \"/usr/local/lib/python3.7/site-packages/tensorflow_core/python/keras/backend.py\", line 908, in <listcomp>\n",
      "    [variables_module.is_variable_initialized(v) for v in candidate_vars])  File \"/usr/local/lib/python3.7/site-packages/tensorflow_core/python/util/tf_should_use.py\", line 198, in wrapped\n",
      "    return _add_should_use_warning(fn(*args, **kwargs))\n",
      "==================================\n"
     ]
    },
    {
     "name": "stdout",
     "output_type": "stream",
     "text": [
      "ERROR:tensorflow:==================================\n",
      "Object was never used (type <class 'tensorflow.python.framework.ops.Tensor'>):\n",
      "<tf.Tensor 'VarIsInitializedOp_217:0' shape=() dtype=bool>\n",
      "If you want to mark it as used call its \"mark_used()\" method.\n",
      "It was originally created here:\n",
      "  File \"/usr/local/lib/python3.7/site-packages/tensorflow_core/python/keras/backend.py\", line 3363, in batch_set_value\n",
      "    get_session().run(assign_ops, feed_dict=feed_dict)  File \"/usr/local/lib/python3.7/site-packages/tensorflow_core/python/keras/backend.py\", line 491, in get_session\n",
      "    _initialize_variables(session)  File \"/usr/local/lib/python3.7/site-packages/tensorflow_core/python/keras/backend.py\", line 908, in _initialize_variables\n",
      "    [variables_module.is_variable_initialized(v) for v in candidate_vars])  File \"/usr/local/lib/python3.7/site-packages/tensorflow_core/python/keras/backend.py\", line 908, in <listcomp>\n",
      "    [variables_module.is_variable_initialized(v) for v in candidate_vars])  File \"/usr/local/lib/python3.7/site-packages/tensorflow_core/python/util/tf_should_use.py\", line 198, in wrapped\n",
      "    return _add_should_use_warning(fn(*args, **kwargs))\n",
      "==================================\n"
     ]
    },
    {
     "name": "stderr",
     "output_type": "stream",
     "text": [
      "ERROR:tensorflow:==================================\n",
      "Object was never used (type <class 'tensorflow.python.framework.ops.Tensor'>):\n",
      "<tf.Tensor 'VarIsInitializedOp_217:0' shape=() dtype=bool>\n",
      "If you want to mark it as used call its \"mark_used()\" method.\n",
      "It was originally created here:\n",
      "  File \"/usr/local/lib/python3.7/site-packages/tensorflow_core/python/keras/backend.py\", line 3363, in batch_set_value\n",
      "    get_session().run(assign_ops, feed_dict=feed_dict)  File \"/usr/local/lib/python3.7/site-packages/tensorflow_core/python/keras/backend.py\", line 491, in get_session\n",
      "    _initialize_variables(session)  File \"/usr/local/lib/python3.7/site-packages/tensorflow_core/python/keras/backend.py\", line 908, in _initialize_variables\n",
      "    [variables_module.is_variable_initialized(v) for v in candidate_vars])  File \"/usr/local/lib/python3.7/site-packages/tensorflow_core/python/keras/backend.py\", line 908, in <listcomp>\n",
      "    [variables_module.is_variable_initialized(v) for v in candidate_vars])  File \"/usr/local/lib/python3.7/site-packages/tensorflow_core/python/util/tf_should_use.py\", line 198, in wrapped\n",
      "    return _add_should_use_warning(fn(*args, **kwargs))\n",
      "==================================\n"
     ]
    },
    {
     "name": "stdout",
     "output_type": "stream",
     "text": [
      "ERROR:tensorflow:==================================\n",
      "Object was never used (type <class 'tensorflow.python.framework.ops.Tensor'>):\n",
      "<tf.Tensor 'VarIsInitializedOp_216:0' shape=() dtype=bool>\n",
      "If you want to mark it as used call its \"mark_used()\" method.\n",
      "It was originally created here:\n",
      "  File \"/usr/local/lib/python3.7/site-packages/tensorflow_core/python/keras/backend.py\", line 3363, in batch_set_value\n",
      "    get_session().run(assign_ops, feed_dict=feed_dict)  File \"/usr/local/lib/python3.7/site-packages/tensorflow_core/python/keras/backend.py\", line 491, in get_session\n",
      "    _initialize_variables(session)  File \"/usr/local/lib/python3.7/site-packages/tensorflow_core/python/keras/backend.py\", line 908, in _initialize_variables\n",
      "    [variables_module.is_variable_initialized(v) for v in candidate_vars])  File \"/usr/local/lib/python3.7/site-packages/tensorflow_core/python/keras/backend.py\", line 908, in <listcomp>\n",
      "    [variables_module.is_variable_initialized(v) for v in candidate_vars])  File \"/usr/local/lib/python3.7/site-packages/tensorflow_core/python/util/tf_should_use.py\", line 198, in wrapped\n",
      "    return _add_should_use_warning(fn(*args, **kwargs))\n",
      "==================================\n"
     ]
    },
    {
     "name": "stderr",
     "output_type": "stream",
     "text": [
      "ERROR:tensorflow:==================================\n",
      "Object was never used (type <class 'tensorflow.python.framework.ops.Tensor'>):\n",
      "<tf.Tensor 'VarIsInitializedOp_216:0' shape=() dtype=bool>\n",
      "If you want to mark it as used call its \"mark_used()\" method.\n",
      "It was originally created here:\n",
      "  File \"/usr/local/lib/python3.7/site-packages/tensorflow_core/python/keras/backend.py\", line 3363, in batch_set_value\n",
      "    get_session().run(assign_ops, feed_dict=feed_dict)  File \"/usr/local/lib/python3.7/site-packages/tensorflow_core/python/keras/backend.py\", line 491, in get_session\n",
      "    _initialize_variables(session)  File \"/usr/local/lib/python3.7/site-packages/tensorflow_core/python/keras/backend.py\", line 908, in _initialize_variables\n",
      "    [variables_module.is_variable_initialized(v) for v in candidate_vars])  File \"/usr/local/lib/python3.7/site-packages/tensorflow_core/python/keras/backend.py\", line 908, in <listcomp>\n",
      "    [variables_module.is_variable_initialized(v) for v in candidate_vars])  File \"/usr/local/lib/python3.7/site-packages/tensorflow_core/python/util/tf_should_use.py\", line 198, in wrapped\n",
      "    return _add_should_use_warning(fn(*args, **kwargs))\n",
      "==================================\n"
     ]
    },
    {
     "name": "stdout",
     "output_type": "stream",
     "text": [
      "ERROR:tensorflow:==================================\n",
      "Object was never used (type <class 'tensorflow.python.framework.ops.Tensor'>):\n",
      "<tf.Tensor 'VarIsInitializedOp_215:0' shape=() dtype=bool>\n",
      "If you want to mark it as used call its \"mark_used()\" method.\n",
      "It was originally created here:\n",
      "  File \"/usr/local/lib/python3.7/site-packages/tensorflow_core/python/keras/backend.py\", line 3363, in batch_set_value\n",
      "    get_session().run(assign_ops, feed_dict=feed_dict)  File \"/usr/local/lib/python3.7/site-packages/tensorflow_core/python/keras/backend.py\", line 491, in get_session\n",
      "    _initialize_variables(session)  File \"/usr/local/lib/python3.7/site-packages/tensorflow_core/python/keras/backend.py\", line 908, in _initialize_variables\n",
      "    [variables_module.is_variable_initialized(v) for v in candidate_vars])  File \"/usr/local/lib/python3.7/site-packages/tensorflow_core/python/keras/backend.py\", line 908, in <listcomp>\n",
      "    [variables_module.is_variable_initialized(v) for v in candidate_vars])  File \"/usr/local/lib/python3.7/site-packages/tensorflow_core/python/util/tf_should_use.py\", line 198, in wrapped\n",
      "    return _add_should_use_warning(fn(*args, **kwargs))\n",
      "==================================\n"
     ]
    },
    {
     "name": "stderr",
     "output_type": "stream",
     "text": [
      "ERROR:tensorflow:==================================\n",
      "Object was never used (type <class 'tensorflow.python.framework.ops.Tensor'>):\n",
      "<tf.Tensor 'VarIsInitializedOp_215:0' shape=() dtype=bool>\n",
      "If you want to mark it as used call its \"mark_used()\" method.\n",
      "It was originally created here:\n",
      "  File \"/usr/local/lib/python3.7/site-packages/tensorflow_core/python/keras/backend.py\", line 3363, in batch_set_value\n",
      "    get_session().run(assign_ops, feed_dict=feed_dict)  File \"/usr/local/lib/python3.7/site-packages/tensorflow_core/python/keras/backend.py\", line 491, in get_session\n",
      "    _initialize_variables(session)  File \"/usr/local/lib/python3.7/site-packages/tensorflow_core/python/keras/backend.py\", line 908, in _initialize_variables\n",
      "    [variables_module.is_variable_initialized(v) for v in candidate_vars])  File \"/usr/local/lib/python3.7/site-packages/tensorflow_core/python/keras/backend.py\", line 908, in <listcomp>\n",
      "    [variables_module.is_variable_initialized(v) for v in candidate_vars])  File \"/usr/local/lib/python3.7/site-packages/tensorflow_core/python/util/tf_should_use.py\", line 198, in wrapped\n",
      "    return _add_should_use_warning(fn(*args, **kwargs))\n",
      "==================================\n"
     ]
    },
    {
     "name": "stdout",
     "output_type": "stream",
     "text": [
      "ERROR:tensorflow:==================================\n",
      "Object was never used (type <class 'tensorflow.python.framework.ops.Tensor'>):\n",
      "<tf.Tensor 'VarIsInitializedOp_214:0' shape=() dtype=bool>\n",
      "If you want to mark it as used call its \"mark_used()\" method.\n",
      "It was originally created here:\n",
      "  File \"/usr/local/lib/python3.7/site-packages/tensorflow_core/python/keras/backend.py\", line 3363, in batch_set_value\n",
      "    get_session().run(assign_ops, feed_dict=feed_dict)  File \"/usr/local/lib/python3.7/site-packages/tensorflow_core/python/keras/backend.py\", line 491, in get_session\n",
      "    _initialize_variables(session)  File \"/usr/local/lib/python3.7/site-packages/tensorflow_core/python/keras/backend.py\", line 908, in _initialize_variables\n",
      "    [variables_module.is_variable_initialized(v) for v in candidate_vars])  File \"/usr/local/lib/python3.7/site-packages/tensorflow_core/python/keras/backend.py\", line 908, in <listcomp>\n",
      "    [variables_module.is_variable_initialized(v) for v in candidate_vars])  File \"/usr/local/lib/python3.7/site-packages/tensorflow_core/python/util/tf_should_use.py\", line 198, in wrapped\n",
      "    return _add_should_use_warning(fn(*args, **kwargs))\n",
      "==================================\n"
     ]
    },
    {
     "name": "stderr",
     "output_type": "stream",
     "text": [
      "ERROR:tensorflow:==================================\n",
      "Object was never used (type <class 'tensorflow.python.framework.ops.Tensor'>):\n",
      "<tf.Tensor 'VarIsInitializedOp_214:0' shape=() dtype=bool>\n",
      "If you want to mark it as used call its \"mark_used()\" method.\n",
      "It was originally created here:\n",
      "  File \"/usr/local/lib/python3.7/site-packages/tensorflow_core/python/keras/backend.py\", line 3363, in batch_set_value\n",
      "    get_session().run(assign_ops, feed_dict=feed_dict)  File \"/usr/local/lib/python3.7/site-packages/tensorflow_core/python/keras/backend.py\", line 491, in get_session\n",
      "    _initialize_variables(session)  File \"/usr/local/lib/python3.7/site-packages/tensorflow_core/python/keras/backend.py\", line 908, in _initialize_variables\n",
      "    [variables_module.is_variable_initialized(v) for v in candidate_vars])  File \"/usr/local/lib/python3.7/site-packages/tensorflow_core/python/keras/backend.py\", line 908, in <listcomp>\n",
      "    [variables_module.is_variable_initialized(v) for v in candidate_vars])  File \"/usr/local/lib/python3.7/site-packages/tensorflow_core/python/util/tf_should_use.py\", line 198, in wrapped\n",
      "    return _add_should_use_warning(fn(*args, **kwargs))\n",
      "==================================\n"
     ]
    },
    {
     "name": "stdout",
     "output_type": "stream",
     "text": [
      "ERROR:tensorflow:==================================\n",
      "Object was never used (type <class 'tensorflow.python.framework.ops.Tensor'>):\n",
      "<tf.Tensor 'VarIsInitializedOp_213:0' shape=() dtype=bool>\n",
      "If you want to mark it as used call its \"mark_used()\" method.\n",
      "It was originally created here:\n",
      "  File \"/usr/local/lib/python3.7/site-packages/tensorflow_core/python/keras/backend.py\", line 3363, in batch_set_value\n",
      "    get_session().run(assign_ops, feed_dict=feed_dict)  File \"/usr/local/lib/python3.7/site-packages/tensorflow_core/python/keras/backend.py\", line 491, in get_session\n",
      "    _initialize_variables(session)  File \"/usr/local/lib/python3.7/site-packages/tensorflow_core/python/keras/backend.py\", line 908, in _initialize_variables\n",
      "    [variables_module.is_variable_initialized(v) for v in candidate_vars])  File \"/usr/local/lib/python3.7/site-packages/tensorflow_core/python/keras/backend.py\", line 908, in <listcomp>\n",
      "    [variables_module.is_variable_initialized(v) for v in candidate_vars])  File \"/usr/local/lib/python3.7/site-packages/tensorflow_core/python/util/tf_should_use.py\", line 198, in wrapped\n",
      "    return _add_should_use_warning(fn(*args, **kwargs))\n",
      "==================================\n"
     ]
    },
    {
     "name": "stderr",
     "output_type": "stream",
     "text": [
      "ERROR:tensorflow:==================================\n",
      "Object was never used (type <class 'tensorflow.python.framework.ops.Tensor'>):\n",
      "<tf.Tensor 'VarIsInitializedOp_213:0' shape=() dtype=bool>\n",
      "If you want to mark it as used call its \"mark_used()\" method.\n",
      "It was originally created here:\n",
      "  File \"/usr/local/lib/python3.7/site-packages/tensorflow_core/python/keras/backend.py\", line 3363, in batch_set_value\n",
      "    get_session().run(assign_ops, feed_dict=feed_dict)  File \"/usr/local/lib/python3.7/site-packages/tensorflow_core/python/keras/backend.py\", line 491, in get_session\n",
      "    _initialize_variables(session)  File \"/usr/local/lib/python3.7/site-packages/tensorflow_core/python/keras/backend.py\", line 908, in _initialize_variables\n",
      "    [variables_module.is_variable_initialized(v) for v in candidate_vars])  File \"/usr/local/lib/python3.7/site-packages/tensorflow_core/python/keras/backend.py\", line 908, in <listcomp>\n",
      "    [variables_module.is_variable_initialized(v) for v in candidate_vars])  File \"/usr/local/lib/python3.7/site-packages/tensorflow_core/python/util/tf_should_use.py\", line 198, in wrapped\n",
      "    return _add_should_use_warning(fn(*args, **kwargs))\n",
      "==================================\n"
     ]
    },
    {
     "name": "stdout",
     "output_type": "stream",
     "text": [
      "ERROR:tensorflow:==================================\n",
      "Object was never used (type <class 'tensorflow.python.framework.ops.Tensor'>):\n",
      "<tf.Tensor 'VarIsInitializedOp_212:0' shape=() dtype=bool>\n",
      "If you want to mark it as used call its \"mark_used()\" method.\n",
      "It was originally created here:\n",
      "  File \"/usr/local/lib/python3.7/site-packages/tensorflow_core/python/keras/backend.py\", line 3363, in batch_set_value\n",
      "    get_session().run(assign_ops, feed_dict=feed_dict)  File \"/usr/local/lib/python3.7/site-packages/tensorflow_core/python/keras/backend.py\", line 491, in get_session\n",
      "    _initialize_variables(session)  File \"/usr/local/lib/python3.7/site-packages/tensorflow_core/python/keras/backend.py\", line 908, in _initialize_variables\n",
      "    [variables_module.is_variable_initialized(v) for v in candidate_vars])  File \"/usr/local/lib/python3.7/site-packages/tensorflow_core/python/keras/backend.py\", line 908, in <listcomp>\n",
      "    [variables_module.is_variable_initialized(v) for v in candidate_vars])  File \"/usr/local/lib/python3.7/site-packages/tensorflow_core/python/util/tf_should_use.py\", line 198, in wrapped\n",
      "    return _add_should_use_warning(fn(*args, **kwargs))\n",
      "==================================\n"
     ]
    },
    {
     "name": "stderr",
     "output_type": "stream",
     "text": [
      "ERROR:tensorflow:==================================\n",
      "Object was never used (type <class 'tensorflow.python.framework.ops.Tensor'>):\n",
      "<tf.Tensor 'VarIsInitializedOp_212:0' shape=() dtype=bool>\n",
      "If you want to mark it as used call its \"mark_used()\" method.\n",
      "It was originally created here:\n",
      "  File \"/usr/local/lib/python3.7/site-packages/tensorflow_core/python/keras/backend.py\", line 3363, in batch_set_value\n",
      "    get_session().run(assign_ops, feed_dict=feed_dict)  File \"/usr/local/lib/python3.7/site-packages/tensorflow_core/python/keras/backend.py\", line 491, in get_session\n",
      "    _initialize_variables(session)  File \"/usr/local/lib/python3.7/site-packages/tensorflow_core/python/keras/backend.py\", line 908, in _initialize_variables\n",
      "    [variables_module.is_variable_initialized(v) for v in candidate_vars])  File \"/usr/local/lib/python3.7/site-packages/tensorflow_core/python/keras/backend.py\", line 908, in <listcomp>\n",
      "    [variables_module.is_variable_initialized(v) for v in candidate_vars])  File \"/usr/local/lib/python3.7/site-packages/tensorflow_core/python/util/tf_should_use.py\", line 198, in wrapped\n",
      "    return _add_should_use_warning(fn(*args, **kwargs))\n",
      "==================================\n"
     ]
    },
    {
     "name": "stdout",
     "output_type": "stream",
     "text": [
      "ERROR:tensorflow:==================================\n",
      "Object was never used (type <class 'tensorflow.python.framework.ops.Tensor'>):\n",
      "<tf.Tensor 'VarIsInitializedOp_211:0' shape=() dtype=bool>\n",
      "If you want to mark it as used call its \"mark_used()\" method.\n",
      "It was originally created here:\n",
      "  File \"/usr/local/lib/python3.7/site-packages/tensorflow_core/python/keras/backend.py\", line 3363, in batch_set_value\n",
      "    get_session().run(assign_ops, feed_dict=feed_dict)  File \"/usr/local/lib/python3.7/site-packages/tensorflow_core/python/keras/backend.py\", line 491, in get_session\n",
      "    _initialize_variables(session)  File \"/usr/local/lib/python3.7/site-packages/tensorflow_core/python/keras/backend.py\", line 908, in _initialize_variables\n",
      "    [variables_module.is_variable_initialized(v) for v in candidate_vars])  File \"/usr/local/lib/python3.7/site-packages/tensorflow_core/python/keras/backend.py\", line 908, in <listcomp>\n",
      "    [variables_module.is_variable_initialized(v) for v in candidate_vars])  File \"/usr/local/lib/python3.7/site-packages/tensorflow_core/python/util/tf_should_use.py\", line 198, in wrapped\n",
      "    return _add_should_use_warning(fn(*args, **kwargs))\n",
      "==================================\n"
     ]
    },
    {
     "name": "stderr",
     "output_type": "stream",
     "text": [
      "ERROR:tensorflow:==================================\n",
      "Object was never used (type <class 'tensorflow.python.framework.ops.Tensor'>):\n",
      "<tf.Tensor 'VarIsInitializedOp_211:0' shape=() dtype=bool>\n",
      "If you want to mark it as used call its \"mark_used()\" method.\n",
      "It was originally created here:\n",
      "  File \"/usr/local/lib/python3.7/site-packages/tensorflow_core/python/keras/backend.py\", line 3363, in batch_set_value\n",
      "    get_session().run(assign_ops, feed_dict=feed_dict)  File \"/usr/local/lib/python3.7/site-packages/tensorflow_core/python/keras/backend.py\", line 491, in get_session\n",
      "    _initialize_variables(session)  File \"/usr/local/lib/python3.7/site-packages/tensorflow_core/python/keras/backend.py\", line 908, in _initialize_variables\n",
      "    [variables_module.is_variable_initialized(v) for v in candidate_vars])  File \"/usr/local/lib/python3.7/site-packages/tensorflow_core/python/keras/backend.py\", line 908, in <listcomp>\n",
      "    [variables_module.is_variable_initialized(v) for v in candidate_vars])  File \"/usr/local/lib/python3.7/site-packages/tensorflow_core/python/util/tf_should_use.py\", line 198, in wrapped\n",
      "    return _add_should_use_warning(fn(*args, **kwargs))\n",
      "==================================\n"
     ]
    },
    {
     "name": "stdout",
     "output_type": "stream",
     "text": [
      "ERROR:tensorflow:==================================\n",
      "Object was never used (type <class 'tensorflow.python.framework.ops.Tensor'>):\n",
      "<tf.Tensor 'VarIsInitializedOp_210:0' shape=() dtype=bool>\n",
      "If you want to mark it as used call its \"mark_used()\" method.\n",
      "It was originally created here:\n",
      "  File \"/usr/local/lib/python3.7/site-packages/tensorflow_core/python/keras/backend.py\", line 3363, in batch_set_value\n",
      "    get_session().run(assign_ops, feed_dict=feed_dict)  File \"/usr/local/lib/python3.7/site-packages/tensorflow_core/python/keras/backend.py\", line 491, in get_session\n",
      "    _initialize_variables(session)  File \"/usr/local/lib/python3.7/site-packages/tensorflow_core/python/keras/backend.py\", line 908, in _initialize_variables\n",
      "    [variables_module.is_variable_initialized(v) for v in candidate_vars])  File \"/usr/local/lib/python3.7/site-packages/tensorflow_core/python/keras/backend.py\", line 908, in <listcomp>\n",
      "    [variables_module.is_variable_initialized(v) for v in candidate_vars])  File \"/usr/local/lib/python3.7/site-packages/tensorflow_core/python/util/tf_should_use.py\", line 198, in wrapped\n",
      "    return _add_should_use_warning(fn(*args, **kwargs))\n",
      "==================================\n"
     ]
    },
    {
     "name": "stderr",
     "output_type": "stream",
     "text": [
      "ERROR:tensorflow:==================================\n",
      "Object was never used (type <class 'tensorflow.python.framework.ops.Tensor'>):\n",
      "<tf.Tensor 'VarIsInitializedOp_210:0' shape=() dtype=bool>\n",
      "If you want to mark it as used call its \"mark_used()\" method.\n",
      "It was originally created here:\n",
      "  File \"/usr/local/lib/python3.7/site-packages/tensorflow_core/python/keras/backend.py\", line 3363, in batch_set_value\n",
      "    get_session().run(assign_ops, feed_dict=feed_dict)  File \"/usr/local/lib/python3.7/site-packages/tensorflow_core/python/keras/backend.py\", line 491, in get_session\n",
      "    _initialize_variables(session)  File \"/usr/local/lib/python3.7/site-packages/tensorflow_core/python/keras/backend.py\", line 908, in _initialize_variables\n",
      "    [variables_module.is_variable_initialized(v) for v in candidate_vars])  File \"/usr/local/lib/python3.7/site-packages/tensorflow_core/python/keras/backend.py\", line 908, in <listcomp>\n",
      "    [variables_module.is_variable_initialized(v) for v in candidate_vars])  File \"/usr/local/lib/python3.7/site-packages/tensorflow_core/python/util/tf_should_use.py\", line 198, in wrapped\n",
      "    return _add_should_use_warning(fn(*args, **kwargs))\n",
      "==================================\n"
     ]
    },
    {
     "name": "stdout",
     "output_type": "stream",
     "text": [
      "ERROR:tensorflow:==================================\n",
      "Object was never used (type <class 'tensorflow.python.framework.ops.Tensor'>):\n",
      "<tf.Tensor 'VarIsInitializedOp_209:0' shape=() dtype=bool>\n",
      "If you want to mark it as used call its \"mark_used()\" method.\n",
      "It was originally created here:\n",
      "  File \"/usr/local/lib/python3.7/site-packages/tensorflow_core/python/keras/backend.py\", line 3363, in batch_set_value\n",
      "    get_session().run(assign_ops, feed_dict=feed_dict)  File \"/usr/local/lib/python3.7/site-packages/tensorflow_core/python/keras/backend.py\", line 491, in get_session\n",
      "    _initialize_variables(session)  File \"/usr/local/lib/python3.7/site-packages/tensorflow_core/python/keras/backend.py\", line 908, in _initialize_variables\n",
      "    [variables_module.is_variable_initialized(v) for v in candidate_vars])  File \"/usr/local/lib/python3.7/site-packages/tensorflow_core/python/keras/backend.py\", line 908, in <listcomp>\n",
      "    [variables_module.is_variable_initialized(v) for v in candidate_vars])  File \"/usr/local/lib/python3.7/site-packages/tensorflow_core/python/util/tf_should_use.py\", line 198, in wrapped\n",
      "    return _add_should_use_warning(fn(*args, **kwargs))\n",
      "==================================\n"
     ]
    },
    {
     "name": "stderr",
     "output_type": "stream",
     "text": [
      "ERROR:tensorflow:==================================\n",
      "Object was never used (type <class 'tensorflow.python.framework.ops.Tensor'>):\n",
      "<tf.Tensor 'VarIsInitializedOp_209:0' shape=() dtype=bool>\n",
      "If you want to mark it as used call its \"mark_used()\" method.\n",
      "It was originally created here:\n",
      "  File \"/usr/local/lib/python3.7/site-packages/tensorflow_core/python/keras/backend.py\", line 3363, in batch_set_value\n",
      "    get_session().run(assign_ops, feed_dict=feed_dict)  File \"/usr/local/lib/python3.7/site-packages/tensorflow_core/python/keras/backend.py\", line 491, in get_session\n",
      "    _initialize_variables(session)  File \"/usr/local/lib/python3.7/site-packages/tensorflow_core/python/keras/backend.py\", line 908, in _initialize_variables\n",
      "    [variables_module.is_variable_initialized(v) for v in candidate_vars])  File \"/usr/local/lib/python3.7/site-packages/tensorflow_core/python/keras/backend.py\", line 908, in <listcomp>\n",
      "    [variables_module.is_variable_initialized(v) for v in candidate_vars])  File \"/usr/local/lib/python3.7/site-packages/tensorflow_core/python/util/tf_should_use.py\", line 198, in wrapped\n",
      "    return _add_should_use_warning(fn(*args, **kwargs))\n",
      "==================================\n"
     ]
    },
    {
     "name": "stdout",
     "output_type": "stream",
     "text": [
      "ERROR:tensorflow:==================================\n",
      "Object was never used (type <class 'tensorflow.python.framework.ops.Tensor'>):\n",
      "<tf.Tensor 'VarIsInitializedOp_208:0' shape=() dtype=bool>\n",
      "If you want to mark it as used call its \"mark_used()\" method.\n",
      "It was originally created here:\n",
      "  File \"/usr/local/lib/python3.7/site-packages/tensorflow_core/python/keras/backend.py\", line 3363, in batch_set_value\n",
      "    get_session().run(assign_ops, feed_dict=feed_dict)  File \"/usr/local/lib/python3.7/site-packages/tensorflow_core/python/keras/backend.py\", line 491, in get_session\n",
      "    _initialize_variables(session)  File \"/usr/local/lib/python3.7/site-packages/tensorflow_core/python/keras/backend.py\", line 908, in _initialize_variables\n",
      "    [variables_module.is_variable_initialized(v) for v in candidate_vars])  File \"/usr/local/lib/python3.7/site-packages/tensorflow_core/python/keras/backend.py\", line 908, in <listcomp>\n",
      "    [variables_module.is_variable_initialized(v) for v in candidate_vars])  File \"/usr/local/lib/python3.7/site-packages/tensorflow_core/python/util/tf_should_use.py\", line 198, in wrapped\n",
      "    return _add_should_use_warning(fn(*args, **kwargs))\n",
      "==================================\n"
     ]
    },
    {
     "name": "stderr",
     "output_type": "stream",
     "text": [
      "ERROR:tensorflow:==================================\n",
      "Object was never used (type <class 'tensorflow.python.framework.ops.Tensor'>):\n",
      "<tf.Tensor 'VarIsInitializedOp_208:0' shape=() dtype=bool>\n",
      "If you want to mark it as used call its \"mark_used()\" method.\n",
      "It was originally created here:\n",
      "  File \"/usr/local/lib/python3.7/site-packages/tensorflow_core/python/keras/backend.py\", line 3363, in batch_set_value\n",
      "    get_session().run(assign_ops, feed_dict=feed_dict)  File \"/usr/local/lib/python3.7/site-packages/tensorflow_core/python/keras/backend.py\", line 491, in get_session\n",
      "    _initialize_variables(session)  File \"/usr/local/lib/python3.7/site-packages/tensorflow_core/python/keras/backend.py\", line 908, in _initialize_variables\n",
      "    [variables_module.is_variable_initialized(v) for v in candidate_vars])  File \"/usr/local/lib/python3.7/site-packages/tensorflow_core/python/keras/backend.py\", line 908, in <listcomp>\n",
      "    [variables_module.is_variable_initialized(v) for v in candidate_vars])  File \"/usr/local/lib/python3.7/site-packages/tensorflow_core/python/util/tf_should_use.py\", line 198, in wrapped\n",
      "    return _add_should_use_warning(fn(*args, **kwargs))\n",
      "==================================\n"
     ]
    },
    {
     "name": "stdout",
     "output_type": "stream",
     "text": [
      "ERROR:tensorflow:==================================\n",
      "Object was never used (type <class 'tensorflow.python.framework.ops.Tensor'>):\n",
      "<tf.Tensor 'VarIsInitializedOp_207:0' shape=() dtype=bool>\n",
      "If you want to mark it as used call its \"mark_used()\" method.\n",
      "It was originally created here:\n",
      "  File \"/usr/local/lib/python3.7/site-packages/tensorflow_core/python/keras/backend.py\", line 3363, in batch_set_value\n",
      "    get_session().run(assign_ops, feed_dict=feed_dict)  File \"/usr/local/lib/python3.7/site-packages/tensorflow_core/python/keras/backend.py\", line 491, in get_session\n",
      "    _initialize_variables(session)  File \"/usr/local/lib/python3.7/site-packages/tensorflow_core/python/keras/backend.py\", line 908, in _initialize_variables\n",
      "    [variables_module.is_variable_initialized(v) for v in candidate_vars])  File \"/usr/local/lib/python3.7/site-packages/tensorflow_core/python/keras/backend.py\", line 908, in <listcomp>\n",
      "    [variables_module.is_variable_initialized(v) for v in candidate_vars])  File \"/usr/local/lib/python3.7/site-packages/tensorflow_core/python/util/tf_should_use.py\", line 198, in wrapped\n",
      "    return _add_should_use_warning(fn(*args, **kwargs))\n",
      "==================================\n"
     ]
    },
    {
     "name": "stderr",
     "output_type": "stream",
     "text": [
      "ERROR:tensorflow:==================================\n",
      "Object was never used (type <class 'tensorflow.python.framework.ops.Tensor'>):\n",
      "<tf.Tensor 'VarIsInitializedOp_207:0' shape=() dtype=bool>\n",
      "If you want to mark it as used call its \"mark_used()\" method.\n",
      "It was originally created here:\n",
      "  File \"/usr/local/lib/python3.7/site-packages/tensorflow_core/python/keras/backend.py\", line 3363, in batch_set_value\n",
      "    get_session().run(assign_ops, feed_dict=feed_dict)  File \"/usr/local/lib/python3.7/site-packages/tensorflow_core/python/keras/backend.py\", line 491, in get_session\n",
      "    _initialize_variables(session)  File \"/usr/local/lib/python3.7/site-packages/tensorflow_core/python/keras/backend.py\", line 908, in _initialize_variables\n",
      "    [variables_module.is_variable_initialized(v) for v in candidate_vars])  File \"/usr/local/lib/python3.7/site-packages/tensorflow_core/python/keras/backend.py\", line 908, in <listcomp>\n",
      "    [variables_module.is_variable_initialized(v) for v in candidate_vars])  File \"/usr/local/lib/python3.7/site-packages/tensorflow_core/python/util/tf_should_use.py\", line 198, in wrapped\n",
      "    return _add_should_use_warning(fn(*args, **kwargs))\n",
      "==================================\n"
     ]
    },
    {
     "name": "stdout",
     "output_type": "stream",
     "text": [
      "ERROR:tensorflow:==================================\n",
      "Object was never used (type <class 'tensorflow.python.framework.ops.Tensor'>):\n",
      "<tf.Tensor 'VarIsInitializedOp_206:0' shape=() dtype=bool>\n",
      "If you want to mark it as used call its \"mark_used()\" method.\n",
      "It was originally created here:\n",
      "  File \"/usr/local/lib/python3.7/site-packages/tensorflow_core/python/keras/backend.py\", line 3363, in batch_set_value\n",
      "    get_session().run(assign_ops, feed_dict=feed_dict)  File \"/usr/local/lib/python3.7/site-packages/tensorflow_core/python/keras/backend.py\", line 491, in get_session\n",
      "    _initialize_variables(session)  File \"/usr/local/lib/python3.7/site-packages/tensorflow_core/python/keras/backend.py\", line 908, in _initialize_variables\n",
      "    [variables_module.is_variable_initialized(v) for v in candidate_vars])  File \"/usr/local/lib/python3.7/site-packages/tensorflow_core/python/keras/backend.py\", line 908, in <listcomp>\n",
      "    [variables_module.is_variable_initialized(v) for v in candidate_vars])  File \"/usr/local/lib/python3.7/site-packages/tensorflow_core/python/util/tf_should_use.py\", line 198, in wrapped\n",
      "    return _add_should_use_warning(fn(*args, **kwargs))\n",
      "==================================\n"
     ]
    },
    {
     "name": "stderr",
     "output_type": "stream",
     "text": [
      "ERROR:tensorflow:==================================\n",
      "Object was never used (type <class 'tensorflow.python.framework.ops.Tensor'>):\n",
      "<tf.Tensor 'VarIsInitializedOp_206:0' shape=() dtype=bool>\n",
      "If you want to mark it as used call its \"mark_used()\" method.\n",
      "It was originally created here:\n",
      "  File \"/usr/local/lib/python3.7/site-packages/tensorflow_core/python/keras/backend.py\", line 3363, in batch_set_value\n",
      "    get_session().run(assign_ops, feed_dict=feed_dict)  File \"/usr/local/lib/python3.7/site-packages/tensorflow_core/python/keras/backend.py\", line 491, in get_session\n",
      "    _initialize_variables(session)  File \"/usr/local/lib/python3.7/site-packages/tensorflow_core/python/keras/backend.py\", line 908, in _initialize_variables\n",
      "    [variables_module.is_variable_initialized(v) for v in candidate_vars])  File \"/usr/local/lib/python3.7/site-packages/tensorflow_core/python/keras/backend.py\", line 908, in <listcomp>\n",
      "    [variables_module.is_variable_initialized(v) for v in candidate_vars])  File \"/usr/local/lib/python3.7/site-packages/tensorflow_core/python/util/tf_should_use.py\", line 198, in wrapped\n",
      "    return _add_should_use_warning(fn(*args, **kwargs))\n",
      "==================================\n"
     ]
    },
    {
     "name": "stdout",
     "output_type": "stream",
     "text": [
      "ERROR:tensorflow:==================================\n",
      "Object was never used (type <class 'tensorflow.python.framework.ops.Tensor'>):\n",
      "<tf.Tensor 'VarIsInitializedOp_205:0' shape=() dtype=bool>\n",
      "If you want to mark it as used call its \"mark_used()\" method.\n",
      "It was originally created here:\n",
      "  File \"/usr/local/lib/python3.7/site-packages/tensorflow_core/python/keras/backend.py\", line 3363, in batch_set_value\n",
      "    get_session().run(assign_ops, feed_dict=feed_dict)  File \"/usr/local/lib/python3.7/site-packages/tensorflow_core/python/keras/backend.py\", line 491, in get_session\n",
      "    _initialize_variables(session)  File \"/usr/local/lib/python3.7/site-packages/tensorflow_core/python/keras/backend.py\", line 908, in _initialize_variables\n",
      "    [variables_module.is_variable_initialized(v) for v in candidate_vars])  File \"/usr/local/lib/python3.7/site-packages/tensorflow_core/python/keras/backend.py\", line 908, in <listcomp>\n",
      "    [variables_module.is_variable_initialized(v) for v in candidate_vars])  File \"/usr/local/lib/python3.7/site-packages/tensorflow_core/python/util/tf_should_use.py\", line 198, in wrapped\n",
      "    return _add_should_use_warning(fn(*args, **kwargs))\n",
      "==================================\n"
     ]
    },
    {
     "name": "stderr",
     "output_type": "stream",
     "text": [
      "ERROR:tensorflow:==================================\n",
      "Object was never used (type <class 'tensorflow.python.framework.ops.Tensor'>):\n",
      "<tf.Tensor 'VarIsInitializedOp_205:0' shape=() dtype=bool>\n",
      "If you want to mark it as used call its \"mark_used()\" method.\n",
      "It was originally created here:\n",
      "  File \"/usr/local/lib/python3.7/site-packages/tensorflow_core/python/keras/backend.py\", line 3363, in batch_set_value\n",
      "    get_session().run(assign_ops, feed_dict=feed_dict)  File \"/usr/local/lib/python3.7/site-packages/tensorflow_core/python/keras/backend.py\", line 491, in get_session\n",
      "    _initialize_variables(session)  File \"/usr/local/lib/python3.7/site-packages/tensorflow_core/python/keras/backend.py\", line 908, in _initialize_variables\n",
      "    [variables_module.is_variable_initialized(v) for v in candidate_vars])  File \"/usr/local/lib/python3.7/site-packages/tensorflow_core/python/keras/backend.py\", line 908, in <listcomp>\n",
      "    [variables_module.is_variable_initialized(v) for v in candidate_vars])  File \"/usr/local/lib/python3.7/site-packages/tensorflow_core/python/util/tf_should_use.py\", line 198, in wrapped\n",
      "    return _add_should_use_warning(fn(*args, **kwargs))\n",
      "==================================\n"
     ]
    },
    {
     "name": "stdout",
     "output_type": "stream",
     "text": [
      "ERROR:tensorflow:==================================\n",
      "Object was never used (type <class 'tensorflow.python.framework.ops.Tensor'>):\n",
      "<tf.Tensor 'VarIsInitializedOp_204:0' shape=() dtype=bool>\n",
      "If you want to mark it as used call its \"mark_used()\" method.\n",
      "It was originally created here:\n",
      "  File \"/usr/local/lib/python3.7/site-packages/tensorflow_core/python/keras/backend.py\", line 3363, in batch_set_value\n",
      "    get_session().run(assign_ops, feed_dict=feed_dict)  File \"/usr/local/lib/python3.7/site-packages/tensorflow_core/python/keras/backend.py\", line 491, in get_session\n",
      "    _initialize_variables(session)  File \"/usr/local/lib/python3.7/site-packages/tensorflow_core/python/keras/backend.py\", line 908, in _initialize_variables\n",
      "    [variables_module.is_variable_initialized(v) for v in candidate_vars])  File \"/usr/local/lib/python3.7/site-packages/tensorflow_core/python/keras/backend.py\", line 908, in <listcomp>\n",
      "    [variables_module.is_variable_initialized(v) for v in candidate_vars])  File \"/usr/local/lib/python3.7/site-packages/tensorflow_core/python/util/tf_should_use.py\", line 198, in wrapped\n",
      "    return _add_should_use_warning(fn(*args, **kwargs))\n",
      "==================================\n"
     ]
    },
    {
     "name": "stderr",
     "output_type": "stream",
     "text": [
      "ERROR:tensorflow:==================================\n",
      "Object was never used (type <class 'tensorflow.python.framework.ops.Tensor'>):\n",
      "<tf.Tensor 'VarIsInitializedOp_204:0' shape=() dtype=bool>\n",
      "If you want to mark it as used call its \"mark_used()\" method.\n",
      "It was originally created here:\n",
      "  File \"/usr/local/lib/python3.7/site-packages/tensorflow_core/python/keras/backend.py\", line 3363, in batch_set_value\n",
      "    get_session().run(assign_ops, feed_dict=feed_dict)  File \"/usr/local/lib/python3.7/site-packages/tensorflow_core/python/keras/backend.py\", line 491, in get_session\n",
      "    _initialize_variables(session)  File \"/usr/local/lib/python3.7/site-packages/tensorflow_core/python/keras/backend.py\", line 908, in _initialize_variables\n",
      "    [variables_module.is_variable_initialized(v) for v in candidate_vars])  File \"/usr/local/lib/python3.7/site-packages/tensorflow_core/python/keras/backend.py\", line 908, in <listcomp>\n",
      "    [variables_module.is_variable_initialized(v) for v in candidate_vars])  File \"/usr/local/lib/python3.7/site-packages/tensorflow_core/python/util/tf_should_use.py\", line 198, in wrapped\n",
      "    return _add_should_use_warning(fn(*args, **kwargs))\n",
      "==================================\n"
     ]
    },
    {
     "name": "stdout",
     "output_type": "stream",
     "text": [
      "ERROR:tensorflow:==================================\n",
      "Object was never used (type <class 'tensorflow.python.framework.ops.Tensor'>):\n",
      "<tf.Tensor 'VarIsInitializedOp_203:0' shape=() dtype=bool>\n",
      "If you want to mark it as used call its \"mark_used()\" method.\n",
      "It was originally created here:\n",
      "  File \"/usr/local/lib/python3.7/site-packages/tensorflow_core/python/keras/backend.py\", line 3363, in batch_set_value\n",
      "    get_session().run(assign_ops, feed_dict=feed_dict)  File \"/usr/local/lib/python3.7/site-packages/tensorflow_core/python/keras/backend.py\", line 491, in get_session\n",
      "    _initialize_variables(session)  File \"/usr/local/lib/python3.7/site-packages/tensorflow_core/python/keras/backend.py\", line 908, in _initialize_variables\n",
      "    [variables_module.is_variable_initialized(v) for v in candidate_vars])  File \"/usr/local/lib/python3.7/site-packages/tensorflow_core/python/keras/backend.py\", line 908, in <listcomp>\n",
      "    [variables_module.is_variable_initialized(v) for v in candidate_vars])  File \"/usr/local/lib/python3.7/site-packages/tensorflow_core/python/util/tf_should_use.py\", line 198, in wrapped\n",
      "    return _add_should_use_warning(fn(*args, **kwargs))\n",
      "==================================\n"
     ]
    },
    {
     "name": "stderr",
     "output_type": "stream",
     "text": [
      "ERROR:tensorflow:==================================\n",
      "Object was never used (type <class 'tensorflow.python.framework.ops.Tensor'>):\n",
      "<tf.Tensor 'VarIsInitializedOp_203:0' shape=() dtype=bool>\n",
      "If you want to mark it as used call its \"mark_used()\" method.\n",
      "It was originally created here:\n",
      "  File \"/usr/local/lib/python3.7/site-packages/tensorflow_core/python/keras/backend.py\", line 3363, in batch_set_value\n",
      "    get_session().run(assign_ops, feed_dict=feed_dict)  File \"/usr/local/lib/python3.7/site-packages/tensorflow_core/python/keras/backend.py\", line 491, in get_session\n",
      "    _initialize_variables(session)  File \"/usr/local/lib/python3.7/site-packages/tensorflow_core/python/keras/backend.py\", line 908, in _initialize_variables\n",
      "    [variables_module.is_variable_initialized(v) for v in candidate_vars])  File \"/usr/local/lib/python3.7/site-packages/tensorflow_core/python/keras/backend.py\", line 908, in <listcomp>\n",
      "    [variables_module.is_variable_initialized(v) for v in candidate_vars])  File \"/usr/local/lib/python3.7/site-packages/tensorflow_core/python/util/tf_should_use.py\", line 198, in wrapped\n",
      "    return _add_should_use_warning(fn(*args, **kwargs))\n",
      "==================================\n"
     ]
    },
    {
     "name": "stdout",
     "output_type": "stream",
     "text": [
      "ERROR:tensorflow:==================================\n",
      "Object was never used (type <class 'tensorflow.python.framework.ops.Tensor'>):\n",
      "<tf.Tensor 'VarIsInitializedOp_202:0' shape=() dtype=bool>\n",
      "If you want to mark it as used call its \"mark_used()\" method.\n",
      "It was originally created here:\n",
      "  File \"/usr/local/lib/python3.7/site-packages/tensorflow_core/python/keras/backend.py\", line 3363, in batch_set_value\n",
      "    get_session().run(assign_ops, feed_dict=feed_dict)  File \"/usr/local/lib/python3.7/site-packages/tensorflow_core/python/keras/backend.py\", line 491, in get_session\n",
      "    _initialize_variables(session)  File \"/usr/local/lib/python3.7/site-packages/tensorflow_core/python/keras/backend.py\", line 908, in _initialize_variables\n",
      "    [variables_module.is_variable_initialized(v) for v in candidate_vars])  File \"/usr/local/lib/python3.7/site-packages/tensorflow_core/python/keras/backend.py\", line 908, in <listcomp>\n",
      "    [variables_module.is_variable_initialized(v) for v in candidate_vars])  File \"/usr/local/lib/python3.7/site-packages/tensorflow_core/python/util/tf_should_use.py\", line 198, in wrapped\n",
      "    return _add_should_use_warning(fn(*args, **kwargs))\n",
      "==================================\n"
     ]
    },
    {
     "name": "stderr",
     "output_type": "stream",
     "text": [
      "ERROR:tensorflow:==================================\n",
      "Object was never used (type <class 'tensorflow.python.framework.ops.Tensor'>):\n",
      "<tf.Tensor 'VarIsInitializedOp_202:0' shape=() dtype=bool>\n",
      "If you want to mark it as used call its \"mark_used()\" method.\n",
      "It was originally created here:\n",
      "  File \"/usr/local/lib/python3.7/site-packages/tensorflow_core/python/keras/backend.py\", line 3363, in batch_set_value\n",
      "    get_session().run(assign_ops, feed_dict=feed_dict)  File \"/usr/local/lib/python3.7/site-packages/tensorflow_core/python/keras/backend.py\", line 491, in get_session\n",
      "    _initialize_variables(session)  File \"/usr/local/lib/python3.7/site-packages/tensorflow_core/python/keras/backend.py\", line 908, in _initialize_variables\n",
      "    [variables_module.is_variable_initialized(v) for v in candidate_vars])  File \"/usr/local/lib/python3.7/site-packages/tensorflow_core/python/keras/backend.py\", line 908, in <listcomp>\n",
      "    [variables_module.is_variable_initialized(v) for v in candidate_vars])  File \"/usr/local/lib/python3.7/site-packages/tensorflow_core/python/util/tf_should_use.py\", line 198, in wrapped\n",
      "    return _add_should_use_warning(fn(*args, **kwargs))\n",
      "==================================\n"
     ]
    },
    {
     "name": "stdout",
     "output_type": "stream",
     "text": [
      "ERROR:tensorflow:==================================\n",
      "Object was never used (type <class 'tensorflow.python.framework.ops.Tensor'>):\n",
      "<tf.Tensor 'VarIsInitializedOp_201:0' shape=() dtype=bool>\n",
      "If you want to mark it as used call its \"mark_used()\" method.\n",
      "It was originally created here:\n",
      "  File \"/usr/local/lib/python3.7/site-packages/tensorflow_core/python/keras/backend.py\", line 3363, in batch_set_value\n",
      "    get_session().run(assign_ops, feed_dict=feed_dict)  File \"/usr/local/lib/python3.7/site-packages/tensorflow_core/python/keras/backend.py\", line 491, in get_session\n",
      "    _initialize_variables(session)  File \"/usr/local/lib/python3.7/site-packages/tensorflow_core/python/keras/backend.py\", line 908, in _initialize_variables\n",
      "    [variables_module.is_variable_initialized(v) for v in candidate_vars])  File \"/usr/local/lib/python3.7/site-packages/tensorflow_core/python/keras/backend.py\", line 908, in <listcomp>\n",
      "    [variables_module.is_variable_initialized(v) for v in candidate_vars])  File \"/usr/local/lib/python3.7/site-packages/tensorflow_core/python/util/tf_should_use.py\", line 198, in wrapped\n",
      "    return _add_should_use_warning(fn(*args, **kwargs))\n",
      "==================================\n"
     ]
    },
    {
     "name": "stderr",
     "output_type": "stream",
     "text": [
      "ERROR:tensorflow:==================================\n",
      "Object was never used (type <class 'tensorflow.python.framework.ops.Tensor'>):\n",
      "<tf.Tensor 'VarIsInitializedOp_201:0' shape=() dtype=bool>\n",
      "If you want to mark it as used call its \"mark_used()\" method.\n",
      "It was originally created here:\n",
      "  File \"/usr/local/lib/python3.7/site-packages/tensorflow_core/python/keras/backend.py\", line 3363, in batch_set_value\n",
      "    get_session().run(assign_ops, feed_dict=feed_dict)  File \"/usr/local/lib/python3.7/site-packages/tensorflow_core/python/keras/backend.py\", line 491, in get_session\n",
      "    _initialize_variables(session)  File \"/usr/local/lib/python3.7/site-packages/tensorflow_core/python/keras/backend.py\", line 908, in _initialize_variables\n",
      "    [variables_module.is_variable_initialized(v) for v in candidate_vars])  File \"/usr/local/lib/python3.7/site-packages/tensorflow_core/python/keras/backend.py\", line 908, in <listcomp>\n",
      "    [variables_module.is_variable_initialized(v) for v in candidate_vars])  File \"/usr/local/lib/python3.7/site-packages/tensorflow_core/python/util/tf_should_use.py\", line 198, in wrapped\n",
      "    return _add_should_use_warning(fn(*args, **kwargs))\n",
      "==================================\n"
     ]
    },
    {
     "name": "stdout",
     "output_type": "stream",
     "text": [
      "ERROR:tensorflow:==================================\n",
      "Object was never used (type <class 'tensorflow.python.framework.ops.Tensor'>):\n",
      "<tf.Tensor 'VarIsInitializedOp_200:0' shape=() dtype=bool>\n",
      "If you want to mark it as used call its \"mark_used()\" method.\n",
      "It was originally created here:\n",
      "  File \"/usr/local/lib/python3.7/site-packages/tensorflow_core/python/keras/backend.py\", line 3363, in batch_set_value\n",
      "    get_session().run(assign_ops, feed_dict=feed_dict)  File \"/usr/local/lib/python3.7/site-packages/tensorflow_core/python/keras/backend.py\", line 491, in get_session\n",
      "    _initialize_variables(session)  File \"/usr/local/lib/python3.7/site-packages/tensorflow_core/python/keras/backend.py\", line 908, in _initialize_variables\n",
      "    [variables_module.is_variable_initialized(v) for v in candidate_vars])  File \"/usr/local/lib/python3.7/site-packages/tensorflow_core/python/keras/backend.py\", line 908, in <listcomp>\n",
      "    [variables_module.is_variable_initialized(v) for v in candidate_vars])  File \"/usr/local/lib/python3.7/site-packages/tensorflow_core/python/util/tf_should_use.py\", line 198, in wrapped\n",
      "    return _add_should_use_warning(fn(*args, **kwargs))\n",
      "==================================\n"
     ]
    },
    {
     "name": "stderr",
     "output_type": "stream",
     "text": [
      "ERROR:tensorflow:==================================\n",
      "Object was never used (type <class 'tensorflow.python.framework.ops.Tensor'>):\n",
      "<tf.Tensor 'VarIsInitializedOp_200:0' shape=() dtype=bool>\n",
      "If you want to mark it as used call its \"mark_used()\" method.\n",
      "It was originally created here:\n",
      "  File \"/usr/local/lib/python3.7/site-packages/tensorflow_core/python/keras/backend.py\", line 3363, in batch_set_value\n",
      "    get_session().run(assign_ops, feed_dict=feed_dict)  File \"/usr/local/lib/python3.7/site-packages/tensorflow_core/python/keras/backend.py\", line 491, in get_session\n",
      "    _initialize_variables(session)  File \"/usr/local/lib/python3.7/site-packages/tensorflow_core/python/keras/backend.py\", line 908, in _initialize_variables\n",
      "    [variables_module.is_variable_initialized(v) for v in candidate_vars])  File \"/usr/local/lib/python3.7/site-packages/tensorflow_core/python/keras/backend.py\", line 908, in <listcomp>\n",
      "    [variables_module.is_variable_initialized(v) for v in candidate_vars])  File \"/usr/local/lib/python3.7/site-packages/tensorflow_core/python/util/tf_should_use.py\", line 198, in wrapped\n",
      "    return _add_should_use_warning(fn(*args, **kwargs))\n",
      "==================================\n"
     ]
    },
    {
     "name": "stdout",
     "output_type": "stream",
     "text": [
      "ERROR:tensorflow:==================================\n",
      "Object was never used (type <class 'tensorflow.python.framework.ops.Tensor'>):\n",
      "<tf.Tensor 'VarIsInitializedOp_199:0' shape=() dtype=bool>\n",
      "If you want to mark it as used call its \"mark_used()\" method.\n",
      "It was originally created here:\n",
      "  File \"/usr/local/lib/python3.7/site-packages/tensorflow_core/python/keras/backend.py\", line 3363, in batch_set_value\n",
      "    get_session().run(assign_ops, feed_dict=feed_dict)  File \"/usr/local/lib/python3.7/site-packages/tensorflow_core/python/keras/backend.py\", line 491, in get_session\n",
      "    _initialize_variables(session)  File \"/usr/local/lib/python3.7/site-packages/tensorflow_core/python/keras/backend.py\", line 908, in _initialize_variables\n",
      "    [variables_module.is_variable_initialized(v) for v in candidate_vars])  File \"/usr/local/lib/python3.7/site-packages/tensorflow_core/python/keras/backend.py\", line 908, in <listcomp>\n",
      "    [variables_module.is_variable_initialized(v) for v in candidate_vars])  File \"/usr/local/lib/python3.7/site-packages/tensorflow_core/python/util/tf_should_use.py\", line 198, in wrapped\n",
      "    return _add_should_use_warning(fn(*args, **kwargs))\n",
      "==================================\n"
     ]
    },
    {
     "name": "stderr",
     "output_type": "stream",
     "text": [
      "ERROR:tensorflow:==================================\n",
      "Object was never used (type <class 'tensorflow.python.framework.ops.Tensor'>):\n",
      "<tf.Tensor 'VarIsInitializedOp_199:0' shape=() dtype=bool>\n",
      "If you want to mark it as used call its \"mark_used()\" method.\n",
      "It was originally created here:\n",
      "  File \"/usr/local/lib/python3.7/site-packages/tensorflow_core/python/keras/backend.py\", line 3363, in batch_set_value\n",
      "    get_session().run(assign_ops, feed_dict=feed_dict)  File \"/usr/local/lib/python3.7/site-packages/tensorflow_core/python/keras/backend.py\", line 491, in get_session\n",
      "    _initialize_variables(session)  File \"/usr/local/lib/python3.7/site-packages/tensorflow_core/python/keras/backend.py\", line 908, in _initialize_variables\n",
      "    [variables_module.is_variable_initialized(v) for v in candidate_vars])  File \"/usr/local/lib/python3.7/site-packages/tensorflow_core/python/keras/backend.py\", line 908, in <listcomp>\n",
      "    [variables_module.is_variable_initialized(v) for v in candidate_vars])  File \"/usr/local/lib/python3.7/site-packages/tensorflow_core/python/util/tf_should_use.py\", line 198, in wrapped\n",
      "    return _add_should_use_warning(fn(*args, **kwargs))\n",
      "==================================\n"
     ]
    },
    {
     "name": "stdout",
     "output_type": "stream",
     "text": [
      "ERROR:tensorflow:==================================\n",
      "Object was never used (type <class 'tensorflow.python.framework.ops.Tensor'>):\n",
      "<tf.Tensor 'VarIsInitializedOp_198:0' shape=() dtype=bool>\n",
      "If you want to mark it as used call its \"mark_used()\" method.\n",
      "It was originally created here:\n",
      "  File \"/usr/local/lib/python3.7/site-packages/tensorflow_core/python/keras/backend.py\", line 3363, in batch_set_value\n",
      "    get_session().run(assign_ops, feed_dict=feed_dict)  File \"/usr/local/lib/python3.7/site-packages/tensorflow_core/python/keras/backend.py\", line 491, in get_session\n",
      "    _initialize_variables(session)  File \"/usr/local/lib/python3.7/site-packages/tensorflow_core/python/keras/backend.py\", line 908, in _initialize_variables\n",
      "    [variables_module.is_variable_initialized(v) for v in candidate_vars])  File \"/usr/local/lib/python3.7/site-packages/tensorflow_core/python/keras/backend.py\", line 908, in <listcomp>\n",
      "    [variables_module.is_variable_initialized(v) for v in candidate_vars])  File \"/usr/local/lib/python3.7/site-packages/tensorflow_core/python/util/tf_should_use.py\", line 198, in wrapped\n",
      "    return _add_should_use_warning(fn(*args, **kwargs))\n",
      "==================================\n"
     ]
    },
    {
     "name": "stderr",
     "output_type": "stream",
     "text": [
      "ERROR:tensorflow:==================================\n",
      "Object was never used (type <class 'tensorflow.python.framework.ops.Tensor'>):\n",
      "<tf.Tensor 'VarIsInitializedOp_198:0' shape=() dtype=bool>\n",
      "If you want to mark it as used call its \"mark_used()\" method.\n",
      "It was originally created here:\n",
      "  File \"/usr/local/lib/python3.7/site-packages/tensorflow_core/python/keras/backend.py\", line 3363, in batch_set_value\n",
      "    get_session().run(assign_ops, feed_dict=feed_dict)  File \"/usr/local/lib/python3.7/site-packages/tensorflow_core/python/keras/backend.py\", line 491, in get_session\n",
      "    _initialize_variables(session)  File \"/usr/local/lib/python3.7/site-packages/tensorflow_core/python/keras/backend.py\", line 908, in _initialize_variables\n",
      "    [variables_module.is_variable_initialized(v) for v in candidate_vars])  File \"/usr/local/lib/python3.7/site-packages/tensorflow_core/python/keras/backend.py\", line 908, in <listcomp>\n",
      "    [variables_module.is_variable_initialized(v) for v in candidate_vars])  File \"/usr/local/lib/python3.7/site-packages/tensorflow_core/python/util/tf_should_use.py\", line 198, in wrapped\n",
      "    return _add_should_use_warning(fn(*args, **kwargs))\n",
      "==================================\n"
     ]
    },
    {
     "name": "stdout",
     "output_type": "stream",
     "text": [
      "ERROR:tensorflow:==================================\n",
      "Object was never used (type <class 'tensorflow.python.framework.ops.Tensor'>):\n",
      "<tf.Tensor 'VarIsInitializedOp_197:0' shape=() dtype=bool>\n",
      "If you want to mark it as used call its \"mark_used()\" method.\n",
      "It was originally created here:\n",
      "  File \"/usr/local/lib/python3.7/site-packages/tensorflow_core/python/keras/backend.py\", line 3363, in batch_set_value\n",
      "    get_session().run(assign_ops, feed_dict=feed_dict)  File \"/usr/local/lib/python3.7/site-packages/tensorflow_core/python/keras/backend.py\", line 491, in get_session\n",
      "    _initialize_variables(session)  File \"/usr/local/lib/python3.7/site-packages/tensorflow_core/python/keras/backend.py\", line 908, in _initialize_variables\n",
      "    [variables_module.is_variable_initialized(v) for v in candidate_vars])  File \"/usr/local/lib/python3.7/site-packages/tensorflow_core/python/keras/backend.py\", line 908, in <listcomp>\n",
      "    [variables_module.is_variable_initialized(v) for v in candidate_vars])  File \"/usr/local/lib/python3.7/site-packages/tensorflow_core/python/util/tf_should_use.py\", line 198, in wrapped\n",
      "    return _add_should_use_warning(fn(*args, **kwargs))\n",
      "==================================\n"
     ]
    },
    {
     "name": "stderr",
     "output_type": "stream",
     "text": [
      "ERROR:tensorflow:==================================\n",
      "Object was never used (type <class 'tensorflow.python.framework.ops.Tensor'>):\n",
      "<tf.Tensor 'VarIsInitializedOp_197:0' shape=() dtype=bool>\n",
      "If you want to mark it as used call its \"mark_used()\" method.\n",
      "It was originally created here:\n",
      "  File \"/usr/local/lib/python3.7/site-packages/tensorflow_core/python/keras/backend.py\", line 3363, in batch_set_value\n",
      "    get_session().run(assign_ops, feed_dict=feed_dict)  File \"/usr/local/lib/python3.7/site-packages/tensorflow_core/python/keras/backend.py\", line 491, in get_session\n",
      "    _initialize_variables(session)  File \"/usr/local/lib/python3.7/site-packages/tensorflow_core/python/keras/backend.py\", line 908, in _initialize_variables\n",
      "    [variables_module.is_variable_initialized(v) for v in candidate_vars])  File \"/usr/local/lib/python3.7/site-packages/tensorflow_core/python/keras/backend.py\", line 908, in <listcomp>\n",
      "    [variables_module.is_variable_initialized(v) for v in candidate_vars])  File \"/usr/local/lib/python3.7/site-packages/tensorflow_core/python/util/tf_should_use.py\", line 198, in wrapped\n",
      "    return _add_should_use_warning(fn(*args, **kwargs))\n",
      "==================================\n"
     ]
    },
    {
     "name": "stdout",
     "output_type": "stream",
     "text": [
      "ERROR:tensorflow:==================================\n",
      "Object was never used (type <class 'tensorflow.python.framework.ops.Tensor'>):\n",
      "<tf.Tensor 'VarIsInitializedOp_196:0' shape=() dtype=bool>\n",
      "If you want to mark it as used call its \"mark_used()\" method.\n",
      "It was originally created here:\n",
      "  File \"/usr/local/lib/python3.7/site-packages/tensorflow_core/python/keras/backend.py\", line 3363, in batch_set_value\n",
      "    get_session().run(assign_ops, feed_dict=feed_dict)  File \"/usr/local/lib/python3.7/site-packages/tensorflow_core/python/keras/backend.py\", line 491, in get_session\n",
      "    _initialize_variables(session)  File \"/usr/local/lib/python3.7/site-packages/tensorflow_core/python/keras/backend.py\", line 908, in _initialize_variables\n",
      "    [variables_module.is_variable_initialized(v) for v in candidate_vars])  File \"/usr/local/lib/python3.7/site-packages/tensorflow_core/python/keras/backend.py\", line 908, in <listcomp>\n",
      "    [variables_module.is_variable_initialized(v) for v in candidate_vars])  File \"/usr/local/lib/python3.7/site-packages/tensorflow_core/python/util/tf_should_use.py\", line 198, in wrapped\n",
      "    return _add_should_use_warning(fn(*args, **kwargs))\n",
      "==================================\n"
     ]
    },
    {
     "name": "stderr",
     "output_type": "stream",
     "text": [
      "ERROR:tensorflow:==================================\n",
      "Object was never used (type <class 'tensorflow.python.framework.ops.Tensor'>):\n",
      "<tf.Tensor 'VarIsInitializedOp_196:0' shape=() dtype=bool>\n",
      "If you want to mark it as used call its \"mark_used()\" method.\n",
      "It was originally created here:\n",
      "  File \"/usr/local/lib/python3.7/site-packages/tensorflow_core/python/keras/backend.py\", line 3363, in batch_set_value\n",
      "    get_session().run(assign_ops, feed_dict=feed_dict)  File \"/usr/local/lib/python3.7/site-packages/tensorflow_core/python/keras/backend.py\", line 491, in get_session\n",
      "    _initialize_variables(session)  File \"/usr/local/lib/python3.7/site-packages/tensorflow_core/python/keras/backend.py\", line 908, in _initialize_variables\n",
      "    [variables_module.is_variable_initialized(v) for v in candidate_vars])  File \"/usr/local/lib/python3.7/site-packages/tensorflow_core/python/keras/backend.py\", line 908, in <listcomp>\n",
      "    [variables_module.is_variable_initialized(v) for v in candidate_vars])  File \"/usr/local/lib/python3.7/site-packages/tensorflow_core/python/util/tf_should_use.py\", line 198, in wrapped\n",
      "    return _add_should_use_warning(fn(*args, **kwargs))\n",
      "==================================\n"
     ]
    },
    {
     "name": "stdout",
     "output_type": "stream",
     "text": [
      "ERROR:tensorflow:==================================\n",
      "Object was never used (type <class 'tensorflow.python.framework.ops.Tensor'>):\n",
      "<tf.Tensor 'VarIsInitializedOp_195:0' shape=() dtype=bool>\n",
      "If you want to mark it as used call its \"mark_used()\" method.\n",
      "It was originally created here:\n",
      "  File \"/usr/local/lib/python3.7/site-packages/tensorflow_core/python/keras/backend.py\", line 3363, in batch_set_value\n",
      "    get_session().run(assign_ops, feed_dict=feed_dict)  File \"/usr/local/lib/python3.7/site-packages/tensorflow_core/python/keras/backend.py\", line 491, in get_session\n",
      "    _initialize_variables(session)  File \"/usr/local/lib/python3.7/site-packages/tensorflow_core/python/keras/backend.py\", line 908, in _initialize_variables\n",
      "    [variables_module.is_variable_initialized(v) for v in candidate_vars])  File \"/usr/local/lib/python3.7/site-packages/tensorflow_core/python/keras/backend.py\", line 908, in <listcomp>\n",
      "    [variables_module.is_variable_initialized(v) for v in candidate_vars])  File \"/usr/local/lib/python3.7/site-packages/tensorflow_core/python/util/tf_should_use.py\", line 198, in wrapped\n",
      "    return _add_should_use_warning(fn(*args, **kwargs))\n",
      "==================================\n"
     ]
    },
    {
     "name": "stderr",
     "output_type": "stream",
     "text": [
      "ERROR:tensorflow:==================================\n",
      "Object was never used (type <class 'tensorflow.python.framework.ops.Tensor'>):\n",
      "<tf.Tensor 'VarIsInitializedOp_195:0' shape=() dtype=bool>\n",
      "If you want to mark it as used call its \"mark_used()\" method.\n",
      "It was originally created here:\n",
      "  File \"/usr/local/lib/python3.7/site-packages/tensorflow_core/python/keras/backend.py\", line 3363, in batch_set_value\n",
      "    get_session().run(assign_ops, feed_dict=feed_dict)  File \"/usr/local/lib/python3.7/site-packages/tensorflow_core/python/keras/backend.py\", line 491, in get_session\n",
      "    _initialize_variables(session)  File \"/usr/local/lib/python3.7/site-packages/tensorflow_core/python/keras/backend.py\", line 908, in _initialize_variables\n",
      "    [variables_module.is_variable_initialized(v) for v in candidate_vars])  File \"/usr/local/lib/python3.7/site-packages/tensorflow_core/python/keras/backend.py\", line 908, in <listcomp>\n",
      "    [variables_module.is_variable_initialized(v) for v in candidate_vars])  File \"/usr/local/lib/python3.7/site-packages/tensorflow_core/python/util/tf_should_use.py\", line 198, in wrapped\n",
      "    return _add_should_use_warning(fn(*args, **kwargs))\n",
      "==================================\n"
     ]
    },
    {
     "name": "stdout",
     "output_type": "stream",
     "text": [
      "ERROR:tensorflow:==================================\n",
      "Object was never used (type <class 'tensorflow.python.framework.ops.Tensor'>):\n",
      "<tf.Tensor 'VarIsInitializedOp_194:0' shape=() dtype=bool>\n",
      "If you want to mark it as used call its \"mark_used()\" method.\n",
      "It was originally created here:\n",
      "  File \"/usr/local/lib/python3.7/site-packages/tensorflow_core/python/keras/backend.py\", line 3363, in batch_set_value\n",
      "    get_session().run(assign_ops, feed_dict=feed_dict)  File \"/usr/local/lib/python3.7/site-packages/tensorflow_core/python/keras/backend.py\", line 491, in get_session\n",
      "    _initialize_variables(session)  File \"/usr/local/lib/python3.7/site-packages/tensorflow_core/python/keras/backend.py\", line 908, in _initialize_variables\n",
      "    [variables_module.is_variable_initialized(v) for v in candidate_vars])  File \"/usr/local/lib/python3.7/site-packages/tensorflow_core/python/keras/backend.py\", line 908, in <listcomp>\n",
      "    [variables_module.is_variable_initialized(v) for v in candidate_vars])  File \"/usr/local/lib/python3.7/site-packages/tensorflow_core/python/util/tf_should_use.py\", line 198, in wrapped\n",
      "    return _add_should_use_warning(fn(*args, **kwargs))\n",
      "==================================\n"
     ]
    },
    {
     "name": "stderr",
     "output_type": "stream",
     "text": [
      "ERROR:tensorflow:==================================\n",
      "Object was never used (type <class 'tensorflow.python.framework.ops.Tensor'>):\n",
      "<tf.Tensor 'VarIsInitializedOp_194:0' shape=() dtype=bool>\n",
      "If you want to mark it as used call its \"mark_used()\" method.\n",
      "It was originally created here:\n",
      "  File \"/usr/local/lib/python3.7/site-packages/tensorflow_core/python/keras/backend.py\", line 3363, in batch_set_value\n",
      "    get_session().run(assign_ops, feed_dict=feed_dict)  File \"/usr/local/lib/python3.7/site-packages/tensorflow_core/python/keras/backend.py\", line 491, in get_session\n",
      "    _initialize_variables(session)  File \"/usr/local/lib/python3.7/site-packages/tensorflow_core/python/keras/backend.py\", line 908, in _initialize_variables\n",
      "    [variables_module.is_variable_initialized(v) for v in candidate_vars])  File \"/usr/local/lib/python3.7/site-packages/tensorflow_core/python/keras/backend.py\", line 908, in <listcomp>\n",
      "    [variables_module.is_variable_initialized(v) for v in candidate_vars])  File \"/usr/local/lib/python3.7/site-packages/tensorflow_core/python/util/tf_should_use.py\", line 198, in wrapped\n",
      "    return _add_should_use_warning(fn(*args, **kwargs))\n",
      "==================================\n"
     ]
    },
    {
     "name": "stdout",
     "output_type": "stream",
     "text": [
      "ERROR:tensorflow:==================================\n",
      "Object was never used (type <class 'tensorflow.python.framework.ops.Tensor'>):\n",
      "<tf.Tensor 'VarIsInitializedOp_193:0' shape=() dtype=bool>\n",
      "If you want to mark it as used call its \"mark_used()\" method.\n",
      "It was originally created here:\n",
      "  File \"/usr/local/lib/python3.7/site-packages/tensorflow_core/python/keras/backend.py\", line 3363, in batch_set_value\n",
      "    get_session().run(assign_ops, feed_dict=feed_dict)  File \"/usr/local/lib/python3.7/site-packages/tensorflow_core/python/keras/backend.py\", line 491, in get_session\n",
      "    _initialize_variables(session)  File \"/usr/local/lib/python3.7/site-packages/tensorflow_core/python/keras/backend.py\", line 908, in _initialize_variables\n",
      "    [variables_module.is_variable_initialized(v) for v in candidate_vars])  File \"/usr/local/lib/python3.7/site-packages/tensorflow_core/python/keras/backend.py\", line 908, in <listcomp>\n",
      "    [variables_module.is_variable_initialized(v) for v in candidate_vars])  File \"/usr/local/lib/python3.7/site-packages/tensorflow_core/python/util/tf_should_use.py\", line 198, in wrapped\n",
      "    return _add_should_use_warning(fn(*args, **kwargs))\n",
      "==================================\n"
     ]
    },
    {
     "name": "stderr",
     "output_type": "stream",
     "text": [
      "ERROR:tensorflow:==================================\n",
      "Object was never used (type <class 'tensorflow.python.framework.ops.Tensor'>):\n",
      "<tf.Tensor 'VarIsInitializedOp_193:0' shape=() dtype=bool>\n",
      "If you want to mark it as used call its \"mark_used()\" method.\n",
      "It was originally created here:\n",
      "  File \"/usr/local/lib/python3.7/site-packages/tensorflow_core/python/keras/backend.py\", line 3363, in batch_set_value\n",
      "    get_session().run(assign_ops, feed_dict=feed_dict)  File \"/usr/local/lib/python3.7/site-packages/tensorflow_core/python/keras/backend.py\", line 491, in get_session\n",
      "    _initialize_variables(session)  File \"/usr/local/lib/python3.7/site-packages/tensorflow_core/python/keras/backend.py\", line 908, in _initialize_variables\n",
      "    [variables_module.is_variable_initialized(v) for v in candidate_vars])  File \"/usr/local/lib/python3.7/site-packages/tensorflow_core/python/keras/backend.py\", line 908, in <listcomp>\n",
      "    [variables_module.is_variable_initialized(v) for v in candidate_vars])  File \"/usr/local/lib/python3.7/site-packages/tensorflow_core/python/util/tf_should_use.py\", line 198, in wrapped\n",
      "    return _add_should_use_warning(fn(*args, **kwargs))\n",
      "==================================\n"
     ]
    },
    {
     "name": "stdout",
     "output_type": "stream",
     "text": [
      "ERROR:tensorflow:==================================\n",
      "Object was never used (type <class 'tensorflow.python.framework.ops.Tensor'>):\n",
      "<tf.Tensor 'VarIsInitializedOp_192:0' shape=() dtype=bool>\n",
      "If you want to mark it as used call its \"mark_used()\" method.\n",
      "It was originally created here:\n",
      "  File \"/usr/local/lib/python3.7/site-packages/tensorflow_core/python/keras/backend.py\", line 3363, in batch_set_value\n",
      "    get_session().run(assign_ops, feed_dict=feed_dict)  File \"/usr/local/lib/python3.7/site-packages/tensorflow_core/python/keras/backend.py\", line 491, in get_session\n",
      "    _initialize_variables(session)  File \"/usr/local/lib/python3.7/site-packages/tensorflow_core/python/keras/backend.py\", line 908, in _initialize_variables\n",
      "    [variables_module.is_variable_initialized(v) for v in candidate_vars])  File \"/usr/local/lib/python3.7/site-packages/tensorflow_core/python/keras/backend.py\", line 908, in <listcomp>\n",
      "    [variables_module.is_variable_initialized(v) for v in candidate_vars])  File \"/usr/local/lib/python3.7/site-packages/tensorflow_core/python/util/tf_should_use.py\", line 198, in wrapped\n",
      "    return _add_should_use_warning(fn(*args, **kwargs))\n",
      "==================================\n"
     ]
    },
    {
     "name": "stderr",
     "output_type": "stream",
     "text": [
      "ERROR:tensorflow:==================================\n",
      "Object was never used (type <class 'tensorflow.python.framework.ops.Tensor'>):\n",
      "<tf.Tensor 'VarIsInitializedOp_192:0' shape=() dtype=bool>\n",
      "If you want to mark it as used call its \"mark_used()\" method.\n",
      "It was originally created here:\n",
      "  File \"/usr/local/lib/python3.7/site-packages/tensorflow_core/python/keras/backend.py\", line 3363, in batch_set_value\n",
      "    get_session().run(assign_ops, feed_dict=feed_dict)  File \"/usr/local/lib/python3.7/site-packages/tensorflow_core/python/keras/backend.py\", line 491, in get_session\n",
      "    _initialize_variables(session)  File \"/usr/local/lib/python3.7/site-packages/tensorflow_core/python/keras/backend.py\", line 908, in _initialize_variables\n",
      "    [variables_module.is_variable_initialized(v) for v in candidate_vars])  File \"/usr/local/lib/python3.7/site-packages/tensorflow_core/python/keras/backend.py\", line 908, in <listcomp>\n",
      "    [variables_module.is_variable_initialized(v) for v in candidate_vars])  File \"/usr/local/lib/python3.7/site-packages/tensorflow_core/python/util/tf_should_use.py\", line 198, in wrapped\n",
      "    return _add_should_use_warning(fn(*args, **kwargs))\n",
      "==================================\n"
     ]
    },
    {
     "name": "stdout",
     "output_type": "stream",
     "text": [
      "ERROR:tensorflow:==================================\n",
      "Object was never used (type <class 'tensorflow.python.framework.ops.Tensor'>):\n",
      "<tf.Tensor 'VarIsInitializedOp_191:0' shape=() dtype=bool>\n",
      "If you want to mark it as used call its \"mark_used()\" method.\n",
      "It was originally created here:\n",
      "  File \"/usr/local/lib/python3.7/site-packages/tensorflow_core/python/keras/backend.py\", line 3363, in batch_set_value\n",
      "    get_session().run(assign_ops, feed_dict=feed_dict)  File \"/usr/local/lib/python3.7/site-packages/tensorflow_core/python/keras/backend.py\", line 491, in get_session\n",
      "    _initialize_variables(session)  File \"/usr/local/lib/python3.7/site-packages/tensorflow_core/python/keras/backend.py\", line 908, in _initialize_variables\n",
      "    [variables_module.is_variable_initialized(v) for v in candidate_vars])  File \"/usr/local/lib/python3.7/site-packages/tensorflow_core/python/keras/backend.py\", line 908, in <listcomp>\n",
      "    [variables_module.is_variable_initialized(v) for v in candidate_vars])  File \"/usr/local/lib/python3.7/site-packages/tensorflow_core/python/util/tf_should_use.py\", line 198, in wrapped\n",
      "    return _add_should_use_warning(fn(*args, **kwargs))\n",
      "==================================\n"
     ]
    },
    {
     "name": "stderr",
     "output_type": "stream",
     "text": [
      "ERROR:tensorflow:==================================\n",
      "Object was never used (type <class 'tensorflow.python.framework.ops.Tensor'>):\n",
      "<tf.Tensor 'VarIsInitializedOp_191:0' shape=() dtype=bool>\n",
      "If you want to mark it as used call its \"mark_used()\" method.\n",
      "It was originally created here:\n",
      "  File \"/usr/local/lib/python3.7/site-packages/tensorflow_core/python/keras/backend.py\", line 3363, in batch_set_value\n",
      "    get_session().run(assign_ops, feed_dict=feed_dict)  File \"/usr/local/lib/python3.7/site-packages/tensorflow_core/python/keras/backend.py\", line 491, in get_session\n",
      "    _initialize_variables(session)  File \"/usr/local/lib/python3.7/site-packages/tensorflow_core/python/keras/backend.py\", line 908, in _initialize_variables\n",
      "    [variables_module.is_variable_initialized(v) for v in candidate_vars])  File \"/usr/local/lib/python3.7/site-packages/tensorflow_core/python/keras/backend.py\", line 908, in <listcomp>\n",
      "    [variables_module.is_variable_initialized(v) for v in candidate_vars])  File \"/usr/local/lib/python3.7/site-packages/tensorflow_core/python/util/tf_should_use.py\", line 198, in wrapped\n",
      "    return _add_should_use_warning(fn(*args, **kwargs))\n",
      "==================================\n"
     ]
    },
    {
     "name": "stdout",
     "output_type": "stream",
     "text": [
      "ERROR:tensorflow:==================================\n",
      "Object was never used (type <class 'tensorflow.python.framework.ops.Tensor'>):\n",
      "<tf.Tensor 'VarIsInitializedOp_190:0' shape=() dtype=bool>\n",
      "If you want to mark it as used call its \"mark_used()\" method.\n",
      "It was originally created here:\n",
      "  File \"/usr/local/lib/python3.7/site-packages/tensorflow_core/python/keras/backend.py\", line 3363, in batch_set_value\n",
      "    get_session().run(assign_ops, feed_dict=feed_dict)  File \"/usr/local/lib/python3.7/site-packages/tensorflow_core/python/keras/backend.py\", line 491, in get_session\n",
      "    _initialize_variables(session)  File \"/usr/local/lib/python3.7/site-packages/tensorflow_core/python/keras/backend.py\", line 908, in _initialize_variables\n",
      "    [variables_module.is_variable_initialized(v) for v in candidate_vars])  File \"/usr/local/lib/python3.7/site-packages/tensorflow_core/python/keras/backend.py\", line 908, in <listcomp>\n",
      "    [variables_module.is_variable_initialized(v) for v in candidate_vars])  File \"/usr/local/lib/python3.7/site-packages/tensorflow_core/python/util/tf_should_use.py\", line 198, in wrapped\n",
      "    return _add_should_use_warning(fn(*args, **kwargs))\n",
      "==================================\n"
     ]
    },
    {
     "name": "stderr",
     "output_type": "stream",
     "text": [
      "ERROR:tensorflow:==================================\n",
      "Object was never used (type <class 'tensorflow.python.framework.ops.Tensor'>):\n",
      "<tf.Tensor 'VarIsInitializedOp_190:0' shape=() dtype=bool>\n",
      "If you want to mark it as used call its \"mark_used()\" method.\n",
      "It was originally created here:\n",
      "  File \"/usr/local/lib/python3.7/site-packages/tensorflow_core/python/keras/backend.py\", line 3363, in batch_set_value\n",
      "    get_session().run(assign_ops, feed_dict=feed_dict)  File \"/usr/local/lib/python3.7/site-packages/tensorflow_core/python/keras/backend.py\", line 491, in get_session\n",
      "    _initialize_variables(session)  File \"/usr/local/lib/python3.7/site-packages/tensorflow_core/python/keras/backend.py\", line 908, in _initialize_variables\n",
      "    [variables_module.is_variable_initialized(v) for v in candidate_vars])  File \"/usr/local/lib/python3.7/site-packages/tensorflow_core/python/keras/backend.py\", line 908, in <listcomp>\n",
      "    [variables_module.is_variable_initialized(v) for v in candidate_vars])  File \"/usr/local/lib/python3.7/site-packages/tensorflow_core/python/util/tf_should_use.py\", line 198, in wrapped\n",
      "    return _add_should_use_warning(fn(*args, **kwargs))\n",
      "==================================\n"
     ]
    },
    {
     "name": "stdout",
     "output_type": "stream",
     "text": [
      "ERROR:tensorflow:==================================\n",
      "Object was never used (type <class 'tensorflow.python.framework.ops.Tensor'>):\n",
      "<tf.Tensor 'VarIsInitializedOp_189:0' shape=() dtype=bool>\n",
      "If you want to mark it as used call its \"mark_used()\" method.\n",
      "It was originally created here:\n",
      "  File \"/usr/local/lib/python3.7/site-packages/tensorflow_core/python/keras/backend.py\", line 3363, in batch_set_value\n",
      "    get_session().run(assign_ops, feed_dict=feed_dict)  File \"/usr/local/lib/python3.7/site-packages/tensorflow_core/python/keras/backend.py\", line 491, in get_session\n",
      "    _initialize_variables(session)  File \"/usr/local/lib/python3.7/site-packages/tensorflow_core/python/keras/backend.py\", line 908, in _initialize_variables\n",
      "    [variables_module.is_variable_initialized(v) for v in candidate_vars])  File \"/usr/local/lib/python3.7/site-packages/tensorflow_core/python/keras/backend.py\", line 908, in <listcomp>\n",
      "    [variables_module.is_variable_initialized(v) for v in candidate_vars])  File \"/usr/local/lib/python3.7/site-packages/tensorflow_core/python/util/tf_should_use.py\", line 198, in wrapped\n",
      "    return _add_should_use_warning(fn(*args, **kwargs))\n",
      "==================================\n"
     ]
    },
    {
     "name": "stderr",
     "output_type": "stream",
     "text": [
      "ERROR:tensorflow:==================================\n",
      "Object was never used (type <class 'tensorflow.python.framework.ops.Tensor'>):\n",
      "<tf.Tensor 'VarIsInitializedOp_189:0' shape=() dtype=bool>\n",
      "If you want to mark it as used call its \"mark_used()\" method.\n",
      "It was originally created here:\n",
      "  File \"/usr/local/lib/python3.7/site-packages/tensorflow_core/python/keras/backend.py\", line 3363, in batch_set_value\n",
      "    get_session().run(assign_ops, feed_dict=feed_dict)  File \"/usr/local/lib/python3.7/site-packages/tensorflow_core/python/keras/backend.py\", line 491, in get_session\n",
      "    _initialize_variables(session)  File \"/usr/local/lib/python3.7/site-packages/tensorflow_core/python/keras/backend.py\", line 908, in _initialize_variables\n",
      "    [variables_module.is_variable_initialized(v) for v in candidate_vars])  File \"/usr/local/lib/python3.7/site-packages/tensorflow_core/python/keras/backend.py\", line 908, in <listcomp>\n",
      "    [variables_module.is_variable_initialized(v) for v in candidate_vars])  File \"/usr/local/lib/python3.7/site-packages/tensorflow_core/python/util/tf_should_use.py\", line 198, in wrapped\n",
      "    return _add_should_use_warning(fn(*args, **kwargs))\n",
      "==================================\n"
     ]
    },
    {
     "name": "stdout",
     "output_type": "stream",
     "text": [
      "ERROR:tensorflow:==================================\n",
      "Object was never used (type <class 'tensorflow.python.framework.ops.Tensor'>):\n",
      "<tf.Tensor 'VarIsInitializedOp_188:0' shape=() dtype=bool>\n",
      "If you want to mark it as used call its \"mark_used()\" method.\n",
      "It was originally created here:\n",
      "  File \"/usr/local/lib/python3.7/site-packages/tensorflow_core/python/keras/backend.py\", line 3363, in batch_set_value\n",
      "    get_session().run(assign_ops, feed_dict=feed_dict)  File \"/usr/local/lib/python3.7/site-packages/tensorflow_core/python/keras/backend.py\", line 491, in get_session\n",
      "    _initialize_variables(session)  File \"/usr/local/lib/python3.7/site-packages/tensorflow_core/python/keras/backend.py\", line 908, in _initialize_variables\n",
      "    [variables_module.is_variable_initialized(v) for v in candidate_vars])  File \"/usr/local/lib/python3.7/site-packages/tensorflow_core/python/keras/backend.py\", line 908, in <listcomp>\n",
      "    [variables_module.is_variable_initialized(v) for v in candidate_vars])  File \"/usr/local/lib/python3.7/site-packages/tensorflow_core/python/util/tf_should_use.py\", line 198, in wrapped\n",
      "    return _add_should_use_warning(fn(*args, **kwargs))\n",
      "==================================\n"
     ]
    },
    {
     "name": "stderr",
     "output_type": "stream",
     "text": [
      "ERROR:tensorflow:==================================\n",
      "Object was never used (type <class 'tensorflow.python.framework.ops.Tensor'>):\n",
      "<tf.Tensor 'VarIsInitializedOp_188:0' shape=() dtype=bool>\n",
      "If you want to mark it as used call its \"mark_used()\" method.\n",
      "It was originally created here:\n",
      "  File \"/usr/local/lib/python3.7/site-packages/tensorflow_core/python/keras/backend.py\", line 3363, in batch_set_value\n",
      "    get_session().run(assign_ops, feed_dict=feed_dict)  File \"/usr/local/lib/python3.7/site-packages/tensorflow_core/python/keras/backend.py\", line 491, in get_session\n",
      "    _initialize_variables(session)  File \"/usr/local/lib/python3.7/site-packages/tensorflow_core/python/keras/backend.py\", line 908, in _initialize_variables\n",
      "    [variables_module.is_variable_initialized(v) for v in candidate_vars])  File \"/usr/local/lib/python3.7/site-packages/tensorflow_core/python/keras/backend.py\", line 908, in <listcomp>\n",
      "    [variables_module.is_variable_initialized(v) for v in candidate_vars])  File \"/usr/local/lib/python3.7/site-packages/tensorflow_core/python/util/tf_should_use.py\", line 198, in wrapped\n",
      "    return _add_should_use_warning(fn(*args, **kwargs))\n",
      "==================================\n"
     ]
    },
    {
     "name": "stdout",
     "output_type": "stream",
     "text": [
      "ERROR:tensorflow:==================================\n",
      "Object was never used (type <class 'tensorflow.python.framework.ops.Tensor'>):\n",
      "<tf.Tensor 'VarIsInitializedOp_187:0' shape=() dtype=bool>\n",
      "If you want to mark it as used call its \"mark_used()\" method.\n",
      "It was originally created here:\n",
      "  File \"/usr/local/lib/python3.7/site-packages/tensorflow_core/python/keras/backend.py\", line 3363, in batch_set_value\n",
      "    get_session().run(assign_ops, feed_dict=feed_dict)  File \"/usr/local/lib/python3.7/site-packages/tensorflow_core/python/keras/backend.py\", line 491, in get_session\n",
      "    _initialize_variables(session)  File \"/usr/local/lib/python3.7/site-packages/tensorflow_core/python/keras/backend.py\", line 908, in _initialize_variables\n",
      "    [variables_module.is_variable_initialized(v) for v in candidate_vars])  File \"/usr/local/lib/python3.7/site-packages/tensorflow_core/python/keras/backend.py\", line 908, in <listcomp>\n",
      "    [variables_module.is_variable_initialized(v) for v in candidate_vars])  File \"/usr/local/lib/python3.7/site-packages/tensorflow_core/python/util/tf_should_use.py\", line 198, in wrapped\n",
      "    return _add_should_use_warning(fn(*args, **kwargs))\n",
      "==================================\n"
     ]
    },
    {
     "name": "stderr",
     "output_type": "stream",
     "text": [
      "ERROR:tensorflow:==================================\n",
      "Object was never used (type <class 'tensorflow.python.framework.ops.Tensor'>):\n",
      "<tf.Tensor 'VarIsInitializedOp_187:0' shape=() dtype=bool>\n",
      "If you want to mark it as used call its \"mark_used()\" method.\n",
      "It was originally created here:\n",
      "  File \"/usr/local/lib/python3.7/site-packages/tensorflow_core/python/keras/backend.py\", line 3363, in batch_set_value\n",
      "    get_session().run(assign_ops, feed_dict=feed_dict)  File \"/usr/local/lib/python3.7/site-packages/tensorflow_core/python/keras/backend.py\", line 491, in get_session\n",
      "    _initialize_variables(session)  File \"/usr/local/lib/python3.7/site-packages/tensorflow_core/python/keras/backend.py\", line 908, in _initialize_variables\n",
      "    [variables_module.is_variable_initialized(v) for v in candidate_vars])  File \"/usr/local/lib/python3.7/site-packages/tensorflow_core/python/keras/backend.py\", line 908, in <listcomp>\n",
      "    [variables_module.is_variable_initialized(v) for v in candidate_vars])  File \"/usr/local/lib/python3.7/site-packages/tensorflow_core/python/util/tf_should_use.py\", line 198, in wrapped\n",
      "    return _add_should_use_warning(fn(*args, **kwargs))\n",
      "==================================\n"
     ]
    },
    {
     "name": "stdout",
     "output_type": "stream",
     "text": [
      "ERROR:tensorflow:==================================\n",
      "Object was never used (type <class 'tensorflow.python.framework.ops.Tensor'>):\n",
      "<tf.Tensor 'VarIsInitializedOp_186:0' shape=() dtype=bool>\n",
      "If you want to mark it as used call its \"mark_used()\" method.\n",
      "It was originally created here:\n",
      "  File \"/usr/local/lib/python3.7/site-packages/tensorflow_core/python/keras/backend.py\", line 3363, in batch_set_value\n",
      "    get_session().run(assign_ops, feed_dict=feed_dict)  File \"/usr/local/lib/python3.7/site-packages/tensorflow_core/python/keras/backend.py\", line 491, in get_session\n",
      "    _initialize_variables(session)  File \"/usr/local/lib/python3.7/site-packages/tensorflow_core/python/keras/backend.py\", line 908, in _initialize_variables\n",
      "    [variables_module.is_variable_initialized(v) for v in candidate_vars])  File \"/usr/local/lib/python3.7/site-packages/tensorflow_core/python/keras/backend.py\", line 908, in <listcomp>\n",
      "    [variables_module.is_variable_initialized(v) for v in candidate_vars])  File \"/usr/local/lib/python3.7/site-packages/tensorflow_core/python/util/tf_should_use.py\", line 198, in wrapped\n",
      "    return _add_should_use_warning(fn(*args, **kwargs))\n",
      "==================================\n"
     ]
    },
    {
     "name": "stderr",
     "output_type": "stream",
     "text": [
      "ERROR:tensorflow:==================================\n",
      "Object was never used (type <class 'tensorflow.python.framework.ops.Tensor'>):\n",
      "<tf.Tensor 'VarIsInitializedOp_186:0' shape=() dtype=bool>\n",
      "If you want to mark it as used call its \"mark_used()\" method.\n",
      "It was originally created here:\n",
      "  File \"/usr/local/lib/python3.7/site-packages/tensorflow_core/python/keras/backend.py\", line 3363, in batch_set_value\n",
      "    get_session().run(assign_ops, feed_dict=feed_dict)  File \"/usr/local/lib/python3.7/site-packages/tensorflow_core/python/keras/backend.py\", line 491, in get_session\n",
      "    _initialize_variables(session)  File \"/usr/local/lib/python3.7/site-packages/tensorflow_core/python/keras/backend.py\", line 908, in _initialize_variables\n",
      "    [variables_module.is_variable_initialized(v) for v in candidate_vars])  File \"/usr/local/lib/python3.7/site-packages/tensorflow_core/python/keras/backend.py\", line 908, in <listcomp>\n",
      "    [variables_module.is_variable_initialized(v) for v in candidate_vars])  File \"/usr/local/lib/python3.7/site-packages/tensorflow_core/python/util/tf_should_use.py\", line 198, in wrapped\n",
      "    return _add_should_use_warning(fn(*args, **kwargs))\n",
      "==================================\n"
     ]
    },
    {
     "name": "stdout",
     "output_type": "stream",
     "text": [
      "ERROR:tensorflow:==================================\n",
      "Object was never used (type <class 'tensorflow.python.framework.ops.Tensor'>):\n",
      "<tf.Tensor 'VarIsInitializedOp_185:0' shape=() dtype=bool>\n",
      "If you want to mark it as used call its \"mark_used()\" method.\n",
      "It was originally created here:\n",
      "  File \"/usr/local/lib/python3.7/site-packages/tensorflow_core/python/keras/backend.py\", line 3363, in batch_set_value\n",
      "    get_session().run(assign_ops, feed_dict=feed_dict)  File \"/usr/local/lib/python3.7/site-packages/tensorflow_core/python/keras/backend.py\", line 491, in get_session\n",
      "    _initialize_variables(session)  File \"/usr/local/lib/python3.7/site-packages/tensorflow_core/python/keras/backend.py\", line 908, in _initialize_variables\n",
      "    [variables_module.is_variable_initialized(v) for v in candidate_vars])  File \"/usr/local/lib/python3.7/site-packages/tensorflow_core/python/keras/backend.py\", line 908, in <listcomp>\n",
      "    [variables_module.is_variable_initialized(v) for v in candidate_vars])  File \"/usr/local/lib/python3.7/site-packages/tensorflow_core/python/util/tf_should_use.py\", line 198, in wrapped\n",
      "    return _add_should_use_warning(fn(*args, **kwargs))\n",
      "==================================\n"
     ]
    },
    {
     "name": "stderr",
     "output_type": "stream",
     "text": [
      "ERROR:tensorflow:==================================\n",
      "Object was never used (type <class 'tensorflow.python.framework.ops.Tensor'>):\n",
      "<tf.Tensor 'VarIsInitializedOp_185:0' shape=() dtype=bool>\n",
      "If you want to mark it as used call its \"mark_used()\" method.\n",
      "It was originally created here:\n",
      "  File \"/usr/local/lib/python3.7/site-packages/tensorflow_core/python/keras/backend.py\", line 3363, in batch_set_value\n",
      "    get_session().run(assign_ops, feed_dict=feed_dict)  File \"/usr/local/lib/python3.7/site-packages/tensorflow_core/python/keras/backend.py\", line 491, in get_session\n",
      "    _initialize_variables(session)  File \"/usr/local/lib/python3.7/site-packages/tensorflow_core/python/keras/backend.py\", line 908, in _initialize_variables\n",
      "    [variables_module.is_variable_initialized(v) for v in candidate_vars])  File \"/usr/local/lib/python3.7/site-packages/tensorflow_core/python/keras/backend.py\", line 908, in <listcomp>\n",
      "    [variables_module.is_variable_initialized(v) for v in candidate_vars])  File \"/usr/local/lib/python3.7/site-packages/tensorflow_core/python/util/tf_should_use.py\", line 198, in wrapped\n",
      "    return _add_should_use_warning(fn(*args, **kwargs))\n",
      "==================================\n"
     ]
    },
    {
     "name": "stdout",
     "output_type": "stream",
     "text": [
      "ERROR:tensorflow:==================================\n",
      "Object was never used (type <class 'tensorflow.python.framework.ops.Tensor'>):\n",
      "<tf.Tensor 'VarIsInitializedOp_184:0' shape=() dtype=bool>\n",
      "If you want to mark it as used call its \"mark_used()\" method.\n",
      "It was originally created here:\n",
      "  File \"/usr/local/lib/python3.7/site-packages/tensorflow_core/python/keras/backend.py\", line 3363, in batch_set_value\n",
      "    get_session().run(assign_ops, feed_dict=feed_dict)  File \"/usr/local/lib/python3.7/site-packages/tensorflow_core/python/keras/backend.py\", line 491, in get_session\n",
      "    _initialize_variables(session)  File \"/usr/local/lib/python3.7/site-packages/tensorflow_core/python/keras/backend.py\", line 908, in _initialize_variables\n",
      "    [variables_module.is_variable_initialized(v) for v in candidate_vars])  File \"/usr/local/lib/python3.7/site-packages/tensorflow_core/python/keras/backend.py\", line 908, in <listcomp>\n",
      "    [variables_module.is_variable_initialized(v) for v in candidate_vars])  File \"/usr/local/lib/python3.7/site-packages/tensorflow_core/python/util/tf_should_use.py\", line 198, in wrapped\n",
      "    return _add_should_use_warning(fn(*args, **kwargs))\n",
      "==================================\n"
     ]
    },
    {
     "name": "stderr",
     "output_type": "stream",
     "text": [
      "ERROR:tensorflow:==================================\n",
      "Object was never used (type <class 'tensorflow.python.framework.ops.Tensor'>):\n",
      "<tf.Tensor 'VarIsInitializedOp_184:0' shape=() dtype=bool>\n",
      "If you want to mark it as used call its \"mark_used()\" method.\n",
      "It was originally created here:\n",
      "  File \"/usr/local/lib/python3.7/site-packages/tensorflow_core/python/keras/backend.py\", line 3363, in batch_set_value\n",
      "    get_session().run(assign_ops, feed_dict=feed_dict)  File \"/usr/local/lib/python3.7/site-packages/tensorflow_core/python/keras/backend.py\", line 491, in get_session\n",
      "    _initialize_variables(session)  File \"/usr/local/lib/python3.7/site-packages/tensorflow_core/python/keras/backend.py\", line 908, in _initialize_variables\n",
      "    [variables_module.is_variable_initialized(v) for v in candidate_vars])  File \"/usr/local/lib/python3.7/site-packages/tensorflow_core/python/keras/backend.py\", line 908, in <listcomp>\n",
      "    [variables_module.is_variable_initialized(v) for v in candidate_vars])  File \"/usr/local/lib/python3.7/site-packages/tensorflow_core/python/util/tf_should_use.py\", line 198, in wrapped\n",
      "    return _add_should_use_warning(fn(*args, **kwargs))\n",
      "==================================\n"
     ]
    },
    {
     "name": "stdout",
     "output_type": "stream",
     "text": [
      "ERROR:tensorflow:==================================\n",
      "Object was never used (type <class 'tensorflow.python.framework.ops.Tensor'>):\n",
      "<tf.Tensor 'VarIsInitializedOp_183:0' shape=() dtype=bool>\n",
      "If you want to mark it as used call its \"mark_used()\" method.\n",
      "It was originally created here:\n",
      "  File \"/usr/local/lib/python3.7/site-packages/tensorflow_core/python/keras/backend.py\", line 3363, in batch_set_value\n",
      "    get_session().run(assign_ops, feed_dict=feed_dict)  File \"/usr/local/lib/python3.7/site-packages/tensorflow_core/python/keras/backend.py\", line 491, in get_session\n",
      "    _initialize_variables(session)  File \"/usr/local/lib/python3.7/site-packages/tensorflow_core/python/keras/backend.py\", line 908, in _initialize_variables\n",
      "    [variables_module.is_variable_initialized(v) for v in candidate_vars])  File \"/usr/local/lib/python3.7/site-packages/tensorflow_core/python/keras/backend.py\", line 908, in <listcomp>\n",
      "    [variables_module.is_variable_initialized(v) for v in candidate_vars])  File \"/usr/local/lib/python3.7/site-packages/tensorflow_core/python/util/tf_should_use.py\", line 198, in wrapped\n",
      "    return _add_should_use_warning(fn(*args, **kwargs))\n",
      "==================================\n"
     ]
    },
    {
     "name": "stderr",
     "output_type": "stream",
     "text": [
      "ERROR:tensorflow:==================================\n",
      "Object was never used (type <class 'tensorflow.python.framework.ops.Tensor'>):\n",
      "<tf.Tensor 'VarIsInitializedOp_183:0' shape=() dtype=bool>\n",
      "If you want to mark it as used call its \"mark_used()\" method.\n",
      "It was originally created here:\n",
      "  File \"/usr/local/lib/python3.7/site-packages/tensorflow_core/python/keras/backend.py\", line 3363, in batch_set_value\n",
      "    get_session().run(assign_ops, feed_dict=feed_dict)  File \"/usr/local/lib/python3.7/site-packages/tensorflow_core/python/keras/backend.py\", line 491, in get_session\n",
      "    _initialize_variables(session)  File \"/usr/local/lib/python3.7/site-packages/tensorflow_core/python/keras/backend.py\", line 908, in _initialize_variables\n",
      "    [variables_module.is_variable_initialized(v) for v in candidate_vars])  File \"/usr/local/lib/python3.7/site-packages/tensorflow_core/python/keras/backend.py\", line 908, in <listcomp>\n",
      "    [variables_module.is_variable_initialized(v) for v in candidate_vars])  File \"/usr/local/lib/python3.7/site-packages/tensorflow_core/python/util/tf_should_use.py\", line 198, in wrapped\n",
      "    return _add_should_use_warning(fn(*args, **kwargs))\n",
      "==================================\n"
     ]
    },
    {
     "name": "stdout",
     "output_type": "stream",
     "text": [
      "ERROR:tensorflow:==================================\n",
      "Object was never used (type <class 'tensorflow.python.framework.ops.Tensor'>):\n",
      "<tf.Tensor 'VarIsInitializedOp_182:0' shape=() dtype=bool>\n",
      "If you want to mark it as used call its \"mark_used()\" method.\n",
      "It was originally created here:\n",
      "  File \"/usr/local/lib/python3.7/site-packages/tensorflow_core/python/keras/backend.py\", line 3363, in batch_set_value\n",
      "    get_session().run(assign_ops, feed_dict=feed_dict)  File \"/usr/local/lib/python3.7/site-packages/tensorflow_core/python/keras/backend.py\", line 491, in get_session\n",
      "    _initialize_variables(session)  File \"/usr/local/lib/python3.7/site-packages/tensorflow_core/python/keras/backend.py\", line 908, in _initialize_variables\n",
      "    [variables_module.is_variable_initialized(v) for v in candidate_vars])  File \"/usr/local/lib/python3.7/site-packages/tensorflow_core/python/keras/backend.py\", line 908, in <listcomp>\n",
      "    [variables_module.is_variable_initialized(v) for v in candidate_vars])  File \"/usr/local/lib/python3.7/site-packages/tensorflow_core/python/util/tf_should_use.py\", line 198, in wrapped\n",
      "    return _add_should_use_warning(fn(*args, **kwargs))\n",
      "==================================\n"
     ]
    },
    {
     "name": "stderr",
     "output_type": "stream",
     "text": [
      "ERROR:tensorflow:==================================\n",
      "Object was never used (type <class 'tensorflow.python.framework.ops.Tensor'>):\n",
      "<tf.Tensor 'VarIsInitializedOp_182:0' shape=() dtype=bool>\n",
      "If you want to mark it as used call its \"mark_used()\" method.\n",
      "It was originally created here:\n",
      "  File \"/usr/local/lib/python3.7/site-packages/tensorflow_core/python/keras/backend.py\", line 3363, in batch_set_value\n",
      "    get_session().run(assign_ops, feed_dict=feed_dict)  File \"/usr/local/lib/python3.7/site-packages/tensorflow_core/python/keras/backend.py\", line 491, in get_session\n",
      "    _initialize_variables(session)  File \"/usr/local/lib/python3.7/site-packages/tensorflow_core/python/keras/backend.py\", line 908, in _initialize_variables\n",
      "    [variables_module.is_variable_initialized(v) for v in candidate_vars])  File \"/usr/local/lib/python3.7/site-packages/tensorflow_core/python/keras/backend.py\", line 908, in <listcomp>\n",
      "    [variables_module.is_variable_initialized(v) for v in candidate_vars])  File \"/usr/local/lib/python3.7/site-packages/tensorflow_core/python/util/tf_should_use.py\", line 198, in wrapped\n",
      "    return _add_should_use_warning(fn(*args, **kwargs))\n",
      "==================================\n"
     ]
    },
    {
     "name": "stdout",
     "output_type": "stream",
     "text": [
      "ERROR:tensorflow:==================================\n",
      "Object was never used (type <class 'tensorflow.python.framework.ops.Tensor'>):\n",
      "<tf.Tensor 'VarIsInitializedOp_181:0' shape=() dtype=bool>\n",
      "If you want to mark it as used call its \"mark_used()\" method.\n",
      "It was originally created here:\n",
      "  File \"/usr/local/lib/python3.7/site-packages/tensorflow_core/python/keras/backend.py\", line 3363, in batch_set_value\n",
      "    get_session().run(assign_ops, feed_dict=feed_dict)  File \"/usr/local/lib/python3.7/site-packages/tensorflow_core/python/keras/backend.py\", line 491, in get_session\n",
      "    _initialize_variables(session)  File \"/usr/local/lib/python3.7/site-packages/tensorflow_core/python/keras/backend.py\", line 908, in _initialize_variables\n",
      "    [variables_module.is_variable_initialized(v) for v in candidate_vars])  File \"/usr/local/lib/python3.7/site-packages/tensorflow_core/python/keras/backend.py\", line 908, in <listcomp>\n",
      "    [variables_module.is_variable_initialized(v) for v in candidate_vars])  File \"/usr/local/lib/python3.7/site-packages/tensorflow_core/python/util/tf_should_use.py\", line 198, in wrapped\n",
      "    return _add_should_use_warning(fn(*args, **kwargs))\n",
      "==================================\n"
     ]
    },
    {
     "name": "stderr",
     "output_type": "stream",
     "text": [
      "ERROR:tensorflow:==================================\n",
      "Object was never used (type <class 'tensorflow.python.framework.ops.Tensor'>):\n",
      "<tf.Tensor 'VarIsInitializedOp_181:0' shape=() dtype=bool>\n",
      "If you want to mark it as used call its \"mark_used()\" method.\n",
      "It was originally created here:\n",
      "  File \"/usr/local/lib/python3.7/site-packages/tensorflow_core/python/keras/backend.py\", line 3363, in batch_set_value\n",
      "    get_session().run(assign_ops, feed_dict=feed_dict)  File \"/usr/local/lib/python3.7/site-packages/tensorflow_core/python/keras/backend.py\", line 491, in get_session\n",
      "    _initialize_variables(session)  File \"/usr/local/lib/python3.7/site-packages/tensorflow_core/python/keras/backend.py\", line 908, in _initialize_variables\n",
      "    [variables_module.is_variable_initialized(v) for v in candidate_vars])  File \"/usr/local/lib/python3.7/site-packages/tensorflow_core/python/keras/backend.py\", line 908, in <listcomp>\n",
      "    [variables_module.is_variable_initialized(v) for v in candidate_vars])  File \"/usr/local/lib/python3.7/site-packages/tensorflow_core/python/util/tf_should_use.py\", line 198, in wrapped\n",
      "    return _add_should_use_warning(fn(*args, **kwargs))\n",
      "==================================\n"
     ]
    },
    {
     "name": "stdout",
     "output_type": "stream",
     "text": [
      "ERROR:tensorflow:==================================\n",
      "Object was never used (type <class 'tensorflow.python.framework.ops.Tensor'>):\n",
      "<tf.Tensor 'VarIsInitializedOp_180:0' shape=() dtype=bool>\n",
      "If you want to mark it as used call its \"mark_used()\" method.\n",
      "It was originally created here:\n",
      "  File \"/usr/local/lib/python3.7/site-packages/tensorflow_core/python/keras/backend.py\", line 3363, in batch_set_value\n",
      "    get_session().run(assign_ops, feed_dict=feed_dict)  File \"/usr/local/lib/python3.7/site-packages/tensorflow_core/python/keras/backend.py\", line 491, in get_session\n",
      "    _initialize_variables(session)  File \"/usr/local/lib/python3.7/site-packages/tensorflow_core/python/keras/backend.py\", line 908, in _initialize_variables\n",
      "    [variables_module.is_variable_initialized(v) for v in candidate_vars])  File \"/usr/local/lib/python3.7/site-packages/tensorflow_core/python/keras/backend.py\", line 908, in <listcomp>\n",
      "    [variables_module.is_variable_initialized(v) for v in candidate_vars])  File \"/usr/local/lib/python3.7/site-packages/tensorflow_core/python/util/tf_should_use.py\", line 198, in wrapped\n",
      "    return _add_should_use_warning(fn(*args, **kwargs))\n",
      "==================================\n"
     ]
    },
    {
     "name": "stderr",
     "output_type": "stream",
     "text": [
      "ERROR:tensorflow:==================================\n",
      "Object was never used (type <class 'tensorflow.python.framework.ops.Tensor'>):\n",
      "<tf.Tensor 'VarIsInitializedOp_180:0' shape=() dtype=bool>\n",
      "If you want to mark it as used call its \"mark_used()\" method.\n",
      "It was originally created here:\n",
      "  File \"/usr/local/lib/python3.7/site-packages/tensorflow_core/python/keras/backend.py\", line 3363, in batch_set_value\n",
      "    get_session().run(assign_ops, feed_dict=feed_dict)  File \"/usr/local/lib/python3.7/site-packages/tensorflow_core/python/keras/backend.py\", line 491, in get_session\n",
      "    _initialize_variables(session)  File \"/usr/local/lib/python3.7/site-packages/tensorflow_core/python/keras/backend.py\", line 908, in _initialize_variables\n",
      "    [variables_module.is_variable_initialized(v) for v in candidate_vars])  File \"/usr/local/lib/python3.7/site-packages/tensorflow_core/python/keras/backend.py\", line 908, in <listcomp>\n",
      "    [variables_module.is_variable_initialized(v) for v in candidate_vars])  File \"/usr/local/lib/python3.7/site-packages/tensorflow_core/python/util/tf_should_use.py\", line 198, in wrapped\n",
      "    return _add_should_use_warning(fn(*args, **kwargs))\n",
      "==================================\n"
     ]
    },
    {
     "name": "stdout",
     "output_type": "stream",
     "text": [
      "ERROR:tensorflow:==================================\n",
      "Object was never used (type <class 'tensorflow.python.framework.ops.Tensor'>):\n",
      "<tf.Tensor 'VarIsInitializedOp_179:0' shape=() dtype=bool>\n",
      "If you want to mark it as used call its \"mark_used()\" method.\n",
      "It was originally created here:\n",
      "  File \"/usr/local/lib/python3.7/site-packages/tensorflow_core/python/keras/backend.py\", line 3363, in batch_set_value\n",
      "    get_session().run(assign_ops, feed_dict=feed_dict)  File \"/usr/local/lib/python3.7/site-packages/tensorflow_core/python/keras/backend.py\", line 491, in get_session\n",
      "    _initialize_variables(session)  File \"/usr/local/lib/python3.7/site-packages/tensorflow_core/python/keras/backend.py\", line 908, in _initialize_variables\n",
      "    [variables_module.is_variable_initialized(v) for v in candidate_vars])  File \"/usr/local/lib/python3.7/site-packages/tensorflow_core/python/keras/backend.py\", line 908, in <listcomp>\n",
      "    [variables_module.is_variable_initialized(v) for v in candidate_vars])  File \"/usr/local/lib/python3.7/site-packages/tensorflow_core/python/util/tf_should_use.py\", line 198, in wrapped\n",
      "    return _add_should_use_warning(fn(*args, **kwargs))\n",
      "==================================\n"
     ]
    },
    {
     "name": "stderr",
     "output_type": "stream",
     "text": [
      "ERROR:tensorflow:==================================\n",
      "Object was never used (type <class 'tensorflow.python.framework.ops.Tensor'>):\n",
      "<tf.Tensor 'VarIsInitializedOp_179:0' shape=() dtype=bool>\n",
      "If you want to mark it as used call its \"mark_used()\" method.\n",
      "It was originally created here:\n",
      "  File \"/usr/local/lib/python3.7/site-packages/tensorflow_core/python/keras/backend.py\", line 3363, in batch_set_value\n",
      "    get_session().run(assign_ops, feed_dict=feed_dict)  File \"/usr/local/lib/python3.7/site-packages/tensorflow_core/python/keras/backend.py\", line 491, in get_session\n",
      "    _initialize_variables(session)  File \"/usr/local/lib/python3.7/site-packages/tensorflow_core/python/keras/backend.py\", line 908, in _initialize_variables\n",
      "    [variables_module.is_variable_initialized(v) for v in candidate_vars])  File \"/usr/local/lib/python3.7/site-packages/tensorflow_core/python/keras/backend.py\", line 908, in <listcomp>\n",
      "    [variables_module.is_variable_initialized(v) for v in candidate_vars])  File \"/usr/local/lib/python3.7/site-packages/tensorflow_core/python/util/tf_should_use.py\", line 198, in wrapped\n",
      "    return _add_should_use_warning(fn(*args, **kwargs))\n",
      "==================================\n"
     ]
    },
    {
     "name": "stdout",
     "output_type": "stream",
     "text": [
      "ERROR:tensorflow:==================================\n",
      "Object was never used (type <class 'tensorflow.python.framework.ops.Tensor'>):\n",
      "<tf.Tensor 'VarIsInitializedOp_178:0' shape=() dtype=bool>\n",
      "If you want to mark it as used call its \"mark_used()\" method.\n",
      "It was originally created here:\n",
      "  File \"/usr/local/lib/python3.7/site-packages/tensorflow_core/python/keras/backend.py\", line 3363, in batch_set_value\n",
      "    get_session().run(assign_ops, feed_dict=feed_dict)  File \"/usr/local/lib/python3.7/site-packages/tensorflow_core/python/keras/backend.py\", line 491, in get_session\n",
      "    _initialize_variables(session)  File \"/usr/local/lib/python3.7/site-packages/tensorflow_core/python/keras/backend.py\", line 908, in _initialize_variables\n",
      "    [variables_module.is_variable_initialized(v) for v in candidate_vars])  File \"/usr/local/lib/python3.7/site-packages/tensorflow_core/python/keras/backend.py\", line 908, in <listcomp>\n",
      "    [variables_module.is_variable_initialized(v) for v in candidate_vars])  File \"/usr/local/lib/python3.7/site-packages/tensorflow_core/python/util/tf_should_use.py\", line 198, in wrapped\n",
      "    return _add_should_use_warning(fn(*args, **kwargs))\n",
      "==================================\n"
     ]
    },
    {
     "name": "stderr",
     "output_type": "stream",
     "text": [
      "ERROR:tensorflow:==================================\n",
      "Object was never used (type <class 'tensorflow.python.framework.ops.Tensor'>):\n",
      "<tf.Tensor 'VarIsInitializedOp_178:0' shape=() dtype=bool>\n",
      "If you want to mark it as used call its \"mark_used()\" method.\n",
      "It was originally created here:\n",
      "  File \"/usr/local/lib/python3.7/site-packages/tensorflow_core/python/keras/backend.py\", line 3363, in batch_set_value\n",
      "    get_session().run(assign_ops, feed_dict=feed_dict)  File \"/usr/local/lib/python3.7/site-packages/tensorflow_core/python/keras/backend.py\", line 491, in get_session\n",
      "    _initialize_variables(session)  File \"/usr/local/lib/python3.7/site-packages/tensorflow_core/python/keras/backend.py\", line 908, in _initialize_variables\n",
      "    [variables_module.is_variable_initialized(v) for v in candidate_vars])  File \"/usr/local/lib/python3.7/site-packages/tensorflow_core/python/keras/backend.py\", line 908, in <listcomp>\n",
      "    [variables_module.is_variable_initialized(v) for v in candidate_vars])  File \"/usr/local/lib/python3.7/site-packages/tensorflow_core/python/util/tf_should_use.py\", line 198, in wrapped\n",
      "    return _add_should_use_warning(fn(*args, **kwargs))\n",
      "==================================\n"
     ]
    },
    {
     "name": "stdout",
     "output_type": "stream",
     "text": [
      "ERROR:tensorflow:==================================\n",
      "Object was never used (type <class 'tensorflow.python.framework.ops.Tensor'>):\n",
      "<tf.Tensor 'VarIsInitializedOp_177:0' shape=() dtype=bool>\n",
      "If you want to mark it as used call its \"mark_used()\" method.\n",
      "It was originally created here:\n",
      "  File \"/usr/local/lib/python3.7/site-packages/tensorflow_core/python/keras/backend.py\", line 3363, in batch_set_value\n",
      "    get_session().run(assign_ops, feed_dict=feed_dict)  File \"/usr/local/lib/python3.7/site-packages/tensorflow_core/python/keras/backend.py\", line 491, in get_session\n",
      "    _initialize_variables(session)  File \"/usr/local/lib/python3.7/site-packages/tensorflow_core/python/keras/backend.py\", line 908, in _initialize_variables\n",
      "    [variables_module.is_variable_initialized(v) for v in candidate_vars])  File \"/usr/local/lib/python3.7/site-packages/tensorflow_core/python/keras/backend.py\", line 908, in <listcomp>\n",
      "    [variables_module.is_variable_initialized(v) for v in candidate_vars])  File \"/usr/local/lib/python3.7/site-packages/tensorflow_core/python/util/tf_should_use.py\", line 198, in wrapped\n",
      "    return _add_should_use_warning(fn(*args, **kwargs))\n",
      "==================================\n"
     ]
    },
    {
     "name": "stderr",
     "output_type": "stream",
     "text": [
      "ERROR:tensorflow:==================================\n",
      "Object was never used (type <class 'tensorflow.python.framework.ops.Tensor'>):\n",
      "<tf.Tensor 'VarIsInitializedOp_177:0' shape=() dtype=bool>\n",
      "If you want to mark it as used call its \"mark_used()\" method.\n",
      "It was originally created here:\n",
      "  File \"/usr/local/lib/python3.7/site-packages/tensorflow_core/python/keras/backend.py\", line 3363, in batch_set_value\n",
      "    get_session().run(assign_ops, feed_dict=feed_dict)  File \"/usr/local/lib/python3.7/site-packages/tensorflow_core/python/keras/backend.py\", line 491, in get_session\n",
      "    _initialize_variables(session)  File \"/usr/local/lib/python3.7/site-packages/tensorflow_core/python/keras/backend.py\", line 908, in _initialize_variables\n",
      "    [variables_module.is_variable_initialized(v) for v in candidate_vars])  File \"/usr/local/lib/python3.7/site-packages/tensorflow_core/python/keras/backend.py\", line 908, in <listcomp>\n",
      "    [variables_module.is_variable_initialized(v) for v in candidate_vars])  File \"/usr/local/lib/python3.7/site-packages/tensorflow_core/python/util/tf_should_use.py\", line 198, in wrapped\n",
      "    return _add_should_use_warning(fn(*args, **kwargs))\n",
      "==================================\n"
     ]
    },
    {
     "name": "stdout",
     "output_type": "stream",
     "text": [
      "ERROR:tensorflow:==================================\n",
      "Object was never used (type <class 'tensorflow.python.framework.ops.Tensor'>):\n",
      "<tf.Tensor 'VarIsInitializedOp_176:0' shape=() dtype=bool>\n",
      "If you want to mark it as used call its \"mark_used()\" method.\n",
      "It was originally created here:\n",
      "  File \"/usr/local/lib/python3.7/site-packages/tensorflow_core/python/keras/backend.py\", line 3363, in batch_set_value\n",
      "    get_session().run(assign_ops, feed_dict=feed_dict)  File \"/usr/local/lib/python3.7/site-packages/tensorflow_core/python/keras/backend.py\", line 491, in get_session\n",
      "    _initialize_variables(session)  File \"/usr/local/lib/python3.7/site-packages/tensorflow_core/python/keras/backend.py\", line 908, in _initialize_variables\n",
      "    [variables_module.is_variable_initialized(v) for v in candidate_vars])  File \"/usr/local/lib/python3.7/site-packages/tensorflow_core/python/keras/backend.py\", line 908, in <listcomp>\n",
      "    [variables_module.is_variable_initialized(v) for v in candidate_vars])  File \"/usr/local/lib/python3.7/site-packages/tensorflow_core/python/util/tf_should_use.py\", line 198, in wrapped\n",
      "    return _add_should_use_warning(fn(*args, **kwargs))\n",
      "==================================\n"
     ]
    },
    {
     "name": "stderr",
     "output_type": "stream",
     "text": [
      "ERROR:tensorflow:==================================\n",
      "Object was never used (type <class 'tensorflow.python.framework.ops.Tensor'>):\n",
      "<tf.Tensor 'VarIsInitializedOp_176:0' shape=() dtype=bool>\n",
      "If you want to mark it as used call its \"mark_used()\" method.\n",
      "It was originally created here:\n",
      "  File \"/usr/local/lib/python3.7/site-packages/tensorflow_core/python/keras/backend.py\", line 3363, in batch_set_value\n",
      "    get_session().run(assign_ops, feed_dict=feed_dict)  File \"/usr/local/lib/python3.7/site-packages/tensorflow_core/python/keras/backend.py\", line 491, in get_session\n",
      "    _initialize_variables(session)  File \"/usr/local/lib/python3.7/site-packages/tensorflow_core/python/keras/backend.py\", line 908, in _initialize_variables\n",
      "    [variables_module.is_variable_initialized(v) for v in candidate_vars])  File \"/usr/local/lib/python3.7/site-packages/tensorflow_core/python/keras/backend.py\", line 908, in <listcomp>\n",
      "    [variables_module.is_variable_initialized(v) for v in candidate_vars])  File \"/usr/local/lib/python3.7/site-packages/tensorflow_core/python/util/tf_should_use.py\", line 198, in wrapped\n",
      "    return _add_should_use_warning(fn(*args, **kwargs))\n",
      "==================================\n"
     ]
    },
    {
     "name": "stdout",
     "output_type": "stream",
     "text": [
      "ERROR:tensorflow:==================================\n",
      "Object was never used (type <class 'tensorflow.python.framework.ops.Tensor'>):\n",
      "<tf.Tensor 'VarIsInitializedOp_175:0' shape=() dtype=bool>\n",
      "If you want to mark it as used call its \"mark_used()\" method.\n",
      "It was originally created here:\n",
      "  File \"/usr/local/lib/python3.7/site-packages/tensorflow_core/python/keras/backend.py\", line 3363, in batch_set_value\n",
      "    get_session().run(assign_ops, feed_dict=feed_dict)  File \"/usr/local/lib/python3.7/site-packages/tensorflow_core/python/keras/backend.py\", line 491, in get_session\n",
      "    _initialize_variables(session)  File \"/usr/local/lib/python3.7/site-packages/tensorflow_core/python/keras/backend.py\", line 908, in _initialize_variables\n",
      "    [variables_module.is_variable_initialized(v) for v in candidate_vars])  File \"/usr/local/lib/python3.7/site-packages/tensorflow_core/python/keras/backend.py\", line 908, in <listcomp>\n",
      "    [variables_module.is_variable_initialized(v) for v in candidate_vars])  File \"/usr/local/lib/python3.7/site-packages/tensorflow_core/python/util/tf_should_use.py\", line 198, in wrapped\n",
      "    return _add_should_use_warning(fn(*args, **kwargs))\n",
      "==================================\n"
     ]
    },
    {
     "name": "stderr",
     "output_type": "stream",
     "text": [
      "ERROR:tensorflow:==================================\n",
      "Object was never used (type <class 'tensorflow.python.framework.ops.Tensor'>):\n",
      "<tf.Tensor 'VarIsInitializedOp_175:0' shape=() dtype=bool>\n",
      "If you want to mark it as used call its \"mark_used()\" method.\n",
      "It was originally created here:\n",
      "  File \"/usr/local/lib/python3.7/site-packages/tensorflow_core/python/keras/backend.py\", line 3363, in batch_set_value\n",
      "    get_session().run(assign_ops, feed_dict=feed_dict)  File \"/usr/local/lib/python3.7/site-packages/tensorflow_core/python/keras/backend.py\", line 491, in get_session\n",
      "    _initialize_variables(session)  File \"/usr/local/lib/python3.7/site-packages/tensorflow_core/python/keras/backend.py\", line 908, in _initialize_variables\n",
      "    [variables_module.is_variable_initialized(v) for v in candidate_vars])  File \"/usr/local/lib/python3.7/site-packages/tensorflow_core/python/keras/backend.py\", line 908, in <listcomp>\n",
      "    [variables_module.is_variable_initialized(v) for v in candidate_vars])  File \"/usr/local/lib/python3.7/site-packages/tensorflow_core/python/util/tf_should_use.py\", line 198, in wrapped\n",
      "    return _add_should_use_warning(fn(*args, **kwargs))\n",
      "==================================\n"
     ]
    },
    {
     "name": "stdout",
     "output_type": "stream",
     "text": [
      "ERROR:tensorflow:==================================\n",
      "Object was never used (type <class 'tensorflow.python.framework.ops.Tensor'>):\n",
      "<tf.Tensor 'VarIsInitializedOp_174:0' shape=() dtype=bool>\n",
      "If you want to mark it as used call its \"mark_used()\" method.\n",
      "It was originally created here:\n",
      "  File \"/usr/local/lib/python3.7/site-packages/tensorflow_core/python/keras/backend.py\", line 3363, in batch_set_value\n",
      "    get_session().run(assign_ops, feed_dict=feed_dict)  File \"/usr/local/lib/python3.7/site-packages/tensorflow_core/python/keras/backend.py\", line 491, in get_session\n",
      "    _initialize_variables(session)  File \"/usr/local/lib/python3.7/site-packages/tensorflow_core/python/keras/backend.py\", line 908, in _initialize_variables\n",
      "    [variables_module.is_variable_initialized(v) for v in candidate_vars])  File \"/usr/local/lib/python3.7/site-packages/tensorflow_core/python/keras/backend.py\", line 908, in <listcomp>\n",
      "    [variables_module.is_variable_initialized(v) for v in candidate_vars])  File \"/usr/local/lib/python3.7/site-packages/tensorflow_core/python/util/tf_should_use.py\", line 198, in wrapped\n",
      "    return _add_should_use_warning(fn(*args, **kwargs))\n",
      "==================================\n"
     ]
    },
    {
     "name": "stderr",
     "output_type": "stream",
     "text": [
      "ERROR:tensorflow:==================================\n",
      "Object was never used (type <class 'tensorflow.python.framework.ops.Tensor'>):\n",
      "<tf.Tensor 'VarIsInitializedOp_174:0' shape=() dtype=bool>\n",
      "If you want to mark it as used call its \"mark_used()\" method.\n",
      "It was originally created here:\n",
      "  File \"/usr/local/lib/python3.7/site-packages/tensorflow_core/python/keras/backend.py\", line 3363, in batch_set_value\n",
      "    get_session().run(assign_ops, feed_dict=feed_dict)  File \"/usr/local/lib/python3.7/site-packages/tensorflow_core/python/keras/backend.py\", line 491, in get_session\n",
      "    _initialize_variables(session)  File \"/usr/local/lib/python3.7/site-packages/tensorflow_core/python/keras/backend.py\", line 908, in _initialize_variables\n",
      "    [variables_module.is_variable_initialized(v) for v in candidate_vars])  File \"/usr/local/lib/python3.7/site-packages/tensorflow_core/python/keras/backend.py\", line 908, in <listcomp>\n",
      "    [variables_module.is_variable_initialized(v) for v in candidate_vars])  File \"/usr/local/lib/python3.7/site-packages/tensorflow_core/python/util/tf_should_use.py\", line 198, in wrapped\n",
      "    return _add_should_use_warning(fn(*args, **kwargs))\n",
      "==================================\n"
     ]
    },
    {
     "name": "stdout",
     "output_type": "stream",
     "text": [
      "ERROR:tensorflow:==================================\n",
      "Object was never used (type <class 'tensorflow.python.framework.ops.Tensor'>):\n",
      "<tf.Tensor 'VarIsInitializedOp_173:0' shape=() dtype=bool>\n",
      "If you want to mark it as used call its \"mark_used()\" method.\n",
      "It was originally created here:\n",
      "  File \"/usr/local/lib/python3.7/site-packages/tensorflow_core/python/keras/backend.py\", line 3363, in batch_set_value\n",
      "    get_session().run(assign_ops, feed_dict=feed_dict)  File \"/usr/local/lib/python3.7/site-packages/tensorflow_core/python/keras/backend.py\", line 491, in get_session\n",
      "    _initialize_variables(session)  File \"/usr/local/lib/python3.7/site-packages/tensorflow_core/python/keras/backend.py\", line 908, in _initialize_variables\n",
      "    [variables_module.is_variable_initialized(v) for v in candidate_vars])  File \"/usr/local/lib/python3.7/site-packages/tensorflow_core/python/keras/backend.py\", line 908, in <listcomp>\n",
      "    [variables_module.is_variable_initialized(v) for v in candidate_vars])  File \"/usr/local/lib/python3.7/site-packages/tensorflow_core/python/util/tf_should_use.py\", line 198, in wrapped\n",
      "    return _add_should_use_warning(fn(*args, **kwargs))\n",
      "==================================\n"
     ]
    },
    {
     "name": "stderr",
     "output_type": "stream",
     "text": [
      "ERROR:tensorflow:==================================\n",
      "Object was never used (type <class 'tensorflow.python.framework.ops.Tensor'>):\n",
      "<tf.Tensor 'VarIsInitializedOp_173:0' shape=() dtype=bool>\n",
      "If you want to mark it as used call its \"mark_used()\" method.\n",
      "It was originally created here:\n",
      "  File \"/usr/local/lib/python3.7/site-packages/tensorflow_core/python/keras/backend.py\", line 3363, in batch_set_value\n",
      "    get_session().run(assign_ops, feed_dict=feed_dict)  File \"/usr/local/lib/python3.7/site-packages/tensorflow_core/python/keras/backend.py\", line 491, in get_session\n",
      "    _initialize_variables(session)  File \"/usr/local/lib/python3.7/site-packages/tensorflow_core/python/keras/backend.py\", line 908, in _initialize_variables\n",
      "    [variables_module.is_variable_initialized(v) for v in candidate_vars])  File \"/usr/local/lib/python3.7/site-packages/tensorflow_core/python/keras/backend.py\", line 908, in <listcomp>\n",
      "    [variables_module.is_variable_initialized(v) for v in candidate_vars])  File \"/usr/local/lib/python3.7/site-packages/tensorflow_core/python/util/tf_should_use.py\", line 198, in wrapped\n",
      "    return _add_should_use_warning(fn(*args, **kwargs))\n",
      "==================================\n"
     ]
    },
    {
     "name": "stdout",
     "output_type": "stream",
     "text": [
      "ERROR:tensorflow:==================================\n",
      "Object was never used (type <class 'tensorflow.python.framework.ops.Tensor'>):\n",
      "<tf.Tensor 'VarIsInitializedOp_172:0' shape=() dtype=bool>\n",
      "If you want to mark it as used call its \"mark_used()\" method.\n",
      "It was originally created here:\n",
      "  File \"/usr/local/lib/python3.7/site-packages/tensorflow_core/python/keras/backend.py\", line 3363, in batch_set_value\n",
      "    get_session().run(assign_ops, feed_dict=feed_dict)  File \"/usr/local/lib/python3.7/site-packages/tensorflow_core/python/keras/backend.py\", line 491, in get_session\n",
      "    _initialize_variables(session)  File \"/usr/local/lib/python3.7/site-packages/tensorflow_core/python/keras/backend.py\", line 908, in _initialize_variables\n",
      "    [variables_module.is_variable_initialized(v) for v in candidate_vars])  File \"/usr/local/lib/python3.7/site-packages/tensorflow_core/python/keras/backend.py\", line 908, in <listcomp>\n",
      "    [variables_module.is_variable_initialized(v) for v in candidate_vars])  File \"/usr/local/lib/python3.7/site-packages/tensorflow_core/python/util/tf_should_use.py\", line 198, in wrapped\n",
      "    return _add_should_use_warning(fn(*args, **kwargs))\n",
      "==================================\n"
     ]
    },
    {
     "name": "stderr",
     "output_type": "stream",
     "text": [
      "ERROR:tensorflow:==================================\n",
      "Object was never used (type <class 'tensorflow.python.framework.ops.Tensor'>):\n",
      "<tf.Tensor 'VarIsInitializedOp_172:0' shape=() dtype=bool>\n",
      "If you want to mark it as used call its \"mark_used()\" method.\n",
      "It was originally created here:\n",
      "  File \"/usr/local/lib/python3.7/site-packages/tensorflow_core/python/keras/backend.py\", line 3363, in batch_set_value\n",
      "    get_session().run(assign_ops, feed_dict=feed_dict)  File \"/usr/local/lib/python3.7/site-packages/tensorflow_core/python/keras/backend.py\", line 491, in get_session\n",
      "    _initialize_variables(session)  File \"/usr/local/lib/python3.7/site-packages/tensorflow_core/python/keras/backend.py\", line 908, in _initialize_variables\n",
      "    [variables_module.is_variable_initialized(v) for v in candidate_vars])  File \"/usr/local/lib/python3.7/site-packages/tensorflow_core/python/keras/backend.py\", line 908, in <listcomp>\n",
      "    [variables_module.is_variable_initialized(v) for v in candidate_vars])  File \"/usr/local/lib/python3.7/site-packages/tensorflow_core/python/util/tf_should_use.py\", line 198, in wrapped\n",
      "    return _add_should_use_warning(fn(*args, **kwargs))\n",
      "==================================\n"
     ]
    },
    {
     "name": "stdout",
     "output_type": "stream",
     "text": [
      "ERROR:tensorflow:==================================\n",
      "Object was never used (type <class 'tensorflow.python.framework.ops.Tensor'>):\n",
      "<tf.Tensor 'VarIsInitializedOp_171:0' shape=() dtype=bool>\n",
      "If you want to mark it as used call its \"mark_used()\" method.\n",
      "It was originally created here:\n",
      "  File \"/usr/local/lib/python3.7/site-packages/tensorflow_core/python/keras/backend.py\", line 3363, in batch_set_value\n",
      "    get_session().run(assign_ops, feed_dict=feed_dict)  File \"/usr/local/lib/python3.7/site-packages/tensorflow_core/python/keras/backend.py\", line 491, in get_session\n",
      "    _initialize_variables(session)  File \"/usr/local/lib/python3.7/site-packages/tensorflow_core/python/keras/backend.py\", line 908, in _initialize_variables\n",
      "    [variables_module.is_variable_initialized(v) for v in candidate_vars])  File \"/usr/local/lib/python3.7/site-packages/tensorflow_core/python/keras/backend.py\", line 908, in <listcomp>\n",
      "    [variables_module.is_variable_initialized(v) for v in candidate_vars])  File \"/usr/local/lib/python3.7/site-packages/tensorflow_core/python/util/tf_should_use.py\", line 198, in wrapped\n",
      "    return _add_should_use_warning(fn(*args, **kwargs))\n",
      "==================================\n"
     ]
    },
    {
     "name": "stderr",
     "output_type": "stream",
     "text": [
      "ERROR:tensorflow:==================================\n",
      "Object was never used (type <class 'tensorflow.python.framework.ops.Tensor'>):\n",
      "<tf.Tensor 'VarIsInitializedOp_171:0' shape=() dtype=bool>\n",
      "If you want to mark it as used call its \"mark_used()\" method.\n",
      "It was originally created here:\n",
      "  File \"/usr/local/lib/python3.7/site-packages/tensorflow_core/python/keras/backend.py\", line 3363, in batch_set_value\n",
      "    get_session().run(assign_ops, feed_dict=feed_dict)  File \"/usr/local/lib/python3.7/site-packages/tensorflow_core/python/keras/backend.py\", line 491, in get_session\n",
      "    _initialize_variables(session)  File \"/usr/local/lib/python3.7/site-packages/tensorflow_core/python/keras/backend.py\", line 908, in _initialize_variables\n",
      "    [variables_module.is_variable_initialized(v) for v in candidate_vars])  File \"/usr/local/lib/python3.7/site-packages/tensorflow_core/python/keras/backend.py\", line 908, in <listcomp>\n",
      "    [variables_module.is_variable_initialized(v) for v in candidate_vars])  File \"/usr/local/lib/python3.7/site-packages/tensorflow_core/python/util/tf_should_use.py\", line 198, in wrapped\n",
      "    return _add_should_use_warning(fn(*args, **kwargs))\n",
      "==================================\n"
     ]
    },
    {
     "name": "stdout",
     "output_type": "stream",
     "text": [
      "ERROR:tensorflow:==================================\n",
      "Object was never used (type <class 'tensorflow.python.framework.ops.Tensor'>):\n",
      "<tf.Tensor 'VarIsInitializedOp_170:0' shape=() dtype=bool>\n",
      "If you want to mark it as used call its \"mark_used()\" method.\n",
      "It was originally created here:\n",
      "  File \"/usr/local/lib/python3.7/site-packages/tensorflow_core/python/keras/backend.py\", line 3363, in batch_set_value\n",
      "    get_session().run(assign_ops, feed_dict=feed_dict)  File \"/usr/local/lib/python3.7/site-packages/tensorflow_core/python/keras/backend.py\", line 491, in get_session\n",
      "    _initialize_variables(session)  File \"/usr/local/lib/python3.7/site-packages/tensorflow_core/python/keras/backend.py\", line 908, in _initialize_variables\n",
      "    [variables_module.is_variable_initialized(v) for v in candidate_vars])  File \"/usr/local/lib/python3.7/site-packages/tensorflow_core/python/keras/backend.py\", line 908, in <listcomp>\n",
      "    [variables_module.is_variable_initialized(v) for v in candidate_vars])  File \"/usr/local/lib/python3.7/site-packages/tensorflow_core/python/util/tf_should_use.py\", line 198, in wrapped\n",
      "    return _add_should_use_warning(fn(*args, **kwargs))\n",
      "==================================\n"
     ]
    },
    {
     "name": "stderr",
     "output_type": "stream",
     "text": [
      "ERROR:tensorflow:==================================\n",
      "Object was never used (type <class 'tensorflow.python.framework.ops.Tensor'>):\n",
      "<tf.Tensor 'VarIsInitializedOp_170:0' shape=() dtype=bool>\n",
      "If you want to mark it as used call its \"mark_used()\" method.\n",
      "It was originally created here:\n",
      "  File \"/usr/local/lib/python3.7/site-packages/tensorflow_core/python/keras/backend.py\", line 3363, in batch_set_value\n",
      "    get_session().run(assign_ops, feed_dict=feed_dict)  File \"/usr/local/lib/python3.7/site-packages/tensorflow_core/python/keras/backend.py\", line 491, in get_session\n",
      "    _initialize_variables(session)  File \"/usr/local/lib/python3.7/site-packages/tensorflow_core/python/keras/backend.py\", line 908, in _initialize_variables\n",
      "    [variables_module.is_variable_initialized(v) for v in candidate_vars])  File \"/usr/local/lib/python3.7/site-packages/tensorflow_core/python/keras/backend.py\", line 908, in <listcomp>\n",
      "    [variables_module.is_variable_initialized(v) for v in candidate_vars])  File \"/usr/local/lib/python3.7/site-packages/tensorflow_core/python/util/tf_should_use.py\", line 198, in wrapped\n",
      "    return _add_should_use_warning(fn(*args, **kwargs))\n",
      "==================================\n"
     ]
    },
    {
     "name": "stdout",
     "output_type": "stream",
     "text": [
      "ERROR:tensorflow:==================================\n",
      "Object was never used (type <class 'tensorflow.python.framework.ops.Tensor'>):\n",
      "<tf.Tensor 'VarIsInitializedOp_169:0' shape=() dtype=bool>\n",
      "If you want to mark it as used call its \"mark_used()\" method.\n",
      "It was originally created here:\n",
      "  File \"/usr/local/lib/python3.7/site-packages/tensorflow_core/python/keras/backend.py\", line 3363, in batch_set_value\n",
      "    get_session().run(assign_ops, feed_dict=feed_dict)  File \"/usr/local/lib/python3.7/site-packages/tensorflow_core/python/keras/backend.py\", line 491, in get_session\n",
      "    _initialize_variables(session)  File \"/usr/local/lib/python3.7/site-packages/tensorflow_core/python/keras/backend.py\", line 908, in _initialize_variables\n",
      "    [variables_module.is_variable_initialized(v) for v in candidate_vars])  File \"/usr/local/lib/python3.7/site-packages/tensorflow_core/python/keras/backend.py\", line 908, in <listcomp>\n",
      "    [variables_module.is_variable_initialized(v) for v in candidate_vars])  File \"/usr/local/lib/python3.7/site-packages/tensorflow_core/python/util/tf_should_use.py\", line 198, in wrapped\n",
      "    return _add_should_use_warning(fn(*args, **kwargs))\n",
      "==================================\n"
     ]
    },
    {
     "name": "stderr",
     "output_type": "stream",
     "text": [
      "ERROR:tensorflow:==================================\n",
      "Object was never used (type <class 'tensorflow.python.framework.ops.Tensor'>):\n",
      "<tf.Tensor 'VarIsInitializedOp_169:0' shape=() dtype=bool>\n",
      "If you want to mark it as used call its \"mark_used()\" method.\n",
      "It was originally created here:\n",
      "  File \"/usr/local/lib/python3.7/site-packages/tensorflow_core/python/keras/backend.py\", line 3363, in batch_set_value\n",
      "    get_session().run(assign_ops, feed_dict=feed_dict)  File \"/usr/local/lib/python3.7/site-packages/tensorflow_core/python/keras/backend.py\", line 491, in get_session\n",
      "    _initialize_variables(session)  File \"/usr/local/lib/python3.7/site-packages/tensorflow_core/python/keras/backend.py\", line 908, in _initialize_variables\n",
      "    [variables_module.is_variable_initialized(v) for v in candidate_vars])  File \"/usr/local/lib/python3.7/site-packages/tensorflow_core/python/keras/backend.py\", line 908, in <listcomp>\n",
      "    [variables_module.is_variable_initialized(v) for v in candidate_vars])  File \"/usr/local/lib/python3.7/site-packages/tensorflow_core/python/util/tf_should_use.py\", line 198, in wrapped\n",
      "    return _add_should_use_warning(fn(*args, **kwargs))\n",
      "==================================\n"
     ]
    },
    {
     "name": "stdout",
     "output_type": "stream",
     "text": [
      "ERROR:tensorflow:==================================\n",
      "Object was never used (type <class 'tensorflow.python.framework.ops.Tensor'>):\n",
      "<tf.Tensor 'VarIsInitializedOp_168:0' shape=() dtype=bool>\n",
      "If you want to mark it as used call its \"mark_used()\" method.\n",
      "It was originally created here:\n",
      "  File \"/usr/local/lib/python3.7/site-packages/tensorflow_core/python/keras/backend.py\", line 3363, in batch_set_value\n",
      "    get_session().run(assign_ops, feed_dict=feed_dict)  File \"/usr/local/lib/python3.7/site-packages/tensorflow_core/python/keras/backend.py\", line 491, in get_session\n",
      "    _initialize_variables(session)  File \"/usr/local/lib/python3.7/site-packages/tensorflow_core/python/keras/backend.py\", line 908, in _initialize_variables\n",
      "    [variables_module.is_variable_initialized(v) for v in candidate_vars])  File \"/usr/local/lib/python3.7/site-packages/tensorflow_core/python/keras/backend.py\", line 908, in <listcomp>\n",
      "    [variables_module.is_variable_initialized(v) for v in candidate_vars])  File \"/usr/local/lib/python3.7/site-packages/tensorflow_core/python/util/tf_should_use.py\", line 198, in wrapped\n",
      "    return _add_should_use_warning(fn(*args, **kwargs))\n",
      "==================================\n"
     ]
    },
    {
     "name": "stderr",
     "output_type": "stream",
     "text": [
      "ERROR:tensorflow:==================================\n",
      "Object was never used (type <class 'tensorflow.python.framework.ops.Tensor'>):\n",
      "<tf.Tensor 'VarIsInitializedOp_168:0' shape=() dtype=bool>\n",
      "If you want to mark it as used call its \"mark_used()\" method.\n",
      "It was originally created here:\n",
      "  File \"/usr/local/lib/python3.7/site-packages/tensorflow_core/python/keras/backend.py\", line 3363, in batch_set_value\n",
      "    get_session().run(assign_ops, feed_dict=feed_dict)  File \"/usr/local/lib/python3.7/site-packages/tensorflow_core/python/keras/backend.py\", line 491, in get_session\n",
      "    _initialize_variables(session)  File \"/usr/local/lib/python3.7/site-packages/tensorflow_core/python/keras/backend.py\", line 908, in _initialize_variables\n",
      "    [variables_module.is_variable_initialized(v) for v in candidate_vars])  File \"/usr/local/lib/python3.7/site-packages/tensorflow_core/python/keras/backend.py\", line 908, in <listcomp>\n",
      "    [variables_module.is_variable_initialized(v) for v in candidate_vars])  File \"/usr/local/lib/python3.7/site-packages/tensorflow_core/python/util/tf_should_use.py\", line 198, in wrapped\n",
      "    return _add_should_use_warning(fn(*args, **kwargs))\n",
      "==================================\n"
     ]
    },
    {
     "name": "stdout",
     "output_type": "stream",
     "text": [
      "ERROR:tensorflow:==================================\n",
      "Object was never used (type <class 'tensorflow.python.framework.ops.Tensor'>):\n",
      "<tf.Tensor 'VarIsInitializedOp_167:0' shape=() dtype=bool>\n",
      "If you want to mark it as used call its \"mark_used()\" method.\n",
      "It was originally created here:\n",
      "  File \"/usr/local/lib/python3.7/site-packages/tensorflow_core/python/keras/backend.py\", line 3363, in batch_set_value\n",
      "    get_session().run(assign_ops, feed_dict=feed_dict)  File \"/usr/local/lib/python3.7/site-packages/tensorflow_core/python/keras/backend.py\", line 491, in get_session\n",
      "    _initialize_variables(session)  File \"/usr/local/lib/python3.7/site-packages/tensorflow_core/python/keras/backend.py\", line 908, in _initialize_variables\n",
      "    [variables_module.is_variable_initialized(v) for v in candidate_vars])  File \"/usr/local/lib/python3.7/site-packages/tensorflow_core/python/keras/backend.py\", line 908, in <listcomp>\n",
      "    [variables_module.is_variable_initialized(v) for v in candidate_vars])  File \"/usr/local/lib/python3.7/site-packages/tensorflow_core/python/util/tf_should_use.py\", line 198, in wrapped\n",
      "    return _add_should_use_warning(fn(*args, **kwargs))\n",
      "==================================\n"
     ]
    },
    {
     "name": "stderr",
     "output_type": "stream",
     "text": [
      "ERROR:tensorflow:==================================\n",
      "Object was never used (type <class 'tensorflow.python.framework.ops.Tensor'>):\n",
      "<tf.Tensor 'VarIsInitializedOp_167:0' shape=() dtype=bool>\n",
      "If you want to mark it as used call its \"mark_used()\" method.\n",
      "It was originally created here:\n",
      "  File \"/usr/local/lib/python3.7/site-packages/tensorflow_core/python/keras/backend.py\", line 3363, in batch_set_value\n",
      "    get_session().run(assign_ops, feed_dict=feed_dict)  File \"/usr/local/lib/python3.7/site-packages/tensorflow_core/python/keras/backend.py\", line 491, in get_session\n",
      "    _initialize_variables(session)  File \"/usr/local/lib/python3.7/site-packages/tensorflow_core/python/keras/backend.py\", line 908, in _initialize_variables\n",
      "    [variables_module.is_variable_initialized(v) for v in candidate_vars])  File \"/usr/local/lib/python3.7/site-packages/tensorflow_core/python/keras/backend.py\", line 908, in <listcomp>\n",
      "    [variables_module.is_variable_initialized(v) for v in candidate_vars])  File \"/usr/local/lib/python3.7/site-packages/tensorflow_core/python/util/tf_should_use.py\", line 198, in wrapped\n",
      "    return _add_should_use_warning(fn(*args, **kwargs))\n",
      "==================================\n"
     ]
    },
    {
     "name": "stdout",
     "output_type": "stream",
     "text": [
      "ERROR:tensorflow:==================================\n",
      "Object was never used (type <class 'tensorflow.python.framework.ops.Tensor'>):\n",
      "<tf.Tensor 'VarIsInitializedOp_166:0' shape=() dtype=bool>\n",
      "If you want to mark it as used call its \"mark_used()\" method.\n",
      "It was originally created here:\n",
      "  File \"/usr/local/lib/python3.7/site-packages/tensorflow_core/python/keras/backend.py\", line 3363, in batch_set_value\n",
      "    get_session().run(assign_ops, feed_dict=feed_dict)  File \"/usr/local/lib/python3.7/site-packages/tensorflow_core/python/keras/backend.py\", line 491, in get_session\n",
      "    _initialize_variables(session)  File \"/usr/local/lib/python3.7/site-packages/tensorflow_core/python/keras/backend.py\", line 908, in _initialize_variables\n",
      "    [variables_module.is_variable_initialized(v) for v in candidate_vars])  File \"/usr/local/lib/python3.7/site-packages/tensorflow_core/python/keras/backend.py\", line 908, in <listcomp>\n",
      "    [variables_module.is_variable_initialized(v) for v in candidate_vars])  File \"/usr/local/lib/python3.7/site-packages/tensorflow_core/python/util/tf_should_use.py\", line 198, in wrapped\n",
      "    return _add_should_use_warning(fn(*args, **kwargs))\n",
      "==================================\n"
     ]
    },
    {
     "name": "stderr",
     "output_type": "stream",
     "text": [
      "ERROR:tensorflow:==================================\n",
      "Object was never used (type <class 'tensorflow.python.framework.ops.Tensor'>):\n",
      "<tf.Tensor 'VarIsInitializedOp_166:0' shape=() dtype=bool>\n",
      "If you want to mark it as used call its \"mark_used()\" method.\n",
      "It was originally created here:\n",
      "  File \"/usr/local/lib/python3.7/site-packages/tensorflow_core/python/keras/backend.py\", line 3363, in batch_set_value\n",
      "    get_session().run(assign_ops, feed_dict=feed_dict)  File \"/usr/local/lib/python3.7/site-packages/tensorflow_core/python/keras/backend.py\", line 491, in get_session\n",
      "    _initialize_variables(session)  File \"/usr/local/lib/python3.7/site-packages/tensorflow_core/python/keras/backend.py\", line 908, in _initialize_variables\n",
      "    [variables_module.is_variable_initialized(v) for v in candidate_vars])  File \"/usr/local/lib/python3.7/site-packages/tensorflow_core/python/keras/backend.py\", line 908, in <listcomp>\n",
      "    [variables_module.is_variable_initialized(v) for v in candidate_vars])  File \"/usr/local/lib/python3.7/site-packages/tensorflow_core/python/util/tf_should_use.py\", line 198, in wrapped\n",
      "    return _add_should_use_warning(fn(*args, **kwargs))\n",
      "==================================\n"
     ]
    },
    {
     "name": "stdout",
     "output_type": "stream",
     "text": [
      "ERROR:tensorflow:==================================\n",
      "Object was never used (type <class 'tensorflow.python.framework.ops.Tensor'>):\n",
      "<tf.Tensor 'VarIsInitializedOp_165:0' shape=() dtype=bool>\n",
      "If you want to mark it as used call its \"mark_used()\" method.\n",
      "It was originally created here:\n",
      "  File \"/usr/local/lib/python3.7/site-packages/tensorflow_core/python/keras/backend.py\", line 3363, in batch_set_value\n",
      "    get_session().run(assign_ops, feed_dict=feed_dict)  File \"/usr/local/lib/python3.7/site-packages/tensorflow_core/python/keras/backend.py\", line 491, in get_session\n",
      "    _initialize_variables(session)  File \"/usr/local/lib/python3.7/site-packages/tensorflow_core/python/keras/backend.py\", line 908, in _initialize_variables\n",
      "    [variables_module.is_variable_initialized(v) for v in candidate_vars])  File \"/usr/local/lib/python3.7/site-packages/tensorflow_core/python/keras/backend.py\", line 908, in <listcomp>\n",
      "    [variables_module.is_variable_initialized(v) for v in candidate_vars])  File \"/usr/local/lib/python3.7/site-packages/tensorflow_core/python/util/tf_should_use.py\", line 198, in wrapped\n",
      "    return _add_should_use_warning(fn(*args, **kwargs))\n",
      "==================================\n"
     ]
    },
    {
     "name": "stderr",
     "output_type": "stream",
     "text": [
      "ERROR:tensorflow:==================================\n",
      "Object was never used (type <class 'tensorflow.python.framework.ops.Tensor'>):\n",
      "<tf.Tensor 'VarIsInitializedOp_165:0' shape=() dtype=bool>\n",
      "If you want to mark it as used call its \"mark_used()\" method.\n",
      "It was originally created here:\n",
      "  File \"/usr/local/lib/python3.7/site-packages/tensorflow_core/python/keras/backend.py\", line 3363, in batch_set_value\n",
      "    get_session().run(assign_ops, feed_dict=feed_dict)  File \"/usr/local/lib/python3.7/site-packages/tensorflow_core/python/keras/backend.py\", line 491, in get_session\n",
      "    _initialize_variables(session)  File \"/usr/local/lib/python3.7/site-packages/tensorflow_core/python/keras/backend.py\", line 908, in _initialize_variables\n",
      "    [variables_module.is_variable_initialized(v) for v in candidate_vars])  File \"/usr/local/lib/python3.7/site-packages/tensorflow_core/python/keras/backend.py\", line 908, in <listcomp>\n",
      "    [variables_module.is_variable_initialized(v) for v in candidate_vars])  File \"/usr/local/lib/python3.7/site-packages/tensorflow_core/python/util/tf_should_use.py\", line 198, in wrapped\n",
      "    return _add_should_use_warning(fn(*args, **kwargs))\n",
      "==================================\n"
     ]
    },
    {
     "name": "stdout",
     "output_type": "stream",
     "text": [
      "ERROR:tensorflow:==================================\n",
      "Object was never used (type <class 'tensorflow.python.framework.ops.Tensor'>):\n",
      "<tf.Tensor 'VarIsInitializedOp_164:0' shape=() dtype=bool>\n",
      "If you want to mark it as used call its \"mark_used()\" method.\n",
      "It was originally created here:\n",
      "  File \"/usr/local/lib/python3.7/site-packages/tensorflow_core/python/keras/backend.py\", line 3363, in batch_set_value\n",
      "    get_session().run(assign_ops, feed_dict=feed_dict)  File \"/usr/local/lib/python3.7/site-packages/tensorflow_core/python/keras/backend.py\", line 491, in get_session\n",
      "    _initialize_variables(session)  File \"/usr/local/lib/python3.7/site-packages/tensorflow_core/python/keras/backend.py\", line 908, in _initialize_variables\n",
      "    [variables_module.is_variable_initialized(v) for v in candidate_vars])  File \"/usr/local/lib/python3.7/site-packages/tensorflow_core/python/keras/backend.py\", line 908, in <listcomp>\n",
      "    [variables_module.is_variable_initialized(v) for v in candidate_vars])  File \"/usr/local/lib/python3.7/site-packages/tensorflow_core/python/util/tf_should_use.py\", line 198, in wrapped\n",
      "    return _add_should_use_warning(fn(*args, **kwargs))\n",
      "==================================\n"
     ]
    },
    {
     "name": "stderr",
     "output_type": "stream",
     "text": [
      "ERROR:tensorflow:==================================\n",
      "Object was never used (type <class 'tensorflow.python.framework.ops.Tensor'>):\n",
      "<tf.Tensor 'VarIsInitializedOp_164:0' shape=() dtype=bool>\n",
      "If you want to mark it as used call its \"mark_used()\" method.\n",
      "It was originally created here:\n",
      "  File \"/usr/local/lib/python3.7/site-packages/tensorflow_core/python/keras/backend.py\", line 3363, in batch_set_value\n",
      "    get_session().run(assign_ops, feed_dict=feed_dict)  File \"/usr/local/lib/python3.7/site-packages/tensorflow_core/python/keras/backend.py\", line 491, in get_session\n",
      "    _initialize_variables(session)  File \"/usr/local/lib/python3.7/site-packages/tensorflow_core/python/keras/backend.py\", line 908, in _initialize_variables\n",
      "    [variables_module.is_variable_initialized(v) for v in candidate_vars])  File \"/usr/local/lib/python3.7/site-packages/tensorflow_core/python/keras/backend.py\", line 908, in <listcomp>\n",
      "    [variables_module.is_variable_initialized(v) for v in candidate_vars])  File \"/usr/local/lib/python3.7/site-packages/tensorflow_core/python/util/tf_should_use.py\", line 198, in wrapped\n",
      "    return _add_should_use_warning(fn(*args, **kwargs))\n",
      "==================================\n"
     ]
    },
    {
     "name": "stdout",
     "output_type": "stream",
     "text": [
      "ERROR:tensorflow:==================================\n",
      "Object was never used (type <class 'tensorflow.python.framework.ops.Tensor'>):\n",
      "<tf.Tensor 'VarIsInitializedOp_163:0' shape=() dtype=bool>\n",
      "If you want to mark it as used call its \"mark_used()\" method.\n",
      "It was originally created here:\n",
      "  File \"/usr/local/lib/python3.7/site-packages/tensorflow_core/python/keras/backend.py\", line 3363, in batch_set_value\n",
      "    get_session().run(assign_ops, feed_dict=feed_dict)  File \"/usr/local/lib/python3.7/site-packages/tensorflow_core/python/keras/backend.py\", line 491, in get_session\n",
      "    _initialize_variables(session)  File \"/usr/local/lib/python3.7/site-packages/tensorflow_core/python/keras/backend.py\", line 908, in _initialize_variables\n",
      "    [variables_module.is_variable_initialized(v) for v in candidate_vars])  File \"/usr/local/lib/python3.7/site-packages/tensorflow_core/python/keras/backend.py\", line 908, in <listcomp>\n",
      "    [variables_module.is_variable_initialized(v) for v in candidate_vars])  File \"/usr/local/lib/python3.7/site-packages/tensorflow_core/python/util/tf_should_use.py\", line 198, in wrapped\n",
      "    return _add_should_use_warning(fn(*args, **kwargs))\n",
      "==================================\n"
     ]
    },
    {
     "name": "stderr",
     "output_type": "stream",
     "text": [
      "ERROR:tensorflow:==================================\n",
      "Object was never used (type <class 'tensorflow.python.framework.ops.Tensor'>):\n",
      "<tf.Tensor 'VarIsInitializedOp_163:0' shape=() dtype=bool>\n",
      "If you want to mark it as used call its \"mark_used()\" method.\n",
      "It was originally created here:\n",
      "  File \"/usr/local/lib/python3.7/site-packages/tensorflow_core/python/keras/backend.py\", line 3363, in batch_set_value\n",
      "    get_session().run(assign_ops, feed_dict=feed_dict)  File \"/usr/local/lib/python3.7/site-packages/tensorflow_core/python/keras/backend.py\", line 491, in get_session\n",
      "    _initialize_variables(session)  File \"/usr/local/lib/python3.7/site-packages/tensorflow_core/python/keras/backend.py\", line 908, in _initialize_variables\n",
      "    [variables_module.is_variable_initialized(v) for v in candidate_vars])  File \"/usr/local/lib/python3.7/site-packages/tensorflow_core/python/keras/backend.py\", line 908, in <listcomp>\n",
      "    [variables_module.is_variable_initialized(v) for v in candidate_vars])  File \"/usr/local/lib/python3.7/site-packages/tensorflow_core/python/util/tf_should_use.py\", line 198, in wrapped\n",
      "    return _add_should_use_warning(fn(*args, **kwargs))\n",
      "==================================\n"
     ]
    },
    {
     "name": "stdout",
     "output_type": "stream",
     "text": [
      "ERROR:tensorflow:==================================\n",
      "Object was never used (type <class 'tensorflow.python.framework.ops.Tensor'>):\n",
      "<tf.Tensor 'VarIsInitializedOp_162:0' shape=() dtype=bool>\n",
      "If you want to mark it as used call its \"mark_used()\" method.\n",
      "It was originally created here:\n",
      "  File \"/usr/local/lib/python3.7/site-packages/tensorflow_core/python/keras/backend.py\", line 3363, in batch_set_value\n",
      "    get_session().run(assign_ops, feed_dict=feed_dict)  File \"/usr/local/lib/python3.7/site-packages/tensorflow_core/python/keras/backend.py\", line 491, in get_session\n",
      "    _initialize_variables(session)  File \"/usr/local/lib/python3.7/site-packages/tensorflow_core/python/keras/backend.py\", line 908, in _initialize_variables\n",
      "    [variables_module.is_variable_initialized(v) for v in candidate_vars])  File \"/usr/local/lib/python3.7/site-packages/tensorflow_core/python/keras/backend.py\", line 908, in <listcomp>\n",
      "    [variables_module.is_variable_initialized(v) for v in candidate_vars])  File \"/usr/local/lib/python3.7/site-packages/tensorflow_core/python/util/tf_should_use.py\", line 198, in wrapped\n",
      "    return _add_should_use_warning(fn(*args, **kwargs))\n",
      "==================================\n"
     ]
    },
    {
     "name": "stderr",
     "output_type": "stream",
     "text": [
      "ERROR:tensorflow:==================================\n",
      "Object was never used (type <class 'tensorflow.python.framework.ops.Tensor'>):\n",
      "<tf.Tensor 'VarIsInitializedOp_162:0' shape=() dtype=bool>\n",
      "If you want to mark it as used call its \"mark_used()\" method.\n",
      "It was originally created here:\n",
      "  File \"/usr/local/lib/python3.7/site-packages/tensorflow_core/python/keras/backend.py\", line 3363, in batch_set_value\n",
      "    get_session().run(assign_ops, feed_dict=feed_dict)  File \"/usr/local/lib/python3.7/site-packages/tensorflow_core/python/keras/backend.py\", line 491, in get_session\n",
      "    _initialize_variables(session)  File \"/usr/local/lib/python3.7/site-packages/tensorflow_core/python/keras/backend.py\", line 908, in _initialize_variables\n",
      "    [variables_module.is_variable_initialized(v) for v in candidate_vars])  File \"/usr/local/lib/python3.7/site-packages/tensorflow_core/python/keras/backend.py\", line 908, in <listcomp>\n",
      "    [variables_module.is_variable_initialized(v) for v in candidate_vars])  File \"/usr/local/lib/python3.7/site-packages/tensorflow_core/python/util/tf_should_use.py\", line 198, in wrapped\n",
      "    return _add_should_use_warning(fn(*args, **kwargs))\n",
      "==================================\n"
     ]
    },
    {
     "name": "stdout",
     "output_type": "stream",
     "text": [
      "ERROR:tensorflow:==================================\n",
      "Object was never used (type <class 'tensorflow.python.framework.ops.Tensor'>):\n",
      "<tf.Tensor 'VarIsInitializedOp_161:0' shape=() dtype=bool>\n",
      "If you want to mark it as used call its \"mark_used()\" method.\n",
      "It was originally created here:\n",
      "  File \"/usr/local/lib/python3.7/site-packages/tensorflow_core/python/keras/backend.py\", line 3363, in batch_set_value\n",
      "    get_session().run(assign_ops, feed_dict=feed_dict)  File \"/usr/local/lib/python3.7/site-packages/tensorflow_core/python/keras/backend.py\", line 491, in get_session\n",
      "    _initialize_variables(session)  File \"/usr/local/lib/python3.7/site-packages/tensorflow_core/python/keras/backend.py\", line 908, in _initialize_variables\n",
      "    [variables_module.is_variable_initialized(v) for v in candidate_vars])  File \"/usr/local/lib/python3.7/site-packages/tensorflow_core/python/keras/backend.py\", line 908, in <listcomp>\n",
      "    [variables_module.is_variable_initialized(v) for v in candidate_vars])  File \"/usr/local/lib/python3.7/site-packages/tensorflow_core/python/util/tf_should_use.py\", line 198, in wrapped\n",
      "    return _add_should_use_warning(fn(*args, **kwargs))\n",
      "==================================\n"
     ]
    },
    {
     "name": "stderr",
     "output_type": "stream",
     "text": [
      "ERROR:tensorflow:==================================\n",
      "Object was never used (type <class 'tensorflow.python.framework.ops.Tensor'>):\n",
      "<tf.Tensor 'VarIsInitializedOp_161:0' shape=() dtype=bool>\n",
      "If you want to mark it as used call its \"mark_used()\" method.\n",
      "It was originally created here:\n",
      "  File \"/usr/local/lib/python3.7/site-packages/tensorflow_core/python/keras/backend.py\", line 3363, in batch_set_value\n",
      "    get_session().run(assign_ops, feed_dict=feed_dict)  File \"/usr/local/lib/python3.7/site-packages/tensorflow_core/python/keras/backend.py\", line 491, in get_session\n",
      "    _initialize_variables(session)  File \"/usr/local/lib/python3.7/site-packages/tensorflow_core/python/keras/backend.py\", line 908, in _initialize_variables\n",
      "    [variables_module.is_variable_initialized(v) for v in candidate_vars])  File \"/usr/local/lib/python3.7/site-packages/tensorflow_core/python/keras/backend.py\", line 908, in <listcomp>\n",
      "    [variables_module.is_variable_initialized(v) for v in candidate_vars])  File \"/usr/local/lib/python3.7/site-packages/tensorflow_core/python/util/tf_should_use.py\", line 198, in wrapped\n",
      "    return _add_should_use_warning(fn(*args, **kwargs))\n",
      "==================================\n"
     ]
    },
    {
     "name": "stdout",
     "output_type": "stream",
     "text": [
      "ERROR:tensorflow:==================================\n",
      "Object was never used (type <class 'tensorflow.python.framework.ops.Tensor'>):\n",
      "<tf.Tensor 'VarIsInitializedOp_160:0' shape=() dtype=bool>\n",
      "If you want to mark it as used call its \"mark_used()\" method.\n",
      "It was originally created here:\n",
      "  File \"/usr/local/lib/python3.7/site-packages/tensorflow_core/python/keras/backend.py\", line 3363, in batch_set_value\n",
      "    get_session().run(assign_ops, feed_dict=feed_dict)  File \"/usr/local/lib/python3.7/site-packages/tensorflow_core/python/keras/backend.py\", line 491, in get_session\n",
      "    _initialize_variables(session)  File \"/usr/local/lib/python3.7/site-packages/tensorflow_core/python/keras/backend.py\", line 908, in _initialize_variables\n",
      "    [variables_module.is_variable_initialized(v) for v in candidate_vars])  File \"/usr/local/lib/python3.7/site-packages/tensorflow_core/python/keras/backend.py\", line 908, in <listcomp>\n",
      "    [variables_module.is_variable_initialized(v) for v in candidate_vars])  File \"/usr/local/lib/python3.7/site-packages/tensorflow_core/python/util/tf_should_use.py\", line 198, in wrapped\n",
      "    return _add_should_use_warning(fn(*args, **kwargs))\n",
      "==================================\n"
     ]
    },
    {
     "name": "stderr",
     "output_type": "stream",
     "text": [
      "ERROR:tensorflow:==================================\n",
      "Object was never used (type <class 'tensorflow.python.framework.ops.Tensor'>):\n",
      "<tf.Tensor 'VarIsInitializedOp_160:0' shape=() dtype=bool>\n",
      "If you want to mark it as used call its \"mark_used()\" method.\n",
      "It was originally created here:\n",
      "  File \"/usr/local/lib/python3.7/site-packages/tensorflow_core/python/keras/backend.py\", line 3363, in batch_set_value\n",
      "    get_session().run(assign_ops, feed_dict=feed_dict)  File \"/usr/local/lib/python3.7/site-packages/tensorflow_core/python/keras/backend.py\", line 491, in get_session\n",
      "    _initialize_variables(session)  File \"/usr/local/lib/python3.7/site-packages/tensorflow_core/python/keras/backend.py\", line 908, in _initialize_variables\n",
      "    [variables_module.is_variable_initialized(v) for v in candidate_vars])  File \"/usr/local/lib/python3.7/site-packages/tensorflow_core/python/keras/backend.py\", line 908, in <listcomp>\n",
      "    [variables_module.is_variable_initialized(v) for v in candidate_vars])  File \"/usr/local/lib/python3.7/site-packages/tensorflow_core/python/util/tf_should_use.py\", line 198, in wrapped\n",
      "    return _add_should_use_warning(fn(*args, **kwargs))\n",
      "==================================\n"
     ]
    },
    {
     "name": "stdout",
     "output_type": "stream",
     "text": [
      "ERROR:tensorflow:==================================\n",
      "Object was never used (type <class 'tensorflow.python.framework.ops.Tensor'>):\n",
      "<tf.Tensor 'VarIsInitializedOp_159:0' shape=() dtype=bool>\n",
      "If you want to mark it as used call its \"mark_used()\" method.\n",
      "It was originally created here:\n",
      "  File \"/usr/local/lib/python3.7/site-packages/tensorflow_core/python/keras/backend.py\", line 3363, in batch_set_value\n",
      "    get_session().run(assign_ops, feed_dict=feed_dict)  File \"/usr/local/lib/python3.7/site-packages/tensorflow_core/python/keras/backend.py\", line 491, in get_session\n",
      "    _initialize_variables(session)  File \"/usr/local/lib/python3.7/site-packages/tensorflow_core/python/keras/backend.py\", line 908, in _initialize_variables\n",
      "    [variables_module.is_variable_initialized(v) for v in candidate_vars])  File \"/usr/local/lib/python3.7/site-packages/tensorflow_core/python/keras/backend.py\", line 908, in <listcomp>\n",
      "    [variables_module.is_variable_initialized(v) for v in candidate_vars])  File \"/usr/local/lib/python3.7/site-packages/tensorflow_core/python/util/tf_should_use.py\", line 198, in wrapped\n",
      "    return _add_should_use_warning(fn(*args, **kwargs))\n",
      "==================================\n"
     ]
    },
    {
     "name": "stderr",
     "output_type": "stream",
     "text": [
      "ERROR:tensorflow:==================================\n",
      "Object was never used (type <class 'tensorflow.python.framework.ops.Tensor'>):\n",
      "<tf.Tensor 'VarIsInitializedOp_159:0' shape=() dtype=bool>\n",
      "If you want to mark it as used call its \"mark_used()\" method.\n",
      "It was originally created here:\n",
      "  File \"/usr/local/lib/python3.7/site-packages/tensorflow_core/python/keras/backend.py\", line 3363, in batch_set_value\n",
      "    get_session().run(assign_ops, feed_dict=feed_dict)  File \"/usr/local/lib/python3.7/site-packages/tensorflow_core/python/keras/backend.py\", line 491, in get_session\n",
      "    _initialize_variables(session)  File \"/usr/local/lib/python3.7/site-packages/tensorflow_core/python/keras/backend.py\", line 908, in _initialize_variables\n",
      "    [variables_module.is_variable_initialized(v) for v in candidate_vars])  File \"/usr/local/lib/python3.7/site-packages/tensorflow_core/python/keras/backend.py\", line 908, in <listcomp>\n",
      "    [variables_module.is_variable_initialized(v) for v in candidate_vars])  File \"/usr/local/lib/python3.7/site-packages/tensorflow_core/python/util/tf_should_use.py\", line 198, in wrapped\n",
      "    return _add_should_use_warning(fn(*args, **kwargs))\n",
      "==================================\n"
     ]
    },
    {
     "name": "stdout",
     "output_type": "stream",
     "text": [
      "ERROR:tensorflow:==================================\n",
      "Object was never used (type <class 'tensorflow.python.framework.ops.Tensor'>):\n",
      "<tf.Tensor 'VarIsInitializedOp_158:0' shape=() dtype=bool>\n",
      "If you want to mark it as used call its \"mark_used()\" method.\n",
      "It was originally created here:\n",
      "  File \"/usr/local/lib/python3.7/site-packages/tensorflow_core/python/keras/backend.py\", line 3363, in batch_set_value\n",
      "    get_session().run(assign_ops, feed_dict=feed_dict)  File \"/usr/local/lib/python3.7/site-packages/tensorflow_core/python/keras/backend.py\", line 491, in get_session\n",
      "    _initialize_variables(session)  File \"/usr/local/lib/python3.7/site-packages/tensorflow_core/python/keras/backend.py\", line 908, in _initialize_variables\n",
      "    [variables_module.is_variable_initialized(v) for v in candidate_vars])  File \"/usr/local/lib/python3.7/site-packages/tensorflow_core/python/keras/backend.py\", line 908, in <listcomp>\n",
      "    [variables_module.is_variable_initialized(v) for v in candidate_vars])  File \"/usr/local/lib/python3.7/site-packages/tensorflow_core/python/util/tf_should_use.py\", line 198, in wrapped\n",
      "    return _add_should_use_warning(fn(*args, **kwargs))\n",
      "==================================\n"
     ]
    },
    {
     "name": "stderr",
     "output_type": "stream",
     "text": [
      "ERROR:tensorflow:==================================\n",
      "Object was never used (type <class 'tensorflow.python.framework.ops.Tensor'>):\n",
      "<tf.Tensor 'VarIsInitializedOp_158:0' shape=() dtype=bool>\n",
      "If you want to mark it as used call its \"mark_used()\" method.\n",
      "It was originally created here:\n",
      "  File \"/usr/local/lib/python3.7/site-packages/tensorflow_core/python/keras/backend.py\", line 3363, in batch_set_value\n",
      "    get_session().run(assign_ops, feed_dict=feed_dict)  File \"/usr/local/lib/python3.7/site-packages/tensorflow_core/python/keras/backend.py\", line 491, in get_session\n",
      "    _initialize_variables(session)  File \"/usr/local/lib/python3.7/site-packages/tensorflow_core/python/keras/backend.py\", line 908, in _initialize_variables\n",
      "    [variables_module.is_variable_initialized(v) for v in candidate_vars])  File \"/usr/local/lib/python3.7/site-packages/tensorflow_core/python/keras/backend.py\", line 908, in <listcomp>\n",
      "    [variables_module.is_variable_initialized(v) for v in candidate_vars])  File \"/usr/local/lib/python3.7/site-packages/tensorflow_core/python/util/tf_should_use.py\", line 198, in wrapped\n",
      "    return _add_should_use_warning(fn(*args, **kwargs))\n",
      "==================================\n"
     ]
    },
    {
     "name": "stdout",
     "output_type": "stream",
     "text": [
      "ERROR:tensorflow:==================================\n",
      "Object was never used (type <class 'tensorflow.python.framework.ops.Tensor'>):\n",
      "<tf.Tensor 'VarIsInitializedOp_157:0' shape=() dtype=bool>\n",
      "If you want to mark it as used call its \"mark_used()\" method.\n",
      "It was originally created here:\n",
      "  File \"/usr/local/lib/python3.7/site-packages/tensorflow_core/python/keras/backend.py\", line 3363, in batch_set_value\n",
      "    get_session().run(assign_ops, feed_dict=feed_dict)  File \"/usr/local/lib/python3.7/site-packages/tensorflow_core/python/keras/backend.py\", line 491, in get_session\n",
      "    _initialize_variables(session)  File \"/usr/local/lib/python3.7/site-packages/tensorflow_core/python/keras/backend.py\", line 908, in _initialize_variables\n",
      "    [variables_module.is_variable_initialized(v) for v in candidate_vars])  File \"/usr/local/lib/python3.7/site-packages/tensorflow_core/python/keras/backend.py\", line 908, in <listcomp>\n",
      "    [variables_module.is_variable_initialized(v) for v in candidate_vars])  File \"/usr/local/lib/python3.7/site-packages/tensorflow_core/python/util/tf_should_use.py\", line 198, in wrapped\n",
      "    return _add_should_use_warning(fn(*args, **kwargs))\n",
      "==================================\n"
     ]
    },
    {
     "name": "stderr",
     "output_type": "stream",
     "text": [
      "ERROR:tensorflow:==================================\n",
      "Object was never used (type <class 'tensorflow.python.framework.ops.Tensor'>):\n",
      "<tf.Tensor 'VarIsInitializedOp_157:0' shape=() dtype=bool>\n",
      "If you want to mark it as used call its \"mark_used()\" method.\n",
      "It was originally created here:\n",
      "  File \"/usr/local/lib/python3.7/site-packages/tensorflow_core/python/keras/backend.py\", line 3363, in batch_set_value\n",
      "    get_session().run(assign_ops, feed_dict=feed_dict)  File \"/usr/local/lib/python3.7/site-packages/tensorflow_core/python/keras/backend.py\", line 491, in get_session\n",
      "    _initialize_variables(session)  File \"/usr/local/lib/python3.7/site-packages/tensorflow_core/python/keras/backend.py\", line 908, in _initialize_variables\n",
      "    [variables_module.is_variable_initialized(v) for v in candidate_vars])  File \"/usr/local/lib/python3.7/site-packages/tensorflow_core/python/keras/backend.py\", line 908, in <listcomp>\n",
      "    [variables_module.is_variable_initialized(v) for v in candidate_vars])  File \"/usr/local/lib/python3.7/site-packages/tensorflow_core/python/util/tf_should_use.py\", line 198, in wrapped\n",
      "    return _add_should_use_warning(fn(*args, **kwargs))\n",
      "==================================\n"
     ]
    },
    {
     "name": "stdout",
     "output_type": "stream",
     "text": [
      "ERROR:tensorflow:==================================\n",
      "Object was never used (type <class 'tensorflow.python.framework.ops.Tensor'>):\n",
      "<tf.Tensor 'VarIsInitializedOp_156:0' shape=() dtype=bool>\n",
      "If you want to mark it as used call its \"mark_used()\" method.\n",
      "It was originally created here:\n",
      "  File \"/usr/local/lib/python3.7/site-packages/tensorflow_core/python/keras/backend.py\", line 3363, in batch_set_value\n",
      "    get_session().run(assign_ops, feed_dict=feed_dict)  File \"/usr/local/lib/python3.7/site-packages/tensorflow_core/python/keras/backend.py\", line 491, in get_session\n",
      "    _initialize_variables(session)  File \"/usr/local/lib/python3.7/site-packages/tensorflow_core/python/keras/backend.py\", line 908, in _initialize_variables\n",
      "    [variables_module.is_variable_initialized(v) for v in candidate_vars])  File \"/usr/local/lib/python3.7/site-packages/tensorflow_core/python/keras/backend.py\", line 908, in <listcomp>\n",
      "    [variables_module.is_variable_initialized(v) for v in candidate_vars])  File \"/usr/local/lib/python3.7/site-packages/tensorflow_core/python/util/tf_should_use.py\", line 198, in wrapped\n",
      "    return _add_should_use_warning(fn(*args, **kwargs))\n",
      "==================================\n"
     ]
    },
    {
     "name": "stderr",
     "output_type": "stream",
     "text": [
      "ERROR:tensorflow:==================================\n",
      "Object was never used (type <class 'tensorflow.python.framework.ops.Tensor'>):\n",
      "<tf.Tensor 'VarIsInitializedOp_156:0' shape=() dtype=bool>\n",
      "If you want to mark it as used call its \"mark_used()\" method.\n",
      "It was originally created here:\n",
      "  File \"/usr/local/lib/python3.7/site-packages/tensorflow_core/python/keras/backend.py\", line 3363, in batch_set_value\n",
      "    get_session().run(assign_ops, feed_dict=feed_dict)  File \"/usr/local/lib/python3.7/site-packages/tensorflow_core/python/keras/backend.py\", line 491, in get_session\n",
      "    _initialize_variables(session)  File \"/usr/local/lib/python3.7/site-packages/tensorflow_core/python/keras/backend.py\", line 908, in _initialize_variables\n",
      "    [variables_module.is_variable_initialized(v) for v in candidate_vars])  File \"/usr/local/lib/python3.7/site-packages/tensorflow_core/python/keras/backend.py\", line 908, in <listcomp>\n",
      "    [variables_module.is_variable_initialized(v) for v in candidate_vars])  File \"/usr/local/lib/python3.7/site-packages/tensorflow_core/python/util/tf_should_use.py\", line 198, in wrapped\n",
      "    return _add_should_use_warning(fn(*args, **kwargs))\n",
      "==================================\n"
     ]
    },
    {
     "name": "stdout",
     "output_type": "stream",
     "text": [
      "ERROR:tensorflow:==================================\n",
      "Object was never used (type <class 'tensorflow.python.framework.ops.Tensor'>):\n",
      "<tf.Tensor 'VarIsInitializedOp_155:0' shape=() dtype=bool>\n",
      "If you want to mark it as used call its \"mark_used()\" method.\n",
      "It was originally created here:\n",
      "  File \"/usr/local/lib/python3.7/site-packages/tensorflow_core/python/keras/backend.py\", line 3363, in batch_set_value\n",
      "    get_session().run(assign_ops, feed_dict=feed_dict)  File \"/usr/local/lib/python3.7/site-packages/tensorflow_core/python/keras/backend.py\", line 491, in get_session\n",
      "    _initialize_variables(session)  File \"/usr/local/lib/python3.7/site-packages/tensorflow_core/python/keras/backend.py\", line 908, in _initialize_variables\n",
      "    [variables_module.is_variable_initialized(v) for v in candidate_vars])  File \"/usr/local/lib/python3.7/site-packages/tensorflow_core/python/keras/backend.py\", line 908, in <listcomp>\n",
      "    [variables_module.is_variable_initialized(v) for v in candidate_vars])  File \"/usr/local/lib/python3.7/site-packages/tensorflow_core/python/util/tf_should_use.py\", line 198, in wrapped\n",
      "    return _add_should_use_warning(fn(*args, **kwargs))\n",
      "==================================\n"
     ]
    },
    {
     "name": "stderr",
     "output_type": "stream",
     "text": [
      "ERROR:tensorflow:==================================\n",
      "Object was never used (type <class 'tensorflow.python.framework.ops.Tensor'>):\n",
      "<tf.Tensor 'VarIsInitializedOp_155:0' shape=() dtype=bool>\n",
      "If you want to mark it as used call its \"mark_used()\" method.\n",
      "It was originally created here:\n",
      "  File \"/usr/local/lib/python3.7/site-packages/tensorflow_core/python/keras/backend.py\", line 3363, in batch_set_value\n",
      "    get_session().run(assign_ops, feed_dict=feed_dict)  File \"/usr/local/lib/python3.7/site-packages/tensorflow_core/python/keras/backend.py\", line 491, in get_session\n",
      "    _initialize_variables(session)  File \"/usr/local/lib/python3.7/site-packages/tensorflow_core/python/keras/backend.py\", line 908, in _initialize_variables\n",
      "    [variables_module.is_variable_initialized(v) for v in candidate_vars])  File \"/usr/local/lib/python3.7/site-packages/tensorflow_core/python/keras/backend.py\", line 908, in <listcomp>\n",
      "    [variables_module.is_variable_initialized(v) for v in candidate_vars])  File \"/usr/local/lib/python3.7/site-packages/tensorflow_core/python/util/tf_should_use.py\", line 198, in wrapped\n",
      "    return _add_should_use_warning(fn(*args, **kwargs))\n",
      "==================================\n"
     ]
    },
    {
     "name": "stdout",
     "output_type": "stream",
     "text": [
      "ERROR:tensorflow:==================================\n",
      "Object was never used (type <class 'tensorflow.python.framework.ops.Tensor'>):\n",
      "<tf.Tensor 'VarIsInitializedOp_154:0' shape=() dtype=bool>\n",
      "If you want to mark it as used call its \"mark_used()\" method.\n",
      "It was originally created here:\n",
      "  File \"/usr/local/lib/python3.7/site-packages/tensorflow_core/python/keras/backend.py\", line 3363, in batch_set_value\n",
      "    get_session().run(assign_ops, feed_dict=feed_dict)  File \"/usr/local/lib/python3.7/site-packages/tensorflow_core/python/keras/backend.py\", line 491, in get_session\n",
      "    _initialize_variables(session)  File \"/usr/local/lib/python3.7/site-packages/tensorflow_core/python/keras/backend.py\", line 908, in _initialize_variables\n",
      "    [variables_module.is_variable_initialized(v) for v in candidate_vars])  File \"/usr/local/lib/python3.7/site-packages/tensorflow_core/python/keras/backend.py\", line 908, in <listcomp>\n",
      "    [variables_module.is_variable_initialized(v) for v in candidate_vars])  File \"/usr/local/lib/python3.7/site-packages/tensorflow_core/python/util/tf_should_use.py\", line 198, in wrapped\n",
      "    return _add_should_use_warning(fn(*args, **kwargs))\n",
      "==================================\n"
     ]
    },
    {
     "name": "stderr",
     "output_type": "stream",
     "text": [
      "ERROR:tensorflow:==================================\n",
      "Object was never used (type <class 'tensorflow.python.framework.ops.Tensor'>):\n",
      "<tf.Tensor 'VarIsInitializedOp_154:0' shape=() dtype=bool>\n",
      "If you want to mark it as used call its \"mark_used()\" method.\n",
      "It was originally created here:\n",
      "  File \"/usr/local/lib/python3.7/site-packages/tensorflow_core/python/keras/backend.py\", line 3363, in batch_set_value\n",
      "    get_session().run(assign_ops, feed_dict=feed_dict)  File \"/usr/local/lib/python3.7/site-packages/tensorflow_core/python/keras/backend.py\", line 491, in get_session\n",
      "    _initialize_variables(session)  File \"/usr/local/lib/python3.7/site-packages/tensorflow_core/python/keras/backend.py\", line 908, in _initialize_variables\n",
      "    [variables_module.is_variable_initialized(v) for v in candidate_vars])  File \"/usr/local/lib/python3.7/site-packages/tensorflow_core/python/keras/backend.py\", line 908, in <listcomp>\n",
      "    [variables_module.is_variable_initialized(v) for v in candidate_vars])  File \"/usr/local/lib/python3.7/site-packages/tensorflow_core/python/util/tf_should_use.py\", line 198, in wrapped\n",
      "    return _add_should_use_warning(fn(*args, **kwargs))\n",
      "==================================\n"
     ]
    },
    {
     "name": "stdout",
     "output_type": "stream",
     "text": [
      "ERROR:tensorflow:==================================\n",
      "Object was never used (type <class 'tensorflow.python.framework.ops.Tensor'>):\n",
      "<tf.Tensor 'VarIsInitializedOp_153:0' shape=() dtype=bool>\n",
      "If you want to mark it as used call its \"mark_used()\" method.\n",
      "It was originally created here:\n",
      "  File \"/usr/local/lib/python3.7/site-packages/tensorflow_core/python/keras/backend.py\", line 3363, in batch_set_value\n",
      "    get_session().run(assign_ops, feed_dict=feed_dict)  File \"/usr/local/lib/python3.7/site-packages/tensorflow_core/python/keras/backend.py\", line 491, in get_session\n",
      "    _initialize_variables(session)  File \"/usr/local/lib/python3.7/site-packages/tensorflow_core/python/keras/backend.py\", line 908, in _initialize_variables\n",
      "    [variables_module.is_variable_initialized(v) for v in candidate_vars])  File \"/usr/local/lib/python3.7/site-packages/tensorflow_core/python/keras/backend.py\", line 908, in <listcomp>\n",
      "    [variables_module.is_variable_initialized(v) for v in candidate_vars])  File \"/usr/local/lib/python3.7/site-packages/tensorflow_core/python/util/tf_should_use.py\", line 198, in wrapped\n",
      "    return _add_should_use_warning(fn(*args, **kwargs))\n",
      "==================================\n"
     ]
    },
    {
     "name": "stderr",
     "output_type": "stream",
     "text": [
      "ERROR:tensorflow:==================================\n",
      "Object was never used (type <class 'tensorflow.python.framework.ops.Tensor'>):\n",
      "<tf.Tensor 'VarIsInitializedOp_153:0' shape=() dtype=bool>\n",
      "If you want to mark it as used call its \"mark_used()\" method.\n",
      "It was originally created here:\n",
      "  File \"/usr/local/lib/python3.7/site-packages/tensorflow_core/python/keras/backend.py\", line 3363, in batch_set_value\n",
      "    get_session().run(assign_ops, feed_dict=feed_dict)  File \"/usr/local/lib/python3.7/site-packages/tensorflow_core/python/keras/backend.py\", line 491, in get_session\n",
      "    _initialize_variables(session)  File \"/usr/local/lib/python3.7/site-packages/tensorflow_core/python/keras/backend.py\", line 908, in _initialize_variables\n",
      "    [variables_module.is_variable_initialized(v) for v in candidate_vars])  File \"/usr/local/lib/python3.7/site-packages/tensorflow_core/python/keras/backend.py\", line 908, in <listcomp>\n",
      "    [variables_module.is_variable_initialized(v) for v in candidate_vars])  File \"/usr/local/lib/python3.7/site-packages/tensorflow_core/python/util/tf_should_use.py\", line 198, in wrapped\n",
      "    return _add_should_use_warning(fn(*args, **kwargs))\n",
      "==================================\n"
     ]
    },
    {
     "name": "stdout",
     "output_type": "stream",
     "text": [
      "ERROR:tensorflow:==================================\n",
      "Object was never used (type <class 'tensorflow.python.framework.ops.Tensor'>):\n",
      "<tf.Tensor 'VarIsInitializedOp_152:0' shape=() dtype=bool>\n",
      "If you want to mark it as used call its \"mark_used()\" method.\n",
      "It was originally created here:\n",
      "  File \"/usr/local/lib/python3.7/site-packages/tensorflow_core/python/keras/backend.py\", line 3363, in batch_set_value\n",
      "    get_session().run(assign_ops, feed_dict=feed_dict)  File \"/usr/local/lib/python3.7/site-packages/tensorflow_core/python/keras/backend.py\", line 491, in get_session\n",
      "    _initialize_variables(session)  File \"/usr/local/lib/python3.7/site-packages/tensorflow_core/python/keras/backend.py\", line 908, in _initialize_variables\n",
      "    [variables_module.is_variable_initialized(v) for v in candidate_vars])  File \"/usr/local/lib/python3.7/site-packages/tensorflow_core/python/keras/backend.py\", line 908, in <listcomp>\n",
      "    [variables_module.is_variable_initialized(v) for v in candidate_vars])  File \"/usr/local/lib/python3.7/site-packages/tensorflow_core/python/util/tf_should_use.py\", line 198, in wrapped\n",
      "    return _add_should_use_warning(fn(*args, **kwargs))\n",
      "==================================\n"
     ]
    },
    {
     "name": "stderr",
     "output_type": "stream",
     "text": [
      "ERROR:tensorflow:==================================\n",
      "Object was never used (type <class 'tensorflow.python.framework.ops.Tensor'>):\n",
      "<tf.Tensor 'VarIsInitializedOp_152:0' shape=() dtype=bool>\n",
      "If you want to mark it as used call its \"mark_used()\" method.\n",
      "It was originally created here:\n",
      "  File \"/usr/local/lib/python3.7/site-packages/tensorflow_core/python/keras/backend.py\", line 3363, in batch_set_value\n",
      "    get_session().run(assign_ops, feed_dict=feed_dict)  File \"/usr/local/lib/python3.7/site-packages/tensorflow_core/python/keras/backend.py\", line 491, in get_session\n",
      "    _initialize_variables(session)  File \"/usr/local/lib/python3.7/site-packages/tensorflow_core/python/keras/backend.py\", line 908, in _initialize_variables\n",
      "    [variables_module.is_variable_initialized(v) for v in candidate_vars])  File \"/usr/local/lib/python3.7/site-packages/tensorflow_core/python/keras/backend.py\", line 908, in <listcomp>\n",
      "    [variables_module.is_variable_initialized(v) for v in candidate_vars])  File \"/usr/local/lib/python3.7/site-packages/tensorflow_core/python/util/tf_should_use.py\", line 198, in wrapped\n",
      "    return _add_should_use_warning(fn(*args, **kwargs))\n",
      "==================================\n"
     ]
    },
    {
     "name": "stdout",
     "output_type": "stream",
     "text": [
      "ERROR:tensorflow:==================================\n",
      "Object was never used (type <class 'tensorflow.python.framework.ops.Tensor'>):\n",
      "<tf.Tensor 'VarIsInitializedOp_151:0' shape=() dtype=bool>\n",
      "If you want to mark it as used call its \"mark_used()\" method.\n",
      "It was originally created here:\n",
      "  File \"/usr/local/lib/python3.7/site-packages/tensorflow_core/python/keras/backend.py\", line 3363, in batch_set_value\n",
      "    get_session().run(assign_ops, feed_dict=feed_dict)  File \"/usr/local/lib/python3.7/site-packages/tensorflow_core/python/keras/backend.py\", line 491, in get_session\n",
      "    _initialize_variables(session)  File \"/usr/local/lib/python3.7/site-packages/tensorflow_core/python/keras/backend.py\", line 908, in _initialize_variables\n",
      "    [variables_module.is_variable_initialized(v) for v in candidate_vars])  File \"/usr/local/lib/python3.7/site-packages/tensorflow_core/python/keras/backend.py\", line 908, in <listcomp>\n",
      "    [variables_module.is_variable_initialized(v) for v in candidate_vars])  File \"/usr/local/lib/python3.7/site-packages/tensorflow_core/python/util/tf_should_use.py\", line 198, in wrapped\n",
      "    return _add_should_use_warning(fn(*args, **kwargs))\n",
      "==================================\n"
     ]
    },
    {
     "name": "stderr",
     "output_type": "stream",
     "text": [
      "ERROR:tensorflow:==================================\n",
      "Object was never used (type <class 'tensorflow.python.framework.ops.Tensor'>):\n",
      "<tf.Tensor 'VarIsInitializedOp_151:0' shape=() dtype=bool>\n",
      "If you want to mark it as used call its \"mark_used()\" method.\n",
      "It was originally created here:\n",
      "  File \"/usr/local/lib/python3.7/site-packages/tensorflow_core/python/keras/backend.py\", line 3363, in batch_set_value\n",
      "    get_session().run(assign_ops, feed_dict=feed_dict)  File \"/usr/local/lib/python3.7/site-packages/tensorflow_core/python/keras/backend.py\", line 491, in get_session\n",
      "    _initialize_variables(session)  File \"/usr/local/lib/python3.7/site-packages/tensorflow_core/python/keras/backend.py\", line 908, in _initialize_variables\n",
      "    [variables_module.is_variable_initialized(v) for v in candidate_vars])  File \"/usr/local/lib/python3.7/site-packages/tensorflow_core/python/keras/backend.py\", line 908, in <listcomp>\n",
      "    [variables_module.is_variable_initialized(v) for v in candidate_vars])  File \"/usr/local/lib/python3.7/site-packages/tensorflow_core/python/util/tf_should_use.py\", line 198, in wrapped\n",
      "    return _add_should_use_warning(fn(*args, **kwargs))\n",
      "==================================\n"
     ]
    },
    {
     "name": "stdout",
     "output_type": "stream",
     "text": [
      "ERROR:tensorflow:==================================\n",
      "Object was never used (type <class 'tensorflow.python.framework.ops.Tensor'>):\n",
      "<tf.Tensor 'VarIsInitializedOp_150:0' shape=() dtype=bool>\n",
      "If you want to mark it as used call its \"mark_used()\" method.\n",
      "It was originally created here:\n",
      "  File \"/usr/local/lib/python3.7/site-packages/tensorflow_core/python/keras/backend.py\", line 3363, in batch_set_value\n",
      "    get_session().run(assign_ops, feed_dict=feed_dict)  File \"/usr/local/lib/python3.7/site-packages/tensorflow_core/python/keras/backend.py\", line 491, in get_session\n",
      "    _initialize_variables(session)  File \"/usr/local/lib/python3.7/site-packages/tensorflow_core/python/keras/backend.py\", line 908, in _initialize_variables\n",
      "    [variables_module.is_variable_initialized(v) for v in candidate_vars])  File \"/usr/local/lib/python3.7/site-packages/tensorflow_core/python/keras/backend.py\", line 908, in <listcomp>\n",
      "    [variables_module.is_variable_initialized(v) for v in candidate_vars])  File \"/usr/local/lib/python3.7/site-packages/tensorflow_core/python/util/tf_should_use.py\", line 198, in wrapped\n",
      "    return _add_should_use_warning(fn(*args, **kwargs))\n",
      "==================================\n"
     ]
    },
    {
     "name": "stderr",
     "output_type": "stream",
     "text": [
      "ERROR:tensorflow:==================================\n",
      "Object was never used (type <class 'tensorflow.python.framework.ops.Tensor'>):\n",
      "<tf.Tensor 'VarIsInitializedOp_150:0' shape=() dtype=bool>\n",
      "If you want to mark it as used call its \"mark_used()\" method.\n",
      "It was originally created here:\n",
      "  File \"/usr/local/lib/python3.7/site-packages/tensorflow_core/python/keras/backend.py\", line 3363, in batch_set_value\n",
      "    get_session().run(assign_ops, feed_dict=feed_dict)  File \"/usr/local/lib/python3.7/site-packages/tensorflow_core/python/keras/backend.py\", line 491, in get_session\n",
      "    _initialize_variables(session)  File \"/usr/local/lib/python3.7/site-packages/tensorflow_core/python/keras/backend.py\", line 908, in _initialize_variables\n",
      "    [variables_module.is_variable_initialized(v) for v in candidate_vars])  File \"/usr/local/lib/python3.7/site-packages/tensorflow_core/python/keras/backend.py\", line 908, in <listcomp>\n",
      "    [variables_module.is_variable_initialized(v) for v in candidate_vars])  File \"/usr/local/lib/python3.7/site-packages/tensorflow_core/python/util/tf_should_use.py\", line 198, in wrapped\n",
      "    return _add_should_use_warning(fn(*args, **kwargs))\n",
      "==================================\n"
     ]
    },
    {
     "name": "stdout",
     "output_type": "stream",
     "text": [
      "ERROR:tensorflow:==================================\n",
      "Object was never used (type <class 'tensorflow.python.framework.ops.Tensor'>):\n",
      "<tf.Tensor 'VarIsInitializedOp_149:0' shape=() dtype=bool>\n",
      "If you want to mark it as used call its \"mark_used()\" method.\n",
      "It was originally created here:\n",
      "  File \"/usr/local/lib/python3.7/site-packages/tensorflow_core/python/keras/backend.py\", line 3363, in batch_set_value\n",
      "    get_session().run(assign_ops, feed_dict=feed_dict)  File \"/usr/local/lib/python3.7/site-packages/tensorflow_core/python/keras/backend.py\", line 491, in get_session\n",
      "    _initialize_variables(session)  File \"/usr/local/lib/python3.7/site-packages/tensorflow_core/python/keras/backend.py\", line 908, in _initialize_variables\n",
      "    [variables_module.is_variable_initialized(v) for v in candidate_vars])  File \"/usr/local/lib/python3.7/site-packages/tensorflow_core/python/keras/backend.py\", line 908, in <listcomp>\n",
      "    [variables_module.is_variable_initialized(v) for v in candidate_vars])  File \"/usr/local/lib/python3.7/site-packages/tensorflow_core/python/util/tf_should_use.py\", line 198, in wrapped\n",
      "    return _add_should_use_warning(fn(*args, **kwargs))\n",
      "==================================\n"
     ]
    },
    {
     "name": "stderr",
     "output_type": "stream",
     "text": [
      "ERROR:tensorflow:==================================\n",
      "Object was never used (type <class 'tensorflow.python.framework.ops.Tensor'>):\n",
      "<tf.Tensor 'VarIsInitializedOp_149:0' shape=() dtype=bool>\n",
      "If you want to mark it as used call its \"mark_used()\" method.\n",
      "It was originally created here:\n",
      "  File \"/usr/local/lib/python3.7/site-packages/tensorflow_core/python/keras/backend.py\", line 3363, in batch_set_value\n",
      "    get_session().run(assign_ops, feed_dict=feed_dict)  File \"/usr/local/lib/python3.7/site-packages/tensorflow_core/python/keras/backend.py\", line 491, in get_session\n",
      "    _initialize_variables(session)  File \"/usr/local/lib/python3.7/site-packages/tensorflow_core/python/keras/backend.py\", line 908, in _initialize_variables\n",
      "    [variables_module.is_variable_initialized(v) for v in candidate_vars])  File \"/usr/local/lib/python3.7/site-packages/tensorflow_core/python/keras/backend.py\", line 908, in <listcomp>\n",
      "    [variables_module.is_variable_initialized(v) for v in candidate_vars])  File \"/usr/local/lib/python3.7/site-packages/tensorflow_core/python/util/tf_should_use.py\", line 198, in wrapped\n",
      "    return _add_should_use_warning(fn(*args, **kwargs))\n",
      "==================================\n"
     ]
    },
    {
     "name": "stdout",
     "output_type": "stream",
     "text": [
      "ERROR:tensorflow:==================================\n",
      "Object was never used (type <class 'tensorflow.python.framework.ops.Tensor'>):\n",
      "<tf.Tensor 'VarIsInitializedOp_148:0' shape=() dtype=bool>\n",
      "If you want to mark it as used call its \"mark_used()\" method.\n",
      "It was originally created here:\n",
      "  File \"/usr/local/lib/python3.7/site-packages/tensorflow_core/python/keras/backend.py\", line 3363, in batch_set_value\n",
      "    get_session().run(assign_ops, feed_dict=feed_dict)  File \"/usr/local/lib/python3.7/site-packages/tensorflow_core/python/keras/backend.py\", line 491, in get_session\n",
      "    _initialize_variables(session)  File \"/usr/local/lib/python3.7/site-packages/tensorflow_core/python/keras/backend.py\", line 908, in _initialize_variables\n",
      "    [variables_module.is_variable_initialized(v) for v in candidate_vars])  File \"/usr/local/lib/python3.7/site-packages/tensorflow_core/python/keras/backend.py\", line 908, in <listcomp>\n",
      "    [variables_module.is_variable_initialized(v) for v in candidate_vars])  File \"/usr/local/lib/python3.7/site-packages/tensorflow_core/python/util/tf_should_use.py\", line 198, in wrapped\n",
      "    return _add_should_use_warning(fn(*args, **kwargs))\n",
      "==================================\n"
     ]
    },
    {
     "name": "stderr",
     "output_type": "stream",
     "text": [
      "ERROR:tensorflow:==================================\n",
      "Object was never used (type <class 'tensorflow.python.framework.ops.Tensor'>):\n",
      "<tf.Tensor 'VarIsInitializedOp_148:0' shape=() dtype=bool>\n",
      "If you want to mark it as used call its \"mark_used()\" method.\n",
      "It was originally created here:\n",
      "  File \"/usr/local/lib/python3.7/site-packages/tensorflow_core/python/keras/backend.py\", line 3363, in batch_set_value\n",
      "    get_session().run(assign_ops, feed_dict=feed_dict)  File \"/usr/local/lib/python3.7/site-packages/tensorflow_core/python/keras/backend.py\", line 491, in get_session\n",
      "    _initialize_variables(session)  File \"/usr/local/lib/python3.7/site-packages/tensorflow_core/python/keras/backend.py\", line 908, in _initialize_variables\n",
      "    [variables_module.is_variable_initialized(v) for v in candidate_vars])  File \"/usr/local/lib/python3.7/site-packages/tensorflow_core/python/keras/backend.py\", line 908, in <listcomp>\n",
      "    [variables_module.is_variable_initialized(v) for v in candidate_vars])  File \"/usr/local/lib/python3.7/site-packages/tensorflow_core/python/util/tf_should_use.py\", line 198, in wrapped\n",
      "    return _add_should_use_warning(fn(*args, **kwargs))\n",
      "==================================\n"
     ]
    },
    {
     "name": "stdout",
     "output_type": "stream",
     "text": [
      "ERROR:tensorflow:==================================\n",
      "Object was never used (type <class 'tensorflow.python.framework.ops.Tensor'>):\n",
      "<tf.Tensor 'VarIsInitializedOp_147:0' shape=() dtype=bool>\n",
      "If you want to mark it as used call its \"mark_used()\" method.\n",
      "It was originally created here:\n",
      "  File \"/usr/local/lib/python3.7/site-packages/tensorflow_core/python/keras/backend.py\", line 3363, in batch_set_value\n",
      "    get_session().run(assign_ops, feed_dict=feed_dict)  File \"/usr/local/lib/python3.7/site-packages/tensorflow_core/python/keras/backend.py\", line 491, in get_session\n",
      "    _initialize_variables(session)  File \"/usr/local/lib/python3.7/site-packages/tensorflow_core/python/keras/backend.py\", line 908, in _initialize_variables\n",
      "    [variables_module.is_variable_initialized(v) for v in candidate_vars])  File \"/usr/local/lib/python3.7/site-packages/tensorflow_core/python/keras/backend.py\", line 908, in <listcomp>\n",
      "    [variables_module.is_variable_initialized(v) for v in candidate_vars])  File \"/usr/local/lib/python3.7/site-packages/tensorflow_core/python/util/tf_should_use.py\", line 198, in wrapped\n",
      "    return _add_should_use_warning(fn(*args, **kwargs))\n",
      "==================================\n"
     ]
    },
    {
     "name": "stderr",
     "output_type": "stream",
     "text": [
      "ERROR:tensorflow:==================================\n",
      "Object was never used (type <class 'tensorflow.python.framework.ops.Tensor'>):\n",
      "<tf.Tensor 'VarIsInitializedOp_147:0' shape=() dtype=bool>\n",
      "If you want to mark it as used call its \"mark_used()\" method.\n",
      "It was originally created here:\n",
      "  File \"/usr/local/lib/python3.7/site-packages/tensorflow_core/python/keras/backend.py\", line 3363, in batch_set_value\n",
      "    get_session().run(assign_ops, feed_dict=feed_dict)  File \"/usr/local/lib/python3.7/site-packages/tensorflow_core/python/keras/backend.py\", line 491, in get_session\n",
      "    _initialize_variables(session)  File \"/usr/local/lib/python3.7/site-packages/tensorflow_core/python/keras/backend.py\", line 908, in _initialize_variables\n",
      "    [variables_module.is_variable_initialized(v) for v in candidate_vars])  File \"/usr/local/lib/python3.7/site-packages/tensorflow_core/python/keras/backend.py\", line 908, in <listcomp>\n",
      "    [variables_module.is_variable_initialized(v) for v in candidate_vars])  File \"/usr/local/lib/python3.7/site-packages/tensorflow_core/python/util/tf_should_use.py\", line 198, in wrapped\n",
      "    return _add_should_use_warning(fn(*args, **kwargs))\n",
      "==================================\n"
     ]
    },
    {
     "name": "stdout",
     "output_type": "stream",
     "text": [
      "ERROR:tensorflow:==================================\n",
      "Object was never used (type <class 'tensorflow.python.framework.ops.Tensor'>):\n",
      "<tf.Tensor 'VarIsInitializedOp_146:0' shape=() dtype=bool>\n",
      "If you want to mark it as used call its \"mark_used()\" method.\n",
      "It was originally created here:\n",
      "  File \"/usr/local/lib/python3.7/site-packages/tensorflow_core/python/keras/backend.py\", line 3363, in batch_set_value\n",
      "    get_session().run(assign_ops, feed_dict=feed_dict)  File \"/usr/local/lib/python3.7/site-packages/tensorflow_core/python/keras/backend.py\", line 491, in get_session\n",
      "    _initialize_variables(session)  File \"/usr/local/lib/python3.7/site-packages/tensorflow_core/python/keras/backend.py\", line 908, in _initialize_variables\n",
      "    [variables_module.is_variable_initialized(v) for v in candidate_vars])  File \"/usr/local/lib/python3.7/site-packages/tensorflow_core/python/keras/backend.py\", line 908, in <listcomp>\n",
      "    [variables_module.is_variable_initialized(v) for v in candidate_vars])  File \"/usr/local/lib/python3.7/site-packages/tensorflow_core/python/util/tf_should_use.py\", line 198, in wrapped\n",
      "    return _add_should_use_warning(fn(*args, **kwargs))\n",
      "==================================\n"
     ]
    },
    {
     "name": "stderr",
     "output_type": "stream",
     "text": [
      "ERROR:tensorflow:==================================\n",
      "Object was never used (type <class 'tensorflow.python.framework.ops.Tensor'>):\n",
      "<tf.Tensor 'VarIsInitializedOp_146:0' shape=() dtype=bool>\n",
      "If you want to mark it as used call its \"mark_used()\" method.\n",
      "It was originally created here:\n",
      "  File \"/usr/local/lib/python3.7/site-packages/tensorflow_core/python/keras/backend.py\", line 3363, in batch_set_value\n",
      "    get_session().run(assign_ops, feed_dict=feed_dict)  File \"/usr/local/lib/python3.7/site-packages/tensorflow_core/python/keras/backend.py\", line 491, in get_session\n",
      "    _initialize_variables(session)  File \"/usr/local/lib/python3.7/site-packages/tensorflow_core/python/keras/backend.py\", line 908, in _initialize_variables\n",
      "    [variables_module.is_variable_initialized(v) for v in candidate_vars])  File \"/usr/local/lib/python3.7/site-packages/tensorflow_core/python/keras/backend.py\", line 908, in <listcomp>\n",
      "    [variables_module.is_variable_initialized(v) for v in candidate_vars])  File \"/usr/local/lib/python3.7/site-packages/tensorflow_core/python/util/tf_should_use.py\", line 198, in wrapped\n",
      "    return _add_should_use_warning(fn(*args, **kwargs))\n",
      "==================================\n"
     ]
    },
    {
     "name": "stdout",
     "output_type": "stream",
     "text": [
      "ERROR:tensorflow:==================================\n",
      "Object was never used (type <class 'tensorflow.python.framework.ops.Tensor'>):\n",
      "<tf.Tensor 'VarIsInitializedOp_145:0' shape=() dtype=bool>\n",
      "If you want to mark it as used call its \"mark_used()\" method.\n",
      "It was originally created here:\n",
      "  File \"/usr/local/lib/python3.7/site-packages/tensorflow_core/python/keras/backend.py\", line 3363, in batch_set_value\n",
      "    get_session().run(assign_ops, feed_dict=feed_dict)  File \"/usr/local/lib/python3.7/site-packages/tensorflow_core/python/keras/backend.py\", line 491, in get_session\n",
      "    _initialize_variables(session)  File \"/usr/local/lib/python3.7/site-packages/tensorflow_core/python/keras/backend.py\", line 908, in _initialize_variables\n",
      "    [variables_module.is_variable_initialized(v) for v in candidate_vars])  File \"/usr/local/lib/python3.7/site-packages/tensorflow_core/python/keras/backend.py\", line 908, in <listcomp>\n",
      "    [variables_module.is_variable_initialized(v) for v in candidate_vars])  File \"/usr/local/lib/python3.7/site-packages/tensorflow_core/python/util/tf_should_use.py\", line 198, in wrapped\n",
      "    return _add_should_use_warning(fn(*args, **kwargs))\n",
      "==================================\n"
     ]
    },
    {
     "name": "stderr",
     "output_type": "stream",
     "text": [
      "ERROR:tensorflow:==================================\n",
      "Object was never used (type <class 'tensorflow.python.framework.ops.Tensor'>):\n",
      "<tf.Tensor 'VarIsInitializedOp_145:0' shape=() dtype=bool>\n",
      "If you want to mark it as used call its \"mark_used()\" method.\n",
      "It was originally created here:\n",
      "  File \"/usr/local/lib/python3.7/site-packages/tensorflow_core/python/keras/backend.py\", line 3363, in batch_set_value\n",
      "    get_session().run(assign_ops, feed_dict=feed_dict)  File \"/usr/local/lib/python3.7/site-packages/tensorflow_core/python/keras/backend.py\", line 491, in get_session\n",
      "    _initialize_variables(session)  File \"/usr/local/lib/python3.7/site-packages/tensorflow_core/python/keras/backend.py\", line 908, in _initialize_variables\n",
      "    [variables_module.is_variable_initialized(v) for v in candidate_vars])  File \"/usr/local/lib/python3.7/site-packages/tensorflow_core/python/keras/backend.py\", line 908, in <listcomp>\n",
      "    [variables_module.is_variable_initialized(v) for v in candidate_vars])  File \"/usr/local/lib/python3.7/site-packages/tensorflow_core/python/util/tf_should_use.py\", line 198, in wrapped\n",
      "    return _add_should_use_warning(fn(*args, **kwargs))\n",
      "==================================\n"
     ]
    },
    {
     "name": "stdout",
     "output_type": "stream",
     "text": [
      "ERROR:tensorflow:==================================\n",
      "Object was never used (type <class 'tensorflow.python.framework.ops.Tensor'>):\n",
      "<tf.Tensor 'VarIsInitializedOp_144:0' shape=() dtype=bool>\n",
      "If you want to mark it as used call its \"mark_used()\" method.\n",
      "It was originally created here:\n",
      "  File \"/usr/local/lib/python3.7/site-packages/tensorflow_core/python/keras/backend.py\", line 3363, in batch_set_value\n",
      "    get_session().run(assign_ops, feed_dict=feed_dict)  File \"/usr/local/lib/python3.7/site-packages/tensorflow_core/python/keras/backend.py\", line 491, in get_session\n",
      "    _initialize_variables(session)  File \"/usr/local/lib/python3.7/site-packages/tensorflow_core/python/keras/backend.py\", line 908, in _initialize_variables\n",
      "    [variables_module.is_variable_initialized(v) for v in candidate_vars])  File \"/usr/local/lib/python3.7/site-packages/tensorflow_core/python/keras/backend.py\", line 908, in <listcomp>\n",
      "    [variables_module.is_variable_initialized(v) for v in candidate_vars])  File \"/usr/local/lib/python3.7/site-packages/tensorflow_core/python/util/tf_should_use.py\", line 198, in wrapped\n",
      "    return _add_should_use_warning(fn(*args, **kwargs))\n",
      "==================================\n"
     ]
    },
    {
     "name": "stderr",
     "output_type": "stream",
     "text": [
      "ERROR:tensorflow:==================================\n",
      "Object was never used (type <class 'tensorflow.python.framework.ops.Tensor'>):\n",
      "<tf.Tensor 'VarIsInitializedOp_144:0' shape=() dtype=bool>\n",
      "If you want to mark it as used call its \"mark_used()\" method.\n",
      "It was originally created here:\n",
      "  File \"/usr/local/lib/python3.7/site-packages/tensorflow_core/python/keras/backend.py\", line 3363, in batch_set_value\n",
      "    get_session().run(assign_ops, feed_dict=feed_dict)  File \"/usr/local/lib/python3.7/site-packages/tensorflow_core/python/keras/backend.py\", line 491, in get_session\n",
      "    _initialize_variables(session)  File \"/usr/local/lib/python3.7/site-packages/tensorflow_core/python/keras/backend.py\", line 908, in _initialize_variables\n",
      "    [variables_module.is_variable_initialized(v) for v in candidate_vars])  File \"/usr/local/lib/python3.7/site-packages/tensorflow_core/python/keras/backend.py\", line 908, in <listcomp>\n",
      "    [variables_module.is_variable_initialized(v) for v in candidate_vars])  File \"/usr/local/lib/python3.7/site-packages/tensorflow_core/python/util/tf_should_use.py\", line 198, in wrapped\n",
      "    return _add_should_use_warning(fn(*args, **kwargs))\n",
      "==================================\n"
     ]
    },
    {
     "name": "stdout",
     "output_type": "stream",
     "text": [
      "ERROR:tensorflow:==================================\n",
      "Object was never used (type <class 'tensorflow.python.framework.ops.Tensor'>):\n",
      "<tf.Tensor 'VarIsInitializedOp_143:0' shape=() dtype=bool>\n",
      "If you want to mark it as used call its \"mark_used()\" method.\n",
      "It was originally created here:\n",
      "  File \"/usr/local/lib/python3.7/site-packages/tensorflow_core/python/keras/backend.py\", line 3363, in batch_set_value\n",
      "    get_session().run(assign_ops, feed_dict=feed_dict)  File \"/usr/local/lib/python3.7/site-packages/tensorflow_core/python/keras/backend.py\", line 491, in get_session\n",
      "    _initialize_variables(session)  File \"/usr/local/lib/python3.7/site-packages/tensorflow_core/python/keras/backend.py\", line 908, in _initialize_variables\n",
      "    [variables_module.is_variable_initialized(v) for v in candidate_vars])  File \"/usr/local/lib/python3.7/site-packages/tensorflow_core/python/keras/backend.py\", line 908, in <listcomp>\n",
      "    [variables_module.is_variable_initialized(v) for v in candidate_vars])  File \"/usr/local/lib/python3.7/site-packages/tensorflow_core/python/util/tf_should_use.py\", line 198, in wrapped\n",
      "    return _add_should_use_warning(fn(*args, **kwargs))\n",
      "==================================\n"
     ]
    },
    {
     "name": "stderr",
     "output_type": "stream",
     "text": [
      "ERROR:tensorflow:==================================\n",
      "Object was never used (type <class 'tensorflow.python.framework.ops.Tensor'>):\n",
      "<tf.Tensor 'VarIsInitializedOp_143:0' shape=() dtype=bool>\n",
      "If you want to mark it as used call its \"mark_used()\" method.\n",
      "It was originally created here:\n",
      "  File \"/usr/local/lib/python3.7/site-packages/tensorflow_core/python/keras/backend.py\", line 3363, in batch_set_value\n",
      "    get_session().run(assign_ops, feed_dict=feed_dict)  File \"/usr/local/lib/python3.7/site-packages/tensorflow_core/python/keras/backend.py\", line 491, in get_session\n",
      "    _initialize_variables(session)  File \"/usr/local/lib/python3.7/site-packages/tensorflow_core/python/keras/backend.py\", line 908, in _initialize_variables\n",
      "    [variables_module.is_variable_initialized(v) for v in candidate_vars])  File \"/usr/local/lib/python3.7/site-packages/tensorflow_core/python/keras/backend.py\", line 908, in <listcomp>\n",
      "    [variables_module.is_variable_initialized(v) for v in candidate_vars])  File \"/usr/local/lib/python3.7/site-packages/tensorflow_core/python/util/tf_should_use.py\", line 198, in wrapped\n",
      "    return _add_should_use_warning(fn(*args, **kwargs))\n",
      "==================================\n"
     ]
    },
    {
     "name": "stdout",
     "output_type": "stream",
     "text": [
      "ERROR:tensorflow:==================================\n",
      "Object was never used (type <class 'tensorflow.python.framework.ops.Tensor'>):\n",
      "<tf.Tensor 'VarIsInitializedOp_142:0' shape=() dtype=bool>\n",
      "If you want to mark it as used call its \"mark_used()\" method.\n",
      "It was originally created here:\n",
      "  File \"/usr/local/lib/python3.7/site-packages/tensorflow_core/python/keras/backend.py\", line 3363, in batch_set_value\n",
      "    get_session().run(assign_ops, feed_dict=feed_dict)  File \"/usr/local/lib/python3.7/site-packages/tensorflow_core/python/keras/backend.py\", line 491, in get_session\n",
      "    _initialize_variables(session)  File \"/usr/local/lib/python3.7/site-packages/tensorflow_core/python/keras/backend.py\", line 908, in _initialize_variables\n",
      "    [variables_module.is_variable_initialized(v) for v in candidate_vars])  File \"/usr/local/lib/python3.7/site-packages/tensorflow_core/python/keras/backend.py\", line 908, in <listcomp>\n",
      "    [variables_module.is_variable_initialized(v) for v in candidate_vars])  File \"/usr/local/lib/python3.7/site-packages/tensorflow_core/python/util/tf_should_use.py\", line 198, in wrapped\n",
      "    return _add_should_use_warning(fn(*args, **kwargs))\n",
      "==================================\n"
     ]
    },
    {
     "name": "stderr",
     "output_type": "stream",
     "text": [
      "ERROR:tensorflow:==================================\n",
      "Object was never used (type <class 'tensorflow.python.framework.ops.Tensor'>):\n",
      "<tf.Tensor 'VarIsInitializedOp_142:0' shape=() dtype=bool>\n",
      "If you want to mark it as used call its \"mark_used()\" method.\n",
      "It was originally created here:\n",
      "  File \"/usr/local/lib/python3.7/site-packages/tensorflow_core/python/keras/backend.py\", line 3363, in batch_set_value\n",
      "    get_session().run(assign_ops, feed_dict=feed_dict)  File \"/usr/local/lib/python3.7/site-packages/tensorflow_core/python/keras/backend.py\", line 491, in get_session\n",
      "    _initialize_variables(session)  File \"/usr/local/lib/python3.7/site-packages/tensorflow_core/python/keras/backend.py\", line 908, in _initialize_variables\n",
      "    [variables_module.is_variable_initialized(v) for v in candidate_vars])  File \"/usr/local/lib/python3.7/site-packages/tensorflow_core/python/keras/backend.py\", line 908, in <listcomp>\n",
      "    [variables_module.is_variable_initialized(v) for v in candidate_vars])  File \"/usr/local/lib/python3.7/site-packages/tensorflow_core/python/util/tf_should_use.py\", line 198, in wrapped\n",
      "    return _add_should_use_warning(fn(*args, **kwargs))\n",
      "==================================\n"
     ]
    },
    {
     "name": "stdout",
     "output_type": "stream",
     "text": [
      "ERROR:tensorflow:==================================\n",
      "Object was never used (type <class 'tensorflow.python.framework.ops.Tensor'>):\n",
      "<tf.Tensor 'VarIsInitializedOp_141:0' shape=() dtype=bool>\n",
      "If you want to mark it as used call its \"mark_used()\" method.\n",
      "It was originally created here:\n",
      "  File \"/usr/local/lib/python3.7/site-packages/tensorflow_core/python/keras/backend.py\", line 3363, in batch_set_value\n",
      "    get_session().run(assign_ops, feed_dict=feed_dict)  File \"/usr/local/lib/python3.7/site-packages/tensorflow_core/python/keras/backend.py\", line 491, in get_session\n",
      "    _initialize_variables(session)  File \"/usr/local/lib/python3.7/site-packages/tensorflow_core/python/keras/backend.py\", line 908, in _initialize_variables\n",
      "    [variables_module.is_variable_initialized(v) for v in candidate_vars])  File \"/usr/local/lib/python3.7/site-packages/tensorflow_core/python/keras/backend.py\", line 908, in <listcomp>\n",
      "    [variables_module.is_variable_initialized(v) for v in candidate_vars])  File \"/usr/local/lib/python3.7/site-packages/tensorflow_core/python/util/tf_should_use.py\", line 198, in wrapped\n",
      "    return _add_should_use_warning(fn(*args, **kwargs))\n",
      "==================================\n"
     ]
    },
    {
     "name": "stderr",
     "output_type": "stream",
     "text": [
      "ERROR:tensorflow:==================================\n",
      "Object was never used (type <class 'tensorflow.python.framework.ops.Tensor'>):\n",
      "<tf.Tensor 'VarIsInitializedOp_141:0' shape=() dtype=bool>\n",
      "If you want to mark it as used call its \"mark_used()\" method.\n",
      "It was originally created here:\n",
      "  File \"/usr/local/lib/python3.7/site-packages/tensorflow_core/python/keras/backend.py\", line 3363, in batch_set_value\n",
      "    get_session().run(assign_ops, feed_dict=feed_dict)  File \"/usr/local/lib/python3.7/site-packages/tensorflow_core/python/keras/backend.py\", line 491, in get_session\n",
      "    _initialize_variables(session)  File \"/usr/local/lib/python3.7/site-packages/tensorflow_core/python/keras/backend.py\", line 908, in _initialize_variables\n",
      "    [variables_module.is_variable_initialized(v) for v in candidate_vars])  File \"/usr/local/lib/python3.7/site-packages/tensorflow_core/python/keras/backend.py\", line 908, in <listcomp>\n",
      "    [variables_module.is_variable_initialized(v) for v in candidate_vars])  File \"/usr/local/lib/python3.7/site-packages/tensorflow_core/python/util/tf_should_use.py\", line 198, in wrapped\n",
      "    return _add_should_use_warning(fn(*args, **kwargs))\n",
      "==================================\n"
     ]
    },
    {
     "name": "stdout",
     "output_type": "stream",
     "text": [
      "ERROR:tensorflow:==================================\n",
      "Object was never used (type <class 'tensorflow.python.framework.ops.Tensor'>):\n",
      "<tf.Tensor 'VarIsInitializedOp_140:0' shape=() dtype=bool>\n",
      "If you want to mark it as used call its \"mark_used()\" method.\n",
      "It was originally created here:\n",
      "  File \"/usr/local/lib/python3.7/site-packages/tensorflow_core/python/keras/backend.py\", line 3363, in batch_set_value\n",
      "    get_session().run(assign_ops, feed_dict=feed_dict)  File \"/usr/local/lib/python3.7/site-packages/tensorflow_core/python/keras/backend.py\", line 491, in get_session\n",
      "    _initialize_variables(session)  File \"/usr/local/lib/python3.7/site-packages/tensorflow_core/python/keras/backend.py\", line 908, in _initialize_variables\n",
      "    [variables_module.is_variable_initialized(v) for v in candidate_vars])  File \"/usr/local/lib/python3.7/site-packages/tensorflow_core/python/keras/backend.py\", line 908, in <listcomp>\n",
      "    [variables_module.is_variable_initialized(v) for v in candidate_vars])  File \"/usr/local/lib/python3.7/site-packages/tensorflow_core/python/util/tf_should_use.py\", line 198, in wrapped\n",
      "    return _add_should_use_warning(fn(*args, **kwargs))\n",
      "==================================\n"
     ]
    },
    {
     "name": "stderr",
     "output_type": "stream",
     "text": [
      "ERROR:tensorflow:==================================\n",
      "Object was never used (type <class 'tensorflow.python.framework.ops.Tensor'>):\n",
      "<tf.Tensor 'VarIsInitializedOp_140:0' shape=() dtype=bool>\n",
      "If you want to mark it as used call its \"mark_used()\" method.\n",
      "It was originally created here:\n",
      "  File \"/usr/local/lib/python3.7/site-packages/tensorflow_core/python/keras/backend.py\", line 3363, in batch_set_value\n",
      "    get_session().run(assign_ops, feed_dict=feed_dict)  File \"/usr/local/lib/python3.7/site-packages/tensorflow_core/python/keras/backend.py\", line 491, in get_session\n",
      "    _initialize_variables(session)  File \"/usr/local/lib/python3.7/site-packages/tensorflow_core/python/keras/backend.py\", line 908, in _initialize_variables\n",
      "    [variables_module.is_variable_initialized(v) for v in candidate_vars])  File \"/usr/local/lib/python3.7/site-packages/tensorflow_core/python/keras/backend.py\", line 908, in <listcomp>\n",
      "    [variables_module.is_variable_initialized(v) for v in candidate_vars])  File \"/usr/local/lib/python3.7/site-packages/tensorflow_core/python/util/tf_should_use.py\", line 198, in wrapped\n",
      "    return _add_should_use_warning(fn(*args, **kwargs))\n",
      "==================================\n"
     ]
    },
    {
     "name": "stdout",
     "output_type": "stream",
     "text": [
      "ERROR:tensorflow:==================================\n",
      "Object was never used (type <class 'tensorflow.python.framework.ops.Tensor'>):\n",
      "<tf.Tensor 'VarIsInitializedOp_139:0' shape=() dtype=bool>\n",
      "If you want to mark it as used call its \"mark_used()\" method.\n",
      "It was originally created here:\n",
      "  File \"/usr/local/lib/python3.7/site-packages/tensorflow_core/python/keras/backend.py\", line 3363, in batch_set_value\n",
      "    get_session().run(assign_ops, feed_dict=feed_dict)  File \"/usr/local/lib/python3.7/site-packages/tensorflow_core/python/keras/backend.py\", line 491, in get_session\n",
      "    _initialize_variables(session)  File \"/usr/local/lib/python3.7/site-packages/tensorflow_core/python/keras/backend.py\", line 908, in _initialize_variables\n",
      "    [variables_module.is_variable_initialized(v) for v in candidate_vars])  File \"/usr/local/lib/python3.7/site-packages/tensorflow_core/python/keras/backend.py\", line 908, in <listcomp>\n",
      "    [variables_module.is_variable_initialized(v) for v in candidate_vars])  File \"/usr/local/lib/python3.7/site-packages/tensorflow_core/python/util/tf_should_use.py\", line 198, in wrapped\n",
      "    return _add_should_use_warning(fn(*args, **kwargs))\n",
      "==================================\n"
     ]
    },
    {
     "name": "stderr",
     "output_type": "stream",
     "text": [
      "ERROR:tensorflow:==================================\n",
      "Object was never used (type <class 'tensorflow.python.framework.ops.Tensor'>):\n",
      "<tf.Tensor 'VarIsInitializedOp_139:0' shape=() dtype=bool>\n",
      "If you want to mark it as used call its \"mark_used()\" method.\n",
      "It was originally created here:\n",
      "  File \"/usr/local/lib/python3.7/site-packages/tensorflow_core/python/keras/backend.py\", line 3363, in batch_set_value\n",
      "    get_session().run(assign_ops, feed_dict=feed_dict)  File \"/usr/local/lib/python3.7/site-packages/tensorflow_core/python/keras/backend.py\", line 491, in get_session\n",
      "    _initialize_variables(session)  File \"/usr/local/lib/python3.7/site-packages/tensorflow_core/python/keras/backend.py\", line 908, in _initialize_variables\n",
      "    [variables_module.is_variable_initialized(v) for v in candidate_vars])  File \"/usr/local/lib/python3.7/site-packages/tensorflow_core/python/keras/backend.py\", line 908, in <listcomp>\n",
      "    [variables_module.is_variable_initialized(v) for v in candidate_vars])  File \"/usr/local/lib/python3.7/site-packages/tensorflow_core/python/util/tf_should_use.py\", line 198, in wrapped\n",
      "    return _add_should_use_warning(fn(*args, **kwargs))\n",
      "==================================\n"
     ]
    },
    {
     "name": "stdout",
     "output_type": "stream",
     "text": [
      "ERROR:tensorflow:==================================\n",
      "Object was never used (type <class 'tensorflow.python.framework.ops.Tensor'>):\n",
      "<tf.Tensor 'VarIsInitializedOp_138:0' shape=() dtype=bool>\n",
      "If you want to mark it as used call its \"mark_used()\" method.\n",
      "It was originally created here:\n",
      "  File \"/usr/local/lib/python3.7/site-packages/tensorflow_core/python/keras/backend.py\", line 3363, in batch_set_value\n",
      "    get_session().run(assign_ops, feed_dict=feed_dict)  File \"/usr/local/lib/python3.7/site-packages/tensorflow_core/python/keras/backend.py\", line 491, in get_session\n",
      "    _initialize_variables(session)  File \"/usr/local/lib/python3.7/site-packages/tensorflow_core/python/keras/backend.py\", line 908, in _initialize_variables\n",
      "    [variables_module.is_variable_initialized(v) for v in candidate_vars])  File \"/usr/local/lib/python3.7/site-packages/tensorflow_core/python/keras/backend.py\", line 908, in <listcomp>\n",
      "    [variables_module.is_variable_initialized(v) for v in candidate_vars])  File \"/usr/local/lib/python3.7/site-packages/tensorflow_core/python/util/tf_should_use.py\", line 198, in wrapped\n",
      "    return _add_should_use_warning(fn(*args, **kwargs))\n",
      "==================================\n"
     ]
    },
    {
     "name": "stderr",
     "output_type": "stream",
     "text": [
      "ERROR:tensorflow:==================================\n",
      "Object was never used (type <class 'tensorflow.python.framework.ops.Tensor'>):\n",
      "<tf.Tensor 'VarIsInitializedOp_138:0' shape=() dtype=bool>\n",
      "If you want to mark it as used call its \"mark_used()\" method.\n",
      "It was originally created here:\n",
      "  File \"/usr/local/lib/python3.7/site-packages/tensorflow_core/python/keras/backend.py\", line 3363, in batch_set_value\n",
      "    get_session().run(assign_ops, feed_dict=feed_dict)  File \"/usr/local/lib/python3.7/site-packages/tensorflow_core/python/keras/backend.py\", line 491, in get_session\n",
      "    _initialize_variables(session)  File \"/usr/local/lib/python3.7/site-packages/tensorflow_core/python/keras/backend.py\", line 908, in _initialize_variables\n",
      "    [variables_module.is_variable_initialized(v) for v in candidate_vars])  File \"/usr/local/lib/python3.7/site-packages/tensorflow_core/python/keras/backend.py\", line 908, in <listcomp>\n",
      "    [variables_module.is_variable_initialized(v) for v in candidate_vars])  File \"/usr/local/lib/python3.7/site-packages/tensorflow_core/python/util/tf_should_use.py\", line 198, in wrapped\n",
      "    return _add_should_use_warning(fn(*args, **kwargs))\n",
      "==================================\n"
     ]
    },
    {
     "name": "stdout",
     "output_type": "stream",
     "text": [
      "ERROR:tensorflow:==================================\n",
      "Object was never used (type <class 'tensorflow.python.framework.ops.Tensor'>):\n",
      "<tf.Tensor 'VarIsInitializedOp_137:0' shape=() dtype=bool>\n",
      "If you want to mark it as used call its \"mark_used()\" method.\n",
      "It was originally created here:\n",
      "  File \"/usr/local/lib/python3.7/site-packages/tensorflow_core/python/keras/backend.py\", line 3363, in batch_set_value\n",
      "    get_session().run(assign_ops, feed_dict=feed_dict)  File \"/usr/local/lib/python3.7/site-packages/tensorflow_core/python/keras/backend.py\", line 491, in get_session\n",
      "    _initialize_variables(session)  File \"/usr/local/lib/python3.7/site-packages/tensorflow_core/python/keras/backend.py\", line 908, in _initialize_variables\n",
      "    [variables_module.is_variable_initialized(v) for v in candidate_vars])  File \"/usr/local/lib/python3.7/site-packages/tensorflow_core/python/keras/backend.py\", line 908, in <listcomp>\n",
      "    [variables_module.is_variable_initialized(v) for v in candidate_vars])  File \"/usr/local/lib/python3.7/site-packages/tensorflow_core/python/util/tf_should_use.py\", line 198, in wrapped\n",
      "    return _add_should_use_warning(fn(*args, **kwargs))\n",
      "==================================\n"
     ]
    },
    {
     "name": "stderr",
     "output_type": "stream",
     "text": [
      "ERROR:tensorflow:==================================\n",
      "Object was never used (type <class 'tensorflow.python.framework.ops.Tensor'>):\n",
      "<tf.Tensor 'VarIsInitializedOp_137:0' shape=() dtype=bool>\n",
      "If you want to mark it as used call its \"mark_used()\" method.\n",
      "It was originally created here:\n",
      "  File \"/usr/local/lib/python3.7/site-packages/tensorflow_core/python/keras/backend.py\", line 3363, in batch_set_value\n",
      "    get_session().run(assign_ops, feed_dict=feed_dict)  File \"/usr/local/lib/python3.7/site-packages/tensorflow_core/python/keras/backend.py\", line 491, in get_session\n",
      "    _initialize_variables(session)  File \"/usr/local/lib/python3.7/site-packages/tensorflow_core/python/keras/backend.py\", line 908, in _initialize_variables\n",
      "    [variables_module.is_variable_initialized(v) for v in candidate_vars])  File \"/usr/local/lib/python3.7/site-packages/tensorflow_core/python/keras/backend.py\", line 908, in <listcomp>\n",
      "    [variables_module.is_variable_initialized(v) for v in candidate_vars])  File \"/usr/local/lib/python3.7/site-packages/tensorflow_core/python/util/tf_should_use.py\", line 198, in wrapped\n",
      "    return _add_should_use_warning(fn(*args, **kwargs))\n",
      "==================================\n"
     ]
    },
    {
     "name": "stdout",
     "output_type": "stream",
     "text": [
      "ERROR:tensorflow:==================================\n",
      "Object was never used (type <class 'tensorflow.python.framework.ops.Tensor'>):\n",
      "<tf.Tensor 'VarIsInitializedOp_136:0' shape=() dtype=bool>\n",
      "If you want to mark it as used call its \"mark_used()\" method.\n",
      "It was originally created here:\n",
      "  File \"/usr/local/lib/python3.7/site-packages/tensorflow_core/python/keras/backend.py\", line 3363, in batch_set_value\n",
      "    get_session().run(assign_ops, feed_dict=feed_dict)  File \"/usr/local/lib/python3.7/site-packages/tensorflow_core/python/keras/backend.py\", line 491, in get_session\n",
      "    _initialize_variables(session)  File \"/usr/local/lib/python3.7/site-packages/tensorflow_core/python/keras/backend.py\", line 908, in _initialize_variables\n",
      "    [variables_module.is_variable_initialized(v) for v in candidate_vars])  File \"/usr/local/lib/python3.7/site-packages/tensorflow_core/python/keras/backend.py\", line 908, in <listcomp>\n",
      "    [variables_module.is_variable_initialized(v) for v in candidate_vars])  File \"/usr/local/lib/python3.7/site-packages/tensorflow_core/python/util/tf_should_use.py\", line 198, in wrapped\n",
      "    return _add_should_use_warning(fn(*args, **kwargs))\n",
      "==================================\n"
     ]
    },
    {
     "name": "stderr",
     "output_type": "stream",
     "text": [
      "ERROR:tensorflow:==================================\n",
      "Object was never used (type <class 'tensorflow.python.framework.ops.Tensor'>):\n",
      "<tf.Tensor 'VarIsInitializedOp_136:0' shape=() dtype=bool>\n",
      "If you want to mark it as used call its \"mark_used()\" method.\n",
      "It was originally created here:\n",
      "  File \"/usr/local/lib/python3.7/site-packages/tensorflow_core/python/keras/backend.py\", line 3363, in batch_set_value\n",
      "    get_session().run(assign_ops, feed_dict=feed_dict)  File \"/usr/local/lib/python3.7/site-packages/tensorflow_core/python/keras/backend.py\", line 491, in get_session\n",
      "    _initialize_variables(session)  File \"/usr/local/lib/python3.7/site-packages/tensorflow_core/python/keras/backend.py\", line 908, in _initialize_variables\n",
      "    [variables_module.is_variable_initialized(v) for v in candidate_vars])  File \"/usr/local/lib/python3.7/site-packages/tensorflow_core/python/keras/backend.py\", line 908, in <listcomp>\n",
      "    [variables_module.is_variable_initialized(v) for v in candidate_vars])  File \"/usr/local/lib/python3.7/site-packages/tensorflow_core/python/util/tf_should_use.py\", line 198, in wrapped\n",
      "    return _add_should_use_warning(fn(*args, **kwargs))\n",
      "==================================\n"
     ]
    },
    {
     "name": "stdout",
     "output_type": "stream",
     "text": [
      "ERROR:tensorflow:==================================\n",
      "Object was never used (type <class 'tensorflow.python.framework.ops.Tensor'>):\n",
      "<tf.Tensor 'VarIsInitializedOp_135:0' shape=() dtype=bool>\n",
      "If you want to mark it as used call its \"mark_used()\" method.\n",
      "It was originally created here:\n",
      "  File \"/usr/local/lib/python3.7/site-packages/tensorflow_core/python/keras/backend.py\", line 3363, in batch_set_value\n",
      "    get_session().run(assign_ops, feed_dict=feed_dict)  File \"/usr/local/lib/python3.7/site-packages/tensorflow_core/python/keras/backend.py\", line 491, in get_session\n",
      "    _initialize_variables(session)  File \"/usr/local/lib/python3.7/site-packages/tensorflow_core/python/keras/backend.py\", line 908, in _initialize_variables\n",
      "    [variables_module.is_variable_initialized(v) for v in candidate_vars])  File \"/usr/local/lib/python3.7/site-packages/tensorflow_core/python/keras/backend.py\", line 908, in <listcomp>\n",
      "    [variables_module.is_variable_initialized(v) for v in candidate_vars])  File \"/usr/local/lib/python3.7/site-packages/tensorflow_core/python/util/tf_should_use.py\", line 198, in wrapped\n",
      "    return _add_should_use_warning(fn(*args, **kwargs))\n",
      "==================================\n"
     ]
    },
    {
     "name": "stderr",
     "output_type": "stream",
     "text": [
      "ERROR:tensorflow:==================================\n",
      "Object was never used (type <class 'tensorflow.python.framework.ops.Tensor'>):\n",
      "<tf.Tensor 'VarIsInitializedOp_135:0' shape=() dtype=bool>\n",
      "If you want to mark it as used call its \"mark_used()\" method.\n",
      "It was originally created here:\n",
      "  File \"/usr/local/lib/python3.7/site-packages/tensorflow_core/python/keras/backend.py\", line 3363, in batch_set_value\n",
      "    get_session().run(assign_ops, feed_dict=feed_dict)  File \"/usr/local/lib/python3.7/site-packages/tensorflow_core/python/keras/backend.py\", line 491, in get_session\n",
      "    _initialize_variables(session)  File \"/usr/local/lib/python3.7/site-packages/tensorflow_core/python/keras/backend.py\", line 908, in _initialize_variables\n",
      "    [variables_module.is_variable_initialized(v) for v in candidate_vars])  File \"/usr/local/lib/python3.7/site-packages/tensorflow_core/python/keras/backend.py\", line 908, in <listcomp>\n",
      "    [variables_module.is_variable_initialized(v) for v in candidate_vars])  File \"/usr/local/lib/python3.7/site-packages/tensorflow_core/python/util/tf_should_use.py\", line 198, in wrapped\n",
      "    return _add_should_use_warning(fn(*args, **kwargs))\n",
      "==================================\n"
     ]
    },
    {
     "name": "stdout",
     "output_type": "stream",
     "text": [
      "ERROR:tensorflow:==================================\n",
      "Object was never used (type <class 'tensorflow.python.framework.ops.Tensor'>):\n",
      "<tf.Tensor 'VarIsInitializedOp_134:0' shape=() dtype=bool>\n",
      "If you want to mark it as used call its \"mark_used()\" method.\n",
      "It was originally created here:\n",
      "  File \"/usr/local/lib/python3.7/site-packages/tensorflow_core/python/keras/backend.py\", line 3363, in batch_set_value\n",
      "    get_session().run(assign_ops, feed_dict=feed_dict)  File \"/usr/local/lib/python3.7/site-packages/tensorflow_core/python/keras/backend.py\", line 491, in get_session\n",
      "    _initialize_variables(session)  File \"/usr/local/lib/python3.7/site-packages/tensorflow_core/python/keras/backend.py\", line 908, in _initialize_variables\n",
      "    [variables_module.is_variable_initialized(v) for v in candidate_vars])  File \"/usr/local/lib/python3.7/site-packages/tensorflow_core/python/keras/backend.py\", line 908, in <listcomp>\n",
      "    [variables_module.is_variable_initialized(v) for v in candidate_vars])  File \"/usr/local/lib/python3.7/site-packages/tensorflow_core/python/util/tf_should_use.py\", line 198, in wrapped\n",
      "    return _add_should_use_warning(fn(*args, **kwargs))\n",
      "==================================\n"
     ]
    },
    {
     "name": "stderr",
     "output_type": "stream",
     "text": [
      "ERROR:tensorflow:==================================\n",
      "Object was never used (type <class 'tensorflow.python.framework.ops.Tensor'>):\n",
      "<tf.Tensor 'VarIsInitializedOp_134:0' shape=() dtype=bool>\n",
      "If you want to mark it as used call its \"mark_used()\" method.\n",
      "It was originally created here:\n",
      "  File \"/usr/local/lib/python3.7/site-packages/tensorflow_core/python/keras/backend.py\", line 3363, in batch_set_value\n",
      "    get_session().run(assign_ops, feed_dict=feed_dict)  File \"/usr/local/lib/python3.7/site-packages/tensorflow_core/python/keras/backend.py\", line 491, in get_session\n",
      "    _initialize_variables(session)  File \"/usr/local/lib/python3.7/site-packages/tensorflow_core/python/keras/backend.py\", line 908, in _initialize_variables\n",
      "    [variables_module.is_variable_initialized(v) for v in candidate_vars])  File \"/usr/local/lib/python3.7/site-packages/tensorflow_core/python/keras/backend.py\", line 908, in <listcomp>\n",
      "    [variables_module.is_variable_initialized(v) for v in candidate_vars])  File \"/usr/local/lib/python3.7/site-packages/tensorflow_core/python/util/tf_should_use.py\", line 198, in wrapped\n",
      "    return _add_should_use_warning(fn(*args, **kwargs))\n",
      "==================================\n"
     ]
    },
    {
     "name": "stdout",
     "output_type": "stream",
     "text": [
      "ERROR:tensorflow:==================================\n",
      "Object was never used (type <class 'tensorflow.python.framework.ops.Tensor'>):\n",
      "<tf.Tensor 'VarIsInitializedOp_133:0' shape=() dtype=bool>\n",
      "If you want to mark it as used call its \"mark_used()\" method.\n",
      "It was originally created here:\n",
      "  File \"/usr/local/lib/python3.7/site-packages/tensorflow_core/python/keras/backend.py\", line 3363, in batch_set_value\n",
      "    get_session().run(assign_ops, feed_dict=feed_dict)  File \"/usr/local/lib/python3.7/site-packages/tensorflow_core/python/keras/backend.py\", line 491, in get_session\n",
      "    _initialize_variables(session)  File \"/usr/local/lib/python3.7/site-packages/tensorflow_core/python/keras/backend.py\", line 908, in _initialize_variables\n",
      "    [variables_module.is_variable_initialized(v) for v in candidate_vars])  File \"/usr/local/lib/python3.7/site-packages/tensorflow_core/python/keras/backend.py\", line 908, in <listcomp>\n",
      "    [variables_module.is_variable_initialized(v) for v in candidate_vars])  File \"/usr/local/lib/python3.7/site-packages/tensorflow_core/python/util/tf_should_use.py\", line 198, in wrapped\n",
      "    return _add_should_use_warning(fn(*args, **kwargs))\n",
      "==================================\n"
     ]
    },
    {
     "name": "stderr",
     "output_type": "stream",
     "text": [
      "ERROR:tensorflow:==================================\n",
      "Object was never used (type <class 'tensorflow.python.framework.ops.Tensor'>):\n",
      "<tf.Tensor 'VarIsInitializedOp_133:0' shape=() dtype=bool>\n",
      "If you want to mark it as used call its \"mark_used()\" method.\n",
      "It was originally created here:\n",
      "  File \"/usr/local/lib/python3.7/site-packages/tensorflow_core/python/keras/backend.py\", line 3363, in batch_set_value\n",
      "    get_session().run(assign_ops, feed_dict=feed_dict)  File \"/usr/local/lib/python3.7/site-packages/tensorflow_core/python/keras/backend.py\", line 491, in get_session\n",
      "    _initialize_variables(session)  File \"/usr/local/lib/python3.7/site-packages/tensorflow_core/python/keras/backend.py\", line 908, in _initialize_variables\n",
      "    [variables_module.is_variable_initialized(v) for v in candidate_vars])  File \"/usr/local/lib/python3.7/site-packages/tensorflow_core/python/keras/backend.py\", line 908, in <listcomp>\n",
      "    [variables_module.is_variable_initialized(v) for v in candidate_vars])  File \"/usr/local/lib/python3.7/site-packages/tensorflow_core/python/util/tf_should_use.py\", line 198, in wrapped\n",
      "    return _add_should_use_warning(fn(*args, **kwargs))\n",
      "==================================\n"
     ]
    },
    {
     "name": "stdout",
     "output_type": "stream",
     "text": [
      "ERROR:tensorflow:==================================\n",
      "Object was never used (type <class 'tensorflow.python.framework.ops.Tensor'>):\n",
      "<tf.Tensor 'VarIsInitializedOp_132:0' shape=() dtype=bool>\n",
      "If you want to mark it as used call its \"mark_used()\" method.\n",
      "It was originally created here:\n",
      "  File \"/usr/local/lib/python3.7/site-packages/tensorflow_core/python/keras/backend.py\", line 3363, in batch_set_value\n",
      "    get_session().run(assign_ops, feed_dict=feed_dict)  File \"/usr/local/lib/python3.7/site-packages/tensorflow_core/python/keras/backend.py\", line 491, in get_session\n",
      "    _initialize_variables(session)  File \"/usr/local/lib/python3.7/site-packages/tensorflow_core/python/keras/backend.py\", line 908, in _initialize_variables\n",
      "    [variables_module.is_variable_initialized(v) for v in candidate_vars])  File \"/usr/local/lib/python3.7/site-packages/tensorflow_core/python/keras/backend.py\", line 908, in <listcomp>\n",
      "    [variables_module.is_variable_initialized(v) for v in candidate_vars])  File \"/usr/local/lib/python3.7/site-packages/tensorflow_core/python/util/tf_should_use.py\", line 198, in wrapped\n",
      "    return _add_should_use_warning(fn(*args, **kwargs))\n",
      "==================================\n"
     ]
    },
    {
     "name": "stderr",
     "output_type": "stream",
     "text": [
      "ERROR:tensorflow:==================================\n",
      "Object was never used (type <class 'tensorflow.python.framework.ops.Tensor'>):\n",
      "<tf.Tensor 'VarIsInitializedOp_132:0' shape=() dtype=bool>\n",
      "If you want to mark it as used call its \"mark_used()\" method.\n",
      "It was originally created here:\n",
      "  File \"/usr/local/lib/python3.7/site-packages/tensorflow_core/python/keras/backend.py\", line 3363, in batch_set_value\n",
      "    get_session().run(assign_ops, feed_dict=feed_dict)  File \"/usr/local/lib/python3.7/site-packages/tensorflow_core/python/keras/backend.py\", line 491, in get_session\n",
      "    _initialize_variables(session)  File \"/usr/local/lib/python3.7/site-packages/tensorflow_core/python/keras/backend.py\", line 908, in _initialize_variables\n",
      "    [variables_module.is_variable_initialized(v) for v in candidate_vars])  File \"/usr/local/lib/python3.7/site-packages/tensorflow_core/python/keras/backend.py\", line 908, in <listcomp>\n",
      "    [variables_module.is_variable_initialized(v) for v in candidate_vars])  File \"/usr/local/lib/python3.7/site-packages/tensorflow_core/python/util/tf_should_use.py\", line 198, in wrapped\n",
      "    return _add_should_use_warning(fn(*args, **kwargs))\n",
      "==================================\n"
     ]
    },
    {
     "name": "stdout",
     "output_type": "stream",
     "text": [
      "ERROR:tensorflow:==================================\n",
      "Object was never used (type <class 'tensorflow.python.framework.ops.Tensor'>):\n",
      "<tf.Tensor 'VarIsInitializedOp_131:0' shape=() dtype=bool>\n",
      "If you want to mark it as used call its \"mark_used()\" method.\n",
      "It was originally created here:\n",
      "  File \"/usr/local/lib/python3.7/site-packages/tensorflow_core/python/keras/backend.py\", line 3363, in batch_set_value\n",
      "    get_session().run(assign_ops, feed_dict=feed_dict)  File \"/usr/local/lib/python3.7/site-packages/tensorflow_core/python/keras/backend.py\", line 491, in get_session\n",
      "    _initialize_variables(session)  File \"/usr/local/lib/python3.7/site-packages/tensorflow_core/python/keras/backend.py\", line 908, in _initialize_variables\n",
      "    [variables_module.is_variable_initialized(v) for v in candidate_vars])  File \"/usr/local/lib/python3.7/site-packages/tensorflow_core/python/keras/backend.py\", line 908, in <listcomp>\n",
      "    [variables_module.is_variable_initialized(v) for v in candidate_vars])  File \"/usr/local/lib/python3.7/site-packages/tensorflow_core/python/util/tf_should_use.py\", line 198, in wrapped\n",
      "    return _add_should_use_warning(fn(*args, **kwargs))\n",
      "==================================\n"
     ]
    },
    {
     "name": "stderr",
     "output_type": "stream",
     "text": [
      "ERROR:tensorflow:==================================\n",
      "Object was never used (type <class 'tensorflow.python.framework.ops.Tensor'>):\n",
      "<tf.Tensor 'VarIsInitializedOp_131:0' shape=() dtype=bool>\n",
      "If you want to mark it as used call its \"mark_used()\" method.\n",
      "It was originally created here:\n",
      "  File \"/usr/local/lib/python3.7/site-packages/tensorflow_core/python/keras/backend.py\", line 3363, in batch_set_value\n",
      "    get_session().run(assign_ops, feed_dict=feed_dict)  File \"/usr/local/lib/python3.7/site-packages/tensorflow_core/python/keras/backend.py\", line 491, in get_session\n",
      "    _initialize_variables(session)  File \"/usr/local/lib/python3.7/site-packages/tensorflow_core/python/keras/backend.py\", line 908, in _initialize_variables\n",
      "    [variables_module.is_variable_initialized(v) for v in candidate_vars])  File \"/usr/local/lib/python3.7/site-packages/tensorflow_core/python/keras/backend.py\", line 908, in <listcomp>\n",
      "    [variables_module.is_variable_initialized(v) for v in candidate_vars])  File \"/usr/local/lib/python3.7/site-packages/tensorflow_core/python/util/tf_should_use.py\", line 198, in wrapped\n",
      "    return _add_should_use_warning(fn(*args, **kwargs))\n",
      "==================================\n"
     ]
    },
    {
     "name": "stdout",
     "output_type": "stream",
     "text": [
      "ERROR:tensorflow:==================================\n",
      "Object was never used (type <class 'tensorflow.python.framework.ops.Tensor'>):\n",
      "<tf.Tensor 'VarIsInitializedOp_130:0' shape=() dtype=bool>\n",
      "If you want to mark it as used call its \"mark_used()\" method.\n",
      "It was originally created here:\n",
      "  File \"/usr/local/lib/python3.7/site-packages/tensorflow_core/python/keras/backend.py\", line 3363, in batch_set_value\n",
      "    get_session().run(assign_ops, feed_dict=feed_dict)  File \"/usr/local/lib/python3.7/site-packages/tensorflow_core/python/keras/backend.py\", line 491, in get_session\n",
      "    _initialize_variables(session)  File \"/usr/local/lib/python3.7/site-packages/tensorflow_core/python/keras/backend.py\", line 908, in _initialize_variables\n",
      "    [variables_module.is_variable_initialized(v) for v in candidate_vars])  File \"/usr/local/lib/python3.7/site-packages/tensorflow_core/python/keras/backend.py\", line 908, in <listcomp>\n",
      "    [variables_module.is_variable_initialized(v) for v in candidate_vars])  File \"/usr/local/lib/python3.7/site-packages/tensorflow_core/python/util/tf_should_use.py\", line 198, in wrapped\n",
      "    return _add_should_use_warning(fn(*args, **kwargs))\n",
      "==================================\n"
     ]
    },
    {
     "name": "stderr",
     "output_type": "stream",
     "text": [
      "ERROR:tensorflow:==================================\n",
      "Object was never used (type <class 'tensorflow.python.framework.ops.Tensor'>):\n",
      "<tf.Tensor 'VarIsInitializedOp_130:0' shape=() dtype=bool>\n",
      "If you want to mark it as used call its \"mark_used()\" method.\n",
      "It was originally created here:\n",
      "  File \"/usr/local/lib/python3.7/site-packages/tensorflow_core/python/keras/backend.py\", line 3363, in batch_set_value\n",
      "    get_session().run(assign_ops, feed_dict=feed_dict)  File \"/usr/local/lib/python3.7/site-packages/tensorflow_core/python/keras/backend.py\", line 491, in get_session\n",
      "    _initialize_variables(session)  File \"/usr/local/lib/python3.7/site-packages/tensorflow_core/python/keras/backend.py\", line 908, in _initialize_variables\n",
      "    [variables_module.is_variable_initialized(v) for v in candidate_vars])  File \"/usr/local/lib/python3.7/site-packages/tensorflow_core/python/keras/backend.py\", line 908, in <listcomp>\n",
      "    [variables_module.is_variable_initialized(v) for v in candidate_vars])  File \"/usr/local/lib/python3.7/site-packages/tensorflow_core/python/util/tf_should_use.py\", line 198, in wrapped\n",
      "    return _add_should_use_warning(fn(*args, **kwargs))\n",
      "==================================\n"
     ]
    },
    {
     "name": "stdout",
     "output_type": "stream",
     "text": [
      "ERROR:tensorflow:==================================\n",
      "Object was never used (type <class 'tensorflow.python.framework.ops.Tensor'>):\n",
      "<tf.Tensor 'VarIsInitializedOp_129:0' shape=() dtype=bool>\n",
      "If you want to mark it as used call its \"mark_used()\" method.\n",
      "It was originally created here:\n",
      "  File \"/usr/local/lib/python3.7/site-packages/tensorflow_core/python/keras/backend.py\", line 3363, in batch_set_value\n",
      "    get_session().run(assign_ops, feed_dict=feed_dict)  File \"/usr/local/lib/python3.7/site-packages/tensorflow_core/python/keras/backend.py\", line 491, in get_session\n",
      "    _initialize_variables(session)  File \"/usr/local/lib/python3.7/site-packages/tensorflow_core/python/keras/backend.py\", line 908, in _initialize_variables\n",
      "    [variables_module.is_variable_initialized(v) for v in candidate_vars])  File \"/usr/local/lib/python3.7/site-packages/tensorflow_core/python/keras/backend.py\", line 908, in <listcomp>\n",
      "    [variables_module.is_variable_initialized(v) for v in candidate_vars])  File \"/usr/local/lib/python3.7/site-packages/tensorflow_core/python/util/tf_should_use.py\", line 198, in wrapped\n",
      "    return _add_should_use_warning(fn(*args, **kwargs))\n",
      "==================================\n"
     ]
    },
    {
     "name": "stderr",
     "output_type": "stream",
     "text": [
      "ERROR:tensorflow:==================================\n",
      "Object was never used (type <class 'tensorflow.python.framework.ops.Tensor'>):\n",
      "<tf.Tensor 'VarIsInitializedOp_129:0' shape=() dtype=bool>\n",
      "If you want to mark it as used call its \"mark_used()\" method.\n",
      "It was originally created here:\n",
      "  File \"/usr/local/lib/python3.7/site-packages/tensorflow_core/python/keras/backend.py\", line 3363, in batch_set_value\n",
      "    get_session().run(assign_ops, feed_dict=feed_dict)  File \"/usr/local/lib/python3.7/site-packages/tensorflow_core/python/keras/backend.py\", line 491, in get_session\n",
      "    _initialize_variables(session)  File \"/usr/local/lib/python3.7/site-packages/tensorflow_core/python/keras/backend.py\", line 908, in _initialize_variables\n",
      "    [variables_module.is_variable_initialized(v) for v in candidate_vars])  File \"/usr/local/lib/python3.7/site-packages/tensorflow_core/python/keras/backend.py\", line 908, in <listcomp>\n",
      "    [variables_module.is_variable_initialized(v) for v in candidate_vars])  File \"/usr/local/lib/python3.7/site-packages/tensorflow_core/python/util/tf_should_use.py\", line 198, in wrapped\n",
      "    return _add_should_use_warning(fn(*args, **kwargs))\n",
      "==================================\n"
     ]
    },
    {
     "name": "stdout",
     "output_type": "stream",
     "text": [
      "ERROR:tensorflow:==================================\n",
      "Object was never used (type <class 'tensorflow.python.framework.ops.Tensor'>):\n",
      "<tf.Tensor 'VarIsInitializedOp_128:0' shape=() dtype=bool>\n",
      "If you want to mark it as used call its \"mark_used()\" method.\n",
      "It was originally created here:\n",
      "  File \"/usr/local/lib/python3.7/site-packages/tensorflow_core/python/keras/backend.py\", line 3363, in batch_set_value\n",
      "    get_session().run(assign_ops, feed_dict=feed_dict)  File \"/usr/local/lib/python3.7/site-packages/tensorflow_core/python/keras/backend.py\", line 491, in get_session\n",
      "    _initialize_variables(session)  File \"/usr/local/lib/python3.7/site-packages/tensorflow_core/python/keras/backend.py\", line 908, in _initialize_variables\n",
      "    [variables_module.is_variable_initialized(v) for v in candidate_vars])  File \"/usr/local/lib/python3.7/site-packages/tensorflow_core/python/keras/backend.py\", line 908, in <listcomp>\n",
      "    [variables_module.is_variable_initialized(v) for v in candidate_vars])  File \"/usr/local/lib/python3.7/site-packages/tensorflow_core/python/util/tf_should_use.py\", line 198, in wrapped\n",
      "    return _add_should_use_warning(fn(*args, **kwargs))\n",
      "==================================\n"
     ]
    },
    {
     "name": "stderr",
     "output_type": "stream",
     "text": [
      "ERROR:tensorflow:==================================\n",
      "Object was never used (type <class 'tensorflow.python.framework.ops.Tensor'>):\n",
      "<tf.Tensor 'VarIsInitializedOp_128:0' shape=() dtype=bool>\n",
      "If you want to mark it as used call its \"mark_used()\" method.\n",
      "It was originally created here:\n",
      "  File \"/usr/local/lib/python3.7/site-packages/tensorflow_core/python/keras/backend.py\", line 3363, in batch_set_value\n",
      "    get_session().run(assign_ops, feed_dict=feed_dict)  File \"/usr/local/lib/python3.7/site-packages/tensorflow_core/python/keras/backend.py\", line 491, in get_session\n",
      "    _initialize_variables(session)  File \"/usr/local/lib/python3.7/site-packages/tensorflow_core/python/keras/backend.py\", line 908, in _initialize_variables\n",
      "    [variables_module.is_variable_initialized(v) for v in candidate_vars])  File \"/usr/local/lib/python3.7/site-packages/tensorflow_core/python/keras/backend.py\", line 908, in <listcomp>\n",
      "    [variables_module.is_variable_initialized(v) for v in candidate_vars])  File \"/usr/local/lib/python3.7/site-packages/tensorflow_core/python/util/tf_should_use.py\", line 198, in wrapped\n",
      "    return _add_should_use_warning(fn(*args, **kwargs))\n",
      "==================================\n"
     ]
    },
    {
     "name": "stdout",
     "output_type": "stream",
     "text": [
      "ERROR:tensorflow:==================================\n",
      "Object was never used (type <class 'tensorflow.python.framework.ops.Tensor'>):\n",
      "<tf.Tensor 'VarIsInitializedOp_127:0' shape=() dtype=bool>\n",
      "If you want to mark it as used call its \"mark_used()\" method.\n",
      "It was originally created here:\n",
      "  File \"/usr/local/lib/python3.7/site-packages/tensorflow_core/python/keras/backend.py\", line 3363, in batch_set_value\n",
      "    get_session().run(assign_ops, feed_dict=feed_dict)  File \"/usr/local/lib/python3.7/site-packages/tensorflow_core/python/keras/backend.py\", line 491, in get_session\n",
      "    _initialize_variables(session)  File \"/usr/local/lib/python3.7/site-packages/tensorflow_core/python/keras/backend.py\", line 908, in _initialize_variables\n",
      "    [variables_module.is_variable_initialized(v) for v in candidate_vars])  File \"/usr/local/lib/python3.7/site-packages/tensorflow_core/python/keras/backend.py\", line 908, in <listcomp>\n",
      "    [variables_module.is_variable_initialized(v) for v in candidate_vars])  File \"/usr/local/lib/python3.7/site-packages/tensorflow_core/python/util/tf_should_use.py\", line 198, in wrapped\n",
      "    return _add_should_use_warning(fn(*args, **kwargs))\n",
      "==================================\n"
     ]
    },
    {
     "name": "stderr",
     "output_type": "stream",
     "text": [
      "ERROR:tensorflow:==================================\n",
      "Object was never used (type <class 'tensorflow.python.framework.ops.Tensor'>):\n",
      "<tf.Tensor 'VarIsInitializedOp_127:0' shape=() dtype=bool>\n",
      "If you want to mark it as used call its \"mark_used()\" method.\n",
      "It was originally created here:\n",
      "  File \"/usr/local/lib/python3.7/site-packages/tensorflow_core/python/keras/backend.py\", line 3363, in batch_set_value\n",
      "    get_session().run(assign_ops, feed_dict=feed_dict)  File \"/usr/local/lib/python3.7/site-packages/tensorflow_core/python/keras/backend.py\", line 491, in get_session\n",
      "    _initialize_variables(session)  File \"/usr/local/lib/python3.7/site-packages/tensorflow_core/python/keras/backend.py\", line 908, in _initialize_variables\n",
      "    [variables_module.is_variable_initialized(v) for v in candidate_vars])  File \"/usr/local/lib/python3.7/site-packages/tensorflow_core/python/keras/backend.py\", line 908, in <listcomp>\n",
      "    [variables_module.is_variable_initialized(v) for v in candidate_vars])  File \"/usr/local/lib/python3.7/site-packages/tensorflow_core/python/util/tf_should_use.py\", line 198, in wrapped\n",
      "    return _add_should_use_warning(fn(*args, **kwargs))\n",
      "==================================\n"
     ]
    },
    {
     "name": "stdout",
     "output_type": "stream",
     "text": [
      "ERROR:tensorflow:==================================\n",
      "Object was never used (type <class 'tensorflow.python.framework.ops.Tensor'>):\n",
      "<tf.Tensor 'VarIsInitializedOp_126:0' shape=() dtype=bool>\n",
      "If you want to mark it as used call its \"mark_used()\" method.\n",
      "It was originally created here:\n",
      "  File \"/usr/local/lib/python3.7/site-packages/tensorflow_core/python/keras/backend.py\", line 3363, in batch_set_value\n",
      "    get_session().run(assign_ops, feed_dict=feed_dict)  File \"/usr/local/lib/python3.7/site-packages/tensorflow_core/python/keras/backend.py\", line 491, in get_session\n",
      "    _initialize_variables(session)  File \"/usr/local/lib/python3.7/site-packages/tensorflow_core/python/keras/backend.py\", line 908, in _initialize_variables\n",
      "    [variables_module.is_variable_initialized(v) for v in candidate_vars])  File \"/usr/local/lib/python3.7/site-packages/tensorflow_core/python/keras/backend.py\", line 908, in <listcomp>\n",
      "    [variables_module.is_variable_initialized(v) for v in candidate_vars])  File \"/usr/local/lib/python3.7/site-packages/tensorflow_core/python/util/tf_should_use.py\", line 198, in wrapped\n",
      "    return _add_should_use_warning(fn(*args, **kwargs))\n",
      "==================================\n"
     ]
    },
    {
     "name": "stderr",
     "output_type": "stream",
     "text": [
      "ERROR:tensorflow:==================================\n",
      "Object was never used (type <class 'tensorflow.python.framework.ops.Tensor'>):\n",
      "<tf.Tensor 'VarIsInitializedOp_126:0' shape=() dtype=bool>\n",
      "If you want to mark it as used call its \"mark_used()\" method.\n",
      "It was originally created here:\n",
      "  File \"/usr/local/lib/python3.7/site-packages/tensorflow_core/python/keras/backend.py\", line 3363, in batch_set_value\n",
      "    get_session().run(assign_ops, feed_dict=feed_dict)  File \"/usr/local/lib/python3.7/site-packages/tensorflow_core/python/keras/backend.py\", line 491, in get_session\n",
      "    _initialize_variables(session)  File \"/usr/local/lib/python3.7/site-packages/tensorflow_core/python/keras/backend.py\", line 908, in _initialize_variables\n",
      "    [variables_module.is_variable_initialized(v) for v in candidate_vars])  File \"/usr/local/lib/python3.7/site-packages/tensorflow_core/python/keras/backend.py\", line 908, in <listcomp>\n",
      "    [variables_module.is_variable_initialized(v) for v in candidate_vars])  File \"/usr/local/lib/python3.7/site-packages/tensorflow_core/python/util/tf_should_use.py\", line 198, in wrapped\n",
      "    return _add_should_use_warning(fn(*args, **kwargs))\n",
      "==================================\n"
     ]
    },
    {
     "name": "stdout",
     "output_type": "stream",
     "text": [
      "ERROR:tensorflow:==================================\n",
      "Object was never used (type <class 'tensorflow.python.framework.ops.Tensor'>):\n",
      "<tf.Tensor 'VarIsInitializedOp_125:0' shape=() dtype=bool>\n",
      "If you want to mark it as used call its \"mark_used()\" method.\n",
      "It was originally created here:\n",
      "  File \"/usr/local/lib/python3.7/site-packages/tensorflow_core/python/keras/backend.py\", line 3363, in batch_set_value\n",
      "    get_session().run(assign_ops, feed_dict=feed_dict)  File \"/usr/local/lib/python3.7/site-packages/tensorflow_core/python/keras/backend.py\", line 491, in get_session\n",
      "    _initialize_variables(session)  File \"/usr/local/lib/python3.7/site-packages/tensorflow_core/python/keras/backend.py\", line 908, in _initialize_variables\n",
      "    [variables_module.is_variable_initialized(v) for v in candidate_vars])  File \"/usr/local/lib/python3.7/site-packages/tensorflow_core/python/keras/backend.py\", line 908, in <listcomp>\n",
      "    [variables_module.is_variable_initialized(v) for v in candidate_vars])  File \"/usr/local/lib/python3.7/site-packages/tensorflow_core/python/util/tf_should_use.py\", line 198, in wrapped\n",
      "    return _add_should_use_warning(fn(*args, **kwargs))\n",
      "==================================\n"
     ]
    },
    {
     "name": "stderr",
     "output_type": "stream",
     "text": [
      "ERROR:tensorflow:==================================\n",
      "Object was never used (type <class 'tensorflow.python.framework.ops.Tensor'>):\n",
      "<tf.Tensor 'VarIsInitializedOp_125:0' shape=() dtype=bool>\n",
      "If you want to mark it as used call its \"mark_used()\" method.\n",
      "It was originally created here:\n",
      "  File \"/usr/local/lib/python3.7/site-packages/tensorflow_core/python/keras/backend.py\", line 3363, in batch_set_value\n",
      "    get_session().run(assign_ops, feed_dict=feed_dict)  File \"/usr/local/lib/python3.7/site-packages/tensorflow_core/python/keras/backend.py\", line 491, in get_session\n",
      "    _initialize_variables(session)  File \"/usr/local/lib/python3.7/site-packages/tensorflow_core/python/keras/backend.py\", line 908, in _initialize_variables\n",
      "    [variables_module.is_variable_initialized(v) for v in candidate_vars])  File \"/usr/local/lib/python3.7/site-packages/tensorflow_core/python/keras/backend.py\", line 908, in <listcomp>\n",
      "    [variables_module.is_variable_initialized(v) for v in candidate_vars])  File \"/usr/local/lib/python3.7/site-packages/tensorflow_core/python/util/tf_should_use.py\", line 198, in wrapped\n",
      "    return _add_should_use_warning(fn(*args, **kwargs))\n",
      "==================================\n"
     ]
    },
    {
     "name": "stdout",
     "output_type": "stream",
     "text": [
      "ERROR:tensorflow:==================================\n",
      "Object was never used (type <class 'tensorflow.python.framework.ops.Tensor'>):\n",
      "<tf.Tensor 'VarIsInitializedOp_124:0' shape=() dtype=bool>\n",
      "If you want to mark it as used call its \"mark_used()\" method.\n",
      "It was originally created here:\n",
      "  File \"/usr/local/lib/python3.7/site-packages/tensorflow_core/python/keras/backend.py\", line 3363, in batch_set_value\n",
      "    get_session().run(assign_ops, feed_dict=feed_dict)  File \"/usr/local/lib/python3.7/site-packages/tensorflow_core/python/keras/backend.py\", line 491, in get_session\n",
      "    _initialize_variables(session)  File \"/usr/local/lib/python3.7/site-packages/tensorflow_core/python/keras/backend.py\", line 908, in _initialize_variables\n",
      "    [variables_module.is_variable_initialized(v) for v in candidate_vars])  File \"/usr/local/lib/python3.7/site-packages/tensorflow_core/python/keras/backend.py\", line 908, in <listcomp>\n",
      "    [variables_module.is_variable_initialized(v) for v in candidate_vars])  File \"/usr/local/lib/python3.7/site-packages/tensorflow_core/python/util/tf_should_use.py\", line 198, in wrapped\n",
      "    return _add_should_use_warning(fn(*args, **kwargs))\n",
      "==================================\n"
     ]
    },
    {
     "name": "stderr",
     "output_type": "stream",
     "text": [
      "ERROR:tensorflow:==================================\n",
      "Object was never used (type <class 'tensorflow.python.framework.ops.Tensor'>):\n",
      "<tf.Tensor 'VarIsInitializedOp_124:0' shape=() dtype=bool>\n",
      "If you want to mark it as used call its \"mark_used()\" method.\n",
      "It was originally created here:\n",
      "  File \"/usr/local/lib/python3.7/site-packages/tensorflow_core/python/keras/backend.py\", line 3363, in batch_set_value\n",
      "    get_session().run(assign_ops, feed_dict=feed_dict)  File \"/usr/local/lib/python3.7/site-packages/tensorflow_core/python/keras/backend.py\", line 491, in get_session\n",
      "    _initialize_variables(session)  File \"/usr/local/lib/python3.7/site-packages/tensorflow_core/python/keras/backend.py\", line 908, in _initialize_variables\n",
      "    [variables_module.is_variable_initialized(v) for v in candidate_vars])  File \"/usr/local/lib/python3.7/site-packages/tensorflow_core/python/keras/backend.py\", line 908, in <listcomp>\n",
      "    [variables_module.is_variable_initialized(v) for v in candidate_vars])  File \"/usr/local/lib/python3.7/site-packages/tensorflow_core/python/util/tf_should_use.py\", line 198, in wrapped\n",
      "    return _add_should_use_warning(fn(*args, **kwargs))\n",
      "==================================\n"
     ]
    },
    {
     "name": "stdout",
     "output_type": "stream",
     "text": [
      "ERROR:tensorflow:==================================\n",
      "Object was never used (type <class 'tensorflow.python.framework.ops.Tensor'>):\n",
      "<tf.Tensor 'VarIsInitializedOp_123:0' shape=() dtype=bool>\n",
      "If you want to mark it as used call its \"mark_used()\" method.\n",
      "It was originally created here:\n",
      "  File \"/usr/local/lib/python3.7/site-packages/tensorflow_core/python/keras/backend.py\", line 3363, in batch_set_value\n",
      "    get_session().run(assign_ops, feed_dict=feed_dict)  File \"/usr/local/lib/python3.7/site-packages/tensorflow_core/python/keras/backend.py\", line 491, in get_session\n",
      "    _initialize_variables(session)  File \"/usr/local/lib/python3.7/site-packages/tensorflow_core/python/keras/backend.py\", line 908, in _initialize_variables\n",
      "    [variables_module.is_variable_initialized(v) for v in candidate_vars])  File \"/usr/local/lib/python3.7/site-packages/tensorflow_core/python/keras/backend.py\", line 908, in <listcomp>\n",
      "    [variables_module.is_variable_initialized(v) for v in candidate_vars])  File \"/usr/local/lib/python3.7/site-packages/tensorflow_core/python/util/tf_should_use.py\", line 198, in wrapped\n",
      "    return _add_should_use_warning(fn(*args, **kwargs))\n",
      "==================================\n"
     ]
    },
    {
     "name": "stderr",
     "output_type": "stream",
     "text": [
      "ERROR:tensorflow:==================================\n",
      "Object was never used (type <class 'tensorflow.python.framework.ops.Tensor'>):\n",
      "<tf.Tensor 'VarIsInitializedOp_123:0' shape=() dtype=bool>\n",
      "If you want to mark it as used call its \"mark_used()\" method.\n",
      "It was originally created here:\n",
      "  File \"/usr/local/lib/python3.7/site-packages/tensorflow_core/python/keras/backend.py\", line 3363, in batch_set_value\n",
      "    get_session().run(assign_ops, feed_dict=feed_dict)  File \"/usr/local/lib/python3.7/site-packages/tensorflow_core/python/keras/backend.py\", line 491, in get_session\n",
      "    _initialize_variables(session)  File \"/usr/local/lib/python3.7/site-packages/tensorflow_core/python/keras/backend.py\", line 908, in _initialize_variables\n",
      "    [variables_module.is_variable_initialized(v) for v in candidate_vars])  File \"/usr/local/lib/python3.7/site-packages/tensorflow_core/python/keras/backend.py\", line 908, in <listcomp>\n",
      "    [variables_module.is_variable_initialized(v) for v in candidate_vars])  File \"/usr/local/lib/python3.7/site-packages/tensorflow_core/python/util/tf_should_use.py\", line 198, in wrapped\n",
      "    return _add_should_use_warning(fn(*args, **kwargs))\n",
      "==================================\n"
     ]
    },
    {
     "name": "stdout",
     "output_type": "stream",
     "text": [
      "ERROR:tensorflow:==================================\n",
      "Object was never used (type <class 'tensorflow.python.framework.ops.Tensor'>):\n",
      "<tf.Tensor 'VarIsInitializedOp_122:0' shape=() dtype=bool>\n",
      "If you want to mark it as used call its \"mark_used()\" method.\n",
      "It was originally created here:\n",
      "  File \"/usr/local/lib/python3.7/site-packages/tensorflow_core/python/keras/backend.py\", line 3363, in batch_set_value\n",
      "    get_session().run(assign_ops, feed_dict=feed_dict)  File \"/usr/local/lib/python3.7/site-packages/tensorflow_core/python/keras/backend.py\", line 491, in get_session\n",
      "    _initialize_variables(session)  File \"/usr/local/lib/python3.7/site-packages/tensorflow_core/python/keras/backend.py\", line 908, in _initialize_variables\n",
      "    [variables_module.is_variable_initialized(v) for v in candidate_vars])  File \"/usr/local/lib/python3.7/site-packages/tensorflow_core/python/keras/backend.py\", line 908, in <listcomp>\n",
      "    [variables_module.is_variable_initialized(v) for v in candidate_vars])  File \"/usr/local/lib/python3.7/site-packages/tensorflow_core/python/util/tf_should_use.py\", line 198, in wrapped\n",
      "    return _add_should_use_warning(fn(*args, **kwargs))\n",
      "==================================\n"
     ]
    },
    {
     "name": "stderr",
     "output_type": "stream",
     "text": [
      "ERROR:tensorflow:==================================\n",
      "Object was never used (type <class 'tensorflow.python.framework.ops.Tensor'>):\n",
      "<tf.Tensor 'VarIsInitializedOp_122:0' shape=() dtype=bool>\n",
      "If you want to mark it as used call its \"mark_used()\" method.\n",
      "It was originally created here:\n",
      "  File \"/usr/local/lib/python3.7/site-packages/tensorflow_core/python/keras/backend.py\", line 3363, in batch_set_value\n",
      "    get_session().run(assign_ops, feed_dict=feed_dict)  File \"/usr/local/lib/python3.7/site-packages/tensorflow_core/python/keras/backend.py\", line 491, in get_session\n",
      "    _initialize_variables(session)  File \"/usr/local/lib/python3.7/site-packages/tensorflow_core/python/keras/backend.py\", line 908, in _initialize_variables\n",
      "    [variables_module.is_variable_initialized(v) for v in candidate_vars])  File \"/usr/local/lib/python3.7/site-packages/tensorflow_core/python/keras/backend.py\", line 908, in <listcomp>\n",
      "    [variables_module.is_variable_initialized(v) for v in candidate_vars])  File \"/usr/local/lib/python3.7/site-packages/tensorflow_core/python/util/tf_should_use.py\", line 198, in wrapped\n",
      "    return _add_should_use_warning(fn(*args, **kwargs))\n",
      "==================================\n"
     ]
    },
    {
     "name": "stdout",
     "output_type": "stream",
     "text": [
      "ERROR:tensorflow:==================================\n",
      "Object was never used (type <class 'tensorflow.python.framework.ops.Tensor'>):\n",
      "<tf.Tensor 'VarIsInitializedOp_121:0' shape=() dtype=bool>\n",
      "If you want to mark it as used call its \"mark_used()\" method.\n",
      "It was originally created here:\n",
      "  File \"/usr/local/lib/python3.7/site-packages/tensorflow_core/python/keras/backend.py\", line 3363, in batch_set_value\n",
      "    get_session().run(assign_ops, feed_dict=feed_dict)  File \"/usr/local/lib/python3.7/site-packages/tensorflow_core/python/keras/backend.py\", line 491, in get_session\n",
      "    _initialize_variables(session)  File \"/usr/local/lib/python3.7/site-packages/tensorflow_core/python/keras/backend.py\", line 908, in _initialize_variables\n",
      "    [variables_module.is_variable_initialized(v) for v in candidate_vars])  File \"/usr/local/lib/python3.7/site-packages/tensorflow_core/python/keras/backend.py\", line 908, in <listcomp>\n",
      "    [variables_module.is_variable_initialized(v) for v in candidate_vars])  File \"/usr/local/lib/python3.7/site-packages/tensorflow_core/python/util/tf_should_use.py\", line 198, in wrapped\n",
      "    return _add_should_use_warning(fn(*args, **kwargs))\n",
      "==================================\n"
     ]
    },
    {
     "name": "stderr",
     "output_type": "stream",
     "text": [
      "ERROR:tensorflow:==================================\n",
      "Object was never used (type <class 'tensorflow.python.framework.ops.Tensor'>):\n",
      "<tf.Tensor 'VarIsInitializedOp_121:0' shape=() dtype=bool>\n",
      "If you want to mark it as used call its \"mark_used()\" method.\n",
      "It was originally created here:\n",
      "  File \"/usr/local/lib/python3.7/site-packages/tensorflow_core/python/keras/backend.py\", line 3363, in batch_set_value\n",
      "    get_session().run(assign_ops, feed_dict=feed_dict)  File \"/usr/local/lib/python3.7/site-packages/tensorflow_core/python/keras/backend.py\", line 491, in get_session\n",
      "    _initialize_variables(session)  File \"/usr/local/lib/python3.7/site-packages/tensorflow_core/python/keras/backend.py\", line 908, in _initialize_variables\n",
      "    [variables_module.is_variable_initialized(v) for v in candidate_vars])  File \"/usr/local/lib/python3.7/site-packages/tensorflow_core/python/keras/backend.py\", line 908, in <listcomp>\n",
      "    [variables_module.is_variable_initialized(v) for v in candidate_vars])  File \"/usr/local/lib/python3.7/site-packages/tensorflow_core/python/util/tf_should_use.py\", line 198, in wrapped\n",
      "    return _add_should_use_warning(fn(*args, **kwargs))\n",
      "==================================\n"
     ]
    },
    {
     "name": "stdout",
     "output_type": "stream",
     "text": [
      "INFO:tensorflow:Saver not created because there are no variables in the graph to restore\n"
     ]
    },
    {
     "name": "stderr",
     "output_type": "stream",
     "text": [
      "INFO:tensorflow:Saver not created because there are no variables in the graph to restore\n"
     ]
    },
    {
     "name": "stdout",
     "output_type": "stream",
     "text": [
      "Model: \"sequential_11\"\n",
      "_________________________________________________________________\n",
      "Layer (type)                 Output Shape              Param #   \n",
      "=================================================================\n",
      "elmo_embedding_layer (Lambda (None, None, 1024)        0         \n",
      "_________________________________________________________________\n",
      "conv1d_4 (Conv1D)            (None, None, 32)          98336     \n",
      "_________________________________________________________________\n",
      "global_max_pooling1d_3 (Glob (None, 32)                0         \n",
      "_________________________________________________________________\n",
      "dense_18 (Dense)             (None, 10)                330       \n",
      "_________________________________________________________________\n",
      "dense_19 (Dense)             (None, 1)                 11        \n",
      "=================================================================\n",
      "Total params: 98,677\n",
      "Trainable params: 98,677\n",
      "Non-trainable params: 0\n",
      "_________________________________________________________________\n",
      "Train on 850 samples, validate on 150 samples\n",
      "Epoch 1/5\n",
      "850/850 [==============================] - 50s 59ms/sample - loss: 0.5049 - accuracy: 0.7482 - val_loss: 0.4975 - val_accuracy: 0.7400\n",
      "Epoch 2/5\n",
      "850/850 [==============================] - 49s 58ms/sample - loss: 0.2222 - accuracy: 0.9247 - val_loss: 0.4736 - val_accuracy: 0.7400\n",
      "Epoch 3/5\n",
      "850/850 [==============================] - 54s 63ms/sample - loss: 0.1016 - accuracy: 0.9800 - val_loss: 0.4893 - val_accuracy: 0.7933\n",
      "Epoch 4/5\n",
      "850/850 [==============================] - 51s 60ms/sample - loss: 0.0537 - accuracy: 0.9941 - val_loss: 0.4801 - val_accuracy: 0.7867\n",
      "Epoch 5/5\n",
      "850/850 [==============================] - 52s 61ms/sample - loss: 0.0255 - accuracy: 1.0000 - val_loss: 0.5067 - val_accuracy: 0.7733\n"
     ]
    },
    {
     "data": {
      "image/png": "[encoded data removed]",
      "text/plain": [
       "<Figure size 864x360 with 2 Axes>"
      ]
     },
     "metadata": {
      "needs_background": "light"
     },
     "output_type": "display_data"
    }
   ],
   "source": [
    "\n",
    "with tf.compat.v1.Session() as session:\n",
    "    tf.compat.v1.keras.backend.set_session(session)\n",
    "    session.run(tf.compat.v1.global_variables_initializer())  \n",
    "    session.run(tf.compat.v1.tables_initializer())\n",
    "    cnn_model=createCNN(vocab_size,100,maxlen)\n",
    "    \n",
    "    cnn_model.summary()\n",
    "#     plot_model(cnn_model, to_file='sentiment_elmo_embedding_cnn.png',show_shapes=True, show_layer_names=True)\n",
    "    cnn_model.compile(loss='binary_crossentropy',optimizer='adam',metrics=['accuracy'])\n",
    "    history = cnn_model.fit(sentences_train,y_train,batch_size=16,epochs=5,validation_data=(sentences_test, y_test),verbose=1)\n",
    "    plot_history(history)\n",
    "\n",
    "# cnn_model=createCNN(vocab_size,100,maxlen)\n",
    "# cnn_model.summary()\n",
    "# cnn_model.compile(loss='binary_crossentropy',optimizer='adam',metrics=['acc',f1_m,precision_m,recall_m])\n"
   ]
  },
  {
   "cell_type": "code",
   "execution_count": null,
   "metadata": {},
   "outputs": [],
   "source": []
  }
 ],
 "metadata": {
  "kernelspec": {
   "display_name": "Python 3",
   "language": "python",
   "name": "python3"
  },
  "language_info": {
   "codemirror_mode": {
    "name": "ipython",
    "version": 3
   },
   "file_extension": ".py",
   "mimetype": "text/x-python",
   "name": "python",
   "nbconvert_exporter": "python",
   "pygments_lexer": "ipython3",
   "version": "3.7.6"
  }
 },
 "nbformat": 4,
 "nbformat_minor": 2
}
